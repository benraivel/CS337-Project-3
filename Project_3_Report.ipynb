{
 "cells": [
  {
   "cell_type": "markdown",
   "metadata": {},
   "source": [
    "# Project 3\n",
    "#### Completley Fair Scheduler (Red Black Tree)\n",
    "\n",
    "**Abstract:** In this project I implemented a Red Black Tree and used it so simulate the Completley Fair Scheduling algorithm."
   ]
  },
  {
   "cell_type": "markdown",
   "metadata": {},
   "source": [
    "## Results:\n",
    "**Testing:** test with a few processes. There are problems with the scheduler, but the data structure works properly"
   ]
  },
  {
   "cell_type": "code",
   "execution_count": 1,
   "metadata": {},
   "outputs": [],
   "source": [
    "%load_ext autoreload\n",
    "import operating_system as op, scheduler as s, pandas as pd, plotly.express as px, random as ran, process, rbtree\n",
    "from copy import deepcopy"
   ]
  },
  {
   "cell_type": "code",
   "execution_count": 2,
   "metadata": {},
   "outputs": [
    {
     "name": "stdout",
     "output_type": "stream",
     "text": [
      "1\n",
      "PID: 0 | Burst: 4 | start: 0, end: 1 | wait : 0 | turnaround : 1\n",
      "1\n",
      "PID: 0 | Burst: 3 | start: 1, end: 2 | wait : 0 | turnaround : 2\n",
      "2\n",
      "PID: 1 | Burst: 0 | start: 2, end: 6 | wait : 0 | turnaround : 4\n",
      "3\n",
      "PID: 3 | Burst: 4 | start: 6, end: 8 | wait : 0 | turnaround : 2\n",
      "3\n",
      "PID: 2 | Burst: 0 | start: 8, end: 9 | wait : 3 | turnaround : 4\n",
      "2\n",
      "PID: 0 | Burst: 0 | start: 9, end: 12 | wait : 7 | turnaround : 12\n",
      "2\n",
      "PID: 1 | Burst: 0 | start: 12, end: 14 | wait : 2 | turnaround : 8\n",
      "2\n",
      "PID: 0 | Burst: 2 | start: 14, end: 19 | wait : 8 | turnaround : 18\n",
      "3\n",
      "PID: 2 | Burst: 0 | start: 19, end: 21 | wait : 7 | turnaround : 10\n",
      "2\n",
      "PID: 0 | Burst: 0 | start: 21, end: 23 | wait : 10 | turnaround : 22\n",
      "1\n",
      "PID: 0 | Burst: -1 | start: 23, end: 24 | wait : 14 | turnaround : 27\n",
      "avg. wait time: 9.272727272727273\n",
      "avg. turnaround time: 18.181818181818183\n",
      "avg. response time: 0.5454545454545454\n"
     ]
    },
    {
     "data": {
      "application/vnd.plotly.v1+json": {
       "config": {
        "plotlyServerURL": "https://plot.ly"
       },
       "data": [
        {
         "alignmentgroup": "True",
         "base": [
          0,
          1,
          2,
          6,
          8,
          9,
          12,
          14,
          19,
          21,
          23
         ],
         "hovertemplate": "start=%{base}<br>finish=%{x}<br>process=%{y}<br>priority=%{marker.color}<extra></extra>",
         "legendgroup": "",
         "marker": {
          "color": [
           30,
           30,
           35,
           20,
           36,
           30,
           35,
           30,
           36,
           30,
           30
          ],
          "coloraxis": "coloraxis"
         },
         "name": "",
         "offsetgroup": "",
         "orientation": "h",
         "showlegend": false,
         "textposition": "auto",
         "type": "bar",
         "x": [
          1,
          1,
          4,
          2,
          1,
          3,
          2,
          5,
          2,
          2,
          1
         ],
         "xaxis": "x",
         "y": [
          0,
          0,
          1,
          3,
          2,
          0,
          1,
          0,
          2,
          0,
          0
         ],
         "yaxis": "y"
        }
       ],
       "layout": {
        "barmode": "overlay",
        "coloraxis": {
         "colorbar": {
          "title": {
           "text": "priority"
          }
         },
         "colorscale": [
          [
           0,
           "#0d0887"
          ],
          [
           0.1111111111111111,
           "#46039f"
          ],
          [
           0.2222222222222222,
           "#7201a8"
          ],
          [
           0.3333333333333333,
           "#9c179e"
          ],
          [
           0.4444444444444444,
           "#bd3786"
          ],
          [
           0.5555555555555556,
           "#d8576b"
          ],
          [
           0.6666666666666666,
           "#ed7953"
          ],
          [
           0.7777777777777778,
           "#fb9f3a"
          ],
          [
           0.8888888888888888,
           "#fdca26"
          ],
          [
           1,
           "#f0f921"
          ]
         ]
        },
        "legend": {
         "tracegroupgap": 0
        },
        "margin": {
         "t": 60
        },
        "template": {
         "data": {
          "bar": [
           {
            "error_x": {
             "color": "#2a3f5f"
            },
            "error_y": {
             "color": "#2a3f5f"
            },
            "marker": {
             "line": {
              "color": "#E5ECF6",
              "width": 0.5
             },
             "pattern": {
              "fillmode": "overlay",
              "size": 10,
              "solidity": 0.2
             }
            },
            "type": "bar"
           }
          ],
          "barpolar": [
           {
            "marker": {
             "line": {
              "color": "#E5ECF6",
              "width": 0.5
             },
             "pattern": {
              "fillmode": "overlay",
              "size": 10,
              "solidity": 0.2
             }
            },
            "type": "barpolar"
           }
          ],
          "carpet": [
           {
            "aaxis": {
             "endlinecolor": "#2a3f5f",
             "gridcolor": "white",
             "linecolor": "white",
             "minorgridcolor": "white",
             "startlinecolor": "#2a3f5f"
            },
            "baxis": {
             "endlinecolor": "#2a3f5f",
             "gridcolor": "white",
             "linecolor": "white",
             "minorgridcolor": "white",
             "startlinecolor": "#2a3f5f"
            },
            "type": "carpet"
           }
          ],
          "choropleth": [
           {
            "colorbar": {
             "outlinewidth": 0,
             "ticks": ""
            },
            "type": "choropleth"
           }
          ],
          "contour": [
           {
            "colorbar": {
             "outlinewidth": 0,
             "ticks": ""
            },
            "colorscale": [
             [
              0,
              "#0d0887"
             ],
             [
              0.1111111111111111,
              "#46039f"
             ],
             [
              0.2222222222222222,
              "#7201a8"
             ],
             [
              0.3333333333333333,
              "#9c179e"
             ],
             [
              0.4444444444444444,
              "#bd3786"
             ],
             [
              0.5555555555555556,
              "#d8576b"
             ],
             [
              0.6666666666666666,
              "#ed7953"
             ],
             [
              0.7777777777777778,
              "#fb9f3a"
             ],
             [
              0.8888888888888888,
              "#fdca26"
             ],
             [
              1,
              "#f0f921"
             ]
            ],
            "type": "contour"
           }
          ],
          "contourcarpet": [
           {
            "colorbar": {
             "outlinewidth": 0,
             "ticks": ""
            },
            "type": "contourcarpet"
           }
          ],
          "heatmap": [
           {
            "colorbar": {
             "outlinewidth": 0,
             "ticks": ""
            },
            "colorscale": [
             [
              0,
              "#0d0887"
             ],
             [
              0.1111111111111111,
              "#46039f"
             ],
             [
              0.2222222222222222,
              "#7201a8"
             ],
             [
              0.3333333333333333,
              "#9c179e"
             ],
             [
              0.4444444444444444,
              "#bd3786"
             ],
             [
              0.5555555555555556,
              "#d8576b"
             ],
             [
              0.6666666666666666,
              "#ed7953"
             ],
             [
              0.7777777777777778,
              "#fb9f3a"
             ],
             [
              0.8888888888888888,
              "#fdca26"
             ],
             [
              1,
              "#f0f921"
             ]
            ],
            "type": "heatmap"
           }
          ],
          "heatmapgl": [
           {
            "colorbar": {
             "outlinewidth": 0,
             "ticks": ""
            },
            "colorscale": [
             [
              0,
              "#0d0887"
             ],
             [
              0.1111111111111111,
              "#46039f"
             ],
             [
              0.2222222222222222,
              "#7201a8"
             ],
             [
              0.3333333333333333,
              "#9c179e"
             ],
             [
              0.4444444444444444,
              "#bd3786"
             ],
             [
              0.5555555555555556,
              "#d8576b"
             ],
             [
              0.6666666666666666,
              "#ed7953"
             ],
             [
              0.7777777777777778,
              "#fb9f3a"
             ],
             [
              0.8888888888888888,
              "#fdca26"
             ],
             [
              1,
              "#f0f921"
             ]
            ],
            "type": "heatmapgl"
           }
          ],
          "histogram": [
           {
            "marker": {
             "pattern": {
              "fillmode": "overlay",
              "size": 10,
              "solidity": 0.2
             }
            },
            "type": "histogram"
           }
          ],
          "histogram2d": [
           {
            "colorbar": {
             "outlinewidth": 0,
             "ticks": ""
            },
            "colorscale": [
             [
              0,
              "#0d0887"
             ],
             [
              0.1111111111111111,
              "#46039f"
             ],
             [
              0.2222222222222222,
              "#7201a8"
             ],
             [
              0.3333333333333333,
              "#9c179e"
             ],
             [
              0.4444444444444444,
              "#bd3786"
             ],
             [
              0.5555555555555556,
              "#d8576b"
             ],
             [
              0.6666666666666666,
              "#ed7953"
             ],
             [
              0.7777777777777778,
              "#fb9f3a"
             ],
             [
              0.8888888888888888,
              "#fdca26"
             ],
             [
              1,
              "#f0f921"
             ]
            ],
            "type": "histogram2d"
           }
          ],
          "histogram2dcontour": [
           {
            "colorbar": {
             "outlinewidth": 0,
             "ticks": ""
            },
            "colorscale": [
             [
              0,
              "#0d0887"
             ],
             [
              0.1111111111111111,
              "#46039f"
             ],
             [
              0.2222222222222222,
              "#7201a8"
             ],
             [
              0.3333333333333333,
              "#9c179e"
             ],
             [
              0.4444444444444444,
              "#bd3786"
             ],
             [
              0.5555555555555556,
              "#d8576b"
             ],
             [
              0.6666666666666666,
              "#ed7953"
             ],
             [
              0.7777777777777778,
              "#fb9f3a"
             ],
             [
              0.8888888888888888,
              "#fdca26"
             ],
             [
              1,
              "#f0f921"
             ]
            ],
            "type": "histogram2dcontour"
           }
          ],
          "mesh3d": [
           {
            "colorbar": {
             "outlinewidth": 0,
             "ticks": ""
            },
            "type": "mesh3d"
           }
          ],
          "parcoords": [
           {
            "line": {
             "colorbar": {
              "outlinewidth": 0,
              "ticks": ""
             }
            },
            "type": "parcoords"
           }
          ],
          "pie": [
           {
            "automargin": true,
            "type": "pie"
           }
          ],
          "scatter": [
           {
            "marker": {
             "colorbar": {
              "outlinewidth": 0,
              "ticks": ""
             }
            },
            "type": "scatter"
           }
          ],
          "scatter3d": [
           {
            "line": {
             "colorbar": {
              "outlinewidth": 0,
              "ticks": ""
             }
            },
            "marker": {
             "colorbar": {
              "outlinewidth": 0,
              "ticks": ""
             }
            },
            "type": "scatter3d"
           }
          ],
          "scattercarpet": [
           {
            "marker": {
             "colorbar": {
              "outlinewidth": 0,
              "ticks": ""
             }
            },
            "type": "scattercarpet"
           }
          ],
          "scattergeo": [
           {
            "marker": {
             "colorbar": {
              "outlinewidth": 0,
              "ticks": ""
             }
            },
            "type": "scattergeo"
           }
          ],
          "scattergl": [
           {
            "marker": {
             "colorbar": {
              "outlinewidth": 0,
              "ticks": ""
             }
            },
            "type": "scattergl"
           }
          ],
          "scattermapbox": [
           {
            "marker": {
             "colorbar": {
              "outlinewidth": 0,
              "ticks": ""
             }
            },
            "type": "scattermapbox"
           }
          ],
          "scatterpolar": [
           {
            "marker": {
             "colorbar": {
              "outlinewidth": 0,
              "ticks": ""
             }
            },
            "type": "scatterpolar"
           }
          ],
          "scatterpolargl": [
           {
            "marker": {
             "colorbar": {
              "outlinewidth": 0,
              "ticks": ""
             }
            },
            "type": "scatterpolargl"
           }
          ],
          "scatterternary": [
           {
            "marker": {
             "colorbar": {
              "outlinewidth": 0,
              "ticks": ""
             }
            },
            "type": "scatterternary"
           }
          ],
          "surface": [
           {
            "colorbar": {
             "outlinewidth": 0,
             "ticks": ""
            },
            "colorscale": [
             [
              0,
              "#0d0887"
             ],
             [
              0.1111111111111111,
              "#46039f"
             ],
             [
              0.2222222222222222,
              "#7201a8"
             ],
             [
              0.3333333333333333,
              "#9c179e"
             ],
             [
              0.4444444444444444,
              "#bd3786"
             ],
             [
              0.5555555555555556,
              "#d8576b"
             ],
             [
              0.6666666666666666,
              "#ed7953"
             ],
             [
              0.7777777777777778,
              "#fb9f3a"
             ],
             [
              0.8888888888888888,
              "#fdca26"
             ],
             [
              1,
              "#f0f921"
             ]
            ],
            "type": "surface"
           }
          ],
          "table": [
           {
            "cells": {
             "fill": {
              "color": "#EBF0F8"
             },
             "line": {
              "color": "white"
             }
            },
            "header": {
             "fill": {
              "color": "#C8D4E3"
             },
             "line": {
              "color": "white"
             }
            },
            "type": "table"
           }
          ]
         },
         "layout": {
          "annotationdefaults": {
           "arrowcolor": "#2a3f5f",
           "arrowhead": 0,
           "arrowwidth": 1
          },
          "autotypenumbers": "strict",
          "coloraxis": {
           "colorbar": {
            "outlinewidth": 0,
            "ticks": ""
           }
          },
          "colorscale": {
           "diverging": [
            [
             0,
             "#8e0152"
            ],
            [
             0.1,
             "#c51b7d"
            ],
            [
             0.2,
             "#de77ae"
            ],
            [
             0.3,
             "#f1b6da"
            ],
            [
             0.4,
             "#fde0ef"
            ],
            [
             0.5,
             "#f7f7f7"
            ],
            [
             0.6,
             "#e6f5d0"
            ],
            [
             0.7,
             "#b8e186"
            ],
            [
             0.8,
             "#7fbc41"
            ],
            [
             0.9,
             "#4d9221"
            ],
            [
             1,
             "#276419"
            ]
           ],
           "sequential": [
            [
             0,
             "#0d0887"
            ],
            [
             0.1111111111111111,
             "#46039f"
            ],
            [
             0.2222222222222222,
             "#7201a8"
            ],
            [
             0.3333333333333333,
             "#9c179e"
            ],
            [
             0.4444444444444444,
             "#bd3786"
            ],
            [
             0.5555555555555556,
             "#d8576b"
            ],
            [
             0.6666666666666666,
             "#ed7953"
            ],
            [
             0.7777777777777778,
             "#fb9f3a"
            ],
            [
             0.8888888888888888,
             "#fdca26"
            ],
            [
             1,
             "#f0f921"
            ]
           ],
           "sequentialminus": [
            [
             0,
             "#0d0887"
            ],
            [
             0.1111111111111111,
             "#46039f"
            ],
            [
             0.2222222222222222,
             "#7201a8"
            ],
            [
             0.3333333333333333,
             "#9c179e"
            ],
            [
             0.4444444444444444,
             "#bd3786"
            ],
            [
             0.5555555555555556,
             "#d8576b"
            ],
            [
             0.6666666666666666,
             "#ed7953"
            ],
            [
             0.7777777777777778,
             "#fb9f3a"
            ],
            [
             0.8888888888888888,
             "#fdca26"
            ],
            [
             1,
             "#f0f921"
            ]
           ]
          },
          "colorway": [
           "#636efa",
           "#EF553B",
           "#00cc96",
           "#ab63fa",
           "#FFA15A",
           "#19d3f3",
           "#FF6692",
           "#B6E880",
           "#FF97FF",
           "#FECB52"
          ],
          "font": {
           "color": "#2a3f5f"
          },
          "geo": {
           "bgcolor": "white",
           "lakecolor": "white",
           "landcolor": "#E5ECF6",
           "showlakes": true,
           "showland": true,
           "subunitcolor": "white"
          },
          "hoverlabel": {
           "align": "left"
          },
          "hovermode": "closest",
          "mapbox": {
           "style": "light"
          },
          "paper_bgcolor": "white",
          "plot_bgcolor": "#E5ECF6",
          "polar": {
           "angularaxis": {
            "gridcolor": "white",
            "linecolor": "white",
            "ticks": ""
           },
           "bgcolor": "#E5ECF6",
           "radialaxis": {
            "gridcolor": "white",
            "linecolor": "white",
            "ticks": ""
           }
          },
          "scene": {
           "xaxis": {
            "backgroundcolor": "#E5ECF6",
            "gridcolor": "white",
            "gridwidth": 2,
            "linecolor": "white",
            "showbackground": true,
            "ticks": "",
            "zerolinecolor": "white"
           },
           "yaxis": {
            "backgroundcolor": "#E5ECF6",
            "gridcolor": "white",
            "gridwidth": 2,
            "linecolor": "white",
            "showbackground": true,
            "ticks": "",
            "zerolinecolor": "white"
           },
           "zaxis": {
            "backgroundcolor": "#E5ECF6",
            "gridcolor": "white",
            "gridwidth": 2,
            "linecolor": "white",
            "showbackground": true,
            "ticks": "",
            "zerolinecolor": "white"
           }
          },
          "shapedefaults": {
           "line": {
            "color": "#2a3f5f"
           }
          },
          "ternary": {
           "aaxis": {
            "gridcolor": "white",
            "linecolor": "white",
            "ticks": ""
           },
           "baxis": {
            "gridcolor": "white",
            "linecolor": "white",
            "ticks": ""
           },
           "bgcolor": "#E5ECF6",
           "caxis": {
            "gridcolor": "white",
            "linecolor": "white",
            "ticks": ""
           }
          },
          "title": {
           "x": 0.05
          },
          "xaxis": {
           "automargin": true,
           "gridcolor": "white",
           "linecolor": "white",
           "ticks": "",
           "title": {
            "standoff": 15
           },
           "zerolinecolor": "white",
           "zerolinewidth": 2
          },
          "yaxis": {
           "automargin": true,
           "gridcolor": "white",
           "linecolor": "white",
           "ticks": "",
           "title": {
            "standoff": 15
           },
           "zerolinecolor": "white",
           "zerolinewidth": 2
          }
         }
        },
        "xaxis": {
         "anchor": "y",
         "domain": [
          0,
          1
         ],
         "type": "linear"
        },
        "yaxis": {
         "anchor": "x",
         "domain": [
          0,
          1
         ],
         "title": {
          "text": "process"
         }
        }
       }
      }
     },
     "metadata": {},
     "output_type": "display_data"
    }
   ],
   "source": [
    "op.kernel(s.CF_scheduler, 6)\n",
    "\n",
    "# read CPU data from kernel run\n",
    "df = pd.read_csv('results.csv')\n",
    "df.head()\n",
    "\n",
    "# use Prof. Al Madi's code to plot\n",
    "fig = px.timeline(df, x_start='start', x_end='finish', y='process', color='priority')\n",
    "df['delta'] = df['finish'] - df['start']\n",
    "fig.layout.xaxis.type = 'linear'\n",
    "fig.data[0].x = df.delta.tolist()\n",
    "fig.show()"
   ]
  },
  {
   "cell_type": "code",
   "execution_count": 3,
   "metadata": {},
   "outputs": [
    {
     "name": "stdout",
     "output_type": "stream",
     "text": [
      "PID: 0 | Burst: 3 | start: 0, end: 2 | wait : 0 | turnaround : 2\n",
      "PID: 0 | Burst: 1 | start: 2, end: 4 | wait : 0 | turnaround : 4\n",
      "PID: 1 | Burst: 2 | start: 4, end: 6 | wait : 2 | turnaround : 4\n",
      "PID: 0 | Burst: 0 | start: 6, end: 7 | wait : 2 | turnaround : 7\n",
      "PID: 2 | Burst: 0 | start: 7, end: 8 | wait : 2 | turnaround : 3\n",
      "PID: 1 | Burst: 0 | start: 8, end: 10 | wait : 4 | turnaround : 8\n",
      "PID: 3 | Burst: 4 | start: 10, end: 12 | wait : 4 | turnaround : 6\n",
      "PID: 0 | Burst: 5 | start: 12, end: 14 | wait : 6 | turnaround : 13\n",
      "PID: 3 | Burst: 2 | start: 14, end: 16 | wait : 6 | turnaround : 10\n",
      "PID: 0 | Burst: 3 | start: 16, end: 18 | wait : 8 | turnaround : 17\n",
      "PID: 1 | Burst: 0 | start: 18, end: 20 | wait : 8 | turnaround : 14\n",
      "PID: 2 | Burst: 0 | start: 20, end: 22 | wait : 8 | turnaround : 11\n",
      "PID: 3 | Burst: 0 | start: 22, end: 24 | wait : 12 | turnaround : 18\n",
      "PID: 0 | Burst: 1 | start: 24, end: 26 | wait : 14 | turnaround : 25\n",
      "PID: 3 | Burst: 3 | start: 26, end: 28 | wait : 13 | turnaround : 21\n",
      "PID: 0 | Burst: 0 | start: 28, end: 29 | wait : 16 | turnaround : 28\n",
      "PID: 3 | Burst: 1 | start: 29, end: 31 | wait : 14 | turnaround : 24\n",
      "PID: 3 | Burst: 0 | start: 31, end: 32 | wait : 14 | turnaround : 25\n",
      "avg. wait time: 13.11111111111111\n",
      "avg. turnaround time: 22.77777777777778\n",
      "avg. response time: 1.8888888888888888\n"
     ]
    },
    {
     "data": {
      "application/vnd.plotly.v1+json": {
       "config": {
        "plotlyServerURL": "https://plot.ly"
       },
       "data": [
        {
         "alignmentgroup": "True",
         "base": [
          0,
          2,
          4,
          6,
          7,
          8,
          10,
          12,
          14,
          16,
          18,
          20,
          22,
          24,
          26,
          28,
          29,
          31
         ],
         "hovertemplate": "start=%{base}<br>finish=%{x}<br>process=%{y}<br>priority=%{marker.color}<extra></extra>",
         "legendgroup": "",
         "marker": {
          "color": [
           30,
           30,
           35,
           30,
           36,
           35,
           20,
           30,
           20,
           30,
           35,
           36,
           20,
           30,
           20,
           30,
           20,
           20
          ],
          "coloraxis": "coloraxis"
         },
         "name": "",
         "offsetgroup": "",
         "orientation": "h",
         "showlegend": false,
         "textposition": "auto",
         "type": "bar",
         "x": [
          2,
          2,
          2,
          1,
          1,
          2,
          2,
          2,
          2,
          2,
          2,
          2,
          2,
          2,
          2,
          1,
          2,
          1
         ],
         "xaxis": "x",
         "y": [
          0,
          0,
          1,
          0,
          2,
          1,
          3,
          0,
          3,
          0,
          1,
          2,
          3,
          0,
          3,
          0,
          3,
          3
         ],
         "yaxis": "y"
        }
       ],
       "layout": {
        "barmode": "overlay",
        "coloraxis": {
         "colorbar": {
          "title": {
           "text": "priority"
          }
         },
         "colorscale": [
          [
           0,
           "#0d0887"
          ],
          [
           0.1111111111111111,
           "#46039f"
          ],
          [
           0.2222222222222222,
           "#7201a8"
          ],
          [
           0.3333333333333333,
           "#9c179e"
          ],
          [
           0.4444444444444444,
           "#bd3786"
          ],
          [
           0.5555555555555556,
           "#d8576b"
          ],
          [
           0.6666666666666666,
           "#ed7953"
          ],
          [
           0.7777777777777778,
           "#fb9f3a"
          ],
          [
           0.8888888888888888,
           "#fdca26"
          ],
          [
           1,
           "#f0f921"
          ]
         ]
        },
        "legend": {
         "tracegroupgap": 0
        },
        "margin": {
         "t": 60
        },
        "template": {
         "data": {
          "bar": [
           {
            "error_x": {
             "color": "#2a3f5f"
            },
            "error_y": {
             "color": "#2a3f5f"
            },
            "marker": {
             "line": {
              "color": "#E5ECF6",
              "width": 0.5
             },
             "pattern": {
              "fillmode": "overlay",
              "size": 10,
              "solidity": 0.2
             }
            },
            "type": "bar"
           }
          ],
          "barpolar": [
           {
            "marker": {
             "line": {
              "color": "#E5ECF6",
              "width": 0.5
             },
             "pattern": {
              "fillmode": "overlay",
              "size": 10,
              "solidity": 0.2
             }
            },
            "type": "barpolar"
           }
          ],
          "carpet": [
           {
            "aaxis": {
             "endlinecolor": "#2a3f5f",
             "gridcolor": "white",
             "linecolor": "white",
             "minorgridcolor": "white",
             "startlinecolor": "#2a3f5f"
            },
            "baxis": {
             "endlinecolor": "#2a3f5f",
             "gridcolor": "white",
             "linecolor": "white",
             "minorgridcolor": "white",
             "startlinecolor": "#2a3f5f"
            },
            "type": "carpet"
           }
          ],
          "choropleth": [
           {
            "colorbar": {
             "outlinewidth": 0,
             "ticks": ""
            },
            "type": "choropleth"
           }
          ],
          "contour": [
           {
            "colorbar": {
             "outlinewidth": 0,
             "ticks": ""
            },
            "colorscale": [
             [
              0,
              "#0d0887"
             ],
             [
              0.1111111111111111,
              "#46039f"
             ],
             [
              0.2222222222222222,
              "#7201a8"
             ],
             [
              0.3333333333333333,
              "#9c179e"
             ],
             [
              0.4444444444444444,
              "#bd3786"
             ],
             [
              0.5555555555555556,
              "#d8576b"
             ],
             [
              0.6666666666666666,
              "#ed7953"
             ],
             [
              0.7777777777777778,
              "#fb9f3a"
             ],
             [
              0.8888888888888888,
              "#fdca26"
             ],
             [
              1,
              "#f0f921"
             ]
            ],
            "type": "contour"
           }
          ],
          "contourcarpet": [
           {
            "colorbar": {
             "outlinewidth": 0,
             "ticks": ""
            },
            "type": "contourcarpet"
           }
          ],
          "heatmap": [
           {
            "colorbar": {
             "outlinewidth": 0,
             "ticks": ""
            },
            "colorscale": [
             [
              0,
              "#0d0887"
             ],
             [
              0.1111111111111111,
              "#46039f"
             ],
             [
              0.2222222222222222,
              "#7201a8"
             ],
             [
              0.3333333333333333,
              "#9c179e"
             ],
             [
              0.4444444444444444,
              "#bd3786"
             ],
             [
              0.5555555555555556,
              "#d8576b"
             ],
             [
              0.6666666666666666,
              "#ed7953"
             ],
             [
              0.7777777777777778,
              "#fb9f3a"
             ],
             [
              0.8888888888888888,
              "#fdca26"
             ],
             [
              1,
              "#f0f921"
             ]
            ],
            "type": "heatmap"
           }
          ],
          "heatmapgl": [
           {
            "colorbar": {
             "outlinewidth": 0,
             "ticks": ""
            },
            "colorscale": [
             [
              0,
              "#0d0887"
             ],
             [
              0.1111111111111111,
              "#46039f"
             ],
             [
              0.2222222222222222,
              "#7201a8"
             ],
             [
              0.3333333333333333,
              "#9c179e"
             ],
             [
              0.4444444444444444,
              "#bd3786"
             ],
             [
              0.5555555555555556,
              "#d8576b"
             ],
             [
              0.6666666666666666,
              "#ed7953"
             ],
             [
              0.7777777777777778,
              "#fb9f3a"
             ],
             [
              0.8888888888888888,
              "#fdca26"
             ],
             [
              1,
              "#f0f921"
             ]
            ],
            "type": "heatmapgl"
           }
          ],
          "histogram": [
           {
            "marker": {
             "pattern": {
              "fillmode": "overlay",
              "size": 10,
              "solidity": 0.2
             }
            },
            "type": "histogram"
           }
          ],
          "histogram2d": [
           {
            "colorbar": {
             "outlinewidth": 0,
             "ticks": ""
            },
            "colorscale": [
             [
              0,
              "#0d0887"
             ],
             [
              0.1111111111111111,
              "#46039f"
             ],
             [
              0.2222222222222222,
              "#7201a8"
             ],
             [
              0.3333333333333333,
              "#9c179e"
             ],
             [
              0.4444444444444444,
              "#bd3786"
             ],
             [
              0.5555555555555556,
              "#d8576b"
             ],
             [
              0.6666666666666666,
              "#ed7953"
             ],
             [
              0.7777777777777778,
              "#fb9f3a"
             ],
             [
              0.8888888888888888,
              "#fdca26"
             ],
             [
              1,
              "#f0f921"
             ]
            ],
            "type": "histogram2d"
           }
          ],
          "histogram2dcontour": [
           {
            "colorbar": {
             "outlinewidth": 0,
             "ticks": ""
            },
            "colorscale": [
             [
              0,
              "#0d0887"
             ],
             [
              0.1111111111111111,
              "#46039f"
             ],
             [
              0.2222222222222222,
              "#7201a8"
             ],
             [
              0.3333333333333333,
              "#9c179e"
             ],
             [
              0.4444444444444444,
              "#bd3786"
             ],
             [
              0.5555555555555556,
              "#d8576b"
             ],
             [
              0.6666666666666666,
              "#ed7953"
             ],
             [
              0.7777777777777778,
              "#fb9f3a"
             ],
             [
              0.8888888888888888,
              "#fdca26"
             ],
             [
              1,
              "#f0f921"
             ]
            ],
            "type": "histogram2dcontour"
           }
          ],
          "mesh3d": [
           {
            "colorbar": {
             "outlinewidth": 0,
             "ticks": ""
            },
            "type": "mesh3d"
           }
          ],
          "parcoords": [
           {
            "line": {
             "colorbar": {
              "outlinewidth": 0,
              "ticks": ""
             }
            },
            "type": "parcoords"
           }
          ],
          "pie": [
           {
            "automargin": true,
            "type": "pie"
           }
          ],
          "scatter": [
           {
            "marker": {
             "colorbar": {
              "outlinewidth": 0,
              "ticks": ""
             }
            },
            "type": "scatter"
           }
          ],
          "scatter3d": [
           {
            "line": {
             "colorbar": {
              "outlinewidth": 0,
              "ticks": ""
             }
            },
            "marker": {
             "colorbar": {
              "outlinewidth": 0,
              "ticks": ""
             }
            },
            "type": "scatter3d"
           }
          ],
          "scattercarpet": [
           {
            "marker": {
             "colorbar": {
              "outlinewidth": 0,
              "ticks": ""
             }
            },
            "type": "scattercarpet"
           }
          ],
          "scattergeo": [
           {
            "marker": {
             "colorbar": {
              "outlinewidth": 0,
              "ticks": ""
             }
            },
            "type": "scattergeo"
           }
          ],
          "scattergl": [
           {
            "marker": {
             "colorbar": {
              "outlinewidth": 0,
              "ticks": ""
             }
            },
            "type": "scattergl"
           }
          ],
          "scattermapbox": [
           {
            "marker": {
             "colorbar": {
              "outlinewidth": 0,
              "ticks": ""
             }
            },
            "type": "scattermapbox"
           }
          ],
          "scatterpolar": [
           {
            "marker": {
             "colorbar": {
              "outlinewidth": 0,
              "ticks": ""
             }
            },
            "type": "scatterpolar"
           }
          ],
          "scatterpolargl": [
           {
            "marker": {
             "colorbar": {
              "outlinewidth": 0,
              "ticks": ""
             }
            },
            "type": "scatterpolargl"
           }
          ],
          "scatterternary": [
           {
            "marker": {
             "colorbar": {
              "outlinewidth": 0,
              "ticks": ""
             }
            },
            "type": "scatterternary"
           }
          ],
          "surface": [
           {
            "colorbar": {
             "outlinewidth": 0,
             "ticks": ""
            },
            "colorscale": [
             [
              0,
              "#0d0887"
             ],
             [
              0.1111111111111111,
              "#46039f"
             ],
             [
              0.2222222222222222,
              "#7201a8"
             ],
             [
              0.3333333333333333,
              "#9c179e"
             ],
             [
              0.4444444444444444,
              "#bd3786"
             ],
             [
              0.5555555555555556,
              "#d8576b"
             ],
             [
              0.6666666666666666,
              "#ed7953"
             ],
             [
              0.7777777777777778,
              "#fb9f3a"
             ],
             [
              0.8888888888888888,
              "#fdca26"
             ],
             [
              1,
              "#f0f921"
             ]
            ],
            "type": "surface"
           }
          ],
          "table": [
           {
            "cells": {
             "fill": {
              "color": "#EBF0F8"
             },
             "line": {
              "color": "white"
             }
            },
            "header": {
             "fill": {
              "color": "#C8D4E3"
             },
             "line": {
              "color": "white"
             }
            },
            "type": "table"
           }
          ]
         },
         "layout": {
          "annotationdefaults": {
           "arrowcolor": "#2a3f5f",
           "arrowhead": 0,
           "arrowwidth": 1
          },
          "autotypenumbers": "strict",
          "coloraxis": {
           "colorbar": {
            "outlinewidth": 0,
            "ticks": ""
           }
          },
          "colorscale": {
           "diverging": [
            [
             0,
             "#8e0152"
            ],
            [
             0.1,
             "#c51b7d"
            ],
            [
             0.2,
             "#de77ae"
            ],
            [
             0.3,
             "#f1b6da"
            ],
            [
             0.4,
             "#fde0ef"
            ],
            [
             0.5,
             "#f7f7f7"
            ],
            [
             0.6,
             "#e6f5d0"
            ],
            [
             0.7,
             "#b8e186"
            ],
            [
             0.8,
             "#7fbc41"
            ],
            [
             0.9,
             "#4d9221"
            ],
            [
             1,
             "#276419"
            ]
           ],
           "sequential": [
            [
             0,
             "#0d0887"
            ],
            [
             0.1111111111111111,
             "#46039f"
            ],
            [
             0.2222222222222222,
             "#7201a8"
            ],
            [
             0.3333333333333333,
             "#9c179e"
            ],
            [
             0.4444444444444444,
             "#bd3786"
            ],
            [
             0.5555555555555556,
             "#d8576b"
            ],
            [
             0.6666666666666666,
             "#ed7953"
            ],
            [
             0.7777777777777778,
             "#fb9f3a"
            ],
            [
             0.8888888888888888,
             "#fdca26"
            ],
            [
             1,
             "#f0f921"
            ]
           ],
           "sequentialminus": [
            [
             0,
             "#0d0887"
            ],
            [
             0.1111111111111111,
             "#46039f"
            ],
            [
             0.2222222222222222,
             "#7201a8"
            ],
            [
             0.3333333333333333,
             "#9c179e"
            ],
            [
             0.4444444444444444,
             "#bd3786"
            ],
            [
             0.5555555555555556,
             "#d8576b"
            ],
            [
             0.6666666666666666,
             "#ed7953"
            ],
            [
             0.7777777777777778,
             "#fb9f3a"
            ],
            [
             0.8888888888888888,
             "#fdca26"
            ],
            [
             1,
             "#f0f921"
            ]
           ]
          },
          "colorway": [
           "#636efa",
           "#EF553B",
           "#00cc96",
           "#ab63fa",
           "#FFA15A",
           "#19d3f3",
           "#FF6692",
           "#B6E880",
           "#FF97FF",
           "#FECB52"
          ],
          "font": {
           "color": "#2a3f5f"
          },
          "geo": {
           "bgcolor": "white",
           "lakecolor": "white",
           "landcolor": "#E5ECF6",
           "showlakes": true,
           "showland": true,
           "subunitcolor": "white"
          },
          "hoverlabel": {
           "align": "left"
          },
          "hovermode": "closest",
          "mapbox": {
           "style": "light"
          },
          "paper_bgcolor": "white",
          "plot_bgcolor": "#E5ECF6",
          "polar": {
           "angularaxis": {
            "gridcolor": "white",
            "linecolor": "white",
            "ticks": ""
           },
           "bgcolor": "#E5ECF6",
           "radialaxis": {
            "gridcolor": "white",
            "linecolor": "white",
            "ticks": ""
           }
          },
          "scene": {
           "xaxis": {
            "backgroundcolor": "#E5ECF6",
            "gridcolor": "white",
            "gridwidth": 2,
            "linecolor": "white",
            "showbackground": true,
            "ticks": "",
            "zerolinecolor": "white"
           },
           "yaxis": {
            "backgroundcolor": "#E5ECF6",
            "gridcolor": "white",
            "gridwidth": 2,
            "linecolor": "white",
            "showbackground": true,
            "ticks": "",
            "zerolinecolor": "white"
           },
           "zaxis": {
            "backgroundcolor": "#E5ECF6",
            "gridcolor": "white",
            "gridwidth": 2,
            "linecolor": "white",
            "showbackground": true,
            "ticks": "",
            "zerolinecolor": "white"
           }
          },
          "shapedefaults": {
           "line": {
            "color": "#2a3f5f"
           }
          },
          "ternary": {
           "aaxis": {
            "gridcolor": "white",
            "linecolor": "white",
            "ticks": ""
           },
           "baxis": {
            "gridcolor": "white",
            "linecolor": "white",
            "ticks": ""
           },
           "bgcolor": "#E5ECF6",
           "caxis": {
            "gridcolor": "white",
            "linecolor": "white",
            "ticks": ""
           }
          },
          "title": {
           "x": 0.05
          },
          "xaxis": {
           "automargin": true,
           "gridcolor": "white",
           "linecolor": "white",
           "ticks": "",
           "title": {
            "standoff": 15
           },
           "zerolinecolor": "white",
           "zerolinewidth": 2
          },
          "yaxis": {
           "automargin": true,
           "gridcolor": "white",
           "linecolor": "white",
           "ticks": "",
           "title": {
            "standoff": 15
           },
           "zerolinecolor": "white",
           "zerolinewidth": 2
          }
         }
        },
        "xaxis": {
         "anchor": "y",
         "domain": [
          0,
          1
         ],
         "type": "linear"
        },
        "yaxis": {
         "anchor": "x",
         "domain": [
          0,
          1
         ],
         "title": {
          "text": "process"
         }
        }
       }
      }
     },
     "metadata": {},
     "output_type": "display_data"
    }
   ],
   "source": [
    "op.kernel(s.RR_scheduler, 6)\n",
    "\n",
    "# read CPU data from kernel run\n",
    "df = pd.read_csv('results.csv')\n",
    "df.head()\n",
    "\n",
    "# use Prof. Al Madi's code to plot\n",
    "fig = px.timeline(df, x_start='start', x_end='finish', y='process', color='priority')\n",
    "df['delta'] = df['finish'] - df['start']\n",
    "fig.layout.xaxis.type = 'linear'\n",
    "fig.data[0].x = df.delta.tolist()\n",
    "fig.show()"
   ]
  },
  {
   "cell_type": "markdown",
   "metadata": {},
   "source": [
    "**Simulations:** First generate 1000 processes programatically:"
   ]
  },
  {
   "cell_type": "code",
   "execution_count": 6,
   "metadata": {},
   "outputs": [],
   "source": [
    "# list for processes\n",
    "procs =[]\n",
    "\n",
    "# generate 1000 processes\n",
    "for i in range(1000):\n",
    "    \n",
    "    # 50% CPU bound\n",
    "    if ran.random() > 0.5:\n",
    "        \n",
    "        duty = []\n",
    "        for j in range(ran.randrange(3,10,2)):\n",
    "            if j%2==0:\n",
    "                duty.append(ran.randint(8,13))\n",
    "            else:\n",
    "                duty.append(ran.randint(1,4))\n",
    "        procs.append(process.Process(i, duty, ran.randint(0,1000), ran.randint(0,16)))\n",
    "    \n",
    "    else: # 50% I/O bound\n",
    "        duty = []\n",
    "        for j in range(ran.randrange(3,10,2)):\n",
    "            if j%2==0:\n",
    "                duty.append(ran.randint(1,4))\n",
    "            else:\n",
    "                duty.append(ran.randint(8,13))\n",
    "        procs.append(process.Process(i, duty, ran.randint(0,1000), ran.randint(0,16)))\n"
   ]
  },
  {
   "cell_type": "markdown",
   "metadata": {},
   "source": [
    "Then test with scheduler (not working)"
   ]
  },
  {
   "cell_type": "code",
   "execution_count": 9,
   "metadata": {},
   "outputs": [
    {
     "name": "stdout",
     "output_type": "stream",
     "text": [
      "0\n",
      "0\n",
      "0\n",
      "2\n",
      "PID: 957 | Burst: 2 | start: 3, end: 8 | wait : 0 | turnaround : 7\n",
      "4\n",
      "PID: 657 | Burst: 8 | start: 8, end: 9 | wait : 5 | turnaround : 8\n",
      "6\n",
      "PID: 578 | Burst: 0 | start: 9, end: 10 | wait : 2 | turnaround : 4\n",
      "5\n",
      "PID: 842 | Burst: 5 | start: 10, end: 11 | wait : 1 | turnaround : 4\n",
      "6\n",
      "PID: 118 | Burst: 1 | start: 11, end: 12 | wait : 0 | turnaround : 3\n",
      "7\n",
      "PID: 222 | Burst: 0 | start: 12, end: 13 | wait : 0 | turnaround : 3\n",
      "7\n",
      "PID: 710 | Burst: 1 | start: 13, end: 14 | wait : 0 | turnaround : 3\n",
      "9\n",
      "PID: 522 | Burst: 5 | start: 14, end: 15 | wait : 0 | turnaround : 3\n",
      "10\n",
      "PID: 705 | Burst: 6 | start: 15, end: 16 | wait : 0 | turnaround : 3\n",
      "11\n",
      "PID: 725 | Burst: 7 | start: 16, end: 17 | wait : 0 | turnaround : 3\n",
      "12\n",
      "PID: 741 | Burst: 5 | start: 17, end: 18 | wait : 0 | turnaround : 3\n",
      "13\n",
      "PID: 750 | Burst: 6 | start: 18, end: 19 | wait : 0 | turnaround : 3\n",
      "13\n",
      "PID: 750 | Burst: 5 | start: 19, end: 20 | wait : 0 | turnaround : 4\n",
      "14\n",
      "PID: 683 | Burst: 1 | start: 20, end: 21 | wait : 0 | turnaround : 3\n",
      "15\n",
      "PID: 149 | Burst: 1 | start: 21, end: 22 | wait : 0 | turnaround : 3\n",
      "17\n",
      "PID: 578 | Burst: 2 | start: 22, end: 23 | wait : 2 | turnaround : 5\n",
      "18\n",
      "PID: 998 | Burst: 5 | start: 23, end: 24 | wait : 1 | turnaround : 4\n",
      "19\n",
      "PID: 58 | Burst: 0 | start: 24, end: 25 | wait : 3 | turnaround : 6\n",
      "18\n",
      "PID: 118 | Burst: 0 | start: 25, end: 26 | wait : 13 | turnaround : 17\n",
      "17\n",
      "PID: 247 | Burst: 0 | start: 26, end: 27 | wait : 12 | turnaround : 16\n",
      "16\n",
      "PID: 710 | Burst: 0 | start: 27, end: 28 | wait : 13 | turnaround : 17\n",
      "15\n",
      "PID: 522 | Burst: 4 | start: 28, end: 29 | wait : 13 | turnaround : 17\n",
      "15\n",
      "PID: 705 | Burst: 5 | start: 29, end: 30 | wait : 13 | turnaround : 17\n",
      "15\n",
      "PID: 725 | Burst: 6 | start: 30, end: 31 | wait : 13 | turnaround : 17\n",
      "16\n",
      "PID: 249 | Burst: 0 | start: 31, end: 32 | wait : 2 | turnaround : 6\n",
      "16\n",
      "PID: 475 | Burst: 7 | start: 32, end: 33 | wait : 0 | turnaround : 4\n",
      "17\n",
      "PID: 717 | Burst: 6 | start: 33, end: 34 | wait : 3 | turnaround : 7\n",
      "18\n",
      "PID: 65 | Burst: 6 | start: 34, end: 35 | wait : 4 | turnaround : 8\n",
      "20\n",
      "PID: 771 | Burst: 5 | start: 35, end: 36 | wait : 0 | turnaround : 4\n",
      "23\n",
      "PID: 179 | Burst: 2 | start: 36, end: 37 | wait : 7 | turnaround : 11\n",
      "25\n",
      "PID: 58 | Burst: 0 | start: 37, end: 38 | wait : 3 | turnaround : 7\n",
      "26\n",
      "PID: 573 | Burst: 5 | start: 38, end: 39 | wait : 17 | turnaround : 21\n",
      "27\n",
      "PID: 114 | Burst: 0 | start: 39, end: 40 | wait : 16 | turnaround : 20\n",
      "27\n",
      "PID: 73 | Burst: 5 | start: 40, end: 41 | wait : 0 | turnaround : 4\n",
      "27\n",
      "PID: 326 | Burst: 5 | start: 41, end: 42 | wait : 25 | turnaround : 29\n",
      "27\n",
      "PID: 326 | Burst: 4 | start: 42, end: 43 | wait : 25 | turnaround : 30\n",
      "27\n",
      "PID: 73 | Burst: 4 | start: 43, end: 44 | wait : 2 | turnaround : 7\n",
      "28\n",
      "PID: 682 | Burst: 0 | start: 44, end: 45 | wait : 32 | turnaround : 36\n",
      "30\n",
      "PID: 232 | Burst: 9 | start: 45, end: 46 | wait : 2 | turnaround : 6\n",
      "31\n",
      "PID: 192 | Burst: 7 | start: 46, end: 47 | wait : 0 | turnaround : 2\n",
      "32\n",
      "PID: 192 | Burst: 6 | start: 47, end: 48 | wait : 0 | turnaround : 3\n",
      "34\n",
      "PID: 218 | Burst: 0 | start: 48, end: 49 | wait : 0 | turnaround : 3\n",
      "33\n",
      "PID: 445 | Burst: 9 | start: 49, end: 50 | wait : 42 | turnaround : 46\n",
      "34\n",
      "PID: 718 | Burst: 5 | start: 50, end: 51 | wait : 0 | turnaround : 3\n",
      "37\n",
      "PID: 69 | Burst: 11 | start: 51, end: 52 | wait : 2 | turnaround : 4\n",
      "38\n",
      "PID: 69 | Burst: 10 | start: 52, end: 53 | wait : 2 | turnaround : 5\n",
      "39\n",
      "PID: 925 | Burst: 0 | start: 53, end: 54 | wait : 0 | turnaround : 3\n",
      "41\n",
      "PID: 997 | Burst: 3 | start: 54, end: 55 | wait : 2 | turnaround : 5\n",
      "43\n",
      "PID: 567 | Burst: 2 | start: 55, end: 56 | wait : 0 | turnaround : 2\n",
      "44\n",
      "PID: 567 | Burst: 1 | start: 56, end: 57 | wait : 0 | turnaround : 3\n",
      "46\n",
      "PID: 627 | Burst: 1 | start: 57, end: 58 | wait : 0 | turnaround : 3\n",
      "47\n",
      "PID: 611 | Burst: 0 | start: 58, end: 59 | wait : 1 | turnaround : 4\n",
      "47\n",
      "PID: 641 | Burst: 1 | start: 59, end: 60 | wait : 0 | turnaround : 3\n",
      "48\n",
      "PID: 110 | Burst: 0 | start: 60, end: 61 | wait : 3 | turnaround : 6\n",
      "48\n",
      "PID: 692 | Burst: 9 | start: 61, end: 62 | wait : 0 | turnaround : 3\n",
      "50\n",
      "PID: 724 | Burst: 7 | start: 62, end: 63 | wait : 6 | turnaround : 9\n",
      "51\n",
      "PID: 799 | Burst: 10 | start: 63, end: 64 | wait : 0 | turnaround : 3\n",
      "52\n",
      "PID: 630 | Burst: 8 | start: 64, end: 65 | wait : 0 | turnaround : 3\n",
      "54\n",
      "PID: 35 | Burst: 7 | start: 65, end: 66 | wait : 0 | turnaround : 2\n",
      "54\n",
      "PID: 35 | Burst: 6 | start: 66, end: 67 | wait : 0 | turnaround : 3\n",
      "56\n",
      "PID: 466 | Burst: 1 | start: 67, end: 68 | wait : 64 | turnaround : 67\n",
      "56\n",
      "PID: 665 | Burst: 5 | start: 68, end: 69 | wait : 5 | turnaround : 8\n",
      "58\n",
      "PID: 877 | Burst: 1 | start: 69, end: 70 | wait : 13 | turnaround : 16\n",
      "58\n",
      "PID: 492 | Burst: 0 | start: 70, end: 71 | wait : 13 | turnaround : 16\n",
      "58\n",
      "PID: 838 | Burst: 0 | start: 71, end: 72 | wait : 0 | turnaround : 3\n",
      "58\n",
      "PID: 869 | Burst: 5 | start: 72, end: 73 | wait : 0 | turnaround : 3\n",
      "59\n",
      "PID: 117 | Burst: 1 | start: 73, end: 74 | wait : 0 | turnaround : 3\n",
      "60\n",
      "PID: 940 | Burst: 1 | start: 74, end: 75 | wait : 0 | turnaround : 3\n",
      "61\n",
      "PID: 861 | Burst: 5 | start: 75, end: 76 | wait : 3 | turnaround : 6\n",
      "62\n",
      "PID: 638 | Burst: 1 | start: 76, end: 77 | wait : 4 | turnaround : 7\n",
      "63\n",
      "PID: 59 | Burst: 6 | start: 77, end: 78 | wait : 29 | turnaround : 32\n",
      "65\n",
      "PID: 883 | Burst: 1 | start: 78, end: 79 | wait : 0 | turnaround : 3\n",
      "66\n",
      "PID: 380 | Burst: 7 | start: 79, end: 80 | wait : 1 | turnaround : 4\n",
      "68\n",
      "PID: 655 | Burst: 2 | start: 80, end: 81 | wait : 0 | turnaround : 3\n",
      "68\n",
      "PID: 48 | Burst: 6 | start: 81, end: 82 | wait : 3 | turnaround : 6\n",
      "68\n",
      "PID: 423 | Burst: 6 | start: 82, end: 83 | wait : 29 | turnaround : 32\n",
      "70\n",
      "PID: 271 | Burst: 9 | start: 83, end: 84 | wait : 1 | turnaround : 4\n",
      "70\n",
      "PID: 188 | Burst: 3 | start: 84, end: 85 | wait : 72 | turnaround : 75\n",
      "71\n",
      "PID: 188 | Burst: 2 | start: 85, end: 86 | wait : 72 | turnaround : 76\n",
      "71\n",
      "PID: 838 | Burst: 2 | start: 86, end: 87 | wait : 1 | turnaround : 5\n",
      "72\n",
      "PID: 270 | Burst: 1 | start: 87, end: 88 | wait : 0 | turnaround : 3\n",
      "73\n",
      "PID: 129 | Burst: 9 | start: 88, end: 89 | wait : 0 | turnaround : 3\n",
      "74\n",
      "PID: 949 | Burst: 9 | start: 89, end: 90 | wait : 0 | turnaround : 3\n",
      "75\n",
      "PID: 430 | Burst: 0 | start: 90, end: 91 | wait : 1 | turnaround : 4\n",
      "75\n",
      "PID: 634 | Burst: 1 | start: 91, end: 92 | wait : 5 | turnaround : 8\n",
      "76\n",
      "PID: 583 | Burst: 5 | start: 92, end: 93 | wait : 0 | turnaround : 3\n",
      "77\n",
      "PID: 930 | Burst: 1 | start: 93, end: 94 | wait : 0 | turnaround : 3\n",
      "79\n",
      "PID: 338 | Burst: 5 | start: 94, end: 95 | wait : 1 | turnaround : 4\n",
      "80\n",
      "PID: 27 | Burst: 6 | start: 95, end: 96 | wait : 0 | turnaround : 3\n",
      "81\n",
      "PID: 471 | Burst: 6 | start: 96, end: 97 | wait : 0 | turnaround : 3\n",
      "82\n",
      "PID: 181 | Burst: 1 | start: 97, end: 98 | wait : 1 | turnaround : 4\n",
      "83\n",
      "PID: 518 | Burst: 1 | start: 98, end: 99 | wait : 0 | turnaround : 3\n",
      "84\n",
      "PID: 979 | Burst: 1 | start: 99, end: 100 | wait : 0 | turnaround : 3\n",
      "85\n",
      "PID: 276 | Burst: 5 | start: 100, end: 101 | wait : 7 | turnaround : 10\n",
      "86\n",
      "PID: 594 | Burst: 5 | start: 101, end: 102 | wait : 0 | turnaround : 3\n",
      "88\n",
      "PID: 226 | Burst: 8 | start: 102, end: 103 | wait : 0 | turnaround : 3\n",
      "88\n",
      "PID: 10 | Burst: 0 | start: 103, end: 104 | wait : 13 | turnaround : 16\n",
      "88\n",
      "PID: 848 | Burst: 5 | start: 104, end: 105 | wait : 0 | turnaround : 3\n",
      "89\n",
      "PID: 82 | Burst: 8 | start: 105, end: 106 | wait : 17 | turnaround : 20\n",
      "90\n",
      "PID: 938 | Burst: 8 | start: 106, end: 107 | wait : 0 | turnaround : 3\n",
      "91\n",
      "PID: 598 | Burst: 7 | start: 107, end: 108 | wait : 0 | turnaround : 3\n",
      "92\n",
      "PID: 924 | Burst: 0 | start: 108, end: 109 | wait : 9 | turnaround : 12\n",
      "91\n",
      "PID: 639 | Burst: 2 | start: 109, end: 110 | wait : 57 | turnaround : 60\n",
      "92\n",
      "PID: 44 | Burst: 9 | start: 110, end: 111 | wait : 0 | turnaround : 3\n",
      "93\n",
      "PID: 258 | Burst: 5 | start: 111, end: 112 | wait : 26 | turnaround : 29\n",
      "95\n",
      "PID: 399 | Burst: 3 | start: 112, end: 113 | wait : 0 | turnaround : 3\n",
      "96\n",
      "PID: 628 | Burst: 8 | start: 113, end: 114 | wait : 28 | turnaround : 31\n",
      "97\n",
      "PID: 973 | Burst: 10 | start: 114, end: 115 | wait : 0 | turnaround : 3\n",
      "98\n",
      "PID: 908 | Burst: 1 | start: 115, end: 116 | wait : 1 | turnaround : 4\n",
      "99\n",
      "PID: 231 | Burst: 7 | start: 116, end: 117 | wait : 33 | turnaround : 36\n",
      "100\n",
      "PID: 681 | Burst: 7 | start: 117, end: 118 | wait : 0 | turnaround : 3\n",
      "100\n",
      "PID: 681 | Burst: 6 | start: 118, end: 119 | wait : 0 | turnaround : 4\n",
      "101\n",
      "PID: 404 | Burst: 7 | start: 119, end: 120 | wait : 0 | turnaround : 3\n",
      "103\n",
      "PID: 277 | Burst: 9 | start: 120, end: 121 | wait : 0 | turnaround : 3\n",
      "105\n",
      "PID: 709 | Burst: 8 | start: 121, end: 122 | wait : 3 | turnaround : 6\n",
      "106\n",
      "PID: 608 | Burst: 1 | start: 122, end: 123 | wait : 4 | turnaround : 7\n",
      "109\n",
      "PID: 322 | Burst: 0 | start: 123, end: 124 | wait : 4 | turnaround : 6\n",
      "108\n",
      "PID: 233 | Burst: 10 | start: 124, end: 125 | wait : 8 | turnaround : 10\n",
      "111\n",
      "PID: 143 | Burst: 8 | start: 125, end: 126 | wait : 40 | turnaround : 42\n",
      "113\n",
      "PID: 497 | Burst: 1 | start: 126, end: 127 | wait : 0 | turnaround : 2\n",
      "115\n",
      "PID: 647 | Burst: 9 | start: 127, end: 128 | wait : 0 | turnaround : 2\n",
      "117\n",
      "PID: 992 | Burst: 10 | start: 128, end: 129 | wait : 0 | turnaround : 2\n",
      "117\n",
      "PID: 553 | Burst: 0 | start: 129, end: 130 | wait : 1 | turnaround : 3\n",
      "118\n",
      "PID: 296 | Burst: 6 | start: 130, end: 131 | wait : 4 | turnaround : 6\n",
      "119\n",
      "PID: 296 | Burst: 5 | start: 131, end: 132 | wait : 4 | turnaround : 7\n",
      "120\n",
      "PID: 324 | Burst: 7 | start: 132, end: 133 | wait : 0 | turnaround : 3\n",
      "121\n",
      "PID: 745 | Burst: 0 | start: 133, end: 134 | wait : 0 | turnaround : 3\n",
      "121\n",
      "PID: 991 | Burst: 5 | start: 134, end: 135 | wait : 0 | turnaround : 3\n",
      "124\n",
      "PID: 322 | Burst: 2 | start: 135, end: 136 | wait : 4 | turnaround : 7\n",
      "125\n",
      "PID: 314 | Burst: 1 | start: 136, end: 137 | wait : 0 | turnaround : 3\n",
      "127\n",
      "PID: 331 | Burst: 11 | start: 137, end: 138 | wait : 0 | turnaround : 2\n",
      "130\n",
      "PID: 996 | Burst: 0 | start: 138, end: 139 | wait : 0 | turnaround : 2\n",
      "130\n",
      "PID: 933 | Burst: 1 | start: 139, end: 140 | wait : 0 | turnaround : 2\n",
      "131\n",
      "PID: 966 | Burst: 2 | start: 140, end: 141 | wait : 2 | turnaround : 4\n",
      "132\n",
      "PID: 966 | Burst: 1 | start: 141, end: 142 | wait : 2 | turnaround : 5\n",
      "134\n",
      "PID: 328 | Burst: 5 | start: 142, end: 143 | wait : 0 | turnaround : 3\n",
      "134\n",
      "PID: 165 | Burst: 0 | start: 143, end: 144 | wait : 16 | turnaround : 19\n",
      "133\n",
      "PID: 126 | Burst: -1 | start: 144, end: 145 | wait : 6 | turnaround : 9\n",
      "133\n",
      "PID: 480 | Burst: 1 | start: 145, end: 146 | wait : 0 | turnaround : 3\n",
      "134\n",
      "PID: 706 | Burst: 0 | start: 146, end: 147 | wait : 0 | turnaround : 3\n",
      "134\n",
      "PID: 714 | Burst: 0 | start: 147, end: 148 | wait : 0 | turnaround : 3\n",
      "134\n",
      "PID: 509 | Burst: 0 | start: 148, end: 149 | wait : 0 | turnaround : 3\n",
      "135\n",
      "PID: 996 | Burst: 2 | start: 149, end: 150 | wait : 0 | turnaround : 3\n",
      "136\n",
      "PID: 299 | Burst: 1 | start: 150, end: 151 | wait : 0 | turnaround : 3\n",
      "138\n",
      "PID: 250 | Burst: 0 | start: 151, end: 152 | wait : 2 | turnaround : 4\n",
      "138\n",
      "PID: 164 | Burst: 2 | start: 152, end: 153 | wait : 0 | turnaround : 2\n",
      "139\n",
      "PID: 304 | Burst: 0 | start: 153, end: 154 | wait : 27 | turnaround : 29\n",
      "139\n",
      "PID: 349 | Burst: 8 | start: 154, end: 155 | wait : 0 | turnaround : 2\n",
      "141\n",
      "PID: 555 | Burst: 2 | start: 155, end: 156 | wait : 0 | turnaround : 2\n",
      "144\n",
      "PID: 767 | Burst: 2 | start: 156, end: 157 | wait : 0 | turnaround : 2\n",
      "146\n",
      "PID: 199 | Burst: 11 | start: 157, end: 158 | wait : 1 | turnaround : 3\n",
      "148\n",
      "PID: 286 | Burst: 10 | start: 158, end: 159 | wait : 0 | turnaround : 2\n",
      "149\n",
      "PID: 519 | Burst: 2 | start: 159, end: 160 | wait : 1 | turnaround : 3\n",
      "151\n",
      "PID: 175 | Burst: 2 | start: 160, end: 161 | wait : 2 | turnaround : 4\n",
      "153\n",
      "PID: 729 | Burst: 3 | start: 161, end: 162 | wait : 0 | turnaround : 2\n",
      "157\n",
      "PID: 362 | Burst: 1 | start: 162, end: 163 | wait : 2 | turnaround : 4\n",
      "159\n",
      "PID: 917 | Burst: 7 | start: 163, end: 164 | wait : 0 | turnaround : 2\n",
      "160\n",
      "PID: 220 | Burst: 8 | start: 164, end: 165 | wait : 1 | turnaround : 3\n",
      "160\n",
      "PID: 221 | Burst: 0 | start: 165, end: 166 | wait : 5 | turnaround : 7\n",
      "160\n",
      "PID: 115 | Burst: 8 | start: 166, end: 167 | wait : 1 | turnaround : 4\n",
      "162\n",
      "PID: 304 | Burst: 3 | start: 167, end: 168 | wait : 27 | turnaround : 30\n",
      "163\n",
      "PID: 234 | Burst: 8 | start: 168, end: 169 | wait : 4 | turnaround : 7\n",
      "164\n",
      "PID: 558 | Burst: 0 | start: 169, end: 170 | wait : 0 | turnaround : 3\n",
      "163\n",
      "PID: 545 | Burst: 0 | start: 170, end: 171 | wait : 3 | turnaround : 6\n",
      "163\n",
      "PID: 74 | Burst: 7 | start: 171, end: 172 | wait : 0 | turnaround : 3\n",
      "165\n",
      "PID: 172 | Burst: 5 | start: 172, end: 173 | wait : 1 | turnaround : 4\n",
      "166\n",
      "PID: 880 | Burst: 0 | start: 173, end: 174 | wait : 0 | turnaround : 3\n",
      "166\n",
      "PID: 438 | Burst: 6 | start: 174, end: 175 | wait : 3 | turnaround : 6\n",
      "168\n",
      "PID: 752 | Burst: 10 | start: 175, end: 176 | wait : 0 | turnaround : 3\n",
      "169\n",
      "PID: 498 | Burst: 1 | start: 176, end: 177 | wait : 1 | turnaround : 4\n",
      "170\n",
      "PID: 469 | Burst: 1 | start: 177, end: 178 | wait : 0 | turnaround : 3\n",
      "171\n",
      "PID: 703 | Burst: 2 | start: 178, end: 179 | wait : 0 | turnaround : 3\n",
      "172\n",
      "PID: 679 | Burst: 5 | start: 179, end: 180 | wait : 0 | turnaround : 3\n",
      "172\n",
      "PID: 5 | Burst: 1 | start: 180, end: 181 | wait : 6 | turnaround : 9\n",
      "173\n",
      "PID: 408 | Burst: 1 | start: 181, end: 182 | wait : 0 | turnaround : 3\n",
      "177\n",
      "PID: 514 | Burst: 1 | start: 182, end: 183 | wait : 0 | turnaround : 3\n",
      "178\n",
      "PID: 281 | Burst: 8 | start: 183, end: 184 | wait : 0 | turnaround : 3\n",
      "179\n",
      "PID: 864 | Burst: 9 | start: 184, end: 185 | wait : 0 | turnaround : 3\n",
      "180\n",
      "PID: 490 | Burst: 10 | start: 185, end: 186 | wait : 1 | turnaround : 4\n",
      "181\n",
      "PID: 60 | Burst: 5 | start: 186, end: 187 | wait : 0 | turnaround : 3\n",
      "182\n",
      "PID: 656 | Burst: 1 | start: 187, end: 188 | wait : 0 | turnaround : 3\n",
      "183\n",
      "PID: 33 | Burst: 6 | start: 188, end: 189 | wait : 2 | turnaround : 5\n",
      "184\n",
      "PID: 920 | Burst: 5 | start: 189, end: 190 | wait : 0 | turnaround : 3\n",
      "185\n",
      "PID: 90 | Burst: 5 | start: 190, end: 191 | wait : 0 | turnaround : 3\n",
      "187\n",
      "PID: 749 | Burst: 1 | start: 191, end: 192 | wait : 0 | turnaround : 3\n",
      "188\n",
      "PID: 346 | Burst: 0 | start: 192, end: 193 | wait : 14 | turnaround : 17\n",
      "188\n",
      "PID: 963 | Burst: 6 | start: 193, end: 194 | wait : 0 | turnaround : 3\n",
      "188\n",
      "PID: 441 | Burst: 7 | start: 194, end: 195 | wait : 10 | turnaround : 13\n",
      "189\n",
      "PID: 228 | Burst: 8 | start: 195, end: 196 | wait : 0 | turnaround : 3\n",
      "190\n",
      "PID: 353 | Burst: 5 | start: 196, end: 197 | wait : 18 | turnaround : 21\n",
      "191\n",
      "PID: 68 | Burst: 8 | start: 197, end: 198 | wait : 20 | turnaround : 23\n",
      "192\n",
      "PID: 53 | Burst: 8 | start: 198, end: 199 | wait : 0 | turnaround : 3\n",
      "193\n",
      "PID: 146 | Burst: 6 | start: 199, end: 200 | wait : 24 | turnaround : 27\n",
      "195\n",
      "PID: 666 | Burst: 1 | start: 200, end: 201 | wait : 30 | turnaround : 33\n",
      "196\n",
      "PID: 134 | Burst: 1 | start: 201, end: 202 | wait : 31 | turnaround : 34\n",
      "198\n",
      "PID: 456 | Burst: 0 | start: 202, end: 203 | wait : 35 | turnaround : 38\n",
      "199\n",
      "PID: 197 | Burst: 1 | start: 203, end: 204 | wait : 12 | turnaround : 15\n",
      "200\n",
      "PID: 906 | Burst: 0 | start: 204, end: 205 | wait : 0 | turnaround : 3\n",
      "200\n",
      "PID: 78 | Burst: 0 | start: 205, end: 206 | wait : 37 | turnaround : 40\n",
      "199\n",
      "PID: 658 | Burst: 8 | start: 206, end: 207 | wait : 33 | turnaround : 36\n",
      "200\n",
      "PID: 698 | Burst: 0 | start: 207, end: 208 | wait : 0 | turnaround : 3\n",
      "200\n",
      "PID: 814 | Burst: 8 | start: 208, end: 209 | wait : 0 | turnaround : 3\n",
      "200\n",
      "PID: 180 | Burst: 6 | start: 209, end: 210 | wait : 7 | turnaround : 10\n",
      "201\n",
      "PID: 673 | Burst: 0 | start: 210, end: 211 | wait : 0 | turnaround : 3\n",
      "201\n",
      "PID: 462 | Burst: 6 | start: 211, end: 212 | wait : 1 | turnaround : 4\n",
      "201\n",
      "PID: 147 | Burst: 3 | start: 212, end: 213 | wait : 43 | turnaround : 46\n",
      "203\n",
      "PID: 687 | Burst: 8 | start: 213, end: 214 | wait : 0 | turnaround : 3\n",
      "205\n",
      "PID: 960 | Burst: 7 | start: 214, end: 215 | wait : 0 | turnaround : 3\n",
      "205\n",
      "PID: 220 | Burst: 7 | start: 215, end: 216 | wait : 51 | turnaround : 54\n",
      "206\n",
      "PID: 150 | Burst: 10 | start: 216, end: 217 | wait : 6 | turnaround : 9\n",
      "208\n",
      "PID: 260 | Burst: 10 | start: 217, end: 218 | wait : 7 | turnaround : 10\n",
      "209\n",
      "PID: 243 | Burst: 0 | start: 218, end: 219 | wait : 0 | turnaround : 3\n",
      "210\n",
      "PID: 977 | Burst: 0 | start: 219, end: 220 | wait : 0 | turnaround : 3\n",
      "210\n",
      "PID: 568 | Burst: 7 | start: 220, end: 221 | wait : 15 | turnaround : 18\n",
      "212\n",
      "PID: 284 | Burst: 0 | start: 221, end: 222 | wait : 15 | turnaround : 18\n",
      "213\n",
      "PID: 893 | Burst: 1 | start: 222, end: 223 | wait : 0 | turnaround : 3\n",
      "214\n",
      "PID: 981 | Burst: 1 | start: 223, end: 224 | wait : 0 | turnaround : 3\n",
      "215\n",
      "PID: 401 | Burst: 0 | start: 224, end: 225 | wait : 32 | turnaround : 35\n",
      "214\n",
      "PID: 660 | Burst: 3 | start: 225, end: 226 | wait : 3 | turnaround : 6\n",
      "215\n",
      "PID: 34 | Burst: 0 | start: 226, end: 227 | wait : 0 | turnaround : 3\n",
      "216\n",
      "PID: 422 | Burst: 3 | start: 227, end: 228 | wait : 3 | turnaround : 6\n",
      "217\n",
      "PID: 936 | Burst: 9 | start: 228, end: 229 | wait : 0 | turnaround : 3\n",
      "217\n",
      "PID: 38 | Burst: 5 | start: 229, end: 230 | wait : 2 | turnaround : 5\n",
      "219\n",
      "PID: 927 | Burst: 6 | start: 230, end: 231 | wait : 4 | turnaround : 7\n",
      "219\n",
      "PID: 91 | Burst: 6 | start: 231, end: 232 | wait : 1 | turnaround : 4\n",
      "220\n",
      "PID: 400 | Burst: 10 | start: 232, end: 233 | wait : 0 | turnaround : 3\n",
      "223\n",
      "PID: 80 | Burst: 6 | start: 233, end: 234 | wait : 0 | turnaround : 3\n",
      "225\n",
      "PID: 537 | Burst: 1 | start: 234, end: 235 | wait : 19 | turnaround : 22\n",
      "227\n",
      "PID: 318 | Burst: 0 | start: 235, end: 236 | wait : 0 | turnaround : 3\n",
      "227\n",
      "PID: 867 | Burst: 9 | start: 236, end: 237 | wait : 0 | turnaround : 3\n",
      "228\n",
      "PID: 443 | Burst: 7 | start: 237, end: 238 | wait : 0 | turnaround : 3\n",
      "229\n",
      "PID: 0 | Burst: 3 | start: 238, end: 239 | wait : 0 | turnaround : 3\n",
      "230\n",
      "PID: 209 | Burst: 6 | start: 239, end: 240 | wait : 0 | turnaround : 3\n",
      "231\n",
      "PID: 899 | Burst: 0 | start: 240, end: 241 | wait : 0 | turnaround : 3\n",
      "231\n",
      "PID: 223 | Burst: 0 | start: 241, end: 242 | wait : 2 | turnaround : 5\n",
      "231\n",
      "PID: 667 | Burst: 1 | start: 242, end: 243 | wait : 0 | turnaround : 3\n",
      "232\n",
      "PID: 292 | Burst: 9 | start: 243, end: 244 | wait : 3 | turnaround : 6\n",
      "232\n",
      "PID: 414 | Burst: 1 | start: 244, end: 245 | wait : 25 | turnaround : 28\n",
      "233\n",
      "PID: 66 | Burst: 1 | start: 245, end: 246 | wait : 177 | turnaround : 180\n",
      "235\n",
      "PID: 782 | Burst: 6 | start: 246, end: 247 | wait : 168 | turnaround : 171\n",
      "237\n",
      "PID: 951 | Burst: 1 | start: 247, end: 248 | wait : 2 | turnaround : 5\n",
      "239\n",
      "PID: 849 | Burst: 10 | start: 248, end: 249 | wait : 166 | turnaround : 169\n",
      "240\n",
      "PID: 668 | Burst: 9 | start: 249, end: 250 | wait : 167 | turnaround : 170\n",
      "241\n",
      "PID: 300 | Burst: 1 | start: 250, end: 251 | wait : 167 | turnaround : 170\n",
      "242\n",
      "PID: 391 | Burst: 2 | start: 251, end: 252 | wait : 132 | turnaround : 135\n",
      "244\n",
      "PID: 565 | Burst: 0 | start: 252, end: 253 | wait : 136 | turnaround : 139\n",
      "244\n",
      "PID: 632 | Burst: 6 | start: 253, end: 254 | wait : 7 | turnaround : 10\n",
      "245\n",
      "PID: 774 | Burst: 1 | start: 254, end: 255 | wait : 0 | turnaround : 3\n",
      "247\n",
      "PID: 536 | Burst: 1 | start: 255, end: 256 | wait : 4 | turnaround : 7\n",
      "249\n",
      "PID: 670 | Burst: 1 | start: 256, end: 257 | wait : 0 | turnaround : 3\n",
      "250\n",
      "PID: 787 | Burst: 1 | start: 257, end: 258 | wait : 0 | turnaround : 3\n",
      "251\n",
      "PID: 760 | Burst: 0 | start: 258, end: 259 | wait : 0 | turnaround : 3\n",
      "251\n",
      "PID: 446 | Burst: 5 | start: 259, end: 260 | wait : 2 | turnaround : 5\n",
      "252\n",
      "PID: 943 | Burst: 6 | start: 260, end: 261 | wait : 0 | turnaround : 3\n",
      "253\n",
      "PID: 680 | Burst: 6 | start: 261, end: 262 | wait : 25 | turnaround : 28\n",
      "253\n",
      "PID: 120 | Burst: 1 | start: 262, end: 263 | wait : 175 | turnaround : 178\n",
      "254\n",
      "PID: 549 | Burst: 1 | start: 263, end: 264 | wait : 0 | turnaround : 3\n",
      "255\n",
      "PID: 700 | Burst: 8 | start: 264, end: 265 | wait : 0 | turnaround : 3\n",
      "258\n",
      "PID: 994 | Burst: 9 | start: 265, end: 266 | wait : 0 | turnaround : 3\n",
      "258\n",
      "PID: 177 | Burst: 3 | start: 266, end: 267 | wait : 1 | turnaround : 4\n",
      "262\n",
      "PID: 826 | Burst: -1 | start: 267, end: 268 | wait : 0 | turnaround : 3\n",
      "262\n",
      "PID: 122 | Burst: 0 | start: 268, end: 269 | wait : 49 | turnaround : 52\n",
      "261\n",
      "PID: 451 | Burst: 9 | start: 269, end: 270 | wait : 6 | turnaround : 9\n",
      "262\n",
      "PID: 730 | Burst: 7 | start: 270, end: 271 | wait : 64 | turnaround : 67\n",
      "264\n",
      "PID: 596 | Burst: 0 | start: 271, end: 272 | wait : 3 | turnaround : 6\n",
      "264\n",
      "PID: 275 | Burst: 8 | start: 272, end: 273 | wait : 1 | turnaround : 4\n",
      "265\n",
      "PID: 43 | Burst: 0 | start: 273, end: 274 | wait : 0 | turnaround : 3\n",
      "264\n",
      "PID: 84 | Burst: 0 | start: 274, end: 275 | wait : 3 | turnaround : 6\n",
      "265\n",
      "PID: 569 | Burst: 1 | start: 275, end: 276 | wait : 2 | turnaround : 5\n",
      "265\n",
      "PID: 125 | Burst: 0 | start: 276, end: 277 | wait : 1 | turnaround : 4\n",
      "265\n",
      "PID: 444 | Burst: 8 | start: 277, end: 278 | wait : 45 | turnaround : 48\n",
      "266\n",
      "PID: 123 | Burst: 10 | start: 278, end: 279 | wait : 21 | turnaround : 24\n",
      "267\n",
      "PID: 736 | Burst: 1 | start: 279, end: 280 | wait : 0 | turnaround : 3\n",
      "267\n",
      "PID: 217 | Burst: 5 | start: 280, end: 281 | wait : 45 | turnaround : 48\n",
      "267\n",
      "PID: 513 | Burst: 2 | start: 281, end: 282 | wait : 35 | turnaround : 38\n",
      "268\n",
      "PID: 250 | Burst: 3 | start: 282, end: 283 | wait : 120 | turnaround : 123\n",
      "271\n",
      "PID: 433 | Burst: 0 | start: 283, end: 284 | wait : 33 | turnaround : 36\n",
      "271\n",
      "PID: 403 | Burst: -1 | start: 284, end: 285 | wait : 1 | turnaround : 4\n",
      "271\n",
      "PID: 729 | Burst: 2 | start: 285, end: 286 | wait : 123 | turnaround : 126\n",
      "273\n",
      "PID: 313 | Burst: 2 | start: 286, end: 287 | wait : 165 | turnaround : 168\n",
      "274\n",
      "PID: 313 | Burst: 1 | start: 287, end: 288 | wait : 165 | turnaround : 169\n",
      "274\n",
      "PID: 84 | Burst: 2 | start: 288, end: 289 | wait : 4 | turnaround : 8\n",
      "274\n",
      "PID: 84 | Burst: 1 | start: 289, end: 290 | wait : 4 | turnaround : 9\n",
      "276\n",
      "PID: 984 | Burst: 0 | start: 290, end: 291 | wait : 2 | turnaround : 6\n",
      "276\n",
      "PID: 163 | Burst: 2 | start: 291, end: 292 | wait : 1 | turnaround : 4\n",
      "278\n",
      "PID: 953 | Burst: 6 | start: 292, end: 293 | wait : 0 | turnaround : 3\n",
      "280\n",
      "PID: 747 | Burst: 10 | start: 293, end: 294 | wait : 0 | turnaround : 3\n",
      "282\n",
      "PID: 833 | Burst: 1 | start: 294, end: 295 | wait : 0 | turnaround : 3\n",
      "283\n",
      "PID: 742 | Burst: 0 | start: 295, end: 296 | wait : 1 | turnaround : 4\n",
      "283\n",
      "PID: 950 | Burst: 5 | start: 296, end: 297 | wait : 0 | turnaround : 3\n",
      "285\n",
      "PID: 923 | Burst: 6 | start: 297, end: 298 | wait : 1 | turnaround : 4\n",
      "287\n",
      "PID: 676 | Burst: 1 | start: 298, end: 299 | wait : 4 | turnaround : 7\n",
      "288\n",
      "PID: 901 | Burst: 9 | start: 299, end: 300 | wait : 0 | turnaround : 3\n",
      "289\n",
      "PID: 434 | Burst: 0 | start: 300, end: 301 | wait : 0 | turnaround : 3\n",
      "289\n",
      "PID: 312 | Burst: 7 | start: 301, end: 302 | wait : 1 | turnaround : 4\n",
      "289\n",
      "PID: 834 | Burst: 3 | start: 302, end: 303 | wait : 5 | turnaround : 8\n",
      "291\n",
      "PID: 364 | Burst: 9 | start: 303, end: 304 | wait : 0 | turnaround : 3\n",
      "291\n",
      "PID: 71 | Burst: 0 | start: 304, end: 305 | wait : 253 | turnaround : 256\n",
      "291\n",
      "PID: 230 | Burst: 0 | start: 305, end: 306 | wait : 0 | turnaround : 4\n",
      "291\n",
      "PID: 533 | Burst: 0 | start: 306, end: 307 | wait : 1 | turnaround : 4\n",
      "292\n",
      "PID: 974 | Burst: 8 | start: 307, end: 308 | wait : 0 | turnaround : 3\n",
      "293\n",
      "PID: 8 | Burst: 6 | start: 308, end: 309 | wait : 1 | turnaround : 4\n",
      "294\n",
      "PID: 543 | Burst: 1 | start: 309, end: 310 | wait : 0 | turnaround : 3\n",
      "296\n",
      "PID: 410 | Burst: 2 | start: 310, end: 311 | wait : 3 | turnaround : 6\n",
      "296\n",
      "PID: 206 | Burst: 8 | start: 311, end: 312 | wait : 2 | turnaround : 5\n",
      "297\n",
      "PID: 206 | Burst: 7 | start: 312, end: 313 | wait : 2 | turnaround : 6\n",
      "298\n",
      "PID: 266 | Burst: 10 | start: 313, end: 314 | wait : 14 | turnaround : 17\n",
      "300\n",
      "PID: 969 | Burst: 2 | start: 314, end: 315 | wait : 0 | turnaround : 3\n",
      "300\n",
      "PID: 969 | Burst: 1 | start: 315, end: 316 | wait : 0 | turnaround : 4\n",
      "301\n",
      "PID: 361 | Burst: 9 | start: 316, end: 317 | wait : 1 | turnaround : 5\n",
      "303\n",
      "PID: 900 | Burst: 0 | start: 317, end: 318 | wait : 0 | turnaround : 3\n",
      "303\n",
      "PID: 99 | Burst: 9 | start: 318, end: 319 | wait : 0 | turnaround : 3\n",
      "305\n",
      "PID: 860 | Burst: 10 | start: 319, end: 320 | wait : 2 | turnaround : 5\n",
      "308\n",
      "PID: 389 | Burst: 5 | start: 320, end: 321 | wait : 0 | turnaround : 3\n",
      "308\n",
      "PID: 350 | Burst: -1 | start: 321, end: 322 | wait : 8 | turnaround : 11\n",
      "307\n",
      "PID: 742 | Burst: 0 | start: 322, end: 323 | wait : 16 | turnaround : 20\n",
      "306\n",
      "PID: 950 | Burst: 4 | start: 323, end: 324 | wait : 26 | turnaround : 30\n",
      "306\n",
      "PID: 923 | Burst: 5 | start: 324, end: 325 | wait : 27 | turnaround : 31\n",
      "306\n",
      "PID: 747 | Burst: 9 | start: 325, end: 326 | wait : 31 | turnaround : 35\n",
      "307\n",
      "PID: 372 | Burst: 0 | start: 326, end: 327 | wait : 17 | turnaround : 20\n",
      "306\n",
      "PID: 433 | Burst: 1 | start: 327, end: 328 | wait : 68 | turnaround : 72\n",
      "307\n",
      "PID: 420 | Burst: 4 | start: 328, end: 329 | wait : 4 | turnaround : 8\n",
      "309\n",
      "PID: 985 | Burst: 1 | start: 329, end: 330 | wait : 0 | turnaround : 3\n",
      "309\n",
      "PID: 985 | Burst: 0 | start: 330, end: 331 | wait : 0 | turnaround : 4\n",
      "308\n",
      "PID: 900 | Burst: 0 | start: 331, end: 332 | wait : 2 | turnaround : 6\n",
      "307\n",
      "PID: 389 | Burst: 4 | start: 332, end: 333 | wait : 11 | turnaround : 15\n",
      "307\n",
      "PID: 533 | Burst: 3 | start: 333, end: 334 | wait : 14 | turnaround : 18\n",
      "307\n",
      "PID: 860 | Burst: 9 | start: 334, end: 335 | wait : 16 | turnaround : 20\n",
      "308\n",
      "PID: 71 | Burst: 1 | start: 335, end: 336 | wait : 271 | turnaround : 275\n",
      "310\n",
      "PID: 372 | Burst: 3 | start: 336, end: 337 | wait : 17 | turnaround : 21\n",
      "311\n",
      "PID: 496 | Burst: 9 | start: 337, end: 338 | wait : 1 | turnaround : 5\n",
      "312\n",
      "PID: 552 | Burst: 6 | start: 338, end: 339 | wait : 12 | turnaround : 16\n",
      "312\n",
      "PID: 552 | Burst: 5 | start: 339, end: 340 | wait : 12 | turnaround : 17\n",
      "313\n",
      "PID: 617 | Burst: 0 | start: 340, end: 341 | wait : 4 | turnaround : 9\n",
      "314\n",
      "PID: 145 | Burst: 0 | start: 341, end: 342 | wait : 0 | turnaround : 4\n",
      "313\n",
      "PID: 923 | Burst: 4 | start: 342, end: 343 | wait : 44 | turnaround : 49\n",
      "316\n",
      "PID: 190 | Burst: 7 | start: 343, end: 344 | wait : 0 | turnaround : 4\n",
      "317\n",
      "PID: 309 | Burst: 0 | start: 344, end: 345 | wait : 2 | turnaround : 5\n",
      "318\n",
      "PID: 467 | Burst: 0 | start: 345, end: 346 | wait : 0 | turnaround : 3\n",
      "319\n",
      "PID: 424 | Burst: 8 | start: 346, end: 347 | wait : 1 | turnaround : 4\n",
      "320\n",
      "PID: 603 | Burst: 2 | start: 347, end: 348 | wait : 0 | turnaround : 3\n",
      "321\n",
      "PID: 663 | Burst: 1 | start: 348, end: 349 | wait : 0 | turnaround : 3\n",
      "322\n",
      "PID: 934 | Burst: 1 | start: 349, end: 350 | wait : 0 | turnaround : 3\n",
      "324\n",
      "PID: 934 | Burst: 0 | start: 350, end: 351 | wait : 0 | turnaround : 4\n",
      "324\n",
      "PID: 643 | Burst: 7 | start: 351, end: 352 | wait : 2 | turnaround : 6\n",
      "326\n",
      "PID: 244 | Burst: 0 | start: 352, end: 353 | wait : 1 | turnaround : 5\n",
      "326\n",
      "PID: 298 | Burst: 8 | start: 353, end: 354 | wait : 2 | turnaround : 6\n",
      "326\n",
      "PID: 915 | Burst: 1 | start: 354, end: 355 | wait : 18 | turnaround : 22\n",
      "328\n",
      "PID: 413 | Burst: 0 | start: 355, end: 356 | wait : 0 | turnaround : 3\n",
      "328\n",
      "PID: 862 | Burst: 1 | start: 356, end: 357 | wait : 0 | turnaround : 3\n",
      "329\n",
      "PID: 210 | Burst: 6 | start: 357, end: 358 | wait : 3 | turnaround : 6\n",
      "329\n",
      "PID: 210 | Burst: 5 | start: 358, end: 359 | wait : 3 | turnaround : 7\n",
      "330\n",
      "PID: 467 | Burst: 1 | start: 359, end: 360 | wait : 0 | turnaround : 4\n",
      "331\n",
      "PID: 476 | Burst: 9 | start: 360, end: 361 | wait : 1 | turnaround : 5\n",
      "331\n",
      "PID: 862 | Burst: 0 | start: 361, end: 362 | wait : 4 | turnaround : 8\n",
      "332\n",
      "PID: 517 | Burst: 4 | start: 362, end: 363 | wait : 0 | turnaround : 4\n",
      "333\n",
      "PID: 176 | Burst: 0 | start: 363, end: 364 | wait : 2 | turnaround : 6\n",
      "333\n",
      "PID: 411 | Burst: 5 | start: 364, end: 365 | wait : 0 | turnaround : 3\n",
      "335\n",
      "PID: 903 | Burst: 6 | start: 365, end: 366 | wait : 0 | turnaround : 3\n",
      "335\n",
      "PID: 903 | Burst: 5 | start: 366, end: 367 | wait : 0 | turnaround : 4\n",
      "336\n",
      "PID: 439 | Burst: 5 | start: 367, end: 368 | wait : 0 | turnaround : 4\n",
      "339\n",
      "PID: 335 | Burst: 7 | start: 368, end: 369 | wait : 0 | turnaround : 3\n",
      "340\n",
      "PID: 290 | Burst: 1 | start: 369, end: 370 | wait : 0 | turnaround : 3\n",
      "342\n",
      "PID: 515 | Burst: 9 | start: 370, end: 371 | wait : 0 | turnaround : 3\n",
      "344\n",
      "PID: 532 | Burst: 8 | start: 371, end: 372 | wait : 0 | turnaround : 3\n",
      "344\n",
      "PID: 532 | Burst: 7 | start: 372, end: 373 | wait : 0 | turnaround : 4\n",
      "345\n",
      "PID: 574 | Burst: 8 | start: 373, end: 374 | wait : 167 | turnaround : 171\n",
      "346\n",
      "PID: 515 | Burst: 8 | start: 374, end: 375 | wait : 3 | turnaround : 7\n",
      "348\n",
      "PID: 85 | Burst: 1 | start: 375, end: 376 | wait : 0 | turnaround : 3\n",
      "349\n",
      "PID: 85 | Burst: 0 | start: 376, end: 377 | wait : 0 | turnaround : 4\n",
      "349\n",
      "PID: 856 | Burst: 8 | start: 377, end: 378 | wait : 0 | turnaround : 3\n",
      "349\n",
      "PID: 856 | Burst: 7 | start: 378, end: 379 | wait : 0 | turnaround : 4\n",
      "350\n",
      "PID: 844 | Burst: 8 | start: 379, end: 380 | wait : 0 | turnaround : 4\n",
      "350\n",
      "PID: 615 | Burst: 2 | start: 380, end: 381 | wait : 4 | turnaround : 8\n",
      "350\n",
      "PID: 397 | Burst: -1 | start: 381, end: 382 | wait : 38 | turnaround : 42\n",
      "349\n",
      "PID: 50 | Burst: 8 | start: 382, end: 383 | wait : 7 | turnaround : 11\n",
      "351\n",
      "PID: 685 | Burst: 1 | start: 383, end: 384 | wait : 0 | turnaround : 3\n",
      "352\n",
      "PID: 504 | Burst: 5 | start: 384, end: 385 | wait : 0 | turnaround : 3\n",
      "352\n",
      "PID: 504 | Burst: 4 | start: 385, end: 386 | wait : 0 | turnaround : 4\n",
      "353\n",
      "PID: 459 | Burst: 1 | start: 386, end: 387 | wait : 2 | turnaround : 6\n",
      "354\n",
      "PID: 478 | Burst: 5 | start: 387, end: 388 | wait : 1 | turnaround : 5\n",
      "355\n",
      "PID: 685 | Burst: 0 | start: 388, end: 389 | wait : 4 | turnaround : 8\n",
      "354\n",
      "PID: 477 | Burst: 6 | start: 389, end: 390 | wait : 9 | turnaround : 13\n",
      "355\n",
      "PID: 472 | Burst: 10 | start: 390, end: 391 | wait : 0 | turnaround : 3\n",
      "356\n",
      "PID: 472 | Burst: 9 | start: 391, end: 392 | wait : 0 | turnaround : 4\n",
      "357\n",
      "PID: 174 | Burst: 0 | start: 392, end: 393 | wait : 0 | turnaround : 3\n",
      "357\n",
      "PID: 257 | Burst: 0 | start: 393, end: 394 | wait : 3 | turnaround : 6\n",
      "358\n",
      "PID: 502 | Burst: 1 | start: 394, end: 395 | wait : 0 | turnaround : 3\n",
      "358\n",
      "PID: 502 | Burst: 0 | start: 395, end: 396 | wait : 0 | turnaround : 4\n",
      "359\n",
      "PID: 829 | Burst: 7 | start: 396, end: 397 | wait : 0 | turnaround : 3\n",
      "359\n",
      "PID: 829 | Burst: 6 | start: 397, end: 398 | wait : 0 | turnaround : 4\n",
      "359\n",
      "PID: 672 | Burst: 2 | start: 398, end: 399 | wait : 2 | turnaround : 6\n",
      "361\n",
      "PID: 779 | Burst: 3 | start: 399, end: 400 | wait : 3 | turnaround : 6\n",
      "363\n",
      "PID: 600 | Burst: 3 | start: 400, end: 401 | wait : 0 | turnaround : 3\n",
      "364\n",
      "PID: 295 | Burst: 6 | start: 401, end: 402 | wait : 0 | turnaround : 3\n",
      "366\n",
      "PID: 798 | Burst: 9 | start: 402, end: 403 | wait : 0 | turnaround : 3\n",
      "367\n",
      "PID: 780 | Burst: 0 | start: 403, end: 404 | wait : 0 | turnaround : 3\n",
      "367\n",
      "PID: 577 | Burst: 8 | start: 404, end: 405 | wait : 0 | turnaround : 4\n",
      "369\n",
      "PID: 398 | Burst: 5 | start: 405, end: 406 | wait : 0 | turnaround : 3\n",
      "371\n",
      "PID: 523 | Burst: 1 | start: 406, end: 407 | wait : 1 | turnaround : 4\n",
      "372\n",
      "PID: 483 | Burst: 7 | start: 407, end: 408 | wait : 0 | turnaround : 3\n",
      "373\n",
      "PID: 382 | Burst: 7 | start: 408, end: 409 | wait : 2 | turnaround : 5\n",
      "374\n",
      "PID: 382 | Burst: 6 | start: 409, end: 410 | wait : 2 | turnaround : 6\n",
      "374\n",
      "PID: 572 | Burst: 5 | start: 410, end: 411 | wait : 1 | turnaround : 5\n",
      "375\n",
      "PID: 303 | Burst: 1 | start: 411, end: 412 | wait : 0 | turnaround : 3\n",
      "376\n",
      "PID: 995 | Burst: 2 | start: 412, end: 413 | wait : 0 | turnaround : 3\n",
      "376\n",
      "PID: 995 | Burst: 1 | start: 413, end: 414 | wait : 0 | turnaround : 4\n",
      "376\n",
      "PID: 303 | Burst: 0 | start: 414, end: 415 | wait : 2 | turnaround : 6\n",
      "376\n",
      "PID: 128 | Burst: 0 | start: 415, end: 416 | wait : 20 | turnaround : 23\n",
      "377\n",
      "PID: 342 | Burst: 5 | start: 416, end: 417 | wait : 0 | turnaround : 3\n",
      "378\n",
      "PID: 358 | Burst: 8 | start: 417, end: 418 | wait : 0 | turnaround : 3\n",
      "378\n",
      "PID: 358 | Burst: 7 | start: 418, end: 419 | wait : 0 | turnaround : 4\n",
      "379\n",
      "PID: 301 | Burst: 0 | start: 419, end: 420 | wait : 0 | turnaround : 3\n",
      "379\n",
      "PID: 205 | Burst: 6 | start: 420, end: 421 | wait : 4 | turnaround : 7\n",
      "380\n",
      "PID: 452 | Burst: 1 | start: 421, end: 422 | wait : 9 | turnaround : 12\n",
      "382\n",
      "PID: 763 | Burst: 1 | start: 422, end: 423 | wait : 0 | turnaround : 3\n",
      "385\n",
      "PID: 564 | Burst: 3 | start: 423, end: 424 | wait : 0 | turnaround : 3\n",
      "386\n",
      "PID: 686 | Burst: 5 | start: 424, end: 425 | wait : 0 | turnaround : 3\n",
      "387\n",
      "PID: 922 | Burst: 6 | start: 425, end: 426 | wait : 0 | turnaround : 3\n",
      "388\n",
      "PID: 944 | Burst: 9 | start: 426, end: 427 | wait : 0 | turnaround : 3\n",
      "390\n",
      "PID: 797 | Burst: 1 | start: 427, end: 428 | wait : 0 | turnaround : 3\n",
      "392\n",
      "PID: 820 | Burst: 6 | start: 428, end: 429 | wait : 0 | turnaround : 3\n",
      "394\n",
      "PID: 491 | Burst: 8 | start: 429, end: 430 | wait : 1 | turnaround : 4\n",
      "395\n",
      "PID: 830 | Burst: 1 | start: 430, end: 431 | wait : 4 | turnaround : 7\n",
      "397\n",
      "PID: 539 | Burst: 6 | start: 431, end: 432 | wait : 0 | turnaround : 3\n",
      "399\n",
      "PID: 987 | Burst: 1 | start: 432, end: 433 | wait : 25 | turnaround : 28\n",
      "400\n",
      "PID: 595 | Burst: 7 | start: 433, end: 434 | wait : 0 | turnaround : 3\n",
      "400\n",
      "PID: 20 | Burst: 2 | start: 434, end: 435 | wait : 4 | turnaround : 7\n",
      "401\n",
      "PID: 470 | Burst: 2 | start: 435, end: 436 | wait : 13 | turnaround : 16\n",
      "402\n",
      "PID: 215 | Burst: 8 | start: 436, end: 437 | wait : 0 | turnaround : 3\n",
      "404\n",
      "PID: 375 | Burst: 2 | start: 437, end: 438 | wait : 0 | turnaround : 2\n",
      "405\n",
      "PID: 956 | Burst: 9 | start: 438, end: 439 | wait : 0 | turnaround : 2\n",
      "407\n",
      "PID: 796 | Burst: 8 | start: 439, end: 440 | wait : 0 | turnaround : 2\n",
      "409\n",
      "PID: 898 | Burst: 2 | start: 440, end: 441 | wait : 0 | turnaround : 2\n",
      "410\n",
      "PID: 910 | Burst: 9 | start: 441, end: 442 | wait : 0 | turnaround : 2\n",
      "411\n",
      "PID: 124 | Burst: 1 | start: 442, end: 443 | wait : 2 | turnaround : 4\n",
      "412\n",
      "PID: 124 | Burst: 0 | start: 443, end: 444 | wait : 2 | turnaround : 5\n",
      "413\n",
      "PID: 649 | Burst: 2 | start: 444, end: 445 | wait : 3 | turnaround : 5\n",
      "416\n",
      "PID: 947 | Burst: 10 | start: 445, end: 446 | wait : 0 | turnaround : 2\n",
      "416\n",
      "PID: 17 | Burst: 10 | start: 446, end: 447 | wait : 1 | turnaround : 3\n",
      "418\n",
      "PID: 112 | Burst: 11 | start: 447, end: 448 | wait : 0 | turnaround : 2\n",
      "419\n",
      "PID: 305 | Burst: 0 | start: 448, end: 449 | wait : 0 | turnaround : 2\n",
      "418\n",
      "PID: 71 | Burst: 0 | start: 449, end: 450 | wait : 384 | turnaround : 389\n",
      "418\n",
      "PID: 72 | Burst: 7 | start: 450, end: 451 | wait : 0 | turnaround : 3\n",
      "419\n",
      "PID: 402 | Burst: 1 | start: 451, end: 452 | wait : 1 | turnaround : 4\n",
      "419\n",
      "PID: 402 | Burst: 0 | start: 452, end: 453 | wait : 1 | turnaround : 5\n",
      "420\n",
      "PID: 952 | Burst: 7 | start: 453, end: 454 | wait : 0 | turnaround : 3\n",
      "421\n",
      "PID: 246 | Burst: 0 | start: 454, end: 455 | wait : 0 | turnaround : 3\n",
      "421\n",
      "PID: 822 | Burst: 0 | start: 455, end: 456 | wait : 0 | turnaround : 3\n",
      "421\n",
      "PID: 323 | Burst: 7 | start: 456, end: 457 | wait : 0 | turnaround : 3\n",
      "422\n",
      "PID: 317 | Burst: 5 | start: 457, end: 458 | wait : 4 | turnaround : 7\n",
      "423\n",
      "PID: 818 | Burst: 1 | start: 458, end: 459 | wait : 0 | turnaround : 3\n",
      "423\n",
      "PID: 818 | Burst: 0 | start: 459, end: 460 | wait : 0 | turnaround : 4\n",
      "423\n",
      "PID: 858 | Burst: 0 | start: 460, end: 461 | wait : 0 | turnaround : 3\n",
      "423\n",
      "PID: 633 | Burst: 10 | start: 461, end: 462 | wait : 0 | turnaround : 3\n",
      "424\n",
      "PID: 305 | Burst: 0 | start: 462, end: 463 | wait : 0 | turnaround : 3\n",
      "425\n",
      "PID: 525 | Burst: 9 | start: 463, end: 464 | wait : 2 | turnaround : 5\n",
      "428\n",
      "PID: 157 | Burst: 10 | start: 464, end: 465 | wait : 0 | turnaround : 3\n",
      "430\n",
      "PID: 640 | Burst: 6 | start: 465, end: 466 | wait : 15 | turnaround : 18\n",
      "431\n",
      "PID: 626 | Burst: 2 | start: 466, end: 467 | wait : 17 | turnaround : 20\n",
      "433\n",
      "PID: 183 | Burst: 0 | start: 467, end: 468 | wait : 18 | turnaround : 21\n",
      "434\n",
      "PID: 278 | Burst: 9 | start: 468, end: 469 | wait : 0 | turnaround : 3\n",
      "434\n",
      "PID: 278 | Burst: 8 | start: 469, end: 470 | wait : 0 | turnaround : 4\n",
      "437\n",
      "PID: 815 | Burst: 6 | start: 470, end: 471 | wait : 0 | turnaround : 3\n",
      "438\n",
      "PID: 428 | Burst: 1 | start: 471, end: 472 | wait : 0 | turnaround : 3\n",
      "440\n",
      "PID: 645 | Burst: 0 | start: 472, end: 473 | wait : 2 | turnaround : 5\n",
      "440\n",
      "PID: 106 | Burst: 8 | start: 473, end: 474 | wait : 0 | turnaround : 3\n",
      "442\n",
      "PID: 263 | Burst: 2 | start: 474, end: 475 | wait : 0 | turnaround : 3\n",
      "443\n",
      "PID: 307 | Burst: 5 | start: 475, end: 476 | wait : 6 | turnaround : 9\n",
      "444\n",
      "PID: 588 | Burst: 0 | start: 476, end: 477 | wait : 0 | turnaround : 3\n",
      "444\n",
      "PID: 213 | Burst: 8 | start: 477, end: 478 | wait : 3 | turnaround : 6\n",
      "446\n",
      "PID: 823 | Burst: 1 | start: 478, end: 479 | wait : 6 | turnaround : 9\n",
      "447\n",
      "PID: 609 | Burst: 0 | start: 479, end: 480 | wait : 0 | turnaround : 3\n",
      "447\n",
      "PID: 130 | Burst: 1 | start: 480, end: 481 | wait : 3 | turnaround : 6\n",
      "449\n",
      "PID: 975 | Burst: 1 | start: 481, end: 482 | wait : 0 | turnaround : 3\n",
      "450\n",
      "PID: 561 | Burst: 1 | start: 482, end: 483 | wait : 6 | turnaround : 9\n",
      "450\n",
      "PID: 330 | Burst: 10 | start: 483, end: 484 | wait : 2 | turnaround : 5\n",
      "450\n",
      "PID: 488 | Burst: 3 | start: 484, end: 485 | wait : 23 | turnaround : 26\n",
      "451\n",
      "PID: 7 | Burst: 2 | start: 485, end: 486 | wait : 8 | turnaround : 11\n",
      "454\n",
      "PID: 119 | Burst: 0 | start: 486, end: 487 | wait : 0 | turnaround : 3\n",
      "457\n",
      "PID: 828 | Burst: 7 | start: 487, end: 488 | wait : 0 | turnaround : 2\n",
      "457\n",
      "PID: 776 | Burst: 9 | start: 488, end: 489 | wait : 1 | turnaround : 3\n",
      "459\n",
      "PID: 629 | Burst: 0 | start: 489, end: 490 | wait : 2 | turnaround : 4\n",
      "459\n",
      "PID: 1 | Burst: 0 | start: 490, end: 491 | wait : 0 | turnaround : 3\n",
      "459\n",
      "PID: 457 | Burst: 10 | start: 491, end: 492 | wait : 2 | turnaround : 5\n",
      "460\n",
      "PID: 245 | Burst: 5 | start: 492, end: 493 | wait : 0 | turnaround : 3\n",
      "461\n",
      "PID: 831 | Burst: 0 | start: 493, end: 494 | wait : 4 | turnaround : 7\n",
      "463\n",
      "PID: 788 | Burst: 11 | start: 494, end: 495 | wait : 7 | turnaround : 9\n",
      "463\n",
      "PID: 203 | Burst: 3 | start: 495, end: 496 | wait : 25 | turnaround : 27\n",
      "468\n",
      "PID: 332 | Burst: 10 | start: 496, end: 497 | wait : 0 | turnaround : 2\n",
      "470\n",
      "PID: 967 | Burst: 7 | start: 497, end: 498 | wait : 0 | turnaround : 2\n",
      "473\n",
      "PID: 704 | Burst: 6 | start: 498, end: 499 | wait : 0 | turnaround : 2\n",
      "474\n",
      "PID: 347 | Burst: 9 | start: 499, end: 500 | wait : 1 | turnaround : 3\n",
      "475\n",
      "PID: 521 | Burst: 1 | start: 500, end: 501 | wait : 2 | turnaround : 4\n",
      "476\n",
      "PID: 964 | Burst: 0 | start: 501, end: 502 | wait : 4 | turnaround : 6\n",
      "476\n",
      "PID: 236 | Burst: 1 | start: 502, end: 503 | wait : 4 | turnaround : 6\n",
      "478\n",
      "PID: 236 | Burst: 0 | start: 503, end: 504 | wait : 4 | turnaround : 7\n",
      "478\n",
      "PID: 11 | Burst: 7 | start: 504, end: 505 | wait : 2 | turnaround : 5\n",
      "480\n",
      "PID: 379 | Burst: 1 | start: 505, end: 506 | wait : 0 | turnaround : 3\n",
      "481\n",
      "PID: 866 | Burst: 5 | start: 506, end: 507 | wait : 3 | turnaround : 6\n",
      "482\n",
      "PID: 363 | Burst: 0 | start: 507, end: 508 | wait : 0 | turnaround : 2\n",
      "482\n",
      "PID: 381 | Burst: 1 | start: 508, end: 509 | wait : 22 | turnaround : 24\n",
      "483\n",
      "PID: 381 | Burst: 0 | start: 509, end: 510 | wait : 22 | turnaround : 25\n",
      "483\n",
      "PID: 702 | Burst: 10 | start: 510, end: 511 | wait : 0 | turnaround : 3\n",
      "485\n",
      "PID: 962 | Burst: 3 | start: 511, end: 512 | wait : 0 | turnaround : 3\n",
      "486\n",
      "PID: 432 | Burst: 10 | start: 512, end: 513 | wait : 0 | turnaround : 3\n",
      "487\n",
      "PID: 712 | Burst: 1 | start: 513, end: 514 | wait : 2 | turnaround : 5\n",
      "488\n",
      "PID: 283 | Burst: 8 | start: 514, end: 515 | wait : 0 | turnaround : 3\n",
      "490\n",
      "PID: 964 | Burst: 3 | start: 515, end: 516 | wait : 4 | turnaround : 7\n",
      "492\n",
      "PID: 152 | Burst: 5 | start: 516, end: 517 | wait : 0 | turnaround : 3\n",
      "493\n",
      "PID: 921 | Burst: 7 | start: 517, end: 518 | wait : 0 | turnaround : 3\n",
      "495\n",
      "PID: 363 | Burst: 2 | start: 518, end: 519 | wait : 0 | turnaround : 3\n",
      "496\n",
      "PID: 184 | Burst: 2 | start: 519, end: 520 | wait : 4 | turnaround : 7\n",
      "498\n",
      "PID: 843 | Burst: 1 | start: 520, end: 521 | wait : 9 | turnaround : 12\n",
      "500\n",
      "PID: 976 | Burst: 6 | start: 521, end: 522 | wait : 0 | turnaround : 2\n",
      "502\n",
      "PID: 534 | Burst: 11 | start: 522, end: 523 | wait : 0 | turnaround : 2\n",
      "504\n",
      "PID: 896 | Burst: 0 | start: 523, end: 524 | wait : 0 | turnaround : 2\n",
      "503\n",
      "PID: 487 | Burst: 11 | start: 524, end: 525 | wait : 1 | turnaround : 3\n",
      "503\n",
      "PID: 487 | Burst: 10 | start: 525, end: 526 | wait : 1 | turnaround : 4\n",
      "504\n",
      "PID: 881 | Burst: 7 | start: 526, end: 527 | wait : 0 | turnaround : 3\n",
      "506\n",
      "PID: 870 | Burst: 5 | start: 527, end: 528 | wait : 0 | turnaround : 3\n",
      "507\n",
      "PID: 739 | Burst: 1 | start: 528, end: 529 | wait : 2 | turnaround : 5\n",
      "507\n",
      "PID: 739 | Burst: 0 | start: 529, end: 530 | wait : 2 | turnaround : 6\n",
      "507\n",
      "PID: 71 | Burst: 0 | start: 530, end: 531 | wait : 451 | turnaround : 457\n",
      "506\n",
      "PID: 131 | Burst: 6 | start: 531, end: 532 | wait : 7 | turnaround : 11\n",
      "508\n",
      "PID: 896 | Burst: 0 | start: 532, end: 533 | wait : 0 | turnaround : 3\n",
      "508\n",
      "PID: 550 | Burst: 10 | start: 533, end: 534 | wait : 2 | turnaround : 5\n",
      "508\n",
      "PID: 83 | Burst: -1 | start: 534, end: 535 | wait : 27 | turnaround : 30\n",
      "508\n",
      "PID: 591 | Burst: 1 | start: 535, end: 536 | wait : 4 | turnaround : 7\n",
      "509\n",
      "PID: 494 | Burst: 8 | start: 536, end: 537 | wait : 8 | turnaround : 11\n",
      "510\n",
      "PID: 535 | Burst: 5 | start: 537, end: 538 | wait : 0 | turnaround : 3\n",
      "511\n",
      "PID: 551 | Burst: 1 | start: 538, end: 539 | wait : 0 | turnaround : 3\n",
      "512\n",
      "PID: 489 | Burst: 1 | start: 539, end: 540 | wait : 0 | turnaround : 3\n",
      "513\n",
      "PID: 269 | Burst: 9 | start: 540, end: 541 | wait : 11 | turnaround : 14\n",
      "517\n",
      "PID: 713 | Burst: 2 | start: 541, end: 542 | wait : 1 | turnaround : 3\n",
      "518\n",
      "PID: 336 | Burst: 6 | start: 542, end: 543 | wait : 1 | turnaround : 3\n",
      "518\n",
      "PID: 336 | Burst: 5 | start: 543, end: 544 | wait : 1 | turnaround : 4\n",
      "518\n",
      "PID: 713 | Burst: 1 | start: 544, end: 545 | wait : 3 | turnaround : 6\n",
      "520\n",
      "PID: 42 | Burst: 6 | start: 545, end: 546 | wait : 0 | turnaround : 2\n",
      "520\n",
      "PID: 329 | Burst: 6 | start: 546, end: 547 | wait : 24 | turnaround : 26\n",
      "521\n",
      "PID: 329 | Burst: 5 | start: 547, end: 548 | wait : 24 | turnaround : 27\n",
      "522\n",
      "PID: 107 | Burst: 9 | start: 548, end: 549 | wait : 0 | turnaround : 2\n",
      "525\n",
      "PID: 932 | Burst: 0 | start: 549, end: 550 | wait : 0 | turnaround : 2\n",
      "525\n",
      "PID: 484 | Burst: 7 | start: 550, end: 551 | wait : 0 | turnaround : 2\n",
      "526\n",
      "PID: 31 | Burst: 1 | start: 551, end: 552 | wait : 1 | turnaround : 3\n",
      "527\n",
      "PID: 473 | Burst: 2 | start: 552, end: 553 | wait : 3 | turnaround : 5\n",
      "529\n",
      "PID: 473 | Burst: 1 | start: 553, end: 554 | wait : 3 | turnaround : 6\n",
      "530\n",
      "PID: 590 | Burst: 9 | start: 554, end: 555 | wait : 1 | turnaround : 4\n",
      "533\n",
      "PID: 159 | Burst: 2 | start: 555, end: 556 | wait : 0 | turnaround : 2\n",
      "533\n",
      "PID: 354 | Burst: 2 | start: 556, end: 557 | wait : 7 | turnaround : 9\n",
      "535\n",
      "PID: 727 | Burst: 10 | start: 557, end: 558 | wait : 0 | turnaround : 2\n",
      "536\n",
      "PID: 605 | Burst: 9 | start: 558, end: 559 | wait : 0 | turnaround : 2\n",
      "537\n",
      "PID: 605 | Burst: 8 | start: 559, end: 560 | wait : 0 | turnaround : 3\n",
      "538\n",
      "PID: 775 | Burst: 1 | start: 560, end: 561 | wait : 2 | turnaround : 5\n",
      "538\n",
      "PID: 354 | Burst: 1 | start: 561, end: 562 | wait : 11 | turnaround : 14\n",
      "538\n",
      "PID: 727 | Burst: 9 | start: 562, end: 563 | wait : 4 | turnaround : 7\n",
      "541\n",
      "PID: 932 | Burst: 1 | start: 563, end: 564 | wait : 0 | turnaround : 3\n",
      "541\n",
      "PID: 972 | Burst: 7 | start: 564, end: 565 | wait : 1 | turnaround : 4\n",
      "542\n",
      "PID: 777 | Burst: 6 | start: 565, end: 566 | wait : 5 | turnaround : 8\n",
      "544\n",
      "PID: 369 | Burst: 1 | start: 566, end: 567 | wait : 0 | turnaround : 2\n",
      "545\n",
      "PID: 369 | Burst: 0 | start: 567, end: 568 | wait : 0 | turnaround : 3\n",
      "545\n",
      "PID: 193 | Burst: 7 | start: 568, end: 569 | wait : 0 | turnaround : 3\n",
      "546\n",
      "PID: 524 | Burst: 1 | start: 569, end: 570 | wait : 2 | turnaround : 5\n",
      "547\n",
      "PID: 601 | Burst: 8 | start: 570, end: 571 | wait : 4 | turnaround : 7\n",
      "548\n",
      "PID: 840 | Burst: 0 | start: 571, end: 572 | wait : 0 | turnaround : 3\n",
      "548\n",
      "PID: 274 | Burst: 3 | start: 572, end: 573 | wait : 0 | turnaround : 3\n",
      "550\n",
      "PID: 67 | Burst: 11 | start: 573, end: 574 | wait : 2 | turnaround : 4\n",
      "552\n",
      "PID: 67 | Burst: 10 | start: 574, end: 575 | wait : 2 | turnaround : 5\n",
      "553\n",
      "PID: 103 | Burst: 7 | start: 575, end: 576 | wait : 9 | turnaround : 12\n",
      "555\n",
      "PID: 464 | Burst: 9 | start: 576, end: 577 | wait : 10 | turnaround : 13\n",
      "557\n",
      "PID: 297 | Burst: 6 | start: 577, end: 578 | wait : 14 | turnaround : 17\n",
      "557\n",
      "PID: 22 | Burst: 2 | start: 578, end: 579 | wait : 1 | turnaround : 4\n",
      "557\n",
      "PID: 97 | Burst: 2 | start: 579, end: 580 | wait : 5 | turnaround : 8\n",
      "558\n",
      "PID: 970 | Burst: 3 | start: 580, end: 581 | wait : 6 | turnaround : 9\n",
      "560\n",
      "PID: 623 | Burst: 8 | start: 581, end: 582 | wait : 0 | turnaround : 3\n",
      "562\n",
      "PID: 507 | Burst: 7 | start: 582, end: 583 | wait : 2 | turnaround : 5\n",
      "564\n",
      "PID: 846 | Burst: 1 | start: 583, end: 584 | wait : 0 | turnaround : 3\n",
      "564\n",
      "PID: 581 | Burst: 10 | start: 584, end: 585 | wait : 5 | turnaround : 8\n",
      "564\n",
      "PID: 240 | Burst: 10 | start: 585, end: 586 | wait : 6 | turnaround : 9\n",
      "565\n",
      "PID: 368 | Burst: 6 | start: 586, end: 587 | wait : 1 | turnaround : 4\n",
      "567\n",
      "PID: 852 | Burst: 1 | start: 587, end: 588 | wait : 1 | turnaround : 4\n",
      "567\n",
      "PID: 689 | Burst: 1 | start: 588, end: 589 | wait : 1 | turnaround : 4\n",
      "569\n",
      "PID: 793 | Burst: 9 | start: 589, end: 590 | wait : 0 | turnaround : 3\n",
      "570\n",
      "PID: 904 | Burst: 9 | start: 590, end: 591 | wait : 5 | turnaround : 8\n",
      "571\n",
      "PID: 813 | Burst: 8 | start: 591, end: 592 | wait : 0 | turnaround : 3\n",
      "571\n",
      "PID: 482 | Burst: 10 | start: 592, end: 593 | wait : 8 | turnaround : 11\n",
      "571\n",
      "PID: 291 | Burst: 10 | start: 593, end: 594 | wait : 14 | turnaround : 17\n",
      "572\n",
      "PID: 98 | Burst: 0 | start: 594, end: 595 | wait : 15 | turnaround : 18\n",
      "572\n",
      "PID: 144 | Burst: 7 | start: 595, end: 596 | wait : 0 | turnaround : 3\n",
      "573\n",
      "PID: 418 | Burst: 9 | start: 596, end: 597 | wait : 0 | turnaround : 3\n",
      "574\n",
      "PID: 12 | Burst: 6 | start: 597, end: 598 | wait : 0 | turnaround : 3\n",
      "575\n",
      "PID: 872 | Burst: 8 | start: 598, end: 599 | wait : 0 | turnaround : 3\n",
      "576\n",
      "PID: 333 | Burst: 10 | start: 599, end: 600 | wait : 0 | turnaround : 3\n",
      "578\n",
      "PID: 744 | Burst: 1 | start: 600, end: 601 | wait : 3 | turnaround : 6\n",
      "579\n",
      "PID: 916 | Burst: 1 | start: 601, end: 602 | wait : 0 | turnaround : 3\n",
      "580\n",
      "PID: 495 | Burst: 9 | start: 602, end: 603 | wait : 0 | turnaround : 3\n",
      "581\n",
      "PID: 486 | Burst: 7 | start: 603, end: 604 | wait : 0 | turnaround : 3\n",
      "583\n",
      "PID: 151 | Burst: 9 | start: 604, end: 605 | wait : 0 | turnaround : 3\n",
      "584\n",
      "PID: 888 | Burst: 6 | start: 605, end: 606 | wait : 11 | turnaround : 14\n",
      "585\n",
      "PID: 412 | Burst: 0 | start: 606, end: 607 | wait : 0 | turnaround : 3\n",
      "585\n",
      "PID: 13 | Burst: 9 | start: 607, end: 608 | wait : 0 | turnaround : 3\n",
      "586\n",
      "PID: 988 | Burst: 1 | start: 608, end: 609 | wait : 0 | turnaround : 3\n",
      "587\n",
      "PID: 373 | Burst: 7 | start: 609, end: 610 | wait : 3 | turnaround : 6\n",
      "588\n",
      "PID: 865 | Burst: 0 | start: 610, end: 611 | wait : 0 | turnaround : 3\n",
      "587\n",
      "PID: 541 | Burst: 0 | start: 611, end: 612 | wait : 13 | turnaround : 16\n",
      "587\n",
      "PID: 14 | Burst: 10 | start: 612, end: 613 | wait : 9 | turnaround : 12\n",
      "588\n",
      "PID: 723 | Burst: 6 | start: 613, end: 614 | wait : 19 | turnaround : 22\n",
      "589\n",
      "PID: 24 | Burst: 8 | start: 614, end: 615 | wait : 0 | turnaround : 3\n",
      "590\n",
      "PID: 778 | Burst: 1 | start: 615, end: 616 | wait : 0 | turnaround : 3\n",
      "591\n",
      "PID: 273 | Burst: 0 | start: 616, end: 617 | wait : 1 | turnaround : 4\n",
      "591\n",
      "PID: 562 | Burst: 0 | start: 617, end: 618 | wait : 0 | turnaround : 3\n",
      "592\n",
      "PID: 531 | Burst: 7 | start: 618, end: 619 | wait : 0 | turnaround : 3\n",
      "594\n",
      "PID: 508 | Burst: 7 | start: 619, end: 620 | wait : 1 | turnaround : 4\n",
      "595\n",
      "PID: 825 | Burst: 0 | start: 620, end: 621 | wait : 0 | turnaround : 3\n",
      "595\n",
      "PID: 559 | Burst: 9 | start: 621, end: 622 | wait : 4 | turnaround : 7\n",
      "597\n",
      "PID: 810 | Burst: 1 | start: 622, end: 623 | wait : 0 | turnaround : 3\n",
      "598\n",
      "PID: 81 | Burst: 0 | start: 623, end: 624 | wait : 1 | turnaround : 4\n",
      "599\n",
      "PID: 845 | Burst: 8 | start: 624, end: 625 | wait : 30 | turnaround : 33\n",
      "601\n",
      "PID: 889 | Burst: 9 | start: 625, end: 626 | wait : 0 | turnaround : 3\n",
      "602\n",
      "PID: 835 | Burst: 9 | start: 626, end: 627 | wait : 0 | turnaround : 3\n",
      "604\n",
      "PID: 51 | Burst: 2 | start: 627, end: 628 | wait : 12 | turnaround : 15\n",
      "605\n",
      "PID: 593 | Burst: 1 | start: 628, end: 629 | wait : 35 | turnaround : 38\n",
      "605\n",
      "PID: 86 | Burst: 0 | start: 629, end: 630 | wait : 25 | turnaround : 28\n",
      "605\n",
      "PID: 909 | Burst: 9 | start: 630, end: 631 | wait : 67 | turnaround : 70\n",
      "605\n",
      "PID: 256 | Burst: 5 | start: 631, end: 632 | wait : 59 | turnaround : 62\n",
      "605\n",
      "PID: 585 | Burst: 1 | start: 632, end: 633 | wait : 65 | turnaround : 68\n",
      "606\n",
      "PID: 339 | Burst: 0 | start: 633, end: 634 | wait : 71 | turnaround : 74\n",
      "607\n",
      "PID: 859 | Burst: 3 | start: 634, end: 635 | wait : 68 | turnaround : 71\n",
      "607\n",
      "PID: 907 | Burst: 9 | start: 635, end: 636 | wait : 85 | turnaround : 88\n",
      "608\n",
      "PID: 907 | Burst: 8 | start: 636, end: 637 | wait : 85 | turnaround : 89\n",
      "609\n",
      "PID: 255 | Burst: 8 | start: 637, end: 638 | wait : 2 | turnaround : 6\n",
      "611\n",
      "PID: 86 | Burst: 1 | start: 638, end: 639 | wait : 25 | turnaround : 29\n",
      "613\n",
      "PID: 694 | Burst: 6 | start: 639, end: 640 | wait : 45 | turnaround : 48\n",
      "614\n",
      "PID: 691 | Burst: 0 | start: 640, end: 641 | wait : 0 | turnaround : 2\n",
      "615\n",
      "PID: 821 | Burst: 8 | start: 641, end: 642 | wait : 0 | turnaround : 3\n",
      "615\n",
      "PID: 917 | Burst: 6 | start: 642, end: 643 | wait : 478 | turnaround : 481\n",
      "616\n",
      "PID: 917 | Burst: 5 | start: 643, end: 644 | wait : 478 | turnaround : 482\n",
      "616\n",
      "PID: 25 | Burst: 8 | start: 644, end: 645 | wait : 2 | turnaround : 6\n",
      "617\n",
      "PID: 878 | Burst: 9 | start: 645, end: 646 | wait : 17 | turnaround : 21\n",
      "617\n",
      "PID: 821 | Burst: 7 | start: 646, end: 647 | wait : 4 | turnaround : 8\n",
      "618\n",
      "PID: 592 | Burst: 8 | start: 647, end: 648 | wait : 0 | turnaround : 4\n",
      "618\n",
      "PID: 516 | Burst: 0 | start: 648, end: 649 | wait : 79 | turnaround : 83\n",
      "617\n",
      "PID: 694 | Burst: 5 | start: 649, end: 650 | wait : 54 | turnaround : 58\n",
      "618\n",
      "PID: 716 | Burst: 8 | start: 650, end: 651 | wait : 16 | turnaround : 20\n",
      "619\n",
      "PID: 251 | Burst: 2 | start: 651, end: 652 | wait : 13 | turnaround : 17\n",
      "621\n",
      "PID: 691 | Burst: 3 | start: 652, end: 653 | wait : 0 | turnaround : 3\n",
      "622\n",
      "PID: 691 | Burst: 2 | start: 653, end: 654 | wait : 0 | turnaround : 4\n",
      "624\n",
      "PID: 429 | Burst: 7 | start: 654, end: 655 | wait : 5 | turnaround : 8\n",
      "625\n",
      "PID: 816 | Burst: 0 | start: 655, end: 656 | wait : 0 | turnaround : 3\n",
      "624\n",
      "PID: 900 | Burst: 0 | start: 656, end: 657 | wait : 315 | turnaround : 320\n",
      "625\n",
      "PID: 229 | Burst: 6 | start: 657, end: 658 | wait : 0 | turnaround : 3\n",
      "627\n",
      "PID: 868 | Burst: 2 | start: 658, end: 659 | wait : 0 | turnaround : 3\n",
      "629\n",
      "PID: 726 | Burst: 0 | start: 659, end: 660 | wait : 0 | turnaround : 3\n",
      "630\n",
      "PID: 137 | Burst: 0 | start: 660, end: 661 | wait : 0 | turnaround : 2\n",
      "629\n",
      "PID: 190 | Burst: 6 | start: 661, end: 662 | wait : 317 | turnaround : 322\n",
      "629\n",
      "PID: 190 | Burst: 5 | start: 662, end: 663 | wait : 317 | turnaround : 323\n",
      "630\n",
      "PID: 530 | Burst: 4 | start: 663, end: 664 | wait : 0 | turnaround : 4\n",
      "630\n",
      "PID: 961 | Burst: -1 | start: 664, end: 665 | wait : 9 | turnaround : 13\n",
      "631\n",
      "PID: 816 | Burst: 1 | start: 665, end: 666 | wait : 0 | turnaround : 4\n",
      "632\n",
      "PID: 618 | Burst: 4 | start: 666, end: 667 | wait : 1 | turnaround : 5\n",
      "633\n",
      "PID: 781 | Burst: 0 | start: 667, end: 668 | wait : 0 | turnaround : 3\n",
      "634\n",
      "PID: 757 | Burst: 0 | start: 668, end: 669 | wait : 3 | turnaround : 6\n",
      "633\n",
      "PID: 376 | Burst: 7 | start: 669, end: 670 | wait : 1 | turnaround : 4\n",
      "634\n",
      "PID: 376 | Burst: 6 | start: 670, end: 671 | wait : 1 | turnaround : 5\n",
      "636\n",
      "PID: 582 | Burst: 3 | start: 671, end: 672 | wait : 0 | turnaround : 3\n",
      "637\n",
      "PID: 137 | Burst: 3 | start: 672, end: 673 | wait : 0 | turnaround : 3\n",
      "638\n",
      "PID: 794 | Burst: 1 | start: 673, end: 674 | wait : 0 | turnaround : 3\n",
      "638\n",
      "PID: 794 | Burst: 0 | start: 674, end: 675 | wait : 0 | turnaround : 4\n",
      "637\n",
      "PID: 137 | Burst: 2 | start: 675, end: 676 | wait : 2 | turnaround : 6\n",
      "637\n",
      "PID: 137 | Burst: 1 | start: 676, end: 677 | wait : 2 | turnaround : 7\n",
      "639\n",
      "PID: 824 | Burst: 9 | start: 677, end: 678 | wait : 4 | turnaround : 8\n",
      "640\n",
      "PID: 460 | Burst: 0 | start: 678, end: 679 | wait : 3 | turnaround : 7\n",
      "639\n",
      "PID: 344 | Burst: 0 | start: 679, end: 680 | wait : 8 | turnaround : 12\n",
      "640\n",
      "PID: 757 | Burst: 3 | start: 680, end: 681 | wait : 3 | turnaround : 7\n",
      "641\n",
      "PID: 986 | Burst: 7 | start: 681, end: 682 | wait : 10 | turnaround : 14\n",
      "641\n",
      "PID: 986 | Burst: 6 | start: 682, end: 683 | wait : 10 | turnaround : 15\n",
      "644\n",
      "PID: 133 | Burst: 9 | start: 683, end: 684 | wait : 11 | turnaround : 15\n",
      "645\n",
      "PID: 748 | Burst: 9 | start: 684, end: 685 | wait : 11 | turnaround : 15\n",
      "646\n",
      "PID: 770 | Burst: 0 | start: 685, end: 686 | wait : 12 | turnaround : 16\n",
      "646\n",
      "PID: 637 | Burst: 10 | start: 686, end: 687 | wait : 0 | turnaround : 3\n",
      "647\n",
      "PID: 474 | Burst: 1 | start: 687, end: 688 | wait : 14 | turnaround : 17\n",
      "647\n",
      "PID: 474 | Burst: 0 | start: 688, end: 689 | wait : 14 | turnaround : 18\n",
      "647\n",
      "PID: 334 | Burst: 1 | start: 689, end: 690 | wait : 0 | turnaround : 3\n",
      "650\n",
      "PID: 806 | Burst: 6 | start: 690, end: 691 | wait : 0 | turnaround : 3\n",
      "652\n",
      "PID: 678 | Burst: 6 | start: 691, end: 692 | wait : 0 | turnaround : 2\n",
      "653\n",
      "PID: 678 | Burst: 5 | start: 692, end: 693 | wait : 0 | turnaround : 3\n",
      "654\n",
      "PID: 606 | Burst: 8 | start: 693, end: 694 | wait : 0 | turnaround : 3\n",
      "654\n",
      "PID: 968 | Burst: 0 | start: 694, end: 695 | wait : 2 | turnaround : 5\n",
      "656\n",
      "PID: 264 | Burst: 1 | start: 695, end: 696 | wait : 4 | turnaround : 7\n",
      "660\n",
      "PID: 138 | Burst: 2 | start: 696, end: 697 | wait : 7 | turnaround : 9\n",
      "661\n",
      "PID: 544 | Burst: 2 | start: 697, end: 698 | wait : 0 | turnaround : 2\n",
      "661\n",
      "PID: 544 | Burst: 1 | start: 698, end: 699 | wait : 0 | turnaround : 3\n",
      "661\n",
      "PID: 138 | Burst: 1 | start: 699, end: 700 | wait : 9 | turnaround : 12\n",
      "663\n",
      "PID: 563 | Burst: 0 | start: 700, end: 701 | wait : 159 | turnaround : 162\n",
      "662\n",
      "PID: 836 | Burst: 1 | start: 701, end: 702 | wait : 5 | turnaround : 8\n",
      "664\n",
      "PID: 212 | Burst: 3 | start: 702, end: 703 | wait : 0 | turnaround : 1\n",
      "667\n",
      "PID: 212 | Burst: 2 | start: 703, end: 704 | wait : 0 | turnaround : 2\n",
      "668\n",
      "PID: 584 | Burst: 0 | start: 704, end: 705 | wait : 0 | turnaround : 2\n",
      "668\n",
      "PID: 367 | Burst: 6 | start: 705, end: 706 | wait : 0 | turnaround : 3\n",
      "670\n",
      "PID: 989 | Burst: 10 | start: 706, end: 707 | wait : 0 | turnaround : 2\n",
      "672\n",
      "PID: 989 | Burst: 9 | start: 707, end: 708 | wait : 0 | turnaround : 3\n",
      "673\n",
      "PID: 136 | Burst: 8 | start: 708, end: 709 | wait : 1 | turnaround : 4\n",
      "675\n",
      "PID: 272 | Burst: 0 | start: 709, end: 710 | wait : 1 | turnaround : 3\n",
      "676\n",
      "PID: 40 | Burst: 6 | start: 710, end: 711 | wait : 0 | turnaround : 2\n",
      "677\n",
      "PID: 40 | Burst: 5 | start: 711, end: 712 | wait : 0 | turnaround : 3\n",
      "679\n",
      "PID: 850 | Burst: 2 | start: 712, end: 713 | wait : 0 | turnaround : 3\n",
      "679\n",
      "PID: 239 | Burst: 1 | start: 713, end: 714 | wait : 1 | turnaround : 4\n",
      "679\n",
      "PID: 392 | Burst: 1 | start: 714, end: 715 | wait : 3 | turnaround : 6\n",
      "680\n",
      "PID: 931 | Burst: 8 | start: 715, end: 716 | wait : 0 | turnaround : 3\n",
      "681\n",
      "PID: 302 | Burst: 8 | start: 716, end: 717 | wait : 0 | turnaround : 3\n",
      "683\n",
      "PID: 584 | Burst: 3 | start: 717, end: 718 | wait : 0 | turnaround : 3\n",
      "684\n",
      "PID: 897 | Burst: 9 | start: 718, end: 719 | wait : 0 | turnaround : 3\n",
      "685\n",
      "PID: 959 | Burst: 0 | start: 719, end: 720 | wait : 0 | turnaround : 3\n",
      "686\n",
      "PID: 200 | Burst: 1 | start: 720, end: 721 | wait : 1 | turnaround : 3\n",
      "687\n",
      "PID: 200 | Burst: 0 | start: 721, end: 722 | wait : 1 | turnaround : 4\n",
      "688\n",
      "PID: 227 | Burst: 7 | start: 722, end: 723 | wait : 0 | turnaround : 2\n",
      "689\n",
      "PID: 227 | Burst: 6 | start: 723, end: 724 | wait : 0 | turnaround : 3\n",
      "690\n",
      "PID: 803 | Burst: 10 | start: 724, end: 725 | wait : 0 | turnaround : 3\n",
      "692\n",
      "PID: 875 | Burst: 10 | start: 725, end: 726 | wait : 0 | turnaround : 2\n",
      "694\n",
      "PID: 875 | Burst: 9 | start: 726, end: 727 | wait : 0 | turnaround : 3\n",
      "696\n",
      "PID: 279 | Burst: 2 | start: 727, end: 728 | wait : 0 | turnaround : 2\n",
      "696\n",
      "PID: 279 | Burst: 1 | start: 728, end: 729 | wait : 0 | turnaround : 3\n",
      "697\n",
      "PID: 105 | Burst: 1 | start: 729, end: 730 | wait : 0 | turnaround : 3\n",
      "699\n",
      "PID: 919 | Burst: 5 | start: 730, end: 731 | wait : 0 | turnaround : 3\n",
      "700\n",
      "PID: 754 | Burst: 9 | start: 731, end: 732 | wait : 0 | turnaround : 3\n",
      "701\n",
      "PID: 948 | Burst: 6 | start: 732, end: 733 | wait : 3 | turnaround : 6\n",
      "701\n",
      "PID: 104 | Burst: 7 | start: 733, end: 734 | wait : 6 | turnaround : 9\n",
      "702\n",
      "PID: 449 | Burst: 2 | start: 734, end: 735 | wait : 0 | turnaround : 3\n",
      "703\n",
      "PID: 520 | Burst: 10 | start: 735, end: 736 | wait : 1 | turnaround : 4\n",
      "704\n",
      "PID: 32 | Burst: 10 | start: 736, end: 737 | wait : 5 | turnaround : 8\n",
      "705\n",
      "PID: 768 | Burst: 5 | start: 737, end: 738 | wait : 8 | turnaround : 11\n",
      "706\n",
      "PID: 832 | Burst: 10 | start: 738, end: 739 | wait : 0 | turnaround : 3\n",
      "707\n",
      "PID: 252 | Burst: 9 | start: 739, end: 740 | wait : 9 | turnaround : 12\n",
      "707\n",
      "PID: 785 | Burst: 0 | start: 740, end: 741 | wait : 14 | turnaround : 17\n",
      "706\n",
      "PID: 697 | Burst: 2 | start: 741, end: 742 | wait : 15 | turnaround : 18\n",
      "706\n",
      "PID: 272 | Burst: 2 | start: 742, end: 743 | wait : 20 | turnaround : 23\n",
      "706\n",
      "PID: 262 | Burst: 9 | start: 743, end: 744 | wait : 18 | turnaround : 21\n",
      "706\n",
      "PID: 359 | Burst: 9 | start: 744, end: 745 | wait : 25 | turnaround : 28\n",
      "708\n",
      "PID: 958 | Burst: 0 | start: 745, end: 746 | wait : 0 | turnaround : 3\n",
      "708\n",
      "PID: 77 | Burst: 1 | start: 746, end: 747 | wait : 0 | turnaround : 3\n",
      "709\n",
      "PID: 642 | Burst: 0 | start: 747, end: 748 | wait : 3 | turnaround : 6\n",
      "709\n",
      "PID: 738 | Burst: 6 | start: 748, end: 749 | wait : 3 | turnaround : 6\n",
      "711\n",
      "PID: 95 | Burst: 3 | start: 749, end: 750 | wait : 15 | turnaround : 18\n",
      "712\n",
      "PID: 493 | Burst: 10 | start: 750, end: 751 | wait : 6 | turnaround : 9\n",
      "713\n",
      "PID: 669 | Burst: 5 | start: 751, end: 752 | wait : 0 | turnaround : 3\n",
      "714\n",
      "PID: 560 | Burst: 6 | start: 752, end: 753 | wait : 0 | turnaround : 3\n",
      "716\n",
      "PID: 599 | Burst: 6 | start: 753, end: 754 | wait : 9 | turnaround : 12\n",
      "718\n",
      "PID: 16 | Burst: 8 | start: 754, end: 755 | wait : 1 | turnaround : 4\n",
      "720\n",
      "PID: 479 | Burst: 9 | start: 755, end: 756 | wait : 13 | turnaround : 16\n",
      "721\n",
      "PID: 127 | Burst: 9 | start: 756, end: 757 | wait : 13 | turnaround : 16\n",
      "723\n",
      "PID: 396 | Burst: 0 | start: 757, end: 758 | wait : 2 | turnaround : 5\n",
      "724\n",
      "PID: 971 | Burst: 8 | start: 758, end: 759 | wait : 0 | turnaround : 2\n",
      "727\n",
      "PID: 719 | Burst: 1 | start: 759, end: 760 | wait : 0 | turnaround : 2\n",
      "727\n",
      "PID: 624 | Burst: 3 | start: 760, end: 761 | wait : 1 | turnaround : 3\n",
      "728\n",
      "PID: 624 | Burst: 2 | start: 761, end: 762 | wait : 1 | turnaround : 4\n",
      "729\n",
      "PID: 365 | Burst: 0 | start: 762, end: 763 | wait : 1 | turnaround : 4\n",
      "730\n",
      "PID: 935 | Burst: 1 | start: 763, end: 764 | wait : 0 | turnaround : 3\n",
      "731\n",
      "PID: 783 | Burst: 8 | start: 764, end: 765 | wait : 0 | turnaround : 2\n",
      "732\n",
      "PID: 783 | Burst: 7 | start: 765, end: 766 | wait : 0 | turnaround : 3\n",
      "733\n",
      "PID: 758 | Burst: 0 | start: 766, end: 767 | wait : 0 | turnaround : 3\n",
      "735\n",
      "PID: 795 | Burst: 1 | start: 767, end: 768 | wait : 0 | turnaround : 2\n",
      "735\n",
      "PID: 795 | Burst: 0 | start: 768, end: 769 | wait : 0 | turnaround : 3\n",
      "735\n",
      "PID: 288 | Burst: 6 | start: 769, end: 770 | wait : 0 | turnaround : 3\n",
      "738\n",
      "PID: 871 | Burst: 7 | start: 770, end: 771 | wait : 0 | turnaround : 2\n",
      "739\n",
      "PID: 722 | Burst: 1 | start: 771, end: 772 | wait : 0 | turnaround : 2\n",
      "740\n",
      "PID: 722 | Burst: 0 | start: 772, end: 773 | wait : 0 | turnaround : 3\n",
      "740\n",
      "PID: 9 | Burst: 10 | start: 773, end: 774 | wait : 0 | turnaround : 3\n",
      "741\n",
      "PID: 435 | Burst: 10 | start: 774, end: 775 | wait : 0 | turnaround : 3\n",
      "742\n",
      "PID: 30 | Burst: 10 | start: 775, end: 776 | wait : 1 | turnaround : 4\n",
      "744\n",
      "PID: 772 | Burst: 5 | start: 776, end: 777 | wait : 0 | turnaround : 3\n",
      "746\n",
      "PID: 556 | Burst: 7 | start: 777, end: 778 | wait : 1 | turnaround : 4\n",
      "747\n",
      "PID: 450 | Burst: 6 | start: 778, end: 779 | wait : 0 | turnaround : 3\n",
      "748\n",
      "PID: 965 | Burst: 0 | start: 779, end: 780 | wait : 0 | turnaround : 3\n",
      "748\n",
      "PID: 191 | Burst: 1 | start: 780, end: 781 | wait : 1 | turnaround : 4\n",
      "749\n",
      "PID: 811 | Burst: 9 | start: 781, end: 782 | wait : 0 | turnaround : 3\n",
      "750\n",
      "PID: 982 | Burst: 9 | start: 782, end: 783 | wait : 0 | turnaround : 3\n",
      "752\n",
      "PID: 664 | Burst: 5 | start: 783, end: 784 | wait : 2 | turnaround : 5\n",
      "753\n",
      "PID: 808 | Burst: 0 | start: 784, end: 785 | wait : 0 | turnaround : 3\n",
      "752\n",
      "PID: 871 | Burst: 6 | start: 785, end: 786 | wait : 14 | turnaround : 17\n",
      "753\n",
      "PID: 990 | Burst: 10 | start: 786, end: 787 | wait : 0 | turnaround : 3\n",
      "754\n",
      "PID: 88 | Burst: 1 | start: 787, end: 788 | wait : 1 | turnaround : 4\n",
      "755\n",
      "PID: 351 | Burst: 0 | start: 788, end: 789 | wait : 0 | turnaround : 3\n",
      "755\n",
      "PID: 348 | Burst: 1 | start: 789, end: 790 | wait : 2 | turnaround : 5\n",
      "756\n",
      "PID: 690 | Burst: 8 | start: 790, end: 791 | wait : 21 | turnaround : 24\n",
      "757\n",
      "PID: 237 | Burst: 8 | start: 791, end: 792 | wait : 0 | turnaround : 3\n",
      "758\n",
      "PID: 662 | Burst: 1 | start: 792, end: 793 | wait : 2 | turnaround : 5\n",
      "759\n",
      "PID: 173 | Burst: 6 | start: 793, end: 794 | wait : 0 | turnaround : 3\n",
      "760\n",
      "PID: 587 | Burst: 0 | start: 794, end: 795 | wait : 21 | turnaround : 24\n",
      "761\n",
      "PID: 385 | Burst: 6 | start: 795, end: 796 | wait : 22 | turnaround : 25\n",
      "762\n",
      "PID: 248 | Burst: 0 | start: 796, end: 797 | wait : 0 | turnaround : 3\n",
      "762\n",
      "PID: 45 | Burst: 0 | start: 797, end: 798 | wait : 19 | turnaround : 22\n",
      "763\n",
      "PID: 453 | Burst: 1 | start: 798, end: 799 | wait : 5 | turnaround : 8\n",
      "764\n",
      "PID: 185 | Burst: 9 | start: 799, end: 800 | wait : 0 | turnaround : 3\n",
      "766\n",
      "PID: 161 | Burst: 10 | start: 800, end: 801 | wait : 27 | turnaround : 30\n",
      "767\n",
      "PID: 427 | Burst: 8 | start: 801, end: 802 | wait : 0 | turnaround : 3\n",
      "769\n",
      "PID: 743 | Burst: 0 | start: 802, end: 803 | wait : 0 | turnaround : 3\n",
      "769\n",
      "PID: 357 | Burst: 1 | start: 803, end: 804 | wait : 33 | turnaround : 36\n",
      "770\n",
      "PID: 547 | Burst: 9 | start: 804, end: 805 | wait : 0 | turnaround : 3\n",
      "771\n",
      "PID: 928 | Burst: 8 | start: 805, end: 806 | wait : 0 | turnaround : 3\n",
      "772\n",
      "PID: 546 | Burst: 1 | start: 806, end: 807 | wait : 4 | turnaround : 7\n",
      "773\n",
      "PID: 876 | Burst: 10 | start: 807, end: 808 | wait : 2 | turnaround : 5\n",
      "774\n",
      "PID: 132 | Burst: 1 | start: 808, end: 809 | wait : 13 | turnaround : 16\n",
      "774\n",
      "PID: 242 | Burst: -1 | start: 809, end: 810 | wait : 58 | turnaround : 61\n",
      "775\n",
      "PID: 855 | Burst: 0 | start: 810, end: 811 | wait : 112 | turnaround : 115\n",
      "777\n",
      "PID: 734 | Burst: 6 | start: 811, end: 812 | wait : 112 | turnaround : 115\n",
      "777\n",
      "PID: 448 | Burst: 8 | start: 812, end: 813 | wait : 3 | turnaround : 6\n",
      "778\n",
      "PID: 4 | Burst: 6 | start: 813, end: 814 | wait : 0 | turnaround : 3\n",
      "779\n",
      "PID: 654 | Burst: 2 | start: 814, end: 815 | wait : 0 | turnaround : 3\n",
      "779\n",
      "PID: 356 | Burst: 3 | start: 815, end: 816 | wait : 38 | turnaround : 41\n",
      "780\n",
      "PID: 166 | Burst: 6 | start: 816, end: 817 | wait : 0 | turnaround : 3\n",
      "780\n",
      "PID: 675 | Burst: 10 | start: 817, end: 818 | wait : 52 | turnaround : 55\n",
      "782\n",
      "PID: 506 | Burst: 0 | start: 818, end: 819 | wait : 0 | turnaround : 3\n",
      "782\n",
      "PID: 941 | Burst: 5 | start: 819, end: 820 | wait : 4 | turnaround : 7\n",
      "783\n",
      "PID: 18 | Burst: 1 | start: 820, end: 821 | wait : 51 | turnaround : 54\n",
      "784\n",
      "PID: 325 | Burst: 6 | start: 821, end: 822 | wait : 7 | turnaround : 10\n",
      "784\n",
      "PID: 406 | Burst: 3 | start: 822, end: 823 | wait : 127 | turnaround : 130\n",
      "787\n",
      "PID: 254 | Burst: 1 | start: 823, end: 824 | wait : 25 | turnaround : 28\n",
      "788\n",
      "PID: 805 | Burst: 0 | start: 824, end: 825 | wait : 0 | turnaround : 3\n",
      "790\n",
      "PID: 753 | Burst: 2 | start: 825, end: 826 | wait : 1 | turnaround : 3\n",
      "791\n",
      "PID: 802 | Burst: 2 | start: 826, end: 827 | wait : 0 | turnaround : 2\n",
      "792\n",
      "PID: 802 | Burst: 1 | start: 827, end: 828 | wait : 0 | turnaround : 3\n",
      "794\n",
      "PID: 839 | Burst: 1 | start: 828, end: 829 | wait : 0 | turnaround : 3\n",
      "796\n",
      "PID: 70 | Burst: 10 | start: 829, end: 830 | wait : 0 | turnaround : 2\n",
      "799\n",
      "PID: 646 | Burst: 6 | start: 830, end: 831 | wait : 0 | turnaround : 2\n",
      "802\n",
      "PID: 789 | Burst: 8 | start: 831, end: 832 | wait : 0 | turnaround : 2\n",
      "803\n",
      "PID: 557 | Burst: 1 | start: 832, end: 833 | wait : 1 | turnaround : 3\n",
      "805\n",
      "PID: 557 | Burst: 0 | start: 833, end: 834 | wait : 1 | turnaround : 4\n",
      "804\n",
      "PID: 621 | Burst: 1 | start: 834, end: 835 | wait : 3 | turnaround : 6\n",
      "804\n",
      "PID: 789 | Burst: 7 | start: 835, end: 836 | wait : 3 | turnaround : 6\n",
      "804\n",
      "PID: 70 | Burst: 9 | start: 836, end: 837 | wait : 6 | turnaround : 9\n",
      "805\n",
      "PID: 306 | Burst: 1 | start: 837, end: 838 | wait : 0 | turnaround : 3\n",
      "805\n",
      "PID: 646 | Burst: 5 | start: 838, end: 839 | wait : 7 | turnaround : 10\n",
      "806\n",
      "PID: 293 | Burst: 1 | start: 839, end: 840 | wait : 2 | turnaround : 5\n",
      "807\n",
      "PID: 57 | Burst: 1 | start: 840, end: 841 | wait : 4 | turnaround : 7\n",
      "808\n",
      "PID: 253 | Burst: 5 | start: 841, end: 842 | wait : 0 | turnaround : 3\n",
      "809\n",
      "PID: 620 | Burst: 10 | start: 842, end: 843 | wait : 0 | turnaround : 3\n",
      "810\n",
      "PID: 214 | Burst: 1 | start: 843, end: 844 | wait : 0 | turnaround : 3\n",
      "811\n",
      "PID: 178 | Burst: 9 | start: 844, end: 845 | wait : 8 | turnaround : 11\n",
      "812\n",
      "PID: 801 | Burst: 7 | start: 845, end: 846 | wait : 0 | turnaround : 3\n",
      "814\n",
      "PID: 468 | Burst: 1 | start: 846, end: 847 | wait : 0 | turnaround : 3\n",
      "816\n",
      "PID: 345 | Burst: 7 | start: 847, end: 848 | wait : 1 | turnaround : 4\n",
      "817\n",
      "PID: 61 | Burst: 1 | start: 848, end: 849 | wait : 8 | turnaround : 11\n",
      "818\n",
      "PID: 208 | Burst: 0 | start: 849, end: 850 | wait : 5 | turnaround : 8\n",
      "817\n",
      "PID: 168 | Burst: 0 | start: 850, end: 851 | wait : 4 | turnaround : 7\n",
      "816\n",
      "PID: 765 | Burst: 9 | start: 851, end: 852 | wait : 22 | turnaround : 25\n",
      "817\n",
      "PID: 454 | Burst: 10 | start: 852, end: 853 | wait : 0 | turnaround : 3\n",
      "818\n",
      "PID: 786 | Burst: 1 | start: 853, end: 854 | wait : 0 | turnaround : 3\n",
      "819\n",
      "PID: 383 | Burst: 8 | start: 854, end: 855 | wait : 1 | turnaround : 4\n",
      "819\n",
      "PID: 431 | Burst: 2 | start: 855, end: 856 | wait : 25 | turnaround : 28\n",
      "820\n",
      "PID: 102 | Burst: 0 | start: 856, end: 857 | wait : 0 | turnaround : 3\n",
      "820\n",
      "PID: 942 | Burst: 5 | start: 857, end: 858 | wait : 0 | turnaround : 3\n",
      "820\n",
      "PID: 511 | Burst: 9 | start: 858, end: 859 | wait : 30 | turnaround : 33\n",
      "822\n",
      "PID: 715 | Burst: 1 | start: 859, end: 860 | wait : 0 | turnaround : 3\n",
      "824\n",
      "PID: 918 | Burst: 8 | start: 860, end: 861 | wait : 0 | turnaround : 3\n",
      "825\n",
      "PID: 766 | Burst: 7 | start: 861, end: 862 | wait : 0 | turnaround : 3\n",
      "826\n",
      "PID: 259 | Burst: 7 | start: 862, end: 863 | wait : 1 | turnaround : 4\n",
      "828\n",
      "PID: 701 | Burst: 0 | start: 863, end: 864 | wait : 1 | turnaround : 4\n",
      "829\n",
      "PID: 661 | Burst: 9 | start: 864, end: 865 | wait : 11 | turnaround : 14\n",
      "831\n",
      "PID: 529 | Burst: 1 | start: 865, end: 866 | wait : 0 | turnaround : 3\n",
      "833\n",
      "PID: 807 | Burst: 9 | start: 866, end: 867 | wait : 0 | turnaround : 3\n",
      "835\n",
      "PID: 817 | Burst: 1 | start: 867, end: 868 | wait : 0 | turnaround : 3\n",
      "836\n",
      "PID: 108 | Burst: 1 | start: 868, end: 869 | wait : 0 | turnaround : 3\n",
      "837\n",
      "PID: 538 | Burst: 8 | start: 869, end: 870 | wait : 0 | turnaround : 3\n",
      "838\n",
      "PID: 651 | Burst: 10 | start: 870, end: 871 | wait : 0 | turnaround : 3\n",
      "839\n",
      "PID: 885 | Burst: 1 | start: 871, end: 872 | wait : 7 | turnaround : 10\n",
      "840\n",
      "PID: 980 | Burst: 0 | start: 872, end: 873 | wait : 0 | turnaround : 3\n",
      "840\n",
      "PID: 526 | Burst: 8 | start: 873, end: 874 | wait : 0 | turnaround : 3\n",
      "841\n",
      "PID: 241 | Burst: 10 | start: 874, end: 875 | wait : 14 | turnaround : 17\n",
      "842\n",
      "PID: 289 | Burst: 8 | start: 875, end: 876 | wait : 18 | turnaround : 21\n",
      "843\n",
      "PID: 854 | Burst: 9 | start: 876, end: 877 | wait : 0 | turnaround : 3\n",
      "844\n",
      "PID: 458 | Burst: 3 | start: 877, end: 878 | wait : 15 | turnaround : 18\n",
      "845\n",
      "PID: 912 | Burst: 7 | start: 878, end: 879 | wait : 0 | turnaround : 3\n",
      "846\n",
      "PID: 500 | Burst: 6 | start: 879, end: 880 | wait : 3 | turnaround : 6\n",
      "847\n",
      "PID: 6 | Burst: 9 | start: 880, end: 881 | wait : 0 | turnaround : 3\n",
      "849\n",
      "PID: 407 | Burst: 1 | start: 881, end: 882 | wait : 21 | turnaround : 24\n",
      "850\n",
      "PID: 447 | Burst: 7 | start: 882, end: 883 | wait : 6 | turnaround : 9\n",
      "851\n",
      "PID: 15 | Burst: 5 | start: 883, end: 884 | wait : 28 | turnaround : 31\n",
      "852\n",
      "PID: 499 | Burst: 8 | start: 884, end: 885 | wait : 0 | turnaround : 3\n",
      "853\n",
      "PID: 684 | Burst: 9 | start: 885, end: 886 | wait : 0 | turnaround : 3\n",
      "853\n",
      "PID: 343 | Burst: 0 | start: 886, end: 887 | wait : 21 | turnaround : 24\n",
      "854\n",
      "PID: 762 | Burst: 2 | start: 887, end: 888 | wait : 0 | turnaround : 3\n",
      "855\n",
      "PID: 340 | Burst: 1 | start: 888, end: 889 | wait : 16 | turnaround : 19\n",
      "856\n",
      "PID: 873 | Burst: 6 | start: 889, end: 890 | wait : 0 | turnaround : 3\n",
      "857\n",
      "PID: 316 | Burst: 0 | start: 890, end: 891 | wait : 1 | turnaround : 4\n",
      "857\n",
      "PID: 167 | Burst: 10 | start: 891, end: 892 | wait : 6 | turnaround : 9\n",
      "858\n",
      "PID: 442 | Burst: 0 | start: 892, end: 893 | wait : 4 | turnaround : 7\n",
      "858\n",
      "PID: 171 | Burst: 8 | start: 893, end: 894 | wait : 0 | turnaround : 3\n",
      "859\n",
      "PID: 863 | Burst: 7 | start: 894, end: 895 | wait : 0 | turnaround : 3\n",
      "859\n",
      "PID: 196 | Burst: 7 | start: 895, end: 896 | wait : 8 | turnaround : 11\n",
      "860\n",
      "PID: 54 | Burst: 7 | start: 896, end: 897 | wait : 0 | turnaround : 3\n",
      "862\n",
      "PID: 92 | Burst: 1 | start: 897, end: 898 | wait : 3 | turnaround : 6\n",
      "863\n",
      "PID: 731 | Burst: 1 | start: 898, end: 899 | wait : 0 | turnaround : 3\n",
      "865\n",
      "PID: 894 | Burst: 10 | start: 899, end: 900 | wait : 0 | turnaround : 3\n",
      "866\n",
      "PID: 616 | Burst: 1 | start: 900, end: 901 | wait : 0 | turnaround : 3\n",
      "867\n",
      "PID: 28 | Burst: 0 | start: 901, end: 902 | wait : 0 | turnaround : 3\n",
      "867\n",
      "PID: 652 | Burst: 8 | start: 902, end: 903 | wait : 3 | turnaround : 6\n",
      "869\n",
      "PID: 100 | Burst: 1 | start: 903, end: 904 | wait : 47 | turnaround : 50\n",
      "871\n",
      "PID: 612 | Burst: 1 | start: 904, end: 905 | wait : 0 | turnaround : 3\n",
      "872\n",
      "PID: 101 | Burst: 5 | start: 905, end: 906 | wait : 1 | turnaround : 4\n",
      "873\n",
      "PID: 756 | Burst: 6 | start: 906, end: 907 | wait : 0 | turnaround : 3\n",
      "874\n",
      "PID: 688 | Burst: 9 | start: 907, end: 908 | wait : 0 | turnaround : 3\n",
      "875\n",
      "PID: 142 | Burst: 1 | start: 908, end: 909 | wait : 14 | turnaround : 17\n",
      "876\n",
      "PID: 570 | Burst: 0 | start: 909, end: 910 | wait : 67 | turnaround : 70\n",
      "877\n",
      "PID: 267 | Burst: 5 | start: 910, end: 911 | wait : 12 | turnaround : 15\n",
      "877\n",
      "PID: 294 | Burst: 1 | start: 911, end: 912 | wait : 7 | turnaround : 10\n",
      "877\n",
      "PID: 3 | Burst: 3 | start: 912, end: 913 | wait : 15 | turnaround : 18\n",
      "878\n",
      "PID: 847 | Burst: 0 | start: 913, end: 914 | wait : 0 | turnaround : 3\n",
      "878\n",
      "PID: 386 | Burst: 9 | start: 914, end: 915 | wait : 14 | turnaround : 17\n",
      "878\n",
      "PID: 395 | Burst: 5 | start: 915, end: 916 | wait : 52 | turnaround : 55\n",
      "879\n",
      "PID: 378 | Burst: 2 | start: 916, end: 917 | wait : 74 | turnaround : 77\n",
      "880\n",
      "PID: 946 | Burst: 1 | start: 917, end: 918 | wait : 0 | turnaround : 3\n",
      "881\n",
      "PID: 711 | Burst: 1 | start: 918, end: 919 | wait : 82 | turnaround : 85\n",
      "882\n",
      "PID: 566 | Burst: 9 | start: 919, end: 920 | wait : 2 | turnaround : 5\n",
      "883\n",
      "PID: 155 | Burst: 3 | start: 920, end: 921 | wait : 60 | turnaround : 63\n",
      "885\n",
      "PID: 169 | Burst: 0 | start: 921, end: 922 | wait : 0 | turnaround : 3\n",
      "887\n",
      "PID: 204 | Burst: 0 | start: 922, end: 923 | wait : 1 | turnaround : 4\n",
      "887\n",
      "PID: 759 | Burst: 0 | start: 923, end: 924 | wait : 0 | turnaround : 3\n",
      "888\n",
      "PID: 195 | Burst: 0 | start: 924, end: 925 | wait : 0 | turnaround : 3\n",
      "889\n",
      "PID: 708 | Burst: 0 | start: 925, end: 926 | wait : 5 | turnaround : 8\n",
      "889\n",
      "PID: 23 | Burst: 0 | start: 926, end: 927 | wait : 11 | turnaround : 14\n",
      "889\n",
      "PID: 39 | Burst: 6 | start: 927, end: 928 | wait : 0 | turnaround : 3\n",
      "890\n",
      "PID: 319 | Burst: 2 | start: 928, end: 929 | wait : 8 | turnaround : 11\n",
      "891\n",
      "PID: 631 | Burst: 5 | start: 929, end: 930 | wait : 0 | turnaround : 3\n",
      "893\n",
      "PID: 937 | Burst: 5 | start: 930, end: 931 | wait : 95 | turnaround : 98\n",
      "893\n",
      "PID: 387 | Burst: 1 | start: 931, end: 932 | wait : 15 | turnaround : 18\n",
      "894\n",
      "PID: 746 | Burst: 5 | start: 932, end: 933 | wait : 0 | turnaround : 3\n",
      "897\n",
      "PID: 510 | Burst: 10 | start: 933, end: 934 | wait : 0 | turnaround : 3\n",
      "898\n",
      "PID: 416 | Burst: 0 | start: 934, end: 935 | wait : 20 | turnaround : 23\n",
      "899\n",
      "PID: 394 | Burst: 0 | start: 935, end: 936 | wait : 2 | turnaround : 5\n",
      "899\n",
      "PID: 674 | Burst: 1 | start: 936, end: 937 | wait : 2 | turnaround : 5\n",
      "901\n",
      "PID: 194 | Burst: 1 | start: 937, end: 938 | wait : 13 | turnaround : 16\n",
      "902\n",
      "PID: 540 | Burst: 6 | start: 938, end: 939 | wait : 0 | turnaround : 3\n",
      "903\n",
      "PID: 622 | Burst: 0 | start: 939, end: 940 | wait : 0 | turnaround : 3\n",
      "903\n",
      "PID: 999 | Burst: 6 | start: 940, end: 941 | wait : 0 | turnaround : 3\n",
      "904\n",
      "PID: 465 | Burst: 7 | start: 941, end: 942 | wait : 0 | turnaround : 3\n",
      "905\n",
      "PID: 261 | Burst: 1 | start: 942, end: 943 | wait : 99 | turnaround : 102\n",
      "905\n",
      "PID: 55 | Burst: 2 | start: 943, end: 944 | wait : 80 | turnaround : 83\n",
      "907\n",
      "PID: 21 | Burst: 0 | start: 944, end: 945 | wait : 86 | turnaround : 89\n",
      "907\n",
      "PID: 170 | Burst: 3 | start: 945, end: 946 | wait : 1 | turnaround : 4\n",
      "909\n",
      "PID: 753 | Burst: 1 | start: 946, end: 947 | wait : 121 | turnaround : 124\n",
      "911\n",
      "PID: 93 | Burst: 2 | start: 947, end: 948 | wait : 2 | turnaround : 5\n",
      "912\n",
      "PID: 659 | Burst: 8 | start: 948, end: 949 | wait : 0 | turnaround : 3\n",
      "913\n",
      "PID: 485 | Burst: 8 | start: 949, end: 950 | wait : 0 | turnaround : 3\n",
      "914\n",
      "PID: 926 | Burst: 0 | start: 950, end: 951 | wait : 0 | turnaround : 3\n",
      "913\n",
      "PID: 597 | Burst: 6 | start: 951, end: 952 | wait : 11 | turnaround : 15\n",
      "914\n",
      "PID: 528 | Burst: 9 | start: 952, end: 953 | wait : 0 | turnaround : 3\n",
      "917\n",
      "PID: 819 | Burst: 7 | start: 953, end: 954 | wait : 0 | turnaround : 3\n",
      "918\n",
      "PID: 693 | Burst: 9 | start: 954, end: 955 | wait : 0 | turnaround : 3\n",
      "919\n",
      "PID: 76 | Burst: 1 | start: 955, end: 956 | wait : 17 | turnaround : 20\n",
      "920\n",
      "PID: 505 | Burst: 0 | start: 956, end: 957 | wait : 8 | turnaround : 11\n",
      "920\n",
      "PID: 337 | Burst: 1 | start: 957, end: 958 | wait : 0 | turnaround : 3\n",
      "921\n",
      "PID: 405 | Burst: 1 | start: 958, end: 959 | wait : 0 | turnaround : 3\n",
      "921\n",
      "PID: 405 | Burst: 0 | start: 959, end: 960 | wait : 0 | turnaround : 4\n",
      "923\n",
      "PID: 425 | Burst: 3 | start: 960, end: 961 | wait : 3 | turnaround : 6\n",
      "923\n",
      "PID: 56 | Burst: 5 | start: 961, end: 962 | wait : 11 | turnaround : 14\n",
      "923\n",
      "PID: 56 | Burst: 4 | start: 962, end: 963 | wait : 11 | turnaround : 15\n",
      "924\n",
      "PID: 610 | Burst: 9 | start: 963, end: 964 | wait : 0 | turnaround : 3\n",
      "925\n",
      "PID: 892 | Burst: 0 | start: 964, end: 965 | wait : 0 | turnaround : 3\n",
      "925\n",
      "PID: 895 | Burst: 9 | start: 965, end: 966 | wait : 0 | turnaround : 3\n",
      "926\n",
      "PID: 891 | Burst: 0 | start: 966, end: 967 | wait : 0 | turnaround : 3\n",
      "926\n",
      "PID: 352 | Burst: 5 | start: 967, end: 968 | wait : 0 | turnaround : 3\n",
      "927\n",
      "PID: 415 | Burst: 0 | start: 968, end: 969 | wait : 0 | turnaround : 3\n",
      "927\n",
      "PID: 851 | Burst: 1 | start: 969, end: 970 | wait : 0 | turnaround : 3\n",
      "929\n",
      "PID: 857 | Burst: 1 | start: 970, end: 971 | wait : 4 | turnaround : 7\n",
      "932\n",
      "PID: 156 | Burst: 0 | start: 971, end: 972 | wait : 0 | turnaround : 3\n",
      "932\n",
      "PID: 733 | Burst: 7 | start: 972, end: 973 | wait : 7 | turnaround : 10\n",
      "934\n",
      "PID: 219 | Burst: 0 | start: 973, end: 974 | wait : 5 | turnaround : 8\n",
      "933\n",
      "PID: 46 | Burst: 3 | start: 974, end: 975 | wait : 3 | turnaround : 6\n",
      "933\n",
      "PID: 46 | Burst: 2 | start: 975, end: 976 | wait : 3 | turnaround : 7\n",
      "933\n",
      "PID: 733 | Burst: 6 | start: 976, end: 977 | wait : 10 | turnaround : 14\n",
      "935\n",
      "PID: 891 | Burst: 1 | start: 977, end: 978 | wait : 0 | turnaround : 4\n",
      "936\n",
      "PID: 769 | Burst: 7 | start: 978, end: 979 | wait : 1 | turnaround : 5\n",
      "938\n",
      "PID: 415 | Burst: 0 | start: 979, end: 980 | wait : 0 | turnaround : 4\n",
      "938\n",
      "PID: 162 | Burst: 9 | start: 980, end: 981 | wait : 6 | turnaround : 10\n",
      "939\n",
      "PID: 141 | Burst: 4 | start: 981, end: 982 | wait : 0 | turnaround : 4\n",
      "941\n",
      "PID: 156 | Burst: 3 | start: 982, end: 983 | wait : 0 | turnaround : 4\n",
      "942\n",
      "PID: 874 | Burst: 8 | start: 983, end: 984 | wait : 0 | turnaround : 3\n",
      "942\n",
      "PID: 41 | Burst: 1 | start: 984, end: 985 | wait : 16 | turnaround : 19\n",
      "944\n",
      "PID: 887 | Burst: 7 | start: 985, end: 986 | wait : 0 | turnaround : 3\n",
      "945\n",
      "PID: 571 | Burst: 6 | start: 986, end: 987 | wait : 0 | turnaround : 3\n",
      "947\n",
      "PID: 728 | Burst: 8 | start: 987, end: 988 | wait : 0 | turnaround : 3\n",
      "948\n",
      "PID: 109 | Burst: 7 | start: 988, end: 989 | wait : 1 | turnaround : 4\n",
      "949\n",
      "PID: 791 | Burst: 6 | start: 989, end: 990 | wait : 0 | turnaround : 3\n",
      "950\n",
      "PID: 650 | Burst: 2 | start: 990, end: 991 | wait : 0 | turnaround : 3\n",
      "951\n",
      "PID: 96 | Burst: 9 | start: 991, end: 992 | wait : 5 | turnaround : 8\n",
      "954\n",
      "PID: 914 | Burst: 3 | start: 992, end: 993 | wait : 22 | turnaround : 25\n",
      "955\n",
      "PID: 393 | Burst: 10 | start: 993, end: 994 | wait : 28 | turnaround : 31\n",
      "957\n",
      "PID: 187 | Burst: -1 | start: 994, end: 995 | wait : 0 | turnaround : 3\n",
      "956\n",
      "PID: 111 | Burst: 9 | start: 995, end: 996 | wait : 5 | turnaround : 8\n",
      "957\n",
      "PID: 111 | Burst: 8 | start: 996, end: 997 | wait : 5 | turnaround : 9\n",
      "958\n",
      "PID: 419 | Burst: 0 | start: 997, end: 998 | wait : 53 | turnaround : 57\n",
      "957\n",
      "PID: 635 | Burst: 7 | start: 998, end: 999 | wait : 57 | turnaround : 61\n",
      "958\n",
      "PID: 720 | Burst: 0 | start: 999, end: 1000 | wait : 58 | turnaround : 62\n",
      "959\n",
      "PID: 187 | Burst: 1 | start: 1000, end: 1001 | wait : 0 | turnaround : 4\n",
      "959\n",
      "PID: 837 | Burst: 9 | start: 1001, end: 1002 | wait : 344 | turnaround : 348\n",
      "959\n",
      "PID: 914 | Burst: 2 | start: 1002, end: 1003 | wait : 31 | turnaround : 35\n",
      "960\n",
      "PID: 436 | Burst: 1 | start: 1003, end: 1004 | wait : 39 | turnaround : 42\n",
      "961\n",
      "PID: 238 | Burst: 0 | start: 1004, end: 1005 | wait : 2 | turnaround : 5\n",
      "961\n",
      "PID: 355 | Burst: 7 | start: 1005, end: 1006 | wait : 11 | turnaround : 14\n",
      "962\n",
      "PID: 52 | Burst: 10 | start: 1006, end: 1007 | wait : 5 | turnaround : 8\n",
      "963\n",
      "PID: 575 | Burst: 1 | start: 1007, end: 1008 | wait : 11 | turnaround : 14\n",
      "964\n",
      "PID: 280 | Burst: 10 | start: 1008, end: 1009 | wait : 10 | turnaround : 13\n",
      "965\n",
      "PID: 455 | Burst: 5 | start: 1009, end: 1010 | wait : 15 | turnaround : 18\n",
      "965\n",
      "PID: 455 | Burst: 4 | start: 1010, end: 1011 | wait : 15 | turnaround : 19\n",
      "966\n",
      "PID: 280 | Burst: 9 | start: 1011, end: 1012 | wait : 12 | turnaround : 16\n",
      "966\n",
      "PID: 575 | Burst: 0 | start: 1012, end: 1013 | wait : 15 | turnaround : 19\n",
      "965\n",
      "PID: 355 | Burst: 6 | start: 1013, end: 1014 | wait : 18 | turnaround : 22\n",
      "965\n",
      "PID: 52 | Burst: 9 | start: 1014, end: 1015 | wait : 12 | turnaround : 16\n",
      "965\n",
      "PID: 393 | Burst: 9 | start: 1015, end: 1016 | wait : 49 | turnaround : 53\n",
      "965\n",
      "PID: 436 | Burst: 0 | start: 1016, end: 1017 | wait : 51 | turnaround : 55\n",
      "964\n",
      "PID: 96 | Burst: 8 | start: 1017, end: 1018 | wait : 30 | turnaround : 34\n",
      "965\n",
      "PID: 238 | Burst: 0 | start: 1018, end: 1019 | wait : 2 | turnaround : 6\n",
      "964\n",
      "PID: 111 | Burst: 7 | start: 1019, end: 1020 | wait : 27 | turnaround : 32\n",
      "965\n",
      "PID: 721 | Burst: -1 | start: 1020, end: 1021 | wait : 14 | turnaround : 18\n",
      "965\n",
      "PID: 575 | Burst: 1 | start: 1021, end: 1022 | wait : 15 | turnaround : 20\n",
      "965\n",
      "PID: 575 | Burst: 0 | start: 1022, end: 1023 | wait : 15 | turnaround : 21\n",
      "964\n",
      "PID: 393 | Burst: 8 | start: 1023, end: 1024 | wait : 56 | turnaround : 61\n",
      "965\n",
      "PID: 280 | Burst: 8 | start: 1024, end: 1025 | wait : 24 | turnaround : 29\n",
      "965\n",
      "PID: 355 | Burst: 5 | start: 1025, end: 1026 | wait : 29 | turnaround : 34\n",
      "966\n",
      "PID: 140 | Burst: -1 | start: 1026, end: 1027 | wait : 30 | turnaround : 34\n",
      "965\n",
      "PID: 635 | Burst: 6 | start: 1027, end: 1028 | wait : 85 | turnaround : 90\n",
      "966\n",
      "PID: 436 | Burst: 2 | start: 1028, end: 1029 | wait : 51 | turnaround : 56\n",
      "967\n",
      "PID: 140 | Burst: 2 | start: 1029, end: 1030 | wait : 30 | turnaround : 35\n",
      "967\n",
      "PID: 140 | Burst: 1 | start: 1030, end: 1031 | wait : 30 | turnaround : 36\n",
      "968\n",
      "PID: 238 | Burst: 2 | start: 1031, end: 1032 | wait : 2 | turnaround : 7\n",
      "968\n",
      "PID: 238 | Burst: 1 | start: 1032, end: 1033 | wait : 2 | turnaround : 8\n",
      "969\n",
      "PID: 238 | Burst: 0 | start: 1033, end: 1034 | wait : 2 | turnaround : 9\n",
      "968\n",
      "PID: 575 | Burst: 1 | start: 1034, end: 1035 | wait : 16 | turnaround : 23\n",
      "968\n",
      "PID: 436 | Burst: 1 | start: 1035, end: 1036 | wait : 57 | turnaround : 63\n",
      "969\n",
      "PID: 436 | Burst: 0 | start: 1036, end: 1037 | wait : 57 | turnaround : 64\n",
      "969\n",
      "PID: 800 | Burst: 1 | start: 1037, end: 1038 | wait : 97 | turnaround : 102\n",
      "969\n",
      "PID: 800 | Burst: 0 | start: 1038, end: 1039 | wait : 97 | turnaround : 103\n",
      "968\n",
      "PID: 635 | Burst: 5 | start: 1039, end: 1040 | wait : 96 | turnaround : 102\n",
      "968\n",
      "PID: 635 | Burst: 4 | start: 1040, end: 1041 | wait : 96 | turnaround : 103\n",
      "968\n",
      "PID: 140 | Burst: 0 | start: 1041, end: 1042 | wait : 40 | turnaround : 47\n",
      "967\n",
      "PID: 575 | Burst: 0 | start: 1042, end: 1043 | wait : 23 | turnaround : 31\n",
      "966\n",
      "PID: 635 | Burst: 3 | start: 1043, end: 1044 | wait : 98 | turnaround : 106\n",
      "966\n",
      "PID: 355 | Burst: 4 | start: 1044, end: 1045 | wait : 47 | turnaround : 53\n",
      "966\n",
      "PID: 355 | Burst: 3 | start: 1045, end: 1046 | wait : 47 | turnaround : 54\n",
      "966\n",
      "PID: 280 | Burst: 7 | start: 1046, end: 1047 | wait : 45 | turnaround : 51\n",
      "966\n",
      "PID: 280 | Burst: 6 | start: 1047, end: 1048 | wait : 45 | turnaround : 52\n",
      "966\n",
      "PID: 280 | Burst: 5 | start: 1048, end: 1049 | wait : 45 | turnaround : 53\n",
      "966\n",
      "PID: 355 | Burst: 2 | start: 1049, end: 1050 | wait : 50 | turnaround : 58\n",
      "968\n",
      "PID: 393 | Burst: 7 | start: 1050, end: 1051 | wait : 82 | turnaround : 88\n",
      "969\n",
      "PID: 393 | Burst: 6 | start: 1051, end: 1052 | wait : 82 | turnaround : 89\n",
      "969\n",
      "PID: 393 | Burst: 5 | start: 1052, end: 1053 | wait : 82 | turnaround : 90\n",
      "969\n",
      "PID: 140 | Burst: 2 | start: 1053, end: 1054 | wait : 42 | turnaround : 50\n",
      "969\n",
      "PID: 800 | Burst: 0 | start: 1054, end: 1055 | wait : 101 | turnaround : 108\n",
      "968\n",
      "PID: 436 | Burst: 3 | start: 1055, end: 1056 | wait : 62 | turnaround : 70\n",
      "968\n",
      "PID: 52 | Burst: 8 | start: 1056, end: 1057 | wait : 53 | turnaround : 58\n",
      "968\n",
      "PID: 52 | Burst: 7 | start: 1057, end: 1058 | wait : 53 | turnaround : 59\n",
      "968\n",
      "PID: 370 | Burst: -1 | start: 1058, end: 1059 | wait : 38 | turnaround : 44\n",
      "967\n",
      "PID: 52 | Burst: 6 | start: 1059, end: 1060 | wait : 54 | turnaround : 61\n",
      "968\n",
      "PID: 455 | Burst: 3 | start: 1060, end: 1061 | wait : 64 | turnaround : 69\n",
      "968\n",
      "PID: 455 | Burst: 2 | start: 1061, end: 1062 | wait : 64 | turnaround : 70\n",
      "968\n",
      "PID: 419 | Burst: 1 | start: 1062, end: 1063 | wait : 104 | turnaround : 109\n",
      "969\n",
      "PID: 419 | Burst: 0 | start: 1063, end: 1064 | wait : 104 | turnaround : 110\n",
      "968\n",
      "PID: 370 | Burst: 0 | start: 1064, end: 1065 | wait : 42 | turnaround : 49\n",
      "967\n",
      "PID: 455 | Burst: 1 | start: 1065, end: 1066 | wait : 67 | turnaround : 74\n",
      "967\n",
      "PID: 455 | Burst: 0 | start: 1066, end: 1067 | wait : 67 | turnaround : 75\n",
      "966\n",
      "PID: 800 | Burst: 1 | start: 1067, end: 1068 | wait : 105 | turnaround : 113\n",
      "966\n",
      "PID: 914 | Burst: 1 | start: 1068, end: 1069 | wait : 96 | turnaround : 101\n",
      "967\n",
      "PID: 914 | Burst: 0 | start: 1069, end: 1070 | wait : 96 | turnaround : 102\n",
      "966\n",
      "PID: 800 | Burst: 0 | start: 1070, end: 1071 | wait : 107 | turnaround : 116\n",
      "965\n",
      "PID: 455 | Burst: 12 | start: 1071, end: 1072 | wait : 69 | turnaround : 78\n",
      "965\n",
      "PID: 837 | Burst: 8 | start: 1072, end: 1073 | wait : 414 | turnaround : 419\n",
      "965\n",
      "PID: 837 | Burst: 7 | start: 1073, end: 1074 | wait : 414 | turnaround : 420\n",
      "965\n",
      "PID: 837 | Burst: 6 | start: 1074, end: 1075 | wait : 414 | turnaround : 421\n",
      "966\n",
      "PID: 419 | Burst: 0 | start: 1075, end: 1076 | wait : 104 | turnaround : 111\n",
      "966\n",
      "PID: 370 | Burst: 0 | start: 1076, end: 1077 | wait : 42 | turnaround : 50\n",
      "965\n",
      "PID: 187 | Burst: 0 | start: 1077, end: 1078 | wait : 76 | turnaround : 81\n",
      "964\n",
      "PID: 111 | Burst: 6 | start: 1078, end: 1079 | wait : 85 | turnaround : 91\n",
      "964\n",
      "PID: 96 | Burst: 7 | start: 1079, end: 1080 | wait : 91 | turnaround : 96\n",
      "964\n",
      "PID: 96 | Burst: 6 | start: 1080, end: 1081 | wait : 91 | turnaround : 97\n",
      "964\n",
      "PID: 96 | Burst: 5 | start: 1081, end: 1082 | wait : 91 | turnaround : 98\n",
      "964\n",
      "PID: 111 | Burst: 5 | start: 1082, end: 1083 | wait : 88 | turnaround : 95\n",
      "965\n",
      "PID: 914 | Burst: 0 | start: 1083, end: 1084 | wait : 96 | turnaround : 103\n",
      "964\n",
      "PID: 635 | Burst: 2 | start: 1084, end: 1085 | wait : 138 | turnaround : 147\n",
      "964\n",
      "PID: 355 | Burst: 1 | start: 1085, end: 1086 | wait : 85 | turnaround : 94\n",
      "964\n",
      "PID: 140 | Burst: 1 | start: 1086, end: 1087 | wait : 74 | turnaround : 83\n",
      "965\n",
      "PID: 187 | Burst: 2 | start: 1087, end: 1088 | wait : 76 | turnaround : 82\n",
      "965\n",
      "PID: 187 | Burst: 1 | start: 1088, end: 1089 | wait : 76 | turnaround : 83\n",
      "966\n",
      "PID: 187 | Burst: 0 | start: 1089, end: 1090 | wait : 76 | turnaround : 84\n",
      "965\n",
      "PID: 419 | Burst: 0 | start: 1090, end: 1091 | wait : 105 | turnaround : 113\n",
      "964\n",
      "PID: 635 | Burst: 1 | start: 1091, end: 1092 | wait : 144 | turnaround : 154\n",
      "964\n",
      "PID: 355 | Burst: 0 | start: 1092, end: 1093 | wait : 91 | turnaround : 101\n",
      "963\n",
      "PID: 140 | Burst: 0 | start: 1093, end: 1094 | wait : 80 | turnaround : 90\n",
      "962\n",
      "PID: 635 | Burst: 0 | start: 1094, end: 1095 | wait : 146 | turnaround : 157\n",
      "961\n",
      "PID: 96 | Burst: 4 | start: 1095, end: 1096 | wait : 104 | turnaround : 112\n",
      "962\n",
      "PID: 96 | Burst: 3 | start: 1096, end: 1097 | wait : 104 | turnaround : 113\n",
      "963\n",
      "PID: 96 | Burst: 2 | start: 1097, end: 1098 | wait : 104 | turnaround : 114\n",
      "963\n",
      "PID: 96 | Burst: 1 | start: 1098, end: 1099 | wait : 104 | turnaround : 115\n",
      "963\n",
      "PID: 96 | Burst: 0 | start: 1099, end: 1100 | wait : 104 | turnaround : 116\n",
      "962\n",
      "PID: 111 | Burst: 4 | start: 1100, end: 1101 | wait : 105 | turnaround : 113\n",
      "963\n",
      "PID: 111 | Burst: 3 | start: 1101, end: 1102 | wait : 105 | turnaround : 114\n",
      "963\n",
      "PID: 111 | Burst: 2 | start: 1102, end: 1103 | wait : 105 | turnaround : 115\n",
      "963\n",
      "PID: 393 | Burst: 4 | start: 1103, end: 1104 | wait : 132 | turnaround : 141\n",
      "964\n",
      "PID: 419 | Burst: 1 | start: 1104, end: 1105 | wait : 105 | turnaround : 114\n",
      "964\n",
      "PID: 419 | Burst: 0 | start: 1105, end: 1106 | wait : 105 | turnaround : 115\n",
      "963\n",
      "PID: 393 | Burst: 3 | start: 1106, end: 1107 | wait : 134 | turnaround : 144\n",
      "963\n",
      "PID: 393 | Burst: 2 | start: 1107, end: 1108 | wait : 134 | turnaround : 145\n",
      "963\n",
      "PID: 111 | Burst: 1 | start: 1108, end: 1109 | wait : 110 | turnaround : 121\n",
      "963\n",
      "PID: 111 | Burst: 0 | start: 1109, end: 1110 | wait : 110 | turnaround : 122\n",
      "962\n",
      "PID: 393 | Burst: 1 | start: 1110, end: 1111 | wait : 136 | turnaround : 148\n",
      "963\n",
      "PID: 610 | Burst: 8 | start: 1111, end: 1112 | wait : 147 | turnaround : 151\n",
      "963\n",
      "PID: 610 | Burst: 7 | start: 1112, end: 1113 | wait : 147 | turnaround : 152\n",
      "963\n",
      "PID: 405 | Burst: 2 | start: 1113, end: 1114 | wait : 143 | turnaround : 148\n",
      "963\n",
      "PID: 405 | Burst: 1 | start: 1114, end: 1115 | wait : 143 | turnaround : 149\n",
      "963\n",
      "PID: 610 | Burst: 6 | start: 1115, end: 1116 | wait : 149 | turnaround : 155\n",
      "963\n",
      "PID: 610 | Burst: 5 | start: 1116, end: 1117 | wait : 149 | turnaround : 156\n",
      "963\n",
      "PID: 405 | Burst: 0 | start: 1117, end: 1118 | wait : 145 | turnaround : 152\n",
      "962\n",
      "PID: 610 | Burst: 4 | start: 1118, end: 1119 | wait : 150 | turnaround : 158\n",
      "962\n",
      "PID: 352 | Burst: 4 | start: 1119, end: 1120 | wait : 151 | turnaround : 155\n",
      "962\n",
      "PID: 851 | Burst: 0 | start: 1120, end: 1121 | wait : 150 | turnaround : 154\n",
      "961\n",
      "PID: 352 | Burst: 3 | start: 1121, end: 1122 | wait : 152 | turnaround : 157\n",
      "961\n",
      "PID: 352 | Burst: 2 | start: 1122, end: 1123 | wait : 152 | turnaround : 158\n",
      "961\n",
      "PID: 857 | Burst: 0 | start: 1123, end: 1124 | wait : 156 | turnaround : 160\n",
      "960\n",
      "PID: 352 | Burst: 1 | start: 1124, end: 1125 | wait : 153 | turnaround : 160\n",
      "960\n",
      "PID: 352 | Burst: 0 | start: 1125, end: 1126 | wait : 153 | turnaround : 161\n",
      "959\n",
      "PID: 280 | Burst: 4 | start: 1126, end: 1127 | wait : 122 | turnaround : 131\n",
      "959\n",
      "PID: 610 | Burst: 3 | start: 1127, end: 1128 | wait : 158 | turnaround : 167\n",
      "959\n",
      "PID: 610 | Burst: 2 | start: 1128, end: 1129 | wait : 158 | turnaround : 168\n",
      "960\n",
      "PID: 352 | Burst: 8 | start: 1129, end: 1130 | wait : 153 | turnaround : 162\n",
      "960\n",
      "PID: 352 | Burst: 7 | start: 1130, end: 1131 | wait : 153 | turnaround : 163\n",
      "960\n",
      "PID: 352 | Burst: 6 | start: 1131, end: 1132 | wait : 153 | turnaround : 164\n",
      "960\n",
      "PID: 352 | Burst: 5 | start: 1132, end: 1133 | wait : 153 | turnaround : 165\n",
      "961\n",
      "PID: 851 | Burst: 0 | start: 1133, end: 1134 | wait : 150 | turnaround : 155\n",
      "960\n",
      "PID: 111 | Burst: 7 | start: 1134, end: 1135 | wait : 133 | turnaround : 146\n",
      "961\n",
      "PID: 857 | Burst: 3 | start: 1135, end: 1136 | wait : 156 | turnaround : 161\n",
      "961\n",
      "PID: 857 | Burst: 2 | start: 1136, end: 1137 | wait : 156 | turnaround : 162\n",
      "961\n",
      "PID: 857 | Burst: 1 | start: 1137, end: 1138 | wait : 156 | turnaround : 163\n",
      "961\n",
      "PID: 857 | Burst: 0 | start: 1138, end: 1139 | wait : 156 | turnaround : 164\n",
      "960\n",
      "PID: 393 | Burst: 0 | start: 1139, end: 1140 | wait : 164 | turnaround : 177\n",
      "959\n",
      "PID: 352 | Burst: 4 | start: 1140, end: 1141 | wait : 160 | turnaround : 173\n",
      "959\n",
      "PID: 352 | Burst: 3 | start: 1141, end: 1142 | wait : 160 | turnaround : 174\n",
      "959\n",
      "PID: 111 | Burst: 6 | start: 1142, end: 1143 | wait : 140 | turnaround : 154\n",
      "960\n",
      "PID: 393 | Burst: 8 | start: 1143, end: 1144 | wait : 164 | turnaround : 178\n",
      "960\n",
      "PID: 393 | Burst: 7 | start: 1144, end: 1145 | wait : 164 | turnaround : 179\n",
      "960\n",
      "PID: 111 | Burst: 5 | start: 1145, end: 1146 | wait : 142 | turnaround : 157\n",
      "960\n",
      "PID: 111 | Burst: 4 | start: 1146, end: 1147 | wait : 142 | turnaround : 158\n",
      "960\n",
      "PID: 393 | Burst: 6 | start: 1147, end: 1148 | wait : 166 | turnaround : 182\n",
      "961\n",
      "PID: 857 | Burst: 3 | start: 1148, end: 1149 | wait : 156 | turnaround : 165\n",
      "961\n",
      "PID: 857 | Burst: 2 | start: 1149, end: 1150 | wait : 156 | turnaround : 166\n",
      "961\n",
      "PID: 857 | Burst: 1 | start: 1150, end: 1151 | wait : 156 | turnaround : 167\n",
      "961\n",
      "PID: 857 | Burst: 0 | start: 1151, end: 1152 | wait : 156 | turnaround : 168\n",
      "960\n",
      "PID: 352 | Burst: 2 | start: 1152, end: 1153 | wait : 170 | turnaround : 185\n",
      "960\n",
      "PID: 352 | Burst: 1 | start: 1153, end: 1154 | wait : 170 | turnaround : 186\n",
      "960\n",
      "PID: 352 | Burst: 0 | start: 1154, end: 1155 | wait : 170 | turnaround : 187\n",
      "959\n",
      "PID: 393 | Burst: 5 | start: 1155, end: 1156 | wait : 173 | turnaround : 190\n",
      "960\n",
      "PID: 393 | Burst: 4 | start: 1156, end: 1157 | wait : 173 | turnaround : 191\n",
      "960\n",
      "PID: 352 | Burst: 11 | start: 1157, end: 1158 | wait : 171 | turnaround : 189\n",
      "960\n",
      "PID: 352 | Burst: 10 | start: 1158, end: 1159 | wait : 171 | turnaround : 190\n",
      "960\n",
      "PID: 393 | Burst: 3 | start: 1159, end: 1160 | wait : 175 | turnaround : 194\n",
      "960\n",
      "PID: 393 | Burst: 2 | start: 1160, end: 1161 | wait : 175 | turnaround : 195\n",
      "960\n",
      "PID: 352 | Burst: 9 | start: 1161, end: 1162 | wait : 173 | turnaround : 193\n",
      "960\n",
      "PID: 352 | Burst: 8 | start: 1162, end: 1163 | wait : 173 | turnaround : 194\n",
      "960\n",
      "PID: 393 | Burst: 1 | start: 1163, end: 1164 | wait : 177 | turnaround : 198\n",
      "960\n",
      "PID: 393 | Burst: 0 | start: 1164, end: 1165 | wait : 177 | turnaround : 199\n",
      "959\n",
      "PID: 352 | Burst: 7 | start: 1165, end: 1166 | wait : 175 | turnaround : 197\n",
      "959\n",
      "PID: 352 | Burst: 6 | start: 1166, end: 1167 | wait : 175 | turnaround : 198\n",
      "959\n",
      "PID: 111 | Burst: 3 | start: 1167, end: 1168 | wait : 162 | turnaround : 179\n",
      "960\n",
      "PID: 111 | Burst: 2 | start: 1168, end: 1169 | wait : 162 | turnaround : 180\n",
      "960\n",
      "PID: 111 | Burst: 1 | start: 1169, end: 1170 | wait : 162 | turnaround : 181\n",
      "960\n",
      "PID: 111 | Burst: 0 | start: 1170, end: 1171 | wait : 162 | turnaround : 182\n",
      "959\n",
      "PID: 393 | Burst: 11 | start: 1171, end: 1172 | wait : 180 | turnaround : 203\n",
      "959\n",
      "PID: 393 | Burst: 10 | start: 1172, end: 1173 | wait : 180 | turnaround : 204\n",
      "959\n",
      "PID: 352 | Burst: 5 | start: 1173, end: 1174 | wait : 181 | turnaround : 205\n",
      "959\n",
      "PID: 352 | Burst: 4 | start: 1174, end: 1175 | wait : 181 | turnaround : 206\n",
      "960\n",
      "PID: 111 | Burst: 12 | start: 1175, end: 1176 | wait : 162 | turnaround : 183\n",
      "960\n",
      "PID: 111 | Burst: 11 | start: 1176, end: 1177 | wait : 162 | turnaround : 184\n",
      "960\n",
      "PID: 111 | Burst: 10 | start: 1177, end: 1178 | wait : 162 | turnaround : 185\n",
      "960\n",
      "PID: 111 | Burst: 9 | start: 1178, end: 1179 | wait : 162 | turnaround : 186\n",
      "960\n",
      "PID: 111 | Burst: 8 | start: 1179, end: 1180 | wait : 162 | turnaround : 187\n",
      "960\n",
      "PID: 111 | Burst: 7 | start: 1180, end: 1181 | wait : 162 | turnaround : 188\n",
      "960\n",
      "PID: 111 | Burst: 6 | start: 1181, end: 1182 | wait : 162 | turnaround : 189\n",
      "960\n",
      "PID: 111 | Burst: 5 | start: 1182, end: 1183 | wait : 162 | turnaround : 190\n",
      "960\n",
      "PID: 111 | Burst: 4 | start: 1183, end: 1184 | wait : 162 | turnaround : 191\n",
      "960\n",
      "PID: 111 | Burst: 3 | start: 1184, end: 1185 | wait : 162 | turnaround : 192\n",
      "960\n",
      "PID: 111 | Burst: 2 | start: 1185, end: 1186 | wait : 162 | turnaround : 193\n",
      "960\n",
      "PID: 111 | Burst: 1 | start: 1186, end: 1187 | wait : 162 | turnaround : 194\n",
      "960\n",
      "PID: 111 | Burst: 0 | start: 1187, end: 1188 | wait : 162 | turnaround : 195\n",
      "959\n",
      "PID: 837 | Burst: 5 | start: 1188, end: 1189 | wait : 527 | turnaround : 535\n",
      "959\n",
      "PID: 837 | Burst: 4 | start: 1189, end: 1190 | wait : 527 | turnaround : 536\n",
      "959\n",
      "PID: 837 | Burst: 3 | start: 1190, end: 1191 | wait : 527 | turnaround : 537\n",
      "960\n",
      "PID: 837 | Burst: 2 | start: 1191, end: 1192 | wait : 527 | turnaround : 538\n",
      "960\n",
      "PID: 837 | Burst: 1 | start: 1192, end: 1193 | wait : 527 | turnaround : 539\n",
      "960\n",
      "PID: 837 | Burst: 0 | start: 1193, end: 1194 | wait : 527 | turnaround : 540\n",
      "959\n",
      "PID: 111 | Burst: 10 | start: 1194, end: 1195 | wait : 165 | turnaround : 199\n",
      "959\n",
      "PID: 111 | Burst: 9 | start: 1195, end: 1196 | wait : 165 | turnaround : 200\n",
      "959\n",
      "PID: 111 | Burst: 8 | start: 1196, end: 1197 | wait : 165 | turnaround : 201\n",
      "959\n",
      "PID: 111 | Burst: 7 | start: 1197, end: 1198 | wait : 165 | turnaround : 202\n",
      "960\n",
      "PID: 837 | Burst: 8 | start: 1198, end: 1199 | wait : 527 | turnaround : 541\n",
      "960\n",
      "PID: 837 | Burst: 7 | start: 1199, end: 1200 | wait : 527 | turnaround : 542\n",
      "960\n",
      "PID: 837 | Burst: 6 | start: 1200, end: 1201 | wait : 527 | turnaround : 543\n",
      "960\n",
      "PID: 837 | Burst: 5 | start: 1201, end: 1202 | wait : 527 | turnaround : 544\n",
      "960\n",
      "PID: 837 | Burst: 4 | start: 1202, end: 1203 | wait : 527 | turnaround : 545\n",
      "960\n",
      "PID: 837 | Burst: 3 | start: 1203, end: 1204 | wait : 527 | turnaround : 546\n",
      "960\n",
      "PID: 837 | Burst: 2 | start: 1204, end: 1205 | wait : 527 | turnaround : 547\n",
      "960\n",
      "PID: 837 | Burst: 1 | start: 1205, end: 1206 | wait : 527 | turnaround : 548\n",
      "960\n",
      "PID: 837 | Burst: 0 | start: 1206, end: 1207 | wait : 527 | turnaround : 549\n",
      "959\n",
      "PID: 111 | Burst: 6 | start: 1207, end: 1208 | wait : 174 | turnaround : 212\n",
      "960\n",
      "PID: 837 | Burst: 12 | start: 1208, end: 1209 | wait : 527 | turnaround : 550\n",
      "960\n",
      "PID: 837 | Burst: 11 | start: 1209, end: 1210 | wait : 527 | turnaround : 551\n",
      "960\n",
      "PID: 837 | Burst: 10 | start: 1210, end: 1211 | wait : 527 | turnaround : 552\n",
      "960\n",
      "PID: 837 | Burst: 9 | start: 1211, end: 1212 | wait : 527 | turnaround : 553\n",
      "960\n",
      "PID: 837 | Burst: 8 | start: 1212, end: 1213 | wait : 527 | turnaround : 554\n",
      "960\n",
      "PID: 837 | Burst: 7 | start: 1213, end: 1214 | wait : 527 | turnaround : 555\n",
      "960\n",
      "PID: 837 | Burst: 6 | start: 1214, end: 1215 | wait : 527 | turnaround : 556\n",
      "960\n",
      "PID: 837 | Burst: 5 | start: 1215, end: 1216 | wait : 527 | turnaround : 557\n",
      "960\n",
      "PID: 837 | Burst: 4 | start: 1216, end: 1217 | wait : 527 | turnaround : 558\n",
      "960\n",
      "PID: 837 | Burst: 3 | start: 1217, end: 1218 | wait : 527 | turnaround : 559\n",
      "960\n",
      "PID: 837 | Burst: 2 | start: 1218, end: 1219 | wait : 527 | turnaround : 560\n",
      "960\n",
      "PID: 837 | Burst: 1 | start: 1219, end: 1220 | wait : 527 | turnaround : 561\n",
      "960\n",
      "PID: 837 | Burst: 0 | start: 1220, end: 1221 | wait : 527 | turnaround : 562\n",
      "959\n",
      "PID: 111 | Burst: 5 | start: 1221, end: 1222 | wait : 187 | turnaround : 226\n",
      "959\n",
      "PID: 111 | Burst: 4 | start: 1222, end: 1223 | wait : 187 | turnaround : 227\n",
      "960\n",
      "PID: 837 | Burst: 7 | start: 1223, end: 1224 | wait : 527 | turnaround : 563\n",
      "960\n",
      "PID: 837 | Burst: 6 | start: 1224, end: 1225 | wait : 527 | turnaround : 564\n",
      "960\n",
      "PID: 837 | Burst: 5 | start: 1225, end: 1226 | wait : 527 | turnaround : 565\n",
      "960\n",
      "PID: 837 | Burst: 4 | start: 1226, end: 1227 | wait : 527 | turnaround : 566\n",
      "960\n",
      "PID: 837 | Burst: 3 | start: 1227, end: 1228 | wait : 527 | turnaround : 567\n",
      "960\n",
      "PID: 837 | Burst: 2 | start: 1228, end: 1229 | wait : 527 | turnaround : 568\n",
      "960\n",
      "PID: 111 | Burst: 3 | start: 1229, end: 1230 | wait : 193 | turnaround : 234\n",
      "960\n",
      "PID: 111 | Burst: 2 | start: 1230, end: 1231 | wait : 193 | turnaround : 235\n",
      "960\n",
      "PID: 837 | Burst: 1 | start: 1231, end: 1232 | wait : 529 | turnaround : 571\n",
      "960\n",
      "PID: 837 | Burst: 0 | start: 1232, end: 1233 | wait : 529 | turnaround : 572\n",
      "959\n",
      "PID: 111 | Burst: 1 | start: 1233, end: 1234 | wait : 195 | turnaround : 238\n",
      "959\n",
      "PID: 111 | Burst: 0 | start: 1234, end: 1235 | wait : 195 | turnaround : 239\n",
      "958\n",
      "PID: 455 | Burst: 11 | start: 1235, end: 1236 | wait : 232 | turnaround : 242\n",
      "958\n",
      "PID: 455 | Burst: 10 | start: 1236, end: 1237 | wait : 232 | turnaround : 243\n",
      "958\n",
      "PID: 455 | Burst: 9 | start: 1237, end: 1238 | wait : 232 | turnaround : 244\n",
      "958\n",
      "PID: 455 | Burst: 8 | start: 1238, end: 1239 | wait : 232 | turnaround : 245\n",
      "958\n",
      "PID: 455 | Burst: 7 | start: 1239, end: 1240 | wait : 232 | turnaround : 246\n",
      "958\n",
      "PID: 455 | Burst: 6 | start: 1240, end: 1241 | wait : 232 | turnaround : 247\n",
      "958\n",
      "PID: 455 | Burst: 5 | start: 1241, end: 1242 | wait : 232 | turnaround : 248\n",
      "958\n",
      "PID: 455 | Burst: 4 | start: 1242, end: 1243 | wait : 232 | turnaround : 249\n",
      "958\n",
      "PID: 726 | Burst: 3 | start: 1243, end: 1244 | wait : 573 | turnaround : 577\n",
      "958\n",
      "PID: 726 | Burst: 2 | start: 1244, end: 1245 | wait : 573 | turnaround : 578\n",
      "958\n",
      "PID: 726 | Burst: 1 | start: 1245, end: 1246 | wait : 573 | turnaround : 579\n",
      "958\n",
      "PID: 726 | Burst: 0 | start: 1246, end: 1247 | wait : 573 | turnaround : 580\n",
      "957\n",
      "PID: 52 | Burst: 5 | start: 1247, end: 1248 | wait : 241 | turnaround : 249\n",
      "957\n",
      "PID: 52 | Burst: 4 | start: 1248, end: 1249 | wait : 241 | turnaround : 250\n",
      "957\n",
      "PID: 52 | Burst: 3 | start: 1249, end: 1250 | wait : 241 | turnaround : 251\n",
      "957\n",
      "PID: 52 | Burst: 2 | start: 1250, end: 1251 | wait : 241 | turnaround : 252\n",
      "957\n",
      "PID: 52 | Burst: 1 | start: 1251, end: 1252 | wait : 241 | turnaround : 253\n",
      "957\n",
      "PID: 52 | Burst: 0 | start: 1252, end: 1253 | wait : 241 | turnaround : 254\n",
      "956\n",
      "PID: 607 | Burst: 8 | start: 1253, end: 1254 | wait : 247 | turnaround : 264\n",
      "956\n",
      "PID: 607 | Burst: 7 | start: 1254, end: 1255 | wait : 247 | turnaround : 265\n",
      "957\n",
      "PID: 52 | Burst: 8 | start: 1255, end: 1256 | wait : 241 | turnaround : 255\n",
      "957\n",
      "PID: 52 | Burst: 7 | start: 1256, end: 1257 | wait : 241 | turnaround : 256\n",
      "957\n",
      "PID: 52 | Burst: 6 | start: 1257, end: 1258 | wait : 241 | turnaround : 257\n",
      "957\n",
      "PID: 52 | Burst: 5 | start: 1258, end: 1259 | wait : 241 | turnaround : 258\n",
      "957\n",
      "PID: 52 | Burst: 4 | start: 1259, end: 1260 | wait : 241 | turnaround : 259\n",
      "957\n",
      "PID: 52 | Burst: 3 | start: 1260, end: 1261 | wait : 241 | turnaround : 260\n",
      "957\n",
      "PID: 923 | Burst: 3 | start: 1261, end: 1262 | wait : 962 | turnaround : 968\n",
      "957\n",
      "PID: 923 | Burst: 2 | start: 1262, end: 1263 | wait : 962 | turnaround : 969\n",
      "957\n",
      "PID: 137 | Burst: 0 | start: 1263, end: 1264 | wait : 588 | turnaround : 594\n",
      "956\n",
      "PID: 52 | Burst: 2 | start: 1264, end: 1265 | wait : 244 | turnaround : 264\n",
      "956\n",
      "PID: 52 | Burst: 1 | start: 1265, end: 1266 | wait : 244 | turnaround : 265\n",
      "956\n",
      "PID: 923 | Burst: 1 | start: 1266, end: 1267 | wait : 965 | turnaround : 973\n",
      "956\n",
      "PID: 923 | Burst: 0 | start: 1267, end: 1268 | wait : 965 | turnaround : 974\n",
      "955\n",
      "PID: 455 | Burst: 3 | start: 1268, end: 1269 | wait : 257 | turnaround : 275\n",
      "956\n",
      "PID: 923 | Burst: 11 | start: 1269, end: 1270 | wait : 965 | turnaround : 975\n",
      "956\n",
      "PID: 923 | Burst: 10 | start: 1270, end: 1271 | wait : 965 | turnaround : 976\n",
      "956\n",
      "PID: 923 | Burst: 9 | start: 1271, end: 1272 | wait : 965 | turnaround : 977\n",
      "957\n",
      "PID: 137 | Burst: 3 | start: 1272, end: 1273 | wait : 588 | turnaround : 595\n",
      "957\n",
      "PID: 137 | Burst: 2 | start: 1273, end: 1274 | wait : 588 | turnaround : 596\n",
      "957\n",
      "PID: 137 | Burst: 1 | start: 1274, end: 1275 | wait : 588 | turnaround : 597\n",
      "957\n",
      "PID: 137 | Burst: 0 | start: 1275, end: 1276 | wait : 588 | turnaround : 598\n",
      "956\n",
      "PID: 923 | Burst: 8 | start: 1276, end: 1277 | wait : 969 | turnaround : 982\n",
      "956\n",
      "PID: 923 | Burst: 7 | start: 1277, end: 1278 | wait : 969 | turnaround : 983\n",
      "956\n",
      "PID: 923 | Burst: 6 | start: 1278, end: 1279 | wait : 969 | turnaround : 984\n",
      "956\n",
      "PID: 923 | Burst: 5 | start: 1279, end: 1280 | wait : 969 | turnaround : 985\n",
      "956\n",
      "PID: 923 | Burst: 4 | start: 1280, end: 1281 | wait : 969 | turnaround : 986\n",
      "956\n",
      "PID: 923 | Burst: 3 | start: 1281, end: 1282 | wait : 969 | turnaround : 987\n",
      "956\n",
      "PID: 923 | Burst: 2 | start: 1282, end: 1283 | wait : 969 | turnaround : 988\n",
      "956\n",
      "PID: 923 | Burst: 1 | start: 1283, end: 1284 | wait : 969 | turnaround : 989\n",
      "956\n",
      "PID: 824 | Burst: 8 | start: 1284, end: 1285 | wait : 610 | turnaround : 615\n",
      "957\n",
      "PID: 824 | Burst: 7 | start: 1285, end: 1286 | wait : 610 | turnaround : 616\n",
      "957\n",
      "PID: 824 | Burst: 6 | start: 1286, end: 1287 | wait : 610 | turnaround : 617\n",
      "957\n",
      "PID: 824 | Burst: 5 | start: 1287, end: 1288 | wait : 610 | turnaround : 618\n",
      "957\n",
      "PID: 824 | Burst: 4 | start: 1288, end: 1289 | wait : 610 | turnaround : 619\n",
      "957\n",
      "PID: 824 | Burst: 3 | start: 1289, end: 1290 | wait : 610 | turnaround : 620\n",
      "957\n",
      "PID: 824 | Burst: 2 | start: 1290, end: 1291 | wait : 610 | turnaround : 621\n",
      "957\n",
      "PID: 824 | Burst: 1 | start: 1291, end: 1292 | wait : 610 | turnaround : 622\n",
      "957\n",
      "PID: 824 | Burst: 0 | start: 1292, end: 1293 | wait : 610 | turnaround : 623\n",
      "956\n",
      "PID: 52 | Burst: 0 | start: 1293, end: 1294 | wait : 271 | turnaround : 293\n",
      "955\n",
      "PID: 455 | Burst: 2 | start: 1294, end: 1295 | wait : 282 | turnaround : 301\n",
      "956\n",
      "PID: 824 | Burst: 7 | start: 1295, end: 1296 | wait : 610 | turnaround : 624\n",
      "956\n",
      "PID: 824 | Burst: 6 | start: 1296, end: 1297 | wait : 610 | turnaround : 625\n",
      "957\n",
      "PID: 824 | Burst: 5 | start: 1297, end: 1298 | wait : 610 | turnaround : 626\n",
      "957\n",
      "PID: 824 | Burst: 4 | start: 1298, end: 1299 | wait : 610 | turnaround : 627\n",
      "957\n",
      "PID: 824 | Burst: 3 | start: 1299, end: 1300 | wait : 610 | turnaround : 628\n",
      "957\n",
      "PID: 986 | Burst: 5 | start: 1300, end: 1301 | wait : 627 | turnaround : 633\n",
      "957\n",
      "PID: 986 | Burst: 4 | start: 1301, end: 1302 | wait : 627 | turnaround : 634\n",
      "957\n",
      "PID: 986 | Burst: 3 | start: 1302, end: 1303 | wait : 627 | turnaround : 635\n",
      "957\n",
      "PID: 986 | Burst: 2 | start: 1303, end: 1304 | wait : 627 | turnaround : 636\n",
      "957\n",
      "PID: 986 | Burst: 1 | start: 1304, end: 1305 | wait : 627 | turnaround : 637\n",
      "957\n",
      "PID: 986 | Burst: 0 | start: 1305, end: 1306 | wait : 627 | turnaround : 638\n",
      "956\n",
      "PID: 607 | Burst: 6 | start: 1306, end: 1307 | wait : 298 | turnaround : 317\n",
      "956\n",
      "PID: 415 | Burst: 0 | start: 1307, end: 1308 | wait : 315 | turnaround : 320\n",
      "956\n",
      "PID: 225 | Burst: 8 | start: 1308, end: 1309 | wait : 329 | turnaround : 333\n",
      "956\n",
      "PID: 225 | Burst: 7 | start: 1309, end: 1310 | wait : 329 | turnaround : 334\n",
      "956\n",
      "PID: 225 | Burst: 6 | start: 1310, end: 1311 | wait : 329 | turnaround : 335\n",
      "956\n",
      "PID: 187 | Burst: -1 | start: 1311, end: 1312 | wait : 298 | turnaround : 307\n",
      "955\n",
      "PID: 225 | Burst: 5 | start: 1312, end: 1313 | wait : 330 | turnaround : 337\n",
      "955\n",
      "PID: 225 | Burst: 4 | start: 1313, end: 1314 | wait : 330 | turnaround : 338\n",
      "955\n",
      "PID: 225 | Burst: 3 | start: 1314, end: 1315 | wait : 330 | turnaround : 339\n",
      "955\n",
      "PID: 225 | Burst: 2 | start: 1315, end: 1316 | wait : 330 | turnaround : 340\n",
      "955\n",
      "PID: 225 | Burst: 1 | start: 1316, end: 1317 | wait : 330 | turnaround : 341\n",
      "955\n",
      "PID: 225 | Burst: 0 | start: 1317, end: 1318 | wait : 330 | turnaround : 342\n",
      "954\n",
      "PID: 986 | Burst: 8 | start: 1318, end: 1319 | wait : 637 | turnaround : 649\n",
      "954\n",
      "PID: 781 | Burst: 0 | start: 1319, end: 1320 | wait : 639 | turnaround : 643\n",
      "953\n",
      "PID: 986 | Burst: 7 | start: 1320, end: 1321 | wait : 638 | turnaround : 651\n",
      "953\n",
      "PID: 436 | Burst: 2 | start: 1321, end: 1322 | wait : 327 | turnaround : 336\n",
      "954\n",
      "PID: 436 | Burst: 1 | start: 1322, end: 1323 | wait : 327 | turnaround : 337\n",
      "954\n",
      "PID: 436 | Burst: 0 | start: 1323, end: 1324 | wait : 327 | turnaround : 338\n",
      "953\n",
      "PID: 635 | Burst: 7 | start: 1324, end: 1325 | wait : 374 | turnaround : 386\n",
      "953\n",
      "PID: 635 | Burst: 6 | start: 1325, end: 1326 | wait : 374 | turnaround : 387\n",
      "953\n",
      "PID: 635 | Burst: 5 | start: 1326, end: 1327 | wait : 374 | turnaround : 388\n",
      "953\n",
      "PID: 635 | Burst: 4 | start: 1327, end: 1328 | wait : 374 | turnaround : 389\n",
      "953\n",
      "PID: 635 | Burst: 3 | start: 1328, end: 1329 | wait : 374 | turnaround : 390\n",
      "953\n",
      "PID: 635 | Burst: 2 | start: 1329, end: 1330 | wait : 374 | turnaround : 391\n",
      "953\n",
      "PID: 635 | Burst: 1 | start: 1330, end: 1331 | wait : 374 | turnaround : 392\n",
      "953\n",
      "PID: 635 | Burst: 0 | start: 1331, end: 1332 | wait : 374 | turnaround : 393\n",
      "952\n",
      "PID: 393 | Burst: 9 | start: 1332, end: 1333 | wait : 339 | turnaround : 364\n",
      "953\n",
      "PID: 455 | Burst: 1 | start: 1333, end: 1334 | wait : 320 | turnaround : 340\n",
      "953\n",
      "PID: 455 | Burst: 0 | start: 1334, end: 1335 | wait : 320 | turnaround : 341\n",
      "953\n",
      "PID: 436 | Burst: 1 | start: 1335, end: 1336 | wait : 327 | turnaround : 339\n",
      "953\n",
      "PID: 436 | Burst: 0 | start: 1336, end: 1337 | wait : 327 | turnaround : 340\n",
      "953\n",
      "PID: 635 | Burst: 11 | start: 1337, end: 1338 | wait : 378 | turnaround : 398\n",
      "953\n",
      "PID: 635 | Burst: 10 | start: 1338, end: 1339 | wait : 378 | turnaround : 399\n",
      "953\n",
      "PID: 607 | Burst: 5 | start: 1339, end: 1340 | wait : 330 | turnaround : 350\n",
      "953\n",
      "PID: 607 | Burst: 4 | start: 1340, end: 1341 | wait : 330 | turnaround : 351\n",
      "953\n",
      "PID: 607 | Burst: 3 | start: 1341, end: 1342 | wait : 330 | turnaround : 352\n",
      "953\n",
      "PID: 635 | Burst: 9 | start: 1342, end: 1343 | wait : 381 | turnaround : 403\n",
      "953\n",
      "PID: 635 | Burst: 8 | start: 1343, end: 1344 | wait : 381 | turnaround : 404\n",
      "953\n",
      "PID: 607 | Burst: 2 | start: 1344, end: 1345 | wait : 332 | turnaround : 355\n",
      "953\n",
      "PID: 607 | Burst: 1 | start: 1345, end: 1346 | wait : 332 | turnaround : 356\n",
      "953\n",
      "PID: 635 | Burst: 7 | start: 1346, end: 1347 | wait : 383 | turnaround : 407\n",
      "953\n",
      "PID: 635 | Burst: 6 | start: 1347, end: 1348 | wait : 383 | turnaround : 408\n",
      "954\n",
      "PID: 436 | Burst: 2 | start: 1348, end: 1349 | wait : 327 | turnaround : 341\n",
      "954\n",
      "PID: 436 | Burst: 1 | start: 1349, end: 1350 | wait : 327 | turnaround : 342\n",
      "954\n",
      "PID: 436 | Burst: 0 | start: 1350, end: 1351 | wait : 327 | turnaround : 343\n",
      "953\n",
      "PID: 455 | Burst: 7 | start: 1351, end: 1352 | wait : 334 | turnaround : 356\n",
      "953\n",
      "PID: 455 | Burst: 6 | start: 1352, end: 1353 | wait : 334 | turnaround : 357\n",
      "953\n",
      "PID: 455 | Burst: 5 | start: 1353, end: 1354 | wait : 334 | turnaround : 358\n",
      "953\n",
      "PID: 455 | Burst: 4 | start: 1354, end: 1355 | wait : 334 | turnaround : 359\n",
      "953\n",
      "PID: 455 | Burst: 3 | start: 1355, end: 1356 | wait : 334 | turnaround : 360\n",
      "953\n",
      "PID: 635 | Burst: 5 | start: 1356, end: 1357 | wait : 391 | turnaround : 417\n",
      "953\n",
      "PID: 635 | Burst: 4 | start: 1357, end: 1358 | wait : 391 | turnaround : 418\n",
      "953\n",
      "PID: 455 | Burst: 2 | start: 1358, end: 1359 | wait : 336 | turnaround : 363\n",
      "953\n",
      "PID: 455 | Burst: 1 | start: 1359, end: 1360 | wait : 336 | turnaround : 364\n",
      "953\n",
      "PID: 635 | Burst: 3 | start: 1360, end: 1361 | wait : 393 | turnaround : 421\n",
      "953\n",
      "PID: 635 | Burst: 2 | start: 1361, end: 1362 | wait : 393 | turnaround : 422\n",
      "953\n",
      "PID: 455 | Burst: 0 | start: 1362, end: 1363 | wait : 338 | turnaround : 367\n",
      "952\n",
      "PID: 635 | Burst: 1 | start: 1363, end: 1364 | wait : 394 | turnaround : 424\n",
      "952\n",
      "PID: 607 | Burst: 0 | start: 1364, end: 1365 | wait : 350 | turnaround : 375\n",
      "951\n",
      "PID: 137 | Burst: 1 | start: 1365, end: 1366 | wait : 668 | turnaround : 679\n",
      "951\n",
      "PID: 809 | Burst: 5 | start: 1366, end: 1367 | wait : 390 | turnaround : 394\n",
      "951\n",
      "PID: 809 | Burst: 4 | start: 1367, end: 1368 | wait : 390 | turnaround : 395\n",
      "951\n",
      "PID: 809 | Burst: 3 | start: 1368, end: 1369 | wait : 390 | turnaround : 396\n",
      "951\n",
      "PID: 809 | Burst: 2 | start: 1369, end: 1370 | wait : 390 | turnaround : 397\n",
      "951\n",
      "PID: 809 | Burst: 1 | start: 1370, end: 1371 | wait : 390 | turnaround : 398\n",
      "951\n",
      "PID: 809 | Burst: 0 | start: 1371, end: 1372 | wait : 390 | turnaround : 399\n",
      "950\n",
      "PID: 137 | Burst: 0 | start: 1372, end: 1373 | wait : 674 | turnaround : 686\n",
      "949\n",
      "PID: 635 | Burst: 0 | start: 1373, end: 1374 | wait : 403 | turnaround : 434\n",
      "948\n",
      "PID: 733 | Burst: 5 | start: 1374, end: 1375 | wait : 407 | turnaround : 412\n",
      "948\n",
      "PID: 853 | Burst: 7 | start: 1375, end: 1376 | wait : 383 | turnaround : 386\n",
      "949\n",
      "PID: 853 | Burst: 6 | start: 1376, end: 1377 | wait : 383 | turnaround : 387\n",
      "950\n",
      "PID: 853 | Burst: 5 | start: 1377, end: 1378 | wait : 383 | turnaround : 388\n",
      "950\n",
      "PID: 853 | Burst: 4 | start: 1378, end: 1379 | wait : 383 | turnaround : 389\n",
      "950\n",
      "PID: 733 | Burst: 4 | start: 1379, end: 1380 | wait : 411 | turnaround : 417\n",
      "950\n",
      "PID: 733 | Burst: 3 | start: 1380, end: 1381 | wait : 411 | turnaround : 418\n",
      "950\n",
      "PID: 853 | Burst: 3 | start: 1381, end: 1382 | wait : 385 | turnaround : 392\n",
      "950\n",
      "PID: 853 | Burst: 2 | start: 1382, end: 1383 | wait : 385 | turnaround : 393\n",
      "950\n",
      "PID: 733 | Burst: 2 | start: 1383, end: 1384 | wait : 413 | turnaround : 421\n",
      "950\n",
      "PID: 733 | Burst: 1 | start: 1384, end: 1385 | wait : 413 | turnaround : 422\n",
      "950\n",
      "PID: 853 | Burst: 1 | start: 1385, end: 1386 | wait : 387 | turnaround : 396\n",
      "950\n",
      "PID: 853 | Burst: 0 | start: 1386, end: 1387 | wait : 387 | turnaround : 397\n",
      "949\n",
      "PID: 733 | Burst: 0 | start: 1387, end: 1388 | wait : 415 | turnaround : 425\n",
      "949\n",
      "PID: 809 | Burst: 7 | start: 1388, end: 1389 | wait : 402 | turnaround : 412\n",
      "949\n",
      "PID: 809 | Burst: 6 | start: 1389, end: 1390 | wait : 402 | turnaround : 413\n",
      "949\n",
      "PID: 853 | Burst: 8 | start: 1390, end: 1391 | wait : 389 | turnaround : 400\n",
      "950\n",
      "PID: 733 | Burst: 10 | start: 1391, end: 1392 | wait : 415 | turnaround : 426\n",
      "950\n",
      "PID: 733 | Burst: 9 | start: 1392, end: 1393 | wait : 415 | turnaround : 427\n",
      "950\n",
      "PID: 853 | Burst: 7 | start: 1393, end: 1394 | wait : 391 | turnaround : 403\n",
      "950\n",
      "PID: 853 | Burst: 6 | start: 1394, end: 1395 | wait : 391 | turnaround : 404\n",
      "950\n",
      "PID: 733 | Burst: 8 | start: 1395, end: 1396 | wait : 417 | turnaround : 430\n",
      "950\n",
      "PID: 733 | Burst: 7 | start: 1396, end: 1397 | wait : 417 | turnaround : 431\n",
      "950\n",
      "PID: 853 | Burst: 5 | start: 1397, end: 1398 | wait : 393 | turnaround : 407\n",
      "950\n",
      "PID: 853 | Burst: 4 | start: 1398, end: 1399 | wait : 393 | turnaround : 408\n",
      "950\n",
      "PID: 733 | Burst: 6 | start: 1399, end: 1400 | wait : 419 | turnaround : 434\n",
      "950\n",
      "PID: 733 | Burst: 5 | start: 1400, end: 1401 | wait : 419 | turnaround : 435\n",
      "950\n",
      "PID: 853 | Burst: 3 | start: 1401, end: 1402 | wait : 395 | turnaround : 411\n",
      "950\n",
      "PID: 853 | Burst: 2 | start: 1402, end: 1403 | wait : 395 | turnaround : 412\n",
      "950\n",
      "PID: 733 | Burst: 4 | start: 1403, end: 1404 | wait : 421 | turnaround : 438\n",
      "950\n",
      "PID: 733 | Burst: 3 | start: 1404, end: 1405 | wait : 421 | turnaround : 439\n",
      "950\n",
      "PID: 853 | Burst: 1 | start: 1405, end: 1406 | wait : 397 | turnaround : 415\n",
      "950\n",
      "PID: 853 | Burst: 0 | start: 1406, end: 1407 | wait : 397 | turnaround : 416\n",
      "949\n",
      "PID: 733 | Burst: 2 | start: 1407, end: 1408 | wait : 423 | turnaround : 442\n",
      "949\n",
      "PID: 733 | Burst: 1 | start: 1408, end: 1409 | wait : 423 | turnaround : 443\n",
      "949\n",
      "PID: 809 | Burst: 5 | start: 1409, end: 1410 | wait : 421 | turnaround : 433\n",
      "950\n",
      "PID: 809 | Burst: 4 | start: 1410, end: 1411 | wait : 421 | turnaround : 434\n",
      "950\n",
      "PID: 809 | Burst: 3 | start: 1411, end: 1412 | wait : 421 | turnaround : 435\n",
      "950\n",
      "PID: 809 | Burst: 2 | start: 1412, end: 1413 | wait : 421 | turnaround : 436\n",
      "950\n",
      "PID: 809 | Burst: 1 | start: 1413, end: 1414 | wait : 421 | turnaround : 437\n",
      "950\n",
      "PID: 809 | Burst: 0 | start: 1414, end: 1415 | wait : 421 | turnaround : 438\n",
      "949\n",
      "PID: 853 | Burst: 7 | start: 1415, end: 1416 | wait : 402 | turnaround : 422\n",
      "949\n",
      "PID: 853 | Burst: 6 | start: 1416, end: 1417 | wait : 402 | turnaround : 423\n",
      "949\n",
      "PID: 733 | Burst: 0 | start: 1417, end: 1418 | wait : 431 | turnaround : 452\n",
      "949\n",
      "PID: 809 | Burst: 8 | start: 1418, end: 1419 | wait : 421 | turnaround : 439\n",
      "950\n",
      "PID: 809 | Burst: 7 | start: 1419, end: 1420 | wait : 421 | turnaround : 440\n",
      "950\n",
      "PID: 809 | Burst: 6 | start: 1420, end: 1421 | wait : 421 | turnaround : 441\n",
      "950\n",
      "PID: 809 | Burst: 5 | start: 1421, end: 1422 | wait : 421 | turnaround : 442\n",
      "950\n",
      "PID: 809 | Burst: 4 | start: 1422, end: 1423 | wait : 421 | turnaround : 443\n",
      "950\n",
      "PID: 733 | Burst: 8 | start: 1423, end: 1424 | wait : 435 | turnaround : 457\n",
      "950\n",
      "PID: 733 | Burst: 7 | start: 1424, end: 1425 | wait : 435 | turnaround : 458\n",
      "950\n",
      "PID: 809 | Burst: 3 | start: 1425, end: 1426 | wait : 423 | turnaround : 446\n",
      "950\n",
      "PID: 809 | Burst: 2 | start: 1426, end: 1427 | wait : 423 | turnaround : 447\n",
      "950\n",
      "PID: 733 | Burst: 6 | start: 1427, end: 1428 | wait : 437 | turnaround : 461\n",
      "950\n",
      "PID: 733 | Burst: 5 | start: 1428, end: 1429 | wait : 437 | turnaround : 462\n",
      "950\n",
      "PID: 809 | Burst: 1 | start: 1429, end: 1430 | wait : 425 | turnaround : 450\n",
      "950\n",
      "PID: 809 | Burst: 0 | start: 1430, end: 1431 | wait : 425 | turnaround : 451\n",
      "949\n",
      "PID: 733 | Burst: 4 | start: 1431, end: 1432 | wait : 439 | turnaround : 465\n",
      "949\n",
      "PID: 733 | Burst: 3 | start: 1432, end: 1433 | wait : 439 | turnaround : 466\n",
      "949\n",
      "PID: 853 | Burst: 5 | start: 1433, end: 1434 | wait : 418 | turnaround : 440\n",
      "949\n",
      "PID: 853 | Burst: 4 | start: 1434, end: 1435 | wait : 418 | turnaround : 441\n",
      "950\n",
      "PID: 853 | Burst: 3 | start: 1435, end: 1436 | wait : 418 | turnaround : 442\n",
      "950\n",
      "PID: 853 | Burst: 2 | start: 1436, end: 1437 | wait : 418 | turnaround : 443\n",
      "950\n",
      "PID: 853 | Burst: 1 | start: 1437, end: 1438 | wait : 418 | turnaround : 444\n",
      "950\n",
      "PID: 853 | Burst: 0 | start: 1438, end: 1439 | wait : 418 | turnaround : 445\n",
      "949\n",
      "PID: 733 | Burst: 2 | start: 1439, end: 1440 | wait : 445 | turnaround : 473\n",
      "949\n",
      "PID: 809 | Burst: 9 | start: 1440, end: 1441 | wait : 430 | turnaround : 457\n",
      "949\n",
      "PID: 809 | Burst: 8 | start: 1441, end: 1442 | wait : 430 | turnaround : 458\n",
      "950\n",
      "PID: 52 | Burst: 7 | start: 1442, end: 1443 | wait : 416 | turnaround : 439\n",
      "950\n",
      "PID: 923 | Burst: 0 | start: 1443, end: 1444 | wait : 1128 | turnaround : 1149\n",
      "949\n",
      "PID: 56 | Burst: 3 | start: 1444, end: 1445 | wait : 492 | turnaround : 497\n",
      "950\n",
      "PID: 586 | Burst: 6 | start: 1445, end: 1446 | wait : 754 | turnaround : 757\n",
      "950\n",
      "PID: 586 | Burst: 5 | start: 1446, end: 1447 | wait : 754 | turnaround : 758\n",
      "950\n",
      "PID: 586 | Burst: 4 | start: 1447, end: 1448 | wait : 754 | turnaround : 759\n",
      "950\n",
      "PID: 586 | Burst: 3 | start: 1448, end: 1449 | wait : 754 | turnaround : 760\n",
      "950\n",
      "PID: 586 | Burst: 2 | start: 1449, end: 1450 | wait : 754 | turnaround : 761\n",
      "950\n",
      "PID: 586 | Burst: 1 | start: 1450, end: 1451 | wait : 754 | turnaround : 762\n",
      "950\n",
      "PID: 586 | Burst: 0 | start: 1451, end: 1452 | wait : 754 | turnaround : 763\n",
      "949\n",
      "PID: 352 | Burst: 3 | start: 1452, end: 1453 | wait : 458 | turnaround : 484\n",
      "949\n",
      "PID: 352 | Burst: 2 | start: 1453, end: 1454 | wait : 458 | turnaround : 485\n",
      "949\n",
      "PID: 49 | Burst: 7 | start: 1454, end: 1455 | wait : 689 | turnaround : 692\n",
      "949\n",
      "PID: 49 | Burst: 6 | start: 1455, end: 1456 | wait : 689 | turnaround : 693\n",
      "950\n",
      "PID: 49 | Burst: 5 | start: 1456, end: 1457 | wait : 689 | turnaround : 694\n",
      "950\n",
      "PID: 49 | Burst: 4 | start: 1457, end: 1458 | wait : 689 | turnaround : 695\n",
      "950\n",
      "PID: 49 | Burst: 3 | start: 1458, end: 1459 | wait : 689 | turnaround : 696\n",
      "950\n",
      "PID: 49 | Burst: 2 | start: 1459, end: 1460 | wait : 689 | turnaround : 697\n",
      "950\n",
      "PID: 49 | Burst: 1 | start: 1460, end: 1461 | wait : 689 | turnaround : 698\n",
      "950\n",
      "PID: 49 | Burst: 0 | start: 1461, end: 1462 | wait : 689 | turnaround : 699\n",
      "949\n",
      "PID: 52 | Burst: 6 | start: 1462, end: 1463 | wait : 435 | turnaround : 459\n",
      "950\n",
      "PID: 455 | Burst: -1 | start: 1463, end: 1464 | wait : 441 | turnaround : 471\n",
      "949\n",
      "PID: 52 | Burst: 5 | start: 1464, end: 1465 | wait : 436 | turnaround : 461\n",
      "949\n",
      "PID: 607 | Burst: -1 | start: 1465, end: 1466 | wait : 469 | turnaround : 495\n",
      "948\n",
      "PID: 415 | Burst: -1 | start: 1466, end: 1467 | wait : 789 | turnaround : 795\n",
      "947\n"
     ]
    },
    {
     "ename": "RecursionError",
     "evalue": "maximum recursion depth exceeded in comparison",
     "output_type": "error",
     "traceback": [
      "\u001b[0;31m---------------------------------------------------------------------------\u001b[0m",
      "\u001b[0;31mRecursionError\u001b[0m                            Traceback (most recent call last)",
      "\u001b[0;32m/var/folders/mw/tkjdv8_56kd9c3js_hzvflqm0000gp/T/ipykernel_52096/1823326562.py\u001b[0m in \u001b[0;36m<module>\u001b[0;34m\u001b[0m\n\u001b[0;32m----> 1\u001b[0;31m \u001b[0mop\u001b[0m\u001b[0;34m.\u001b[0m\u001b[0mkernel\u001b[0m\u001b[0;34m(\u001b[0m\u001b[0ms\u001b[0m\u001b[0;34m.\u001b[0m\u001b[0mCF_scheduler\u001b[0m\u001b[0;34m,\u001b[0m \u001b[0;36m1000\u001b[0m\u001b[0;34m,\u001b[0m \u001b[0mprocesses\u001b[0m\u001b[0;34m=\u001b[0m\u001b[0mprocs\u001b[0m\u001b[0;34m)\u001b[0m\u001b[0;34m\u001b[0m\u001b[0;34m\u001b[0m\u001b[0m\n\u001b[0m",
      "\u001b[0;32m~/Documents/Code/School/CS337/CS337-Project-3/operating_system.py\u001b[0m in \u001b[0;36mkernel\u001b[0;34m(scheduler, max_arrival, processes, verbose, **kwargs)\u001b[0m\n\u001b[1;32m     55\u001b[0m         \u001b[0;31m# otherwise run the scheduler\u001b[0m\u001b[0;34m\u001b[0m\u001b[0;34m\u001b[0m\u001b[0;34m\u001b[0m\u001b[0m\n\u001b[1;32m     56\u001b[0m         \u001b[0;32melse\u001b[0m\u001b[0;34m:\u001b[0m\u001b[0;34m\u001b[0m\u001b[0;34m\u001b[0m\u001b[0m\n\u001b[0;32m---> 57\u001b[0;31m             \u001b[0mtime\u001b[0m \u001b[0;34m=\u001b[0m \u001b[0mscheduler\u001b[0m\u001b[0;34m(\u001b[0m\u001b[0mprocesses\u001b[0m\u001b[0;34m,\u001b[0m \u001b[0mready\u001b[0m\u001b[0;34m,\u001b[0m \u001b[0mwaiting\u001b[0m\u001b[0;34m,\u001b[0m \u001b[0mCPU\u001b[0m\u001b[0;34m,\u001b[0m \u001b[0mtime\u001b[0m\u001b[0;34m,\u001b[0m \u001b[0mverbose\u001b[0m\u001b[0;34m,\u001b[0m \u001b[0;34m**\u001b[0m\u001b[0mkwargs\u001b[0m\u001b[0;34m)\u001b[0m\u001b[0;34m\u001b[0m\u001b[0;34m\u001b[0m\u001b[0m\n\u001b[0m\u001b[1;32m     58\u001b[0m \u001b[0;34m\u001b[0m\u001b[0m\n\u001b[1;32m     59\u001b[0m     \u001b[0;31m# lists for wait and turnaround times\u001b[0m\u001b[0;34m\u001b[0m\u001b[0;34m\u001b[0m\u001b[0;34m\u001b[0m\u001b[0m\n",
      "\u001b[0;32m~/Documents/Code/School/CS337/CS337-Project-3/scheduler.py\u001b[0m in \u001b[0;36mCF_scheduler\u001b[0;34m(processes, ready, waiting, CPU, time, verbose, **kwargs)\u001b[0m\n\u001b[1;32m    402\u001b[0m \u001b[0;34m\u001b[0m\u001b[0m\n\u001b[1;32m    403\u001b[0m     \u001b[0;31m# get the process with the lowest vruntime\u001b[0m\u001b[0;34m\u001b[0m\u001b[0;34m\u001b[0m\u001b[0;34m\u001b[0m\u001b[0m\n\u001b[0;32m--> 404\u001b[0;31m     \u001b[0mprocess\u001b[0m \u001b[0;34m=\u001b[0m \u001b[0mready\u001b[0m\u001b[0;34m.\u001b[0m\u001b[0mremove\u001b[0m\u001b[0;34m(\u001b[0m\u001b[0mnode\u001b[0m\u001b[0;34m=\u001b[0m\u001b[0mready\u001b[0m\u001b[0;34m.\u001b[0m\u001b[0mget_min\u001b[0m\u001b[0;34m(\u001b[0m\u001b[0;34m)\u001b[0m\u001b[0;34m)\u001b[0m\u001b[0;34m\u001b[0m\u001b[0;34m\u001b[0m\u001b[0m\n\u001b[0m\u001b[1;32m    405\u001b[0m \u001b[0;34m\u001b[0m\u001b[0m\n\u001b[1;32m    406\u001b[0m     \u001b[0;32mif\u001b[0m \u001b[0mprocess\u001b[0m \u001b[0;34m==\u001b[0m \u001b[0;32mNone\u001b[0m\u001b[0;34m:\u001b[0m\u001b[0;34m\u001b[0m\u001b[0;34m\u001b[0m\u001b[0m\n",
      "\u001b[0;32m~/Documents/Code/School/CS337/CS337-Project-3/rbtree.py\u001b[0m in \u001b[0;36mremove\u001b[0;34m(self, key, node)\u001b[0m\n\u001b[1;32m    293\u001b[0m \u001b[0;34m\u001b[0m\u001b[0m\n\u001b[1;32m    294\u001b[0m         \u001b[0;32melse\u001b[0m\u001b[0;34m:\u001b[0m\u001b[0;34m\u001b[0m\u001b[0;34m\u001b[0m\u001b[0m\n\u001b[0;32m--> 295\u001b[0;31m             \u001b[0mtemp\u001b[0m \u001b[0;34m=\u001b[0m \u001b[0mself\u001b[0m\u001b[0;34m.\u001b[0m\u001b[0mrelocate_min\u001b[0m\u001b[0;34m(\u001b[0m\u001b[0mnode\u001b[0m\u001b[0;34m.\u001b[0m\u001b[0mget_rchild\u001b[0m\u001b[0;34m(\u001b[0m\u001b[0;34m)\u001b[0m\u001b[0;34m)\u001b[0m\u001b[0;34m\u001b[0m\u001b[0;34m\u001b[0m\u001b[0m\n\u001b[0m\u001b[1;32m    296\u001b[0m             \u001b[0mtemp_red\u001b[0m \u001b[0;34m=\u001b[0m \u001b[0mtemp\u001b[0m\u001b[0;34m.\u001b[0m\u001b[0mis_red\u001b[0m\u001b[0;34m(\u001b[0m\u001b[0;34m)\u001b[0m\u001b[0;34m\u001b[0m\u001b[0;34m\u001b[0m\u001b[0m\n\u001b[1;32m    297\u001b[0m             \u001b[0mtemp2\u001b[0m \u001b[0;34m=\u001b[0m \u001b[0mtemp\u001b[0m\u001b[0;34m.\u001b[0m\u001b[0mget_rchild\u001b[0m\u001b[0;34m(\u001b[0m\u001b[0;34m)\u001b[0m\u001b[0;34m\u001b[0m\u001b[0;34m\u001b[0m\u001b[0m\n",
      "\u001b[0;32m~/Documents/Code/School/CS337/CS337-Project-3/rbtree.py\u001b[0m in \u001b[0;36mrelocate_min\u001b[0;34m(self, node)\u001b[0m\n\u001b[1;32m    574\u001b[0m             \u001b[0;32mreturn\u001b[0m \u001b[0mnode\u001b[0m\u001b[0;34m\u001b[0m\u001b[0;34m\u001b[0m\u001b[0m\n\u001b[1;32m    575\u001b[0m         \u001b[0;32melse\u001b[0m\u001b[0;34m:\u001b[0m\u001b[0;34m\u001b[0m\u001b[0;34m\u001b[0m\u001b[0m\n\u001b[0;32m--> 576\u001b[0;31m             \u001b[0;32mreturn\u001b[0m \u001b[0mself\u001b[0m\u001b[0;34m.\u001b[0m\u001b[0mrelocate_min\u001b[0m\u001b[0;34m(\u001b[0m\u001b[0mnode\u001b[0m\u001b[0;34m=\u001b[0m\u001b[0mnode\u001b[0m\u001b[0;34m.\u001b[0m\u001b[0mget_lchild\u001b[0m\u001b[0;34m(\u001b[0m\u001b[0;34m)\u001b[0m\u001b[0;34m)\u001b[0m\u001b[0;34m\u001b[0m\u001b[0;34m\u001b[0m\u001b[0m\n\u001b[0m\u001b[1;32m    577\u001b[0m \u001b[0;34m\u001b[0m\u001b[0m\n\u001b[1;32m    578\u001b[0m     \u001b[0;32mdef\u001b[0m \u001b[0mprint_tree\u001b[0m\u001b[0;34m(\u001b[0m\u001b[0mself\u001b[0m\u001b[0;34m)\u001b[0m\u001b[0;34m:\u001b[0m\u001b[0;34m\u001b[0m\u001b[0;34m\u001b[0m\u001b[0m\n",
      "... last 1 frames repeated, from the frame below ...\n",
      "\u001b[0;32m~/Documents/Code/School/CS337/CS337-Project-3/rbtree.py\u001b[0m in \u001b[0;36mrelocate_min\u001b[0;34m(self, node)\u001b[0m\n\u001b[1;32m    574\u001b[0m             \u001b[0;32mreturn\u001b[0m \u001b[0mnode\u001b[0m\u001b[0;34m\u001b[0m\u001b[0;34m\u001b[0m\u001b[0m\n\u001b[1;32m    575\u001b[0m         \u001b[0;32melse\u001b[0m\u001b[0;34m:\u001b[0m\u001b[0;34m\u001b[0m\u001b[0;34m\u001b[0m\u001b[0m\n\u001b[0;32m--> 576\u001b[0;31m             \u001b[0;32mreturn\u001b[0m \u001b[0mself\u001b[0m\u001b[0;34m.\u001b[0m\u001b[0mrelocate_min\u001b[0m\u001b[0;34m(\u001b[0m\u001b[0mnode\u001b[0m\u001b[0;34m=\u001b[0m\u001b[0mnode\u001b[0m\u001b[0;34m.\u001b[0m\u001b[0mget_lchild\u001b[0m\u001b[0;34m(\u001b[0m\u001b[0;34m)\u001b[0m\u001b[0;34m)\u001b[0m\u001b[0;34m\u001b[0m\u001b[0;34m\u001b[0m\u001b[0m\n\u001b[0m\u001b[1;32m    577\u001b[0m \u001b[0;34m\u001b[0m\u001b[0m\n\u001b[1;32m    578\u001b[0m     \u001b[0;32mdef\u001b[0m \u001b[0mprint_tree\u001b[0m\u001b[0;34m(\u001b[0m\u001b[0mself\u001b[0m\u001b[0;34m)\u001b[0m\u001b[0;34m:\u001b[0m\u001b[0;34m\u001b[0m\u001b[0;34m\u001b[0m\u001b[0m\n",
      "\u001b[0;31mRecursionError\u001b[0m: maximum recursion depth exceeded in comparison"
     ]
    }
   ],
   "source": [
    "op.kernel(s.CF_scheduler, 1000, processes=procs)"
   ]
  },
  {
   "cell_type": "markdown",
   "metadata": {},
   "source": [
    "## Extensions:\n",
    "I implemented the full remove method in RBTree. The method now takes either a key or node. If a node is passed in the function skips the ~O(log(n)) tree traversal (excuse the slightly buggy print method)"
   ]
  },
  {
   "cell_type": "code",
   "execution_count": 21,
   "metadata": {},
   "outputs": [
    {
     "name": "stdout",
     "output_type": "stream",
     "text": [
      "Tree with 8 values\n",
      "                3                                \n",
      "\n",
      "        \u001b[31m1\u001b[0m                \u001b[31m5\u001b[0m                \n",
      "\n",
      "    0        2        4        6        \n",
      "\n",
      "                              \u001b[31m7\u001b[0m    \n",
      "\n",
      "Removing 4:\n",
      "4\n",
      "\n",
      "After removal:\n",
      "        3                \n",
      "\n",
      "    \u001b[31m1\u001b[0m        \u001b[31m6\u001b[0m        \n",
      "\n",
      "  0    2    5    7    \n",
      "\n",
      "Removing 3:\n",
      "3\n",
      "\n",
      "After removal:\n",
      "        5                \n",
      "\n",
      "    \u001b[31m1\u001b[0m        6        \n",
      "\n",
      "  0    2        \u001b[31m7\u001b[0m    \n",
      "\n",
      "Can remove min value:\n",
      "0\n",
      "\n",
      "After removal:\n",
      "        5                \n",
      "\n",
      "    1        6        \n",
      "\n",
      "      \u001b[31m2\u001b[0m        \u001b[31m7\u001b[0m    \n",
      "\n"
     ]
    }
   ],
   "source": [
    "# create a RBTree\n",
    "tree = rbtree.RBTree()\n",
    "\n",
    "# add some values\n",
    "for i in range(8):\n",
    "    tree.insert(i, i)\n",
    "\n",
    "# demonstrate some removals\n",
    "print('Tree with 8 values')\n",
    "tree.print_tree()\n",
    "print('Removing 4:')\n",
    "print(tree.remove(4))\n",
    "print('\\nAfter removal:')\n",
    "tree.print_tree()\n",
    "print('Removing 3:')\n",
    "print(tree.remove(3))\n",
    "print('\\nAfter removal:')\n",
    "tree.print_tree()\n",
    "\n",
    "# demonstrate min removal\n",
    "print('Can remove min value:')\n",
    "print(tree.remove(node=tree.get_min()))\n",
    "print('\\nAfter removal:')\n",
    "tree.print_tree()"
   ]
  }
 ],
 "metadata": {
  "interpreter": {
   "hash": "b8bdd4e700647ba2b08c59e5df8b7da1dcf50a218bcd4c1bcd9b3dc92e8788e5"
  },
  "kernelspec": {
   "display_name": "Python 3.9.6 64-bit",
   "language": "python",
   "name": "python3"
  },
  "language_info": {
   "codemirror_mode": {
    "name": "ipython",
    "version": 3
   },
   "file_extension": ".py",
   "mimetype": "text/x-python",
   "name": "python",
   "nbconvert_exporter": "python",
   "pygments_lexer": "ipython3",
   "version": "3.9.6"
  },
  "orig_nbformat": 4
 },
 "nbformat": 4,
 "nbformat_minor": 2
}
