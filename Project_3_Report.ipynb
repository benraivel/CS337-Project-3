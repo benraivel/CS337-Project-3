{
 "cells": [
  {
   "cell_type": "markdown",
   "metadata": {},
   "source": [
    "# Project 3\n",
    "#### Completley Fair Scheduler (Red Black Tree)\n",
    "\n",
    "**Abstract:** In this project I implemented a Red Black Tree and used it so simulate the Completley Fair Scheduling algorithm."
   ]
  },
  {
   "cell_type": "markdown",
   "metadata": {},
   "source": [
    "## Results:\n",
    "**Testing:** test with a few processes"
   ]
  },
  {
   "cell_type": "code",
   "execution_count": 5,
   "metadata": {},
   "outputs": [
    {
     "name": "stdout",
     "output_type": "stream",
     "text": [
      "The autoreload extension is already loaded. To reload it, use:\n",
      "  %reload_ext autoreload\n"
     ]
    }
   ],
   "source": [
    "%load_ext autoreload\n",
    "import operating_system as op, scheduler as s, pandas as pd, plotly.express as px, random as ran, process, rbtree\n",
    "from copy import deepcopy"
   ]
  },
  {
   "cell_type": "code",
   "execution_count": 2,
   "metadata": {},
   "outputs": [
    {
     "name": "stdout",
     "output_type": "stream",
     "text": [
      "PID: 0 | Burst: 4 | start: 0, end: 1 | wait : 0 | turnaround : 1\n",
      "PID: 0 | Burst: 3 | start: 1, end: 2 | wait : 0 | turnaround : 2\n",
      "PID: 1 | Burst: 0 | start: 2, end: 6 | wait : 0 | turnaround : 4\n",
      "PID: 3 | Burst: 4 | start: 6, end: 8 | wait : 0 | turnaround : 2\n",
      "PID: 2 | Burst: 0 | start: 8, end: 9 | wait : 3 | turnaround : 4\n",
      "PID: 0 | Burst: 0 | start: 9, end: 12 | wait : 7 | turnaround : 12\n",
      "PID: 1 | Burst: 0 | start: 12, end: 14 | wait : 2 | turnaround : 8\n",
      "PID: 0 | Burst: 2 | start: 14, end: 19 | wait : 8 | turnaround : 18\n",
      "PID: 2 | Burst: 0 | start: 19, end: 21 | wait : 7 | turnaround : 10\n",
      "PID: 0 | Burst: 0 | start: 21, end: 23 | wait : 10 | turnaround : 22\n",
      "PID: 0 | Burst: -1 | start: 23, end: 24 | wait : 14 | turnaround : 27\n",
      "avg. wait time: 9.272727272727273\n",
      "avg. turnaround time: 18.181818181818183\n",
      "avg. response time: 0.5454545454545454\n"
     ]
    },
    {
     "data": {
      "application/vnd.plotly.v1+json": {
       "config": {
        "plotlyServerURL": "https://plot.ly"
       },
       "data": [
        {
         "alignmentgroup": "True",
         "base": [
          0,
          1,
          2,
          6,
          8,
          9,
          12,
          14,
          19,
          21,
          23
         ],
         "hovertemplate": "start=%{base}<br>finish=%{x}<br>process=%{y}<br>priority=%{marker.color}<extra></extra>",
         "legendgroup": "",
         "marker": {
          "color": [
           30,
           30,
           35,
           20,
           36,
           30,
           35,
           30,
           36,
           30,
           30
          ],
          "coloraxis": "coloraxis"
         },
         "name": "",
         "offsetgroup": "",
         "orientation": "h",
         "showlegend": false,
         "textposition": "auto",
         "type": "bar",
         "x": [
          1,
          1,
          4,
          2,
          1,
          3,
          2,
          5,
          2,
          2,
          1
         ],
         "xaxis": "x",
         "y": [
          0,
          0,
          1,
          3,
          2,
          0,
          1,
          0,
          2,
          0,
          0
         ],
         "yaxis": "y"
        }
       ],
       "layout": {
        "barmode": "overlay",
        "coloraxis": {
         "colorbar": {
          "title": {
           "text": "priority"
          }
         },
         "colorscale": [
          [
           0,
           "#0d0887"
          ],
          [
           0.1111111111111111,
           "#46039f"
          ],
          [
           0.2222222222222222,
           "#7201a8"
          ],
          [
           0.3333333333333333,
           "#9c179e"
          ],
          [
           0.4444444444444444,
           "#bd3786"
          ],
          [
           0.5555555555555556,
           "#d8576b"
          ],
          [
           0.6666666666666666,
           "#ed7953"
          ],
          [
           0.7777777777777778,
           "#fb9f3a"
          ],
          [
           0.8888888888888888,
           "#fdca26"
          ],
          [
           1,
           "#f0f921"
          ]
         ]
        },
        "legend": {
         "tracegroupgap": 0
        },
        "margin": {
         "t": 60
        },
        "template": {
         "data": {
          "bar": [
           {
            "error_x": {
             "color": "#2a3f5f"
            },
            "error_y": {
             "color": "#2a3f5f"
            },
            "marker": {
             "line": {
              "color": "#E5ECF6",
              "width": 0.5
             },
             "pattern": {
              "fillmode": "overlay",
              "size": 10,
              "solidity": 0.2
             }
            },
            "type": "bar"
           }
          ],
          "barpolar": [
           {
            "marker": {
             "line": {
              "color": "#E5ECF6",
              "width": 0.5
             },
             "pattern": {
              "fillmode": "overlay",
              "size": 10,
              "solidity": 0.2
             }
            },
            "type": "barpolar"
           }
          ],
          "carpet": [
           {
            "aaxis": {
             "endlinecolor": "#2a3f5f",
             "gridcolor": "white",
             "linecolor": "white",
             "minorgridcolor": "white",
             "startlinecolor": "#2a3f5f"
            },
            "baxis": {
             "endlinecolor": "#2a3f5f",
             "gridcolor": "white",
             "linecolor": "white",
             "minorgridcolor": "white",
             "startlinecolor": "#2a3f5f"
            },
            "type": "carpet"
           }
          ],
          "choropleth": [
           {
            "colorbar": {
             "outlinewidth": 0,
             "ticks": ""
            },
            "type": "choropleth"
           }
          ],
          "contour": [
           {
            "colorbar": {
             "outlinewidth": 0,
             "ticks": ""
            },
            "colorscale": [
             [
              0,
              "#0d0887"
             ],
             [
              0.1111111111111111,
              "#46039f"
             ],
             [
              0.2222222222222222,
              "#7201a8"
             ],
             [
              0.3333333333333333,
              "#9c179e"
             ],
             [
              0.4444444444444444,
              "#bd3786"
             ],
             [
              0.5555555555555556,
              "#d8576b"
             ],
             [
              0.6666666666666666,
              "#ed7953"
             ],
             [
              0.7777777777777778,
              "#fb9f3a"
             ],
             [
              0.8888888888888888,
              "#fdca26"
             ],
             [
              1,
              "#f0f921"
             ]
            ],
            "type": "contour"
           }
          ],
          "contourcarpet": [
           {
            "colorbar": {
             "outlinewidth": 0,
             "ticks": ""
            },
            "type": "contourcarpet"
           }
          ],
          "heatmap": [
           {
            "colorbar": {
             "outlinewidth": 0,
             "ticks": ""
            },
            "colorscale": [
             [
              0,
              "#0d0887"
             ],
             [
              0.1111111111111111,
              "#46039f"
             ],
             [
              0.2222222222222222,
              "#7201a8"
             ],
             [
              0.3333333333333333,
              "#9c179e"
             ],
             [
              0.4444444444444444,
              "#bd3786"
             ],
             [
              0.5555555555555556,
              "#d8576b"
             ],
             [
              0.6666666666666666,
              "#ed7953"
             ],
             [
              0.7777777777777778,
              "#fb9f3a"
             ],
             [
              0.8888888888888888,
              "#fdca26"
             ],
             [
              1,
              "#f0f921"
             ]
            ],
            "type": "heatmap"
           }
          ],
          "heatmapgl": [
           {
            "colorbar": {
             "outlinewidth": 0,
             "ticks": ""
            },
            "colorscale": [
             [
              0,
              "#0d0887"
             ],
             [
              0.1111111111111111,
              "#46039f"
             ],
             [
              0.2222222222222222,
              "#7201a8"
             ],
             [
              0.3333333333333333,
              "#9c179e"
             ],
             [
              0.4444444444444444,
              "#bd3786"
             ],
             [
              0.5555555555555556,
              "#d8576b"
             ],
             [
              0.6666666666666666,
              "#ed7953"
             ],
             [
              0.7777777777777778,
              "#fb9f3a"
             ],
             [
              0.8888888888888888,
              "#fdca26"
             ],
             [
              1,
              "#f0f921"
             ]
            ],
            "type": "heatmapgl"
           }
          ],
          "histogram": [
           {
            "marker": {
             "pattern": {
              "fillmode": "overlay",
              "size": 10,
              "solidity": 0.2
             }
            },
            "type": "histogram"
           }
          ],
          "histogram2d": [
           {
            "colorbar": {
             "outlinewidth": 0,
             "ticks": ""
            },
            "colorscale": [
             [
              0,
              "#0d0887"
             ],
             [
              0.1111111111111111,
              "#46039f"
             ],
             [
              0.2222222222222222,
              "#7201a8"
             ],
             [
              0.3333333333333333,
              "#9c179e"
             ],
             [
              0.4444444444444444,
              "#bd3786"
             ],
             [
              0.5555555555555556,
              "#d8576b"
             ],
             [
              0.6666666666666666,
              "#ed7953"
             ],
             [
              0.7777777777777778,
              "#fb9f3a"
             ],
             [
              0.8888888888888888,
              "#fdca26"
             ],
             [
              1,
              "#f0f921"
             ]
            ],
            "type": "histogram2d"
           }
          ],
          "histogram2dcontour": [
           {
            "colorbar": {
             "outlinewidth": 0,
             "ticks": ""
            },
            "colorscale": [
             [
              0,
              "#0d0887"
             ],
             [
              0.1111111111111111,
              "#46039f"
             ],
             [
              0.2222222222222222,
              "#7201a8"
             ],
             [
              0.3333333333333333,
              "#9c179e"
             ],
             [
              0.4444444444444444,
              "#bd3786"
             ],
             [
              0.5555555555555556,
              "#d8576b"
             ],
             [
              0.6666666666666666,
              "#ed7953"
             ],
             [
              0.7777777777777778,
              "#fb9f3a"
             ],
             [
              0.8888888888888888,
              "#fdca26"
             ],
             [
              1,
              "#f0f921"
             ]
            ],
            "type": "histogram2dcontour"
           }
          ],
          "mesh3d": [
           {
            "colorbar": {
             "outlinewidth": 0,
             "ticks": ""
            },
            "type": "mesh3d"
           }
          ],
          "parcoords": [
           {
            "line": {
             "colorbar": {
              "outlinewidth": 0,
              "ticks": ""
             }
            },
            "type": "parcoords"
           }
          ],
          "pie": [
           {
            "automargin": true,
            "type": "pie"
           }
          ],
          "scatter": [
           {
            "marker": {
             "colorbar": {
              "outlinewidth": 0,
              "ticks": ""
             }
            },
            "type": "scatter"
           }
          ],
          "scatter3d": [
           {
            "line": {
             "colorbar": {
              "outlinewidth": 0,
              "ticks": ""
             }
            },
            "marker": {
             "colorbar": {
              "outlinewidth": 0,
              "ticks": ""
             }
            },
            "type": "scatter3d"
           }
          ],
          "scattercarpet": [
           {
            "marker": {
             "colorbar": {
              "outlinewidth": 0,
              "ticks": ""
             }
            },
            "type": "scattercarpet"
           }
          ],
          "scattergeo": [
           {
            "marker": {
             "colorbar": {
              "outlinewidth": 0,
              "ticks": ""
             }
            },
            "type": "scattergeo"
           }
          ],
          "scattergl": [
           {
            "marker": {
             "colorbar": {
              "outlinewidth": 0,
              "ticks": ""
             }
            },
            "type": "scattergl"
           }
          ],
          "scattermapbox": [
           {
            "marker": {
             "colorbar": {
              "outlinewidth": 0,
              "ticks": ""
             }
            },
            "type": "scattermapbox"
           }
          ],
          "scatterpolar": [
           {
            "marker": {
             "colorbar": {
              "outlinewidth": 0,
              "ticks": ""
             }
            },
            "type": "scatterpolar"
           }
          ],
          "scatterpolargl": [
           {
            "marker": {
             "colorbar": {
              "outlinewidth": 0,
              "ticks": ""
             }
            },
            "type": "scatterpolargl"
           }
          ],
          "scatterternary": [
           {
            "marker": {
             "colorbar": {
              "outlinewidth": 0,
              "ticks": ""
             }
            },
            "type": "scatterternary"
           }
          ],
          "surface": [
           {
            "colorbar": {
             "outlinewidth": 0,
             "ticks": ""
            },
            "colorscale": [
             [
              0,
              "#0d0887"
             ],
             [
              0.1111111111111111,
              "#46039f"
             ],
             [
              0.2222222222222222,
              "#7201a8"
             ],
             [
              0.3333333333333333,
              "#9c179e"
             ],
             [
              0.4444444444444444,
              "#bd3786"
             ],
             [
              0.5555555555555556,
              "#d8576b"
             ],
             [
              0.6666666666666666,
              "#ed7953"
             ],
             [
              0.7777777777777778,
              "#fb9f3a"
             ],
             [
              0.8888888888888888,
              "#fdca26"
             ],
             [
              1,
              "#f0f921"
             ]
            ],
            "type": "surface"
           }
          ],
          "table": [
           {
            "cells": {
             "fill": {
              "color": "#EBF0F8"
             },
             "line": {
              "color": "white"
             }
            },
            "header": {
             "fill": {
              "color": "#C8D4E3"
             },
             "line": {
              "color": "white"
             }
            },
            "type": "table"
           }
          ]
         },
         "layout": {
          "annotationdefaults": {
           "arrowcolor": "#2a3f5f",
           "arrowhead": 0,
           "arrowwidth": 1
          },
          "autotypenumbers": "strict",
          "coloraxis": {
           "colorbar": {
            "outlinewidth": 0,
            "ticks": ""
           }
          },
          "colorscale": {
           "diverging": [
            [
             0,
             "#8e0152"
            ],
            [
             0.1,
             "#c51b7d"
            ],
            [
             0.2,
             "#de77ae"
            ],
            [
             0.3,
             "#f1b6da"
            ],
            [
             0.4,
             "#fde0ef"
            ],
            [
             0.5,
             "#f7f7f7"
            ],
            [
             0.6,
             "#e6f5d0"
            ],
            [
             0.7,
             "#b8e186"
            ],
            [
             0.8,
             "#7fbc41"
            ],
            [
             0.9,
             "#4d9221"
            ],
            [
             1,
             "#276419"
            ]
           ],
           "sequential": [
            [
             0,
             "#0d0887"
            ],
            [
             0.1111111111111111,
             "#46039f"
            ],
            [
             0.2222222222222222,
             "#7201a8"
            ],
            [
             0.3333333333333333,
             "#9c179e"
            ],
            [
             0.4444444444444444,
             "#bd3786"
            ],
            [
             0.5555555555555556,
             "#d8576b"
            ],
            [
             0.6666666666666666,
             "#ed7953"
            ],
            [
             0.7777777777777778,
             "#fb9f3a"
            ],
            [
             0.8888888888888888,
             "#fdca26"
            ],
            [
             1,
             "#f0f921"
            ]
           ],
           "sequentialminus": [
            [
             0,
             "#0d0887"
            ],
            [
             0.1111111111111111,
             "#46039f"
            ],
            [
             0.2222222222222222,
             "#7201a8"
            ],
            [
             0.3333333333333333,
             "#9c179e"
            ],
            [
             0.4444444444444444,
             "#bd3786"
            ],
            [
             0.5555555555555556,
             "#d8576b"
            ],
            [
             0.6666666666666666,
             "#ed7953"
            ],
            [
             0.7777777777777778,
             "#fb9f3a"
            ],
            [
             0.8888888888888888,
             "#fdca26"
            ],
            [
             1,
             "#f0f921"
            ]
           ]
          },
          "colorway": [
           "#636efa",
           "#EF553B",
           "#00cc96",
           "#ab63fa",
           "#FFA15A",
           "#19d3f3",
           "#FF6692",
           "#B6E880",
           "#FF97FF",
           "#FECB52"
          ],
          "font": {
           "color": "#2a3f5f"
          },
          "geo": {
           "bgcolor": "white",
           "lakecolor": "white",
           "landcolor": "#E5ECF6",
           "showlakes": true,
           "showland": true,
           "subunitcolor": "white"
          },
          "hoverlabel": {
           "align": "left"
          },
          "hovermode": "closest",
          "mapbox": {
           "style": "light"
          },
          "paper_bgcolor": "white",
          "plot_bgcolor": "#E5ECF6",
          "polar": {
           "angularaxis": {
            "gridcolor": "white",
            "linecolor": "white",
            "ticks": ""
           },
           "bgcolor": "#E5ECF6",
           "radialaxis": {
            "gridcolor": "white",
            "linecolor": "white",
            "ticks": ""
           }
          },
          "scene": {
           "xaxis": {
            "backgroundcolor": "#E5ECF6",
            "gridcolor": "white",
            "gridwidth": 2,
            "linecolor": "white",
            "showbackground": true,
            "ticks": "",
            "zerolinecolor": "white"
           },
           "yaxis": {
            "backgroundcolor": "#E5ECF6",
            "gridcolor": "white",
            "gridwidth": 2,
            "linecolor": "white",
            "showbackground": true,
            "ticks": "",
            "zerolinecolor": "white"
           },
           "zaxis": {
            "backgroundcolor": "#E5ECF6",
            "gridcolor": "white",
            "gridwidth": 2,
            "linecolor": "white",
            "showbackground": true,
            "ticks": "",
            "zerolinecolor": "white"
           }
          },
          "shapedefaults": {
           "line": {
            "color": "#2a3f5f"
           }
          },
          "ternary": {
           "aaxis": {
            "gridcolor": "white",
            "linecolor": "white",
            "ticks": ""
           },
           "baxis": {
            "gridcolor": "white",
            "linecolor": "white",
            "ticks": ""
           },
           "bgcolor": "#E5ECF6",
           "caxis": {
            "gridcolor": "white",
            "linecolor": "white",
            "ticks": ""
           }
          },
          "title": {
           "x": 0.05
          },
          "xaxis": {
           "automargin": true,
           "gridcolor": "white",
           "linecolor": "white",
           "ticks": "",
           "title": {
            "standoff": 15
           },
           "zerolinecolor": "white",
           "zerolinewidth": 2
          },
          "yaxis": {
           "automargin": true,
           "gridcolor": "white",
           "linecolor": "white",
           "ticks": "",
           "title": {
            "standoff": 15
           },
           "zerolinecolor": "white",
           "zerolinewidth": 2
          }
         }
        },
        "xaxis": {
         "anchor": "y",
         "domain": [
          0,
          1
         ],
         "type": "linear"
        },
        "yaxis": {
         "anchor": "x",
         "domain": [
          0,
          1
         ],
         "title": {
          "text": "process"
         }
        }
       }
      }
     },
     "metadata": {},
     "output_type": "display_data"
    }
   ],
   "source": [
    "op.kernel(s.CF_scheduler, 6)\n",
    "\n",
    "# read CPU data from kernel run\n",
    "df = pd.read_csv('results.csv')\n",
    "df.head()\n",
    "\n",
    "# use Prof. Al Madi's code to plot\n",
    "fig = px.timeline(df, x_start='start', x_end='finish', y='process', color='priority')\n",
    "df['delta'] = df['finish'] - df['start']\n",
    "fig.layout.xaxis.type = 'linear'\n",
    "fig.data[0].x = df.delta.tolist()\n",
    "fig.show()"
   ]
  },
  {
   "cell_type": "code",
   "execution_count": 3,
   "metadata": {},
   "outputs": [
    {
     "name": "stdout",
     "output_type": "stream",
     "text": [
      "PID: 0 | Burst: 3 | start: 0, end: 2 | wait : 0 | turnaround : 2\n",
      "PID: 0 | Burst: 1 | start: 2, end: 4 | wait : 0 | turnaround : 4\n",
      "PID: 1 | Burst: 2 | start: 4, end: 6 | wait : 2 | turnaround : 4\n",
      "PID: 0 | Burst: 0 | start: 6, end: 7 | wait : 2 | turnaround : 7\n",
      "PID: 2 | Burst: 0 | start: 7, end: 8 | wait : 2 | turnaround : 3\n",
      "PID: 1 | Burst: 0 | start: 8, end: 10 | wait : 4 | turnaround : 8\n",
      "PID: 3 | Burst: 4 | start: 10, end: 12 | wait : 4 | turnaround : 6\n",
      "PID: 0 | Burst: 5 | start: 12, end: 14 | wait : 6 | turnaround : 13\n",
      "PID: 3 | Burst: 2 | start: 14, end: 16 | wait : 6 | turnaround : 10\n",
      "PID: 0 | Burst: 3 | start: 16, end: 18 | wait : 8 | turnaround : 17\n",
      "PID: 1 | Burst: 0 | start: 18, end: 20 | wait : 8 | turnaround : 14\n",
      "PID: 2 | Burst: 0 | start: 20, end: 22 | wait : 8 | turnaround : 11\n",
      "PID: 3 | Burst: 0 | start: 22, end: 24 | wait : 12 | turnaround : 18\n",
      "PID: 0 | Burst: 1 | start: 24, end: 26 | wait : 14 | turnaround : 25\n",
      "PID: 3 | Burst: 3 | start: 26, end: 28 | wait : 13 | turnaround : 21\n",
      "PID: 0 | Burst: 0 | start: 28, end: 29 | wait : 16 | turnaround : 28\n",
      "PID: 3 | Burst: 1 | start: 29, end: 31 | wait : 14 | turnaround : 24\n",
      "PID: 3 | Burst: 0 | start: 31, end: 32 | wait : 14 | turnaround : 25\n",
      "avg. wait time: 13.11111111111111\n",
      "avg. turnaround time: 22.77777777777778\n",
      "avg. response time: 1.8888888888888888\n"
     ]
    },
    {
     "data": {
      "application/vnd.plotly.v1+json": {
       "config": {
        "plotlyServerURL": "https://plot.ly"
       },
       "data": [
        {
         "alignmentgroup": "True",
         "base": [
          0,
          2,
          4,
          6,
          7,
          8,
          10,
          12,
          14,
          16,
          18,
          20,
          22,
          24,
          26,
          28,
          29,
          31
         ],
         "hovertemplate": "start=%{base}<br>finish=%{x}<br>process=%{y}<br>priority=%{marker.color}<extra></extra>",
         "legendgroup": "",
         "marker": {
          "color": [
           30,
           30,
           35,
           30,
           36,
           35,
           20,
           30,
           20,
           30,
           35,
           36,
           20,
           30,
           20,
           30,
           20,
           20
          ],
          "coloraxis": "coloraxis"
         },
         "name": "",
         "offsetgroup": "",
         "orientation": "h",
         "showlegend": false,
         "textposition": "auto",
         "type": "bar",
         "x": [
          2,
          2,
          2,
          1,
          1,
          2,
          2,
          2,
          2,
          2,
          2,
          2,
          2,
          2,
          2,
          1,
          2,
          1
         ],
         "xaxis": "x",
         "y": [
          0,
          0,
          1,
          0,
          2,
          1,
          3,
          0,
          3,
          0,
          1,
          2,
          3,
          0,
          3,
          0,
          3,
          3
         ],
         "yaxis": "y"
        }
       ],
       "layout": {
        "barmode": "overlay",
        "coloraxis": {
         "colorbar": {
          "title": {
           "text": "priority"
          }
         },
         "colorscale": [
          [
           0,
           "#0d0887"
          ],
          [
           0.1111111111111111,
           "#46039f"
          ],
          [
           0.2222222222222222,
           "#7201a8"
          ],
          [
           0.3333333333333333,
           "#9c179e"
          ],
          [
           0.4444444444444444,
           "#bd3786"
          ],
          [
           0.5555555555555556,
           "#d8576b"
          ],
          [
           0.6666666666666666,
           "#ed7953"
          ],
          [
           0.7777777777777778,
           "#fb9f3a"
          ],
          [
           0.8888888888888888,
           "#fdca26"
          ],
          [
           1,
           "#f0f921"
          ]
         ]
        },
        "legend": {
         "tracegroupgap": 0
        },
        "margin": {
         "t": 60
        },
        "template": {
         "data": {
          "bar": [
           {
            "error_x": {
             "color": "#2a3f5f"
            },
            "error_y": {
             "color": "#2a3f5f"
            },
            "marker": {
             "line": {
              "color": "#E5ECF6",
              "width": 0.5
             },
             "pattern": {
              "fillmode": "overlay",
              "size": 10,
              "solidity": 0.2
             }
            },
            "type": "bar"
           }
          ],
          "barpolar": [
           {
            "marker": {
             "line": {
              "color": "#E5ECF6",
              "width": 0.5
             },
             "pattern": {
              "fillmode": "overlay",
              "size": 10,
              "solidity": 0.2
             }
            },
            "type": "barpolar"
           }
          ],
          "carpet": [
           {
            "aaxis": {
             "endlinecolor": "#2a3f5f",
             "gridcolor": "white",
             "linecolor": "white",
             "minorgridcolor": "white",
             "startlinecolor": "#2a3f5f"
            },
            "baxis": {
             "endlinecolor": "#2a3f5f",
             "gridcolor": "white",
             "linecolor": "white",
             "minorgridcolor": "white",
             "startlinecolor": "#2a3f5f"
            },
            "type": "carpet"
           }
          ],
          "choropleth": [
           {
            "colorbar": {
             "outlinewidth": 0,
             "ticks": ""
            },
            "type": "choropleth"
           }
          ],
          "contour": [
           {
            "colorbar": {
             "outlinewidth": 0,
             "ticks": ""
            },
            "colorscale": [
             [
              0,
              "#0d0887"
             ],
             [
              0.1111111111111111,
              "#46039f"
             ],
             [
              0.2222222222222222,
              "#7201a8"
             ],
             [
              0.3333333333333333,
              "#9c179e"
             ],
             [
              0.4444444444444444,
              "#bd3786"
             ],
             [
              0.5555555555555556,
              "#d8576b"
             ],
             [
              0.6666666666666666,
              "#ed7953"
             ],
             [
              0.7777777777777778,
              "#fb9f3a"
             ],
             [
              0.8888888888888888,
              "#fdca26"
             ],
             [
              1,
              "#f0f921"
             ]
            ],
            "type": "contour"
           }
          ],
          "contourcarpet": [
           {
            "colorbar": {
             "outlinewidth": 0,
             "ticks": ""
            },
            "type": "contourcarpet"
           }
          ],
          "heatmap": [
           {
            "colorbar": {
             "outlinewidth": 0,
             "ticks": ""
            },
            "colorscale": [
             [
              0,
              "#0d0887"
             ],
             [
              0.1111111111111111,
              "#46039f"
             ],
             [
              0.2222222222222222,
              "#7201a8"
             ],
             [
              0.3333333333333333,
              "#9c179e"
             ],
             [
              0.4444444444444444,
              "#bd3786"
             ],
             [
              0.5555555555555556,
              "#d8576b"
             ],
             [
              0.6666666666666666,
              "#ed7953"
             ],
             [
              0.7777777777777778,
              "#fb9f3a"
             ],
             [
              0.8888888888888888,
              "#fdca26"
             ],
             [
              1,
              "#f0f921"
             ]
            ],
            "type": "heatmap"
           }
          ],
          "heatmapgl": [
           {
            "colorbar": {
             "outlinewidth": 0,
             "ticks": ""
            },
            "colorscale": [
             [
              0,
              "#0d0887"
             ],
             [
              0.1111111111111111,
              "#46039f"
             ],
             [
              0.2222222222222222,
              "#7201a8"
             ],
             [
              0.3333333333333333,
              "#9c179e"
             ],
             [
              0.4444444444444444,
              "#bd3786"
             ],
             [
              0.5555555555555556,
              "#d8576b"
             ],
             [
              0.6666666666666666,
              "#ed7953"
             ],
             [
              0.7777777777777778,
              "#fb9f3a"
             ],
             [
              0.8888888888888888,
              "#fdca26"
             ],
             [
              1,
              "#f0f921"
             ]
            ],
            "type": "heatmapgl"
           }
          ],
          "histogram": [
           {
            "marker": {
             "pattern": {
              "fillmode": "overlay",
              "size": 10,
              "solidity": 0.2
             }
            },
            "type": "histogram"
           }
          ],
          "histogram2d": [
           {
            "colorbar": {
             "outlinewidth": 0,
             "ticks": ""
            },
            "colorscale": [
             [
              0,
              "#0d0887"
             ],
             [
              0.1111111111111111,
              "#46039f"
             ],
             [
              0.2222222222222222,
              "#7201a8"
             ],
             [
              0.3333333333333333,
              "#9c179e"
             ],
             [
              0.4444444444444444,
              "#bd3786"
             ],
             [
              0.5555555555555556,
              "#d8576b"
             ],
             [
              0.6666666666666666,
              "#ed7953"
             ],
             [
              0.7777777777777778,
              "#fb9f3a"
             ],
             [
              0.8888888888888888,
              "#fdca26"
             ],
             [
              1,
              "#f0f921"
             ]
            ],
            "type": "histogram2d"
           }
          ],
          "histogram2dcontour": [
           {
            "colorbar": {
             "outlinewidth": 0,
             "ticks": ""
            },
            "colorscale": [
             [
              0,
              "#0d0887"
             ],
             [
              0.1111111111111111,
              "#46039f"
             ],
             [
              0.2222222222222222,
              "#7201a8"
             ],
             [
              0.3333333333333333,
              "#9c179e"
             ],
             [
              0.4444444444444444,
              "#bd3786"
             ],
             [
              0.5555555555555556,
              "#d8576b"
             ],
             [
              0.6666666666666666,
              "#ed7953"
             ],
             [
              0.7777777777777778,
              "#fb9f3a"
             ],
             [
              0.8888888888888888,
              "#fdca26"
             ],
             [
              1,
              "#f0f921"
             ]
            ],
            "type": "histogram2dcontour"
           }
          ],
          "mesh3d": [
           {
            "colorbar": {
             "outlinewidth": 0,
             "ticks": ""
            },
            "type": "mesh3d"
           }
          ],
          "parcoords": [
           {
            "line": {
             "colorbar": {
              "outlinewidth": 0,
              "ticks": ""
             }
            },
            "type": "parcoords"
           }
          ],
          "pie": [
           {
            "automargin": true,
            "type": "pie"
           }
          ],
          "scatter": [
           {
            "marker": {
             "colorbar": {
              "outlinewidth": 0,
              "ticks": ""
             }
            },
            "type": "scatter"
           }
          ],
          "scatter3d": [
           {
            "line": {
             "colorbar": {
              "outlinewidth": 0,
              "ticks": ""
             }
            },
            "marker": {
             "colorbar": {
              "outlinewidth": 0,
              "ticks": ""
             }
            },
            "type": "scatter3d"
           }
          ],
          "scattercarpet": [
           {
            "marker": {
             "colorbar": {
              "outlinewidth": 0,
              "ticks": ""
             }
            },
            "type": "scattercarpet"
           }
          ],
          "scattergeo": [
           {
            "marker": {
             "colorbar": {
              "outlinewidth": 0,
              "ticks": ""
             }
            },
            "type": "scattergeo"
           }
          ],
          "scattergl": [
           {
            "marker": {
             "colorbar": {
              "outlinewidth": 0,
              "ticks": ""
             }
            },
            "type": "scattergl"
           }
          ],
          "scattermapbox": [
           {
            "marker": {
             "colorbar": {
              "outlinewidth": 0,
              "ticks": ""
             }
            },
            "type": "scattermapbox"
           }
          ],
          "scatterpolar": [
           {
            "marker": {
             "colorbar": {
              "outlinewidth": 0,
              "ticks": ""
             }
            },
            "type": "scatterpolar"
           }
          ],
          "scatterpolargl": [
           {
            "marker": {
             "colorbar": {
              "outlinewidth": 0,
              "ticks": ""
             }
            },
            "type": "scatterpolargl"
           }
          ],
          "scatterternary": [
           {
            "marker": {
             "colorbar": {
              "outlinewidth": 0,
              "ticks": ""
             }
            },
            "type": "scatterternary"
           }
          ],
          "surface": [
           {
            "colorbar": {
             "outlinewidth": 0,
             "ticks": ""
            },
            "colorscale": [
             [
              0,
              "#0d0887"
             ],
             [
              0.1111111111111111,
              "#46039f"
             ],
             [
              0.2222222222222222,
              "#7201a8"
             ],
             [
              0.3333333333333333,
              "#9c179e"
             ],
             [
              0.4444444444444444,
              "#bd3786"
             ],
             [
              0.5555555555555556,
              "#d8576b"
             ],
             [
              0.6666666666666666,
              "#ed7953"
             ],
             [
              0.7777777777777778,
              "#fb9f3a"
             ],
             [
              0.8888888888888888,
              "#fdca26"
             ],
             [
              1,
              "#f0f921"
             ]
            ],
            "type": "surface"
           }
          ],
          "table": [
           {
            "cells": {
             "fill": {
              "color": "#EBF0F8"
             },
             "line": {
              "color": "white"
             }
            },
            "header": {
             "fill": {
              "color": "#C8D4E3"
             },
             "line": {
              "color": "white"
             }
            },
            "type": "table"
           }
          ]
         },
         "layout": {
          "annotationdefaults": {
           "arrowcolor": "#2a3f5f",
           "arrowhead": 0,
           "arrowwidth": 1
          },
          "autotypenumbers": "strict",
          "coloraxis": {
           "colorbar": {
            "outlinewidth": 0,
            "ticks": ""
           }
          },
          "colorscale": {
           "diverging": [
            [
             0,
             "#8e0152"
            ],
            [
             0.1,
             "#c51b7d"
            ],
            [
             0.2,
             "#de77ae"
            ],
            [
             0.3,
             "#f1b6da"
            ],
            [
             0.4,
             "#fde0ef"
            ],
            [
             0.5,
             "#f7f7f7"
            ],
            [
             0.6,
             "#e6f5d0"
            ],
            [
             0.7,
             "#b8e186"
            ],
            [
             0.8,
             "#7fbc41"
            ],
            [
             0.9,
             "#4d9221"
            ],
            [
             1,
             "#276419"
            ]
           ],
           "sequential": [
            [
             0,
             "#0d0887"
            ],
            [
             0.1111111111111111,
             "#46039f"
            ],
            [
             0.2222222222222222,
             "#7201a8"
            ],
            [
             0.3333333333333333,
             "#9c179e"
            ],
            [
             0.4444444444444444,
             "#bd3786"
            ],
            [
             0.5555555555555556,
             "#d8576b"
            ],
            [
             0.6666666666666666,
             "#ed7953"
            ],
            [
             0.7777777777777778,
             "#fb9f3a"
            ],
            [
             0.8888888888888888,
             "#fdca26"
            ],
            [
             1,
             "#f0f921"
            ]
           ],
           "sequentialminus": [
            [
             0,
             "#0d0887"
            ],
            [
             0.1111111111111111,
             "#46039f"
            ],
            [
             0.2222222222222222,
             "#7201a8"
            ],
            [
             0.3333333333333333,
             "#9c179e"
            ],
            [
             0.4444444444444444,
             "#bd3786"
            ],
            [
             0.5555555555555556,
             "#d8576b"
            ],
            [
             0.6666666666666666,
             "#ed7953"
            ],
            [
             0.7777777777777778,
             "#fb9f3a"
            ],
            [
             0.8888888888888888,
             "#fdca26"
            ],
            [
             1,
             "#f0f921"
            ]
           ]
          },
          "colorway": [
           "#636efa",
           "#EF553B",
           "#00cc96",
           "#ab63fa",
           "#FFA15A",
           "#19d3f3",
           "#FF6692",
           "#B6E880",
           "#FF97FF",
           "#FECB52"
          ],
          "font": {
           "color": "#2a3f5f"
          },
          "geo": {
           "bgcolor": "white",
           "lakecolor": "white",
           "landcolor": "#E5ECF6",
           "showlakes": true,
           "showland": true,
           "subunitcolor": "white"
          },
          "hoverlabel": {
           "align": "left"
          },
          "hovermode": "closest",
          "mapbox": {
           "style": "light"
          },
          "paper_bgcolor": "white",
          "plot_bgcolor": "#E5ECF6",
          "polar": {
           "angularaxis": {
            "gridcolor": "white",
            "linecolor": "white",
            "ticks": ""
           },
           "bgcolor": "#E5ECF6",
           "radialaxis": {
            "gridcolor": "white",
            "linecolor": "white",
            "ticks": ""
           }
          },
          "scene": {
           "xaxis": {
            "backgroundcolor": "#E5ECF6",
            "gridcolor": "white",
            "gridwidth": 2,
            "linecolor": "white",
            "showbackground": true,
            "ticks": "",
            "zerolinecolor": "white"
           },
           "yaxis": {
            "backgroundcolor": "#E5ECF6",
            "gridcolor": "white",
            "gridwidth": 2,
            "linecolor": "white",
            "showbackground": true,
            "ticks": "",
            "zerolinecolor": "white"
           },
           "zaxis": {
            "backgroundcolor": "#E5ECF6",
            "gridcolor": "white",
            "gridwidth": 2,
            "linecolor": "white",
            "showbackground": true,
            "ticks": "",
            "zerolinecolor": "white"
           }
          },
          "shapedefaults": {
           "line": {
            "color": "#2a3f5f"
           }
          },
          "ternary": {
           "aaxis": {
            "gridcolor": "white",
            "linecolor": "white",
            "ticks": ""
           },
           "baxis": {
            "gridcolor": "white",
            "linecolor": "white",
            "ticks": ""
           },
           "bgcolor": "#E5ECF6",
           "caxis": {
            "gridcolor": "white",
            "linecolor": "white",
            "ticks": ""
           }
          },
          "title": {
           "x": 0.05
          },
          "xaxis": {
           "automargin": true,
           "gridcolor": "white",
           "linecolor": "white",
           "ticks": "",
           "title": {
            "standoff": 15
           },
           "zerolinecolor": "white",
           "zerolinewidth": 2
          },
          "yaxis": {
           "automargin": true,
           "gridcolor": "white",
           "linecolor": "white",
           "ticks": "",
           "title": {
            "standoff": 15
           },
           "zerolinecolor": "white",
           "zerolinewidth": 2
          }
         }
        },
        "xaxis": {
         "anchor": "y",
         "domain": [
          0,
          1
         ],
         "type": "linear"
        },
        "yaxis": {
         "anchor": "x",
         "domain": [
          0,
          1
         ],
         "title": {
          "text": "process"
         }
        }
       }
      }
     },
     "metadata": {},
     "output_type": "display_data"
    }
   ],
   "source": [
    "op.kernel(s.RR_scheduler, 6)\n",
    "\n",
    "# read CPU data from kernel run\n",
    "df = pd.read_csv('results.csv')\n",
    "df.head()\n",
    "\n",
    "# use Prof. Al Madi's code to plot\n",
    "fig = px.timeline(df, x_start='start', x_end='finish', y='process', color='priority')\n",
    "df['delta'] = df['finish'] - df['start']\n",
    "fig.layout.xaxis.type = 'linear'\n",
    "fig.data[0].x = df.delta.tolist()\n",
    "fig.show()"
   ]
  },
  {
   "cell_type": "markdown",
   "metadata": {},
   "source": [
    "**Simulations:** First generate 1000 processes programatically:"
   ]
  },
  {
   "cell_type": "code",
   "execution_count": 3,
   "metadata": {},
   "outputs": [],
   "source": [
    "# list for processes\n",
    "procs =[]\n",
    "\n",
    "# generate 1000 processes\n",
    "for i in range(1000):\n",
    "    \n",
    "    # 50% CPU bound\n",
    "    if ran.random() > 0.5:\n",
    "        \n",
    "        duty = []\n",
    "        for j in range(ran.randrange(3,10,2)):\n",
    "            if j%2==0:\n",
    "                duty.append(ran.randint(8,13))\n",
    "            else:\n",
    "                duty.append(ran.randint(1,4))\n",
    "        procs.append(process.Process(i, duty, ran.randint(0,1000), ran.randint(0,16)))\n",
    "    \n",
    "    else: # 50% I/O bound\n",
    "        duty = []\n",
    "        for j in range(ran.randrange(3,10,2)):\n",
    "            if j%2==0:\n",
    "                duty.append(ran.randint(1,4))\n",
    "            else:\n",
    "                duty.append(ran.randint(8,13))\n",
    "        procs.append(process.Process(i, duty, ran.randint(0,1000), ran.randint(0,16)))\n"
   ]
  },
  {
   "cell_type": "code",
   "execution_count": 4,
   "metadata": {},
   "outputs": [
    {
     "name": "stdout",
     "output_type": "stream",
     "text": [
      "PID: 262 | Burst: 7 | start: 0, end: 1 | wait : 0 | turnaround : 1\n",
      "PID: 665 | Burst: 6 | start: 1, end: 6 | wait : 0 | turnaround : 5\n",
      "PID: 161 | Burst: 11 | start: 6, end: 7 | wait : 1 | turnaround : 2\n",
      "PID: 161 | Burst: 10 | start: 7, end: 8 | wait : 1 | turnaround : 3\n",
      "PID: 964 | Burst: 1 | start: 8, end: 9 | wait : 0 | turnaround : 1\n",
      "PID: 752 | Burst: 1 | start: 9, end: 10 | wait : 0 | turnaround : 1\n",
      "PID: 752 | Burst: 0 | start: 10, end: 11 | wait : 0 | turnaround : 2\n",
      "PID: 964 | Burst: 0 | start: 11, end: 12 | wait : 2 | turnaround : 4\n",
      "PID: 949 | Burst: 7 | start: 12, end: 13 | wait : 0 | turnaround : 1\n",
      "PID: 820 | Burst: 1 | start: 13, end: 14 | wait : 1 | turnaround : 2\n",
      "PID: 116 | Burst: 9 | start: 14, end: 15 | wait : 0 | turnaround : 1\n",
      "PID: 562 | Burst: 1 | start: 15, end: 16 | wait : 3 | turnaround : 4\n",
      "PID: 562 | Burst: 0 | start: 16, end: 17 | wait : 3 | turnaround : 5\n",
      "PID: 537 | Burst: 10 | start: 17, end: 18 | wait : 8 | turnaround : 9\n",
      "PID: 474 | Burst: 2 | start: 18, end: 19 | wait : 0 | turnaround : 1\n",
      "PID: 210 | Burst: 2 | start: 19, end: 20 | wait : 1 | turnaround : 2\n",
      "PID: 126 | Burst: 3 | start: 20, end: 21 | wait : 0 | turnaround : 1\n",
      "PID: 56 | Burst: 8 | start: 21, end: 22 | wait : 1 | turnaround : 2\n",
      "PID: 934 | Burst: 0 | start: 22, end: 23 | wait : 0 | turnaround : 1\n",
      "PID: 245 | Burst: 2 | start: 23, end: 24 | wait : 0 | turnaround : 1\n",
      "PID: 92 | Burst: 1 | start: 24, end: 25 | wait : 2 | turnaround : 3\n",
      "PID: 163 | Burst: 12 | start: 25, end: 26 | wait : 23 | turnaround : 24\n",
      "PID: 641 | Burst: 10 | start: 26, end: 27 | wait : 0 | turnaround : 1\n",
      "PID: 375 | Burst: 2 | start: 27, end: 28 | wait : 0 | turnaround : 1\n",
      "PID: 505 | Burst: 8 | start: 28, end: 29 | wait : 0 | turnaround : 1\n",
      "PID: 399 | Burst: 2 | start: 29, end: 30 | wait : 3 | turnaround : 4\n",
      "PID: 371 | Burst: 3 | start: 30, end: 31 | wait : 0 | turnaround : 1\n",
      "PID: 371 | Burst: 2 | start: 31, end: 32 | wait : 0 | turnaround : 2\n",
      "PID: 686 | Burst: 10 | start: 32, end: 33 | wait : 0 | turnaround : 1\n",
      "PID: 487 | Burst: 8 | start: 33, end: 34 | wait : 0 | turnaround : 1\n",
      "PID: 930 | Burst: 12 | start: 34, end: 35 | wait : 0 | turnaround : 1\n",
      "PID: 311 | Burst: 8 | start: 35, end: 36 | wait : 0 | turnaround : 1\n",
      "PID: 441 | Burst: 2 | start: 36, end: 37 | wait : 0 | turnaround : 1\n",
      "PID: 597 | Burst: 0 | start: 37, end: 38 | wait : 0 | turnaround : 1\n",
      "PID: 840 | Burst: 9 | start: 38, end: 39 | wait : 0 | turnaround : 1\n",
      "PID: 630 | Burst: 9 | start: 39, end: 40 | wait : 1 | turnaround : 2\n",
      "PID: 933 | Burst: 8 | start: 40, end: 41 | wait : 0 | turnaround : 1\n",
      "PID: 370 | Burst: 3 | start: 41, end: 42 | wait : 1 | turnaround : 2\n",
      "PID: 547 | Burst: 10 | start: 42, end: 43 | wait : 0 | turnaround : 1\n",
      "PID: 328 | Burst: 11 | start: 43, end: 44 | wait : 1 | turnaround : 2\n",
      "PID: 741 | Burst: 0 | start: 44, end: 45 | wait : 0 | turnaround : 1\n",
      "PID: 803 | Burst: 11 | start: 45, end: 46 | wait : 0 | turnaround : 1\n",
      "PID: 548 | Burst: 3 | start: 46, end: 47 | wait : 0 | turnaround : 1\n",
      "PID: 269 | Burst: 0 | start: 47, end: 48 | wait : 1 | turnaround : 2\n",
      "PID: 189 | Burst: 0 | start: 48, end: 49 | wait : 0 | turnaround : 1\n",
      "PID: 782 | Burst: 10 | start: 49, end: 50 | wait : 0 | turnaround : 1\n",
      "PID: 395 | Burst: 8 | start: 50, end: 51 | wait : 1 | turnaround : 2\n",
      "PID: 137 | Burst: 3 | start: 51, end: 52 | wait : 3 | turnaround : 4\n",
      "PID: 329 | Burst: 0 | start: 52, end: 53 | wait : 3 | turnaround : 4\n",
      "PID: 778 | Burst: 1 | start: 53, end: 54 | wait : 0 | turnaround : 1\n",
      "PID: 801 | Burst: 1 | start: 54, end: 55 | wait : 0 | turnaround : 1\n",
      "PID: 696 | Burst: 8 | start: 55, end: 56 | wait : 0 | turnaround : 1\n",
      "PID: 602 | Burst: 0 | start: 56, end: 57 | wait : 2 | turnaround : 3\n",
      "PID: 917 | Burst: 2 | start: 57, end: 58 | wait : 0 | turnaround : 1\n",
      "PID: 639 | Burst: 10 | start: 58, end: 59 | wait : 13 | turnaround : 14\n",
      "PID: 278 | Burst: 11 | start: 59, end: 60 | wait : 0 | turnaround : 1\n",
      "PID: 567 | Burst: 9 | start: 60, end: 61 | wait : 0 | turnaround : 1\n",
      "PID: 974 | Burst: 0 | start: 61, end: 62 | wait : 0 | turnaround : 1\n",
      "PID: 401 | Burst: 2 | start: 62, end: 63 | wait : 2 | turnaround : 3\n",
      "PID: 520 | Burst: 9 | start: 63, end: 64 | wait : 0 | turnaround : 1\n",
      "PID: 712 | Burst: 0 | start: 64, end: 65 | wait : 0 | turnaround : 1\n",
      "PID: 368 | Burst: 10 | start: 65, end: 66 | wait : 2 | turnaround : 3\n",
      "PID: 922 | Burst: 9 | start: 66, end: 67 | wait : 0 | turnaround : 1\n",
      "PID: 762 | Burst: 7 | start: 67, end: 68 | wait : 0 | turnaround : 1\n",
      "PID: 405 | Burst: 9 | start: 68, end: 69 | wait : 1 | turnaround : 2\n",
      "PID: 845 | Burst: 11 | start: 69, end: 70 | wait : 0 | turnaround : 1\n",
      "PID: 572 | Burst: 8 | start: 70, end: 71 | wait : 25 | turnaround : 26\n",
      "PID: 84 | Burst: 1 | start: 71, end: 72 | wait : 0 | turnaround : 1\n",
      "PID: 799 | Burst: 3 | start: 72, end: 73 | wait : 0 | turnaround : 1\n",
      "PID: 392 | Burst: 3 | start: 73, end: 74 | wait : 0 | turnaround : 1\n",
      "PID: 788 | Burst: 3 | start: 74, end: 75 | wait : 2 | turnaround : 3\n",
      "PID: 871 | Burst: 9 | start: 75, end: 76 | wait : 0 | turnaround : 1\n",
      "PID: 41 | Burst: 3 | start: 76, end: 77 | wait : 0 | turnaround : 1\n",
      "PID: 250 | Burst: 3 | start: 77, end: 78 | wait : 5 | turnaround : 6\n",
      "PID: 67 | Burst: 8 | start: 78, end: 79 | wait : 6 | turnaround : 7\n",
      "PID: 972 | Burst: 12 | start: 79, end: 80 | wait : 0 | turnaround : 1\n",
      "PID: 290 | Burst: 1 | start: 80, end: 81 | wait : 0 | turnaround : 1\n",
      "PID: 583 | Burst: 2 | start: 81, end: 82 | wait : 2 | turnaround : 3\n",
      "PID: 275 | Burst: 9 | start: 82, end: 83 | wait : 3 | turnaround : 4\n",
      "PID: 303 | Burst: 9 | start: 83, end: 84 | wait : 0 | turnaround : 1\n",
      "PID: 773 | Burst: 10 | start: 84, end: 85 | wait : 0 | turnaround : 1\n",
      "PID: 807 | Burst: 7 | start: 85, end: 86 | wait : 0 | turnaround : 1\n",
      "PID: 695 | Burst: 10 | start: 86, end: 87 | wait : 0 | turnaround : 1\n",
      "PID: 549 | Burst: 3 | start: 87, end: 88 | wait : 0 | turnaround : 1\n",
      "PID: 138 | Burst: 0 | start: 88, end: 89 | wait : 0 | turnaround : 1\n",
      "PID: 516 | Burst: 3 | start: 89, end: 90 | wait : 2 | turnaround : 3\n",
      "PID: 503 | Burst: 10 | start: 90, end: 91 | wait : 4 | turnaround : 5\n",
      "PID: 664 | Burst: 9 | start: 91, end: 92 | wait : 5 | turnaround : 6\n",
      "PID: 339 | Burst: 0 | start: 92, end: 93 | wait : 0 | turnaround : 1\n",
      "PID: 770 | Burst: 1 | start: 93, end: 94 | wait : 0 | turnaround : 1\n",
      "PID: 179 | Burst: 11 | start: 94, end: 95 | wait : 0 | turnaround : 1\n",
      "PID: 833 | Burst: 1 | start: 95, end: 96 | wait : 0 | turnaround : 1\n",
      "PID: 637 | Burst: 11 | start: 96, end: 97 | wait : 0 | turnaround : 1\n",
      "PID: 434 | Burst: 2 | start: 97, end: 98 | wait : 1 | turnaround : 2\n",
      "PID: 756 | Burst: 0 | start: 98, end: 99 | wait : 0 | turnaround : 1\n",
      "PID: 659 | Burst: 8 | start: 99, end: 100 | wait : 0 | turnaround : 1\n",
      "PID: 821 | Burst: 7 | start: 100, end: 101 | wait : 0 | turnaround : 1\n",
      "PID: 625 | Burst: 1 | start: 101, end: 102 | wait : 1 | turnaround : 2\n",
      "PID: 241 | Burst: 8 | start: 102, end: 103 | wait : 0 | turnaround : 1\n",
      "PID: 337 | Burst: 8 | start: 103, end: 104 | wait : 0 | turnaround : 1\n",
      "PID: 689 | Burst: 10 | start: 104, end: 105 | wait : 0 | turnaround : 1\n",
      "PID: 61 | Burst: 11 | start: 105, end: 106 | wait : 0 | turnaround : 1\n",
      "PID: 531 | Burst: 3 | start: 106, end: 107 | wait : 2 | turnaround : 3\n",
      "PID: 409 | Burst: 11 | start: 107, end: 108 | wait : 7 | turnaround : 8\n",
      "PID: 7 | Burst: 3 | start: 108, end: 109 | wait : 5 | turnaround : 6\n",
      "PID: 112 | Burst: 9 | start: 109, end: 110 | wait : 10 | turnaround : 11\n",
      "PID: 868 | Burst: 12 | start: 110, end: 111 | wait : 0 | turnaround : 1\n",
      "PID: 153 | Burst: 2 | start: 111, end: 112 | wait : 0 | turnaround : 1\n",
      "PID: 11 | Burst: 3 | start: 112, end: 113 | wait : 12 | turnaround : 13\n",
      "PID: 240 | Burst: 10 | start: 113, end: 114 | wait : 20 | turnaround : 21\n",
      "PID: 102 | Burst: 3 | start: 114, end: 115 | wait : 20 | turnaround : 21\n",
      "PID: 624 | Burst: 2 | start: 115, end: 116 | wait : 0 | turnaround : 1\n",
      "PID: 624 | Burst: 1 | start: 116, end: 117 | wait : 0 | turnaround : 2\n",
      "PID: 471 | Burst: 9 | start: 117, end: 118 | wait : 0 | turnaround : 1\n",
      "PID: 42 | Burst: 7 | start: 118, end: 119 | wait : 1 | turnaround : 2\n",
      "PID: 805 | Burst: 3 | start: 119, end: 120 | wait : 0 | turnaround : 1\n",
      "PID: 779 | Burst: 2 | start: 120, end: 121 | wait : 1 | turnaround : 2\n",
      "PID: 779 | Burst: 1 | start: 121, end: 122 | wait : 1 | turnaround : 3\n",
      "PID: 816 | Burst: 12 | start: 122, end: 123 | wait : 0 | turnaround : 1\n",
      "PID: 754 | Burst: 0 | start: 123, end: 124 | wait : 0 | turnaround : 1\n",
      "PID: 886 | Burst: 12 | start: 124, end: 125 | wait : 0 | turnaround : 1\n",
      "PID: 957 | Burst: 12 | start: 125, end: 126 | wait : 0 | turnaround : 1\n",
      "PID: 830 | Burst: 2 | start: 126, end: 127 | wait : 1 | turnaround : 2\n",
      "PID: 244 | Burst: 9 | start: 127, end: 128 | wait : 2 | turnaround : 3\n",
      "PID: 385 | Burst: 10 | start: 128, end: 129 | wait : 0 | turnaround : 1\n",
      "PID: 128 | Burst: 2 | start: 129, end: 130 | wait : 0 | turnaround : 1\n",
      "PID: 721 | Burst: 1 | start: 130, end: 131 | wait : 0 | turnaround : 1\n",
      "PID: 578 | Burst: 10 | start: 131, end: 132 | wait : 0 | turnaround : 1\n",
      "PID: 206 | Burst: 9 | start: 132, end: 133 | wait : 0 | turnaround : 1\n",
      "PID: 99 | Burst: 11 | start: 133, end: 134 | wait : 3 | turnaround : 4\n",
      "PID: 99 | Burst: 10 | start: 134, end: 135 | wait : 3 | turnaround : 5\n",
      "PID: 754 | Burst: 0 | start: 135, end: 136 | wait : 1 | turnaround : 3\n",
      "PID: 206 | Burst: 8 | start: 136, end: 137 | wait : 3 | turnaround : 5\n",
      "PID: 721 | Burst: 0 | start: 137, end: 138 | wait : 6 | turnaround : 8\n",
      "PID: 247 | Burst: 2 | start: 138, end: 139 | wait : 0 | turnaround : 1\n",
      "PID: 414 | Burst: 2 | start: 139, end: 140 | wait : 16 | turnaround : 17\n",
      "PID: 414 | Burst: 1 | start: 140, end: 141 | wait : 16 | turnaround : 18\n",
      "PID: 247 | Burst: 1 | start: 141, end: 142 | wait : 2 | turnaround : 4\n",
      "PID: 88 | Burst: 0 | start: 142, end: 143 | wait : 0 | turnaround : 1\n",
      "PID: 977 | Burst: 11 | start: 143, end: 144 | wait : 0 | turnaround : 1\n",
      "PID: 839 | Burst: 3 | start: 144, end: 145 | wait : 0 | turnaround : 1\n",
      "PID: 766 | Burst: 1 | start: 145, end: 146 | wait : 1 | turnaround : 2\n",
      "PID: 479 | Burst: 8 | start: 146, end: 147 | wait : 0 | turnaround : 1\n",
      "PID: 356 | Burst: 8 | start: 147, end: 148 | wait : 1 | turnaround : 2\n",
      "PID: 185 | Burst: 9 | start: 148, end: 149 | wait : 0 | turnaround : 1\n",
      "PID: 55 | Burst: 1 | start: 149, end: 150 | wait : 3 | turnaround : 4\n",
      "PID: 564 | Burst: 2 | start: 150, end: 151 | wait : 0 | turnaround : 1\n",
      "PID: 967 | Burst: 1 | start: 151, end: 152 | wait : 0 | turnaround : 1\n",
      "PID: 60 | Burst: 10 | start: 152, end: 153 | wait : 1 | turnaround : 2\n",
      "PID: 217 | Burst: 3 | start: 153, end: 154 | wait : 0 | turnaround : 1\n",
      "PID: 142 | Burst: 7 | start: 154, end: 155 | wait : 0 | turnaround : 1\n",
      "PID: 4 | Burst: 3 | start: 155, end: 156 | wait : 0 | turnaround : 1\n",
      "PID: 49 | Burst: 1 | start: 156, end: 157 | wait : 0 | turnaround : 1\n",
      "PID: 147 | Burst: 8 | start: 157, end: 158 | wait : 0 | turnaround : 1\n",
      "PID: 956 | Burst: 0 | start: 158, end: 159 | wait : 0 | turnaround : 1\n",
      "PID: 343 | Burst: 11 | start: 159, end: 160 | wait : 0 | turnaround : 1\n",
      "PID: 343 | Burst: 10 | start: 160, end: 161 | wait : 0 | turnaround : 2\n",
      "PID: 147 | Burst: 7 | start: 161, end: 162 | wait : 3 | turnaround : 5\n",
      "PID: 568 | Burst: 1 | start: 162, end: 163 | wait : 0 | turnaround : 1\n",
      "PID: 291 | Burst: 10 | start: 163, end: 164 | wait : 0 | turnaround : 1\n",
      "PID: 291 | Burst: 9 | start: 164, end: 165 | wait : 0 | turnaround : 2\n",
      "PID: 299 | Burst: 9 | start: 165, end: 166 | wait : 0 | turnaround : 1\n",
      "PID: 299 | Burst: 8 | start: 166, end: 167 | wait : 0 | turnaround : 2\n",
      "PID: 62 | Burst: 7 | start: 167, end: 168 | wait : 0 | turnaround : 1\n",
      "PID: 152 | Burst: 3 | start: 168, end: 169 | wait : 0 | turnaround : 1\n",
      "PID: 30 | Burst: 11 | start: 169, end: 170 | wait : 2 | turnaround : 3\n",
      "PID: 895 | Burst: 1 | start: 170, end: 171 | wait : 0 | turnaround : 1\n",
      "PID: 435 | Burst: 3 | start: 171, end: 172 | wait : 1 | turnaround : 2\n",
      "PID: 913 | Burst: 2 | start: 172, end: 173 | wait : 0 | turnaround : 1\n",
      "PID: 824 | Burst: 7 | start: 173, end: 174 | wait : 0 | turnaround : 1\n",
      "PID: 232 | Burst: 2 | start: 174, end: 175 | wait : 1 | turnaround : 2\n",
      "PID: 911 | Burst: 12 | start: 175, end: 176 | wait : 0 | turnaround : 1\n",
      "PID: 362 | Burst: 2 | start: 176, end: 177 | wait : 4 | turnaround : 5\n",
      "PID: 362 | Burst: 1 | start: 177, end: 178 | wait : 4 | turnaround : 6\n",
      "PID: 673 | Burst: 9 | start: 178, end: 179 | wait : 0 | turnaround : 1\n",
      "PID: 898 | Burst: 0 | start: 179, end: 180 | wait : 0 | turnaround : 1\n",
      "PID: 391 | Burst: 11 | start: 180, end: 181 | wait : 0 | turnaround : 1\n",
      "PID: 391 | Burst: 10 | start: 181, end: 182 | wait : 0 | turnaround : 2\n",
      "PID: 970 | Burst: 11 | start: 182, end: 183 | wait : 0 | turnaround : 1\n",
      "PID: 193 | Burst: 2 | start: 183, end: 184 | wait : 0 | turnaround : 1\n",
      "PID: 760 | Burst: 2 | start: 184, end: 185 | wait : 0 | turnaround : 1\n",
      "PID: 701 | Burst: 2 | start: 185, end: 186 | wait : 3 | turnaround : 4\n",
      "PID: 701 | Burst: 1 | start: 186, end: 187 | wait : 3 | turnaround : 5\n",
      "PID: 976 | Burst: 10 | start: 187, end: 188 | wait : 0 | turnaround : 1\n",
      "PID: 831 | Burst: 11 | start: 188, end: 189 | wait : 1 | turnaround : 2\n",
      "PID: 831 | Burst: 10 | start: 189, end: 190 | wait : 1 | turnaround : 3\n",
      "PID: 769 | Burst: 7 | start: 190, end: 191 | wait : 0 | turnaround : 1\n",
      "PID: 29 | Burst: 9 | start: 191, end: 192 | wait : 1 | turnaround : 2\n",
      "PID: 882 | Burst: 8 | start: 192, end: 193 | wait : 0 | turnaround : 1\n",
      "PID: 354 | Burst: 2 | start: 193, end: 194 | wait : 0 | turnaround : 1\n",
      "PID: 279 | Burst: 0 | start: 194, end: 195 | wait : 1 | turnaround : 2\n",
      "PID: 670 | Burst: 1 | start: 195, end: 196 | wait : 0 | turnaround : 1\n",
      "PID: 135 | Burst: 2 | start: 196, end: 197 | wait : 4 | turnaround : 5\n",
      "PID: 135 | Burst: 1 | start: 197, end: 198 | wait : 4 | turnaround : 6\n",
      "PID: 670 | Burst: 0 | start: 198, end: 199 | wait : 2 | turnaround : 4\n",
      "PID: 354 | Burst: 1 | start: 199, end: 200 | wait : 5 | turnaround : 7\n",
      "PID: 939 | Burst: 7 | start: 200, end: 201 | wait : 0 | turnaround : 1\n",
      "PID: 904 | Burst: 1 | start: 201, end: 202 | wait : 1 | turnaround : 2\n",
      "PID: 349 | Burst: 9 | start: 202, end: 203 | wait : 0 | turnaround : 1\n",
      "PID: 276 | Burst: 8 | start: 203, end: 204 | wait : 0 | turnaround : 1\n",
      "PID: 794 | Burst: 11 | start: 204, end: 205 | wait : 4 | turnaround : 5\n",
      "PID: 794 | Burst: 10 | start: 205, end: 206 | wait : 4 | turnaround : 6\n",
      "PID: 975 | Burst: 2 | start: 206, end: 207 | wait : 0 | turnaround : 1\n",
      "PID: 660 | Burst: 3 | start: 207, end: 208 | wait : 0 | turnaround : 1\n",
      "PID: 482 | Burst: 3 | start: 208, end: 209 | wait : 0 | turnaround : 1\n",
      "PID: 226 | Burst: 7 | start: 209, end: 210 | wait : 1 | turnaround : 2\n",
      "PID: 260 | Burst: 12 | start: 210, end: 211 | wait : 0 | turnaround : 1\n",
      "PID: 194 | Burst: 9 | start: 211, end: 212 | wait : 1 | turnaround : 2\n",
      "PID: 215 | Burst: 10 | start: 212, end: 213 | wait : 4 | turnaround : 5\n",
      "PID: 814 | Burst: 11 | start: 213, end: 214 | wait : 0 | turnaround : 1\n",
      "PID: 903 | Burst: 12 | start: 214, end: 215 | wait : 0 | turnaround : 1\n",
      "PID: 5 | Burst: 2 | start: 215, end: 216 | wait : 0 | turnaround : 1\n",
      "PID: 335 | Burst: 8 | start: 216, end: 217 | wait : 0 | turnaround : 1\n",
      "PID: 304 | Burst: 12 | start: 217, end: 218 | wait : 0 | turnaround : 1\n",
      "PID: 617 | Burst: 12 | start: 218, end: 219 | wait : 0 | turnaround : 1\n",
      "PID: 536 | Burst: 2 | start: 219, end: 220 | wait : 1 | turnaround : 2\n",
      "PID: 133 | Burst: 1 | start: 220, end: 221 | wait : 0 | turnaround : 1\n",
      "PID: 74 | Burst: 10 | start: 221, end: 222 | wait : 4 | turnaround : 5\n",
      "PID: 519 | Burst: 3 | start: 222, end: 223 | wait : 8 | turnaround : 9\n",
      "PID: 242 | Burst: 10 | start: 223, end: 224 | wait : 0 | turnaround : 1\n",
      "PID: 34 | Burst: 0 | start: 224, end: 225 | wait : 1 | turnaround : 2\n",
      "PID: 899 | Burst: 1 | start: 225, end: 226 | wait : 0 | turnaround : 1\n",
      "PID: 606 | Burst: 10 | start: 226, end: 227 | wait : 0 | turnaround : 1\n",
      "PID: 808 | Burst: 0 | start: 227, end: 228 | wait : 0 | turnaround : 1\n",
      "PID: 727 | Burst: 12 | start: 228, end: 229 | wait : 1 | turnaround : 2\n",
      "PID: 826 | Burst: 7 | start: 229, end: 230 | wait : 0 | turnaround : 1\n",
      "PID: 439 | Burst: 0 | start: 230, end: 231 | wait : 3 | turnaround : 4\n",
      "PID: 566 | Burst: 11 | start: 231, end: 232 | wait : 5 | turnaround : 6\n",
      "PID: 156 | Burst: 11 | start: 232, end: 233 | wait : 26 | turnaround : 27\n",
      "PID: 539 | Burst: 2 | start: 233, end: 234 | wait : 0 | turnaround : 1\n",
      "PID: 539 | Burst: 1 | start: 234, end: 235 | wait : 0 | turnaround : 2\n",
      "PID: 172 | Burst: 10 | start: 235, end: 236 | wait : 0 | turnaround : 1\n",
      "PID: 336 | Burst: 2 | start: 236, end: 237 | wait : 3 | turnaround : 4\n",
      "PID: 203 | Burst: 3 | start: 237, end: 238 | wait : 0 | turnaround : 1\n",
      "PID: 203 | Burst: 2 | start: 238, end: 239 | wait : 0 | turnaround : 2\n",
      "PID: 34 | Burst: 1 | start: 239, end: 240 | wait : 2 | turnaround : 4\n",
      "PID: 34 | Burst: 0 | start: 240, end: 241 | wait : 2 | turnaround : 5\n",
      "PID: 808 | Burst: 3 | start: 241, end: 242 | wait : 0 | turnaround : 2\n",
      "PID: 943 | Burst: 3 | start: 242, end: 243 | wait : 0 | turnaround : 1\n",
      "PID: 962 | Burst: 10 | start: 243, end: 244 | wait : 0 | turnaround : 1\n",
      "PID: 676 | Burst: 10 | start: 244, end: 245 | wait : 0 | turnaround : 1\n",
      "PID: 714 | Burst: 3 | start: 245, end: 246 | wait : 3 | turnaround : 4\n",
      "PID: 714 | Burst: 2 | start: 246, end: 247 | wait : 3 | turnaround : 5\n",
      "PID: 714 | Burst: 1 | start: 247, end: 248 | wait : 3 | turnaround : 6\n",
      "PID: 587 | Burst: 2 | start: 248, end: 249 | wait : 0 | turnaround : 1\n",
      "PID: 587 | Burst: 1 | start: 249, end: 250 | wait : 0 | turnaround : 2\n",
      "PID: 632 | Burst: 11 | start: 250, end: 251 | wait : 0 | turnaround : 1\n",
      "PID: 632 | Burst: 10 | start: 251, end: 252 | wait : 0 | turnaround : 2\n",
      "PID: 733 | Burst: 2 | start: 252, end: 253 | wait : 0 | turnaround : 1\n",
      "PID: 823 | Burst: 9 | start: 253, end: 254 | wait : 0 | turnaround : 1\n",
      "PID: 45 | Burst: 1 | start: 254, end: 255 | wait : 0 | turnaround : 1\n",
      "PID: 878 | Burst: 2 | start: 255, end: 256 | wait : 0 | turnaround : 1\n",
      "PID: 918 | Burst: 0 | start: 256, end: 257 | wait : 0 | turnaround : 1\n",
      "PID: 361 | Burst: 9 | start: 257, end: 258 | wait : 0 | turnaround : 1\n",
      "PID: 13 | Burst: 8 | start: 258, end: 259 | wait : 0 | turnaround : 1\n",
      "PID: 793 | Burst: 1 | start: 259, end: 260 | wait : 3 | turnaround : 4\n",
      "PID: 984 | Burst: 1 | start: 260, end: 261 | wait : 0 | turnaround : 1\n",
      "PID: 838 | Burst: 0 | start: 261, end: 262 | wait : 0 | turnaround : 1\n",
      "PID: 469 | Burst: 9 | start: 262, end: 263 | wait : 2 | turnaround : 3\n",
      "PID: 995 | Burst: 3 | start: 263, end: 264 | wait : 0 | turnaround : 1\n",
      "PID: 188 | Burst: 3 | start: 264, end: 265 | wait : 0 | turnaround : 1\n",
      "PID: 33 | Burst: 7 | start: 265, end: 266 | wait : 2 | turnaround : 3\n",
      "PID: 150 | Burst: 7 | start: 266, end: 267 | wait : 11 | turnaround : 12\n",
      "PID: 150 | Burst: 6 | start: 267, end: 268 | wait : 11 | turnaround : 13\n",
      "PID: 918 | Burst: 0 | start: 268, end: 269 | wait : 1 | turnaround : 3\n",
      "PID: 321 | Burst: 2 | start: 269, end: 270 | wait : 0 | turnaround : 1\n",
      "PID: 780 | Burst: 10 | start: 270, end: 271 | wait : 0 | turnaround : 1\n",
      "PID: 894 | Burst: 9 | start: 271, end: 272 | wait : 0 | turnaround : 1\n",
      "PID: 919 | Burst: 3 | start: 272, end: 273 | wait : 0 | turnaround : 1\n",
      "PID: 59 | Burst: 9 | start: 273, end: 274 | wait : 2 | turnaround : 3\n",
      "PID: 508 | Burst: 8 | start: 274, end: 275 | wait : 0 | turnaround : 1\n",
      "PID: 109 | Burst: 7 | start: 275, end: 276 | wait : 0 | turnaround : 1\n",
      "PID: 818 | Burst: 12 | start: 276, end: 277 | wait : 0 | turnaround : 1\n",
      "PID: 755 | Burst: 2 | start: 277, end: 278 | wait : 0 | turnaround : 1\n",
      "PID: 681 | Burst: 0 | start: 278, end: 279 | wait : 0 | turnaround : 1\n",
      "PID: 603 | Burst: 11 | start: 279, end: 280 | wait : 1 | turnaround : 2\n",
      "PID: 319 | Burst: 8 | start: 280, end: 281 | wait : 0 | turnaround : 1\n",
      "PID: 678 | Burst: 11 | start: 281, end: 282 | wait : 0 | turnaround : 1\n",
      "PID: 757 | Burst: 12 | start: 282, end: 283 | wait : 0 | turnaround : 1\n",
      "PID: 334 | Burst: 3 | start: 283, end: 284 | wait : 5 | turnaround : 6\n",
      "PID: 980 | Burst: 9 | start: 284, end: 285 | wait : 0 | turnaround : 1\n",
      "PID: 86 | Burst: 7 | start: 285, end: 286 | wait : 0 | turnaround : 1\n",
      "PID: 273 | Burst: 3 | start: 286, end: 287 | wait : 10 | turnaround : 11\n",
      "PID: 682 | Burst: 9 | start: 287, end: 288 | wait : 0 | turnaround : 1\n",
      "PID: 101 | Burst: 9 | start: 288, end: 289 | wait : 1 | turnaround : 2\n",
      "PID: 910 | Burst: 2 | start: 289, end: 290 | wait : 0 | turnaround : 1\n",
      "PID: 722 | Burst: 8 | start: 290, end: 291 | wait : 0 | turnaround : 1\n",
      "PID: 851 | Burst: 3 | start: 291, end: 292 | wait : 2 | turnaround : 3\n",
      "PID: 461 | Burst: 0 | start: 292, end: 293 | wait : 0 | turnaround : 1\n",
      "PID: 102 | Burst: 2 | start: 293, end: 294 | wait : 198 | turnaround : 200\n",
      "PID: 569 | Burst: 11 | start: 294, end: 295 | wait : 0 | turnaround : 1\n",
      "PID: 119 | Burst: 2 | start: 295, end: 296 | wait : 0 | turnaround : 1\n",
      "PID: 423 | Burst: 8 | start: 296, end: 297 | wait : 2 | turnaround : 3\n",
      "PID: 423 | Burst: 7 | start: 297, end: 298 | wait : 2 | turnaround : 4\n",
      "PID: 851 | Burst: 2 | start: 298, end: 299 | wait : 8 | turnaround : 10\n",
      "PID: 344 | Burst: 8 | start: 299, end: 300 | wait : 0 | turnaround : 1\n",
      "PID: 333 | Burst: 2 | start: 300, end: 301 | wait : 0 | turnaround : 1\n",
      "PID: 333 | Burst: 1 | start: 301, end: 302 | wait : 0 | turnaround : 2\n",
      "PID: 461 | Burst: 1 | start: 302, end: 303 | wait : 0 | turnaround : 2\n",
      "PID: 683 | Burst: 12 | start: 303, end: 304 | wait : 0 | turnaround : 1\n",
      "PID: 622 | Burst: 3 | start: 304, end: 305 | wait : 0 | turnaround : 1\n",
      "PID: 50 | Burst: 3 | start: 305, end: 306 | wait : 0 | turnaround : 1\n",
      "PID: 219 | Burst: 3 | start: 306, end: 307 | wait : 0 | turnaround : 1\n",
      "PID: 940 | Burst: 1 | start: 307, end: 308 | wait : 0 | turnaround : 1\n",
      "PID: 642 | Burst: 3 | start: 308, end: 309 | wait : 0 | turnaround : 1\n",
      "PID: 315 | Burst: 2 | start: 309, end: 310 | wait : 5 | turnaround : 6\n",
      "PID: 315 | Burst: 1 | start: 310, end: 311 | wait : 5 | turnaround : 7\n",
      "PID: 638 | Burst: 9 | start: 311, end: 312 | wait : 0 | turnaround : 1\n",
      "PID: 726 | Burst: 0 | start: 312, end: 313 | wait : 0 | turnaround : 1\n",
      "PID: 256 | Burst: 2 | start: 313, end: 314 | wait : 9 | turnaround : 10\n",
      "PID: 902 | Burst: 2 | start: 314, end: 315 | wait : 0 | turnaround : 1\n",
      "PID: 835 | Burst: 10 | start: 315, end: 316 | wait : 0 | turnaround : 1\n",
      "PID: 835 | Burst: 9 | start: 316, end: 317 | wait : 0 | turnaround : 2\n",
      "PID: 294 | Burst: 12 | start: 317, end: 318 | wait : 0 | turnaround : 1\n",
      "PID: 207 | Burst: 2 | start: 318, end: 319 | wait : 0 | turnaround : 1\n",
      "PID: 192 | Burst: 7 | start: 319, end: 320 | wait : 2 | turnaround : 3\n",
      "PID: 283 | Burst: 7 | start: 320, end: 321 | wait : 0 | turnaround : 1\n",
      "PID: 647 | Burst: 7 | start: 321, end: 322 | wait : 0 | turnaround : 1\n",
      "PID: 459 | Burst: 2 | start: 322, end: 323 | wait : 0 | turnaround : 1\n",
      "PID: 465 | Burst: 1 | start: 323, end: 324 | wait : 2 | turnaround : 3\n",
      "PID: 400 | Burst: 11 | start: 324, end: 325 | wait : 0 | turnaround : 1\n",
      "PID: 767 | Burst: 7 | start: 325, end: 326 | wait : 0 | turnaround : 1\n",
      "PID: 732 | Burst: 2 | start: 326, end: 327 | wait : 0 | turnaround : 1\n",
      "PID: 213 | Burst: 10 | start: 327, end: 328 | wait : 1 | turnaround : 2\n",
      "PID: 124 | Burst: 3 | start: 328, end: 329 | wait : 0 | turnaround : 1\n",
      "PID: 412 | Burst: 3 | start: 329, end: 330 | wait : 0 | turnaround : 1\n",
      "PID: 515 | Burst: 11 | start: 330, end: 331 | wait : 0 | turnaround : 1\n",
      "PID: 282 | Burst: 10 | start: 331, end: 332 | wait : 6 | turnaround : 7\n",
      "PID: 425 | Burst: 12 | start: 332, end: 333 | wait : 0 | turnaround : 1\n",
      "PID: 576 | Burst: 1 | start: 333, end: 334 | wait : 0 | turnaround : 1\n",
      "PID: 418 | Burst: 3 | start: 334, end: 335 | wait : 1 | turnaround : 2\n",
      "PID: 445 | Burst: 8 | start: 335, end: 336 | wait : 0 | turnaround : 1\n",
      "PID: 427 | Burst: 9 | start: 336, end: 337 | wait : 1 | turnaround : 2\n",
      "PID: 170 | Burst: 0 | start: 337, end: 338 | wait : 0 | turnaround : 1\n",
      "PID: 776 | Burst: 8 | start: 338, end: 339 | wait : 0 | turnaround : 1\n",
      "PID: 442 | Burst: 2 | start: 339, end: 340 | wait : 0 | turnaround : 1\n",
      "PID: 2 | Burst: 7 | start: 340, end: 341 | wait : 0 | turnaround : 1\n",
      "PID: 584 | Burst: 2 | start: 341, end: 342 | wait : 0 | turnaround : 1\n",
      "PID: 979 | Burst: 9 | start: 342, end: 343 | wait : 0 | turnaround : 1\n",
      "PID: 437 | Burst: 2 | start: 343, end: 344 | wait : 0 | turnaround : 1\n",
      "PID: 298 | Burst: 3 | start: 344, end: 345 | wait : 0 | turnaround : 1\n",
      "PID: 973 | Burst: 11 | start: 345, end: 346 | wait : 0 | turnaround : 1\n",
      "PID: 451 | Burst: 3 | start: 346, end: 347 | wait : 0 | turnaround : 1\n",
      "PID: 504 | Burst: 7 | start: 347, end: 348 | wait : 0 | turnaround : 1\n",
      "PID: 134 | Burst: 10 | start: 348, end: 349 | wait : 1 | turnaround : 2\n",
      "PID: 267 | Burst: 12 | start: 349, end: 350 | wait : 0 | turnaround : 1\n",
      "PID: 214 | Burst: 1 | start: 350, end: 351 | wait : 0 | turnaround : 1\n",
      "PID: 989 | Burst: 7 | start: 351, end: 352 | wait : 0 | turnaround : 1\n",
      "PID: 999 | Burst: 1 | start: 352, end: 353 | wait : 0 | turnaround : 1\n",
      "PID: 379 | Burst: 11 | start: 353, end: 354 | wait : 0 | turnaround : 1\n",
      "PID: 440 | Burst: 10 | start: 354, end: 355 | wait : 0 | turnaround : 1\n",
      "PID: 874 | Burst: 12 | start: 355, end: 356 | wait : 4 | turnaround : 5\n",
      "PID: 797 | Burst: 7 | start: 356, end: 357 | wait : 0 | turnaround : 1\n",
      "PID: 751 | Burst: 2 | start: 357, end: 358 | wait : 0 | turnaround : 1\n",
      "PID: 24 | Burst: 10 | start: 358, end: 359 | wait : 9 | turnaround : 10\n",
      "PID: 841 | Burst: 8 | start: 359, end: 360 | wait : 0 | turnaround : 1\n",
      "PID: 447 | Burst: 2 | start: 360, end: 361 | wait : 15 | turnaround : 16\n",
      "PID: 884 | Burst: 12 | start: 361, end: 362 | wait : 0 | turnaround : 1\n",
      "PID: 324 | Burst: 8 | start: 362, end: 363 | wait : 0 | turnaround : 1\n",
      "PID: 517 | Burst: 12 | start: 363, end: 364 | wait : 2 | turnaround : 3\n",
      "PID: 386 | Burst: 7 | start: 364, end: 365 | wait : 23 | turnaround : 24\n",
      "PID: 859 | Burst: 10 | start: 365, end: 366 | wait : 0 | turnaround : 1\n",
      "PID: 476 | Burst: 9 | start: 366, end: 367 | wait : 0 | turnaround : 1\n",
      "PID: 318 | Burst: 1 | start: 367, end: 368 | wait : 1 | turnaround : 2\n",
      "PID: 83 | Burst: 11 | start: 368, end: 369 | wait : 26 | turnaround : 27\n",
      "PID: 347 | Burst: 12 | start: 369, end: 370 | wait : 0 | turnaround : 1\n",
      "PID: 551 | Burst: 9 | start: 370, end: 371 | wait : 0 | turnaround : 1\n",
      "PID: 157 | Burst: 10 | start: 371, end: 372 | wait : 0 | turnaround : 1\n",
      "PID: 28 | Burst: 3 | start: 372, end: 373 | wait : 2 | turnaround : 3\n",
      "PID: 646 | Burst: 3 | start: 373, end: 374 | wait : 0 | turnaround : 1\n",
      "PID: 920 | Burst: 3 | start: 374, end: 375 | wait : 0 | turnaround : 1\n",
      "PID: 231 | Burst: 3 | start: 375, end: 376 | wait : 0 | turnaround : 1\n",
      "PID: 580 | Burst: 3 | start: 376, end: 377 | wait : 3 | turnaround : 4\n",
      "PID: 284 | Burst: 8 | start: 377, end: 378 | wait : 39 | turnaround : 40\n",
      "PID: 463 | Burst: 1 | start: 378, end: 379 | wait : 0 | turnaround : 1\n",
      "PID: 397 | Burst: 10 | start: 379, end: 380 | wait : 1 | turnaround : 2\n",
      "PID: 164 | Burst: 11 | start: 380, end: 381 | wait : 45 | turnaround : 46\n",
      "PID: 717 | Burst: 0 | start: 381, end: 382 | wait : 0 | turnaround : 1\n",
      "PID: 988 | Burst: 0 | start: 382, end: 383 | wait : 0 | turnaround : 1\n",
      "PID: 608 | Burst: 0 | start: 383, end: 384 | wait : 1 | turnaround : 2\n",
      "PID: 540 | Burst: 11 | start: 384, end: 385 | wait : 2 | turnaround : 3\n",
      "PID: 552 | Burst: 3 | start: 385, end: 386 | wait : 3 | turnaround : 4\n",
      "PID: 360 | Burst: 12 | start: 386, end: 387 | wait : 0 | turnaround : 1\n",
      "PID: 111 | Burst: 1 | start: 387, end: 388 | wait : 1 | turnaround : 2\n",
      "PID: 160 | Burst: 8 | start: 388, end: 389 | wait : 50 | turnaround : 51\n",
      "PID: 513 | Burst: 0 | start: 389, end: 390 | wait : 7 | turnaround : 8\n",
      "PID: 382 | Burst: 12 | start: 390, end: 391 | wait : 69 | turnaround : 70\n",
      "PID: 842 | Burst: 1 | start: 391, end: 392 | wait : 0 | turnaround : 1\n",
      "PID: 764 | Burst: 3 | start: 392, end: 393 | wait : 1 | turnaround : 2\n",
      "PID: 575 | Burst: 10 | start: 393, end: 394 | wait : 0 | turnaround : 1\n",
      "PID: 857 | Burst: 7 | start: 394, end: 395 | wait : 0 | turnaround : 1\n",
      "PID: 511 | Burst: 3 | start: 395, end: 396 | wait : 0 | turnaround : 1\n",
      "PID: 486 | Burst: 12 | start: 396, end: 397 | wait : 0 | turnaround : 1\n",
      "PID: 786 | Burst: 3 | start: 397, end: 398 | wait : 0 | turnaround : 1\n",
      "PID: 433 | Burst: 12 | start: 398, end: 399 | wait : 0 | turnaround : 1\n",
      "PID: 527 | Burst: 9 | start: 399, end: 400 | wait : 2 | turnaround : 3\n",
      "PID: 925 | Burst: 1 | start: 400, end: 401 | wait : 0 | turnaround : 1\n",
      "PID: 396 | Burst: 11 | start: 401, end: 402 | wait : 4 | turnaround : 5\n",
      "PID: 436 | Burst: 11 | start: 402, end: 403 | wait : 0 | turnaround : 1\n",
      "PID: 856 | Burst: 1 | start: 403, end: 404 | wait : 0 | turnaround : 1\n",
      "PID: 804 | Burst: 10 | start: 404, end: 405 | wait : 0 | turnaround : 1\n",
      "PID: 609 | Burst: 7 | start: 405, end: 406 | wait : 0 | turnaround : 1\n",
      "PID: 254 | Burst: 2 | start: 406, end: 407 | wait : 0 | turnaround : 1\n",
      "PID: 36 | Burst: 7 | start: 407, end: 408 | wait : 0 | turnaround : 1\n",
      "PID: 316 | Burst: 2 | start: 408, end: 409 | wait : 3 | turnaround : 4\n",
      "PID: 570 | Burst: 9 | start: 409, end: 410 | wait : 5 | turnaround : 6\n",
      "PID: 221 | Burst: 7 | start: 410, end: 411 | wait : 5 | turnaround : 6\n",
      "PID: 292 | Burst: 1 | start: 411, end: 412 | wait : 0 | turnaround : 1\n",
      "PID: 327 | Burst: 8 | start: 412, end: 413 | wait : 0 | turnaround : 1\n",
      "PID: 829 | Burst: 7 | start: 413, end: 414 | wait : 0 | turnaround : 1\n",
      "PID: 854 | Burst: 7 | start: 414, end: 415 | wait : 0 | turnaround : 1\n",
      "PID: 19 | Burst: 7 | start: 415, end: 416 | wait : 1 | turnaround : 2\n",
      "PID: 610 | Burst: 1 | start: 416, end: 417 | wait : 0 | turnaround : 1\n",
      "PID: 182 | Burst: 8 | start: 417, end: 418 | wait : 1 | turnaround : 2\n",
      "PID: 69 | Burst: 11 | start: 418, end: 419 | wait : 0 | turnaround : 1\n",
      "PID: 730 | Burst: 3 | start: 419, end: 420 | wait : 0 | turnaround : 1\n",
      "PID: 916 | Burst: 3 | start: 420, end: 421 | wait : 0 | turnaround : 1\n",
      "PID: 897 | Burst: 12 | start: 421, end: 422 | wait : 1 | turnaround : 2\n",
      "PID: 688 | Burst: 9 | start: 422, end: 423 | wait : 3 | turnaround : 4\n",
      "PID: 266 | Burst: 12 | start: 423, end: 424 | wait : 3 | turnaround : 4\n",
      "PID: 626 | Burst: 0 | start: 424, end: 425 | wait : 5 | turnaround : 6\n",
      "PID: 488 | Burst: 1 | start: 425, end: 426 | wait : 12 | turnaround : 13\n",
      "PID: 340 | Burst: 7 | start: 426, end: 427 | wait : 7 | turnaround : 8\n",
      "PID: 790 | Burst: 12 | start: 427, end: 428 | wait : 0 | turnaround : 1\n",
      "PID: 236 | Burst: 2 | start: 428, end: 429 | wait : 103 | turnaround : 104\n",
      "PID: 25 | Burst: 11 | start: 429, end: 430 | wait : 112 | turnaround : 113\n",
      "PID: 25 | Burst: 10 | start: 430, end: 431 | wait : 112 | turnaround : 114\n",
      "PID: 707 | Burst: 8 | start: 431, end: 432 | wait : 0 | turnaround : 1\n",
      "PID: 246 | Burst: 9 | start: 432, end: 433 | wait : 1 | turnaround : 2\n",
      "PID: 246 | Burst: 8 | start: 433, end: 434 | wait : 1 | turnaround : 3\n",
      "PID: 985 | Burst: 2 | start: 434, end: 435 | wait : 0 | turnaround : 1\n",
      "PID: 653 | Burst: 0 | start: 435, end: 436 | wait : 0 | turnaround : 1\n",
      "PID: 958 | Burst: 7 | start: 436, end: 437 | wait : 0 | turnaround : 1\n",
      "PID: 365 | Burst: 9 | start: 437, end: 438 | wait : 0 | turnaround : 1\n",
      "PID: 704 | Burst: 7 | start: 438, end: 439 | wait : 0 | turnaround : 1\n",
      "PID: 460 | Burst: 9 | start: 439, end: 440 | wait : 1 | turnaround : 2\n",
      "PID: 218 | Burst: 7 | start: 440, end: 441 | wait : 0 | turnaround : 1\n",
      "PID: 75 | Burst: 10 | start: 441, end: 442 | wait : 0 | turnaround : 1\n",
      "PID: 39 | Burst: 3 | start: 442, end: 443 | wait : 0 | turnaround : 1\n",
      "PID: 71 | Burst: 10 | start: 443, end: 444 | wait : 2 | turnaround : 3\n",
      "PID: 389 | Burst: 3 | start: 444, end: 445 | wait : 0 | turnaround : 1\n",
      "PID: 594 | Burst: 11 | start: 445, end: 446 | wait : 10 | turnaround : 11\n",
      "PID: 945 | Burst: 9 | start: 446, end: 447 | wait : 0 | turnaround : 1\n",
      "PID: 923 | Burst: 0 | start: 447, end: 448 | wait : 0 | turnaround : 1\n",
      "PID: 595 | Burst: 7 | start: 448, end: 449 | wait : 0 | turnaround : 1\n",
      "PID: 864 | Burst: 1 | start: 449, end: 450 | wait : 0 | turnaround : 1\n",
      "PID: 971 | Burst: 1 | start: 450, end: 451 | wait : 0 | turnaround : 1\n",
      "PID: 953 | Burst: 2 | start: 451, end: 452 | wait : 0 | turnaround : 1\n",
      "PID: 669 | Burst: 12 | start: 452, end: 453 | wait : 0 | turnaround : 1\n",
      "PID: 522 | Burst: 2 | start: 453, end: 454 | wait : 2 | turnaround : 3\n",
      "PID: 723 | Burst: 0 | start: 454, end: 455 | wait : 0 | turnaround : 1\n",
      "PID: 649 | Burst: 12 | start: 455, end: 456 | wait : 1 | turnaround : 2\n",
      "PID: 817 | Burst: 0 | start: 456, end: 457 | wait : 0 | turnaround : 1\n",
      "PID: 715 | Burst: 12 | start: 457, end: 458 | wait : 0 | turnaround : 1\n",
      "PID: 713 | Burst: 3 | start: 458, end: 459 | wait : 2 | turnaround : 3\n",
      "PID: 605 | Burst: 12 | start: 459, end: 460 | wait : 25 | turnaround : 26\n",
      "PID: 605 | Burst: 11 | start: 460, end: 461 | wait : 25 | turnaround : 27\n",
      "PID: 565 | Burst: 1 | start: 461, end: 462 | wait : 0 | turnaround : 1\n",
      "PID: 280 | Burst: 12 | start: 462, end: 463 | wait : 1 | turnaround : 2\n",
      "PID: 280 | Burst: 11 | start: 463, end: 464 | wait : 1 | turnaround : 3\n",
      "PID: 565 | Burst: 0 | start: 464, end: 465 | wait : 2 | turnaround : 4\n",
      "PID: 713 | Burst: 2 | start: 465, end: 466 | wait : 8 | turnaround : 10\n",
      "PID: 927 | Burst: 9 | start: 466, end: 467 | wait : 0 | turnaround : 1\n",
      "PID: 223 | Burst: 2 | start: 467, end: 468 | wait : 33 | turnaround : 34\n",
      "PID: 223 | Burst: 1 | start: 468, end: 469 | wait : 33 | turnaround : 35\n",
      "PID: 261 | Burst: 0 | start: 469, end: 470 | wait : 0 | turnaround : 1\n",
      "PID: 847 | Burst: 7 | start: 470, end: 471 | wait : 0 | turnaround : 1\n",
      "PID: 413 | Burst: 3 | start: 471, end: 472 | wait : 0 | turnaround : 1\n",
      "PID: 765 | Burst: 0 | start: 472, end: 473 | wait : 0 | turnaround : 1\n",
      "PID: 738 | Burst: 0 | start: 473, end: 474 | wait : 0 | turnaround : 1\n",
      "PID: 336 | Burst: 1 | start: 474, end: 475 | wait : 240 | turnaround : 242\n",
      "PID: 186 | Burst: 0 | start: 475, end: 476 | wait : 71 | turnaround : 72\n",
      "PID: 891 | Burst: 1 | start: 476, end: 477 | wait : 0 | turnaround : 1\n",
      "PID: 373 | Burst: 1 | start: 477, end: 478 | wait : 0 | turnaround : 1\n",
      "PID: 148 | Burst: 0 | start: 478, end: 479 | wait : 0 | turnaround : 1\n",
      "PID: 623 | Burst: 11 | start: 479, end: 480 | wait : 0 | turnaround : 1\n",
      "PID: 768 | Burst: 9 | start: 480, end: 481 | wait : 0 | turnaround : 1\n",
      "PID: 472 | Burst: 2 | start: 481, end: 482 | wait : 0 | turnaround : 1\n",
      "PID: 719 | Burst: 2 | start: 482, end: 483 | wait : 0 | turnaround : 1\n",
      "PID: 661 | Burst: 11 | start: 483, end: 484 | wait : 1 | turnaround : 2\n",
      "PID: 117 | Burst: 0 | start: 484, end: 485 | wait : 2 | turnaround : 3\n",
      "PID: 493 | Burst: 7 | start: 485, end: 486 | wait : 5 | turnaround : 6\n",
      "PID: 879 | Burst: 1 | start: 486, end: 487 | wait : 0 | turnaround : 1\n",
      "PID: 285 | Burst: 11 | start: 487, end: 488 | wait : 1 | turnaround : 2\n",
      "PID: 612 | Burst: 0 | start: 488, end: 489 | wait : 8 | turnaround : 9\n",
      "PID: 470 | Burst: 11 | start: 489, end: 490 | wait : 10 | turnaround : 11\n",
      "PID: 828 | Burst: 12 | start: 490, end: 491 | wait : 0 | turnaround : 1\n",
      "PID: 914 | Burst: 12 | start: 491, end: 492 | wait : 0 | turnaround : 1\n",
      "PID: 865 | Burst: 7 | start: 492, end: 493 | wait : 16 | turnaround : 17\n",
      "PID: 749 | Burst: 0 | start: 493, end: 494 | wait : 17 | turnaround : 18\n",
      "PID: 359 | Burst: 2 | start: 494, end: 495 | wait : 18 | turnaround : 19\n",
      "PID: 467 | Burst: 9 | start: 495, end: 496 | wait : 0 | turnaround : 1\n",
      "PID: 500 | Burst: 1 | start: 496, end: 497 | wait : 0 | turnaround : 1\n",
      "PID: 699 | Burst: 3 | start: 497, end: 498 | wait : 0 | turnaround : 1\n",
      "PID: 982 | Burst: 3 | start: 498, end: 499 | wait : 0 | turnaround : 1\n",
      "PID: 982 | Burst: 2 | start: 499, end: 500 | wait : 0 | turnaround : 2\n",
      "PID: 202 | Burst: 7 | start: 500, end: 501 | wait : 0 | turnaround : 1\n",
      "PID: 709 | Burst: 9 | start: 501, end: 502 | wait : 0 | turnaround : 1\n",
      "PID: 709 | Burst: 8 | start: 502, end: 503 | wait : 0 | turnaround : 2\n",
      "PID: 685 | Burst: 2 | start: 503, end: 504 | wait : 0 | turnaround : 1\n",
      "PID: 909 | Burst: 8 | start: 504, end: 505 | wait : 0 | turnaround : 1\n",
      "PID: 367 | Burst: 1 | start: 505, end: 506 | wait : 0 | turnaround : 1\n",
      "PID: 718 | Burst: 11 | start: 506, end: 507 | wait : 34 | turnaround : 35\n",
      "PID: 718 | Burst: 10 | start: 507, end: 508 | wait : 34 | turnaround : 36\n",
      "PID: 367 | Burst: 0 | start: 508, end: 509 | wait : 2 | turnaround : 4\n",
      "PID: 909 | Burst: 7 | start: 509, end: 510 | wait : 4 | turnaround : 6\n",
      "PID: 544 | Burst: 2 | start: 510, end: 511 | wait : 0 | turnaround : 1\n",
      "PID: 190 | Burst: 2 | start: 511, end: 512 | wait : 0 | turnaround : 1\n",
      "PID: 190 | Burst: 1 | start: 512, end: 513 | wait : 0 | turnaround : 2\n",
      "PID: 557 | Burst: 1 | start: 513, end: 514 | wait : 0 | turnaround : 1\n",
      "PID: 648 | Burst: 2 | start: 514, end: 515 | wait : 0 | turnaround : 1\n",
      "PID: 509 | Burst: 10 | start: 515, end: 516 | wait : 0 | turnaround : 1\n",
      "PID: 366 | Burst: 0 | start: 516, end: 517 | wait : 1 | turnaround : 2\n",
      "PID: 119 | Burst: 1 | start: 517, end: 518 | wait : 221 | turnaround : 223\n",
      "PID: 382 | Burst: 11 | start: 518, end: 519 | wait : 196 | turnaround : 198\n",
      "PID: 607 | Burst: 10 | start: 519, end: 520 | wait : 0 | turnaround : 1\n",
      "PID: 66 | Burst: 12 | start: 520, end: 521 | wait : 0 | turnaround : 1\n",
      "PID: 237 | Burst: 12 | start: 521, end: 522 | wait : 0 | turnaround : 1\n",
      "PID: 654 | Burst: 2 | start: 522, end: 523 | wait : 0 | turnaround : 1\n",
      "PID: 993 | Burst: 12 | start: 523, end: 524 | wait : 0 | turnaround : 1\n",
      "PID: 402 | Burst: 9 | start: 524, end: 525 | wait : 0 | turnaround : 1\n",
      "PID: 798 | Burst: 0 | start: 525, end: 526 | wait : 0 | turnaround : 1\n",
      "PID: 70 | Burst: 3 | start: 526, end: 527 | wait : 0 | turnaround : 1\n",
      "PID: 44 | Burst: 8 | start: 527, end: 528 | wait : 0 | turnaround : 1\n",
      "PID: 601 | Burst: 12 | start: 528, end: 529 | wait : 0 | turnaround : 1\n",
      "PID: 728 | Burst: 2 | start: 529, end: 530 | wait : 0 | turnaround : 1\n",
      "PID: 877 | Burst: 10 | start: 530, end: 531 | wait : 0 | turnaround : 1\n",
      "PID: 896 | Burst: 7 | start: 531, end: 532 | wait : 0 | turnaround : 1\n",
      "PID: 130 | Burst: 2 | start: 532, end: 533 | wait : 0 | turnaround : 1\n",
      "PID: 860 | Burst: 9 | start: 533, end: 534 | wait : 0 | turnaround : 1\n",
      "PID: 800 | Burst: 7 | start: 534, end: 535 | wait : 0 | turnaround : 1\n",
      "PID: 870 | Burst: 8 | start: 535, end: 536 | wait : 4 | turnaround : 5\n",
      "PID: 394 | Burst: 1 | start: 536, end: 537 | wait : 0 | turnaround : 1\n",
      "PID: 906 | Burst: 7 | start: 537, end: 538 | wait : 0 | turnaround : 1\n",
      "PID: 255 | Burst: 0 | start: 538, end: 539 | wait : 0 | turnaround : 1\n",
      "PID: 446 | Burst: 3 | start: 539, end: 540 | wait : 0 | turnaround : 1\n",
      "PID: 512 | Burst: 0 | start: 540, end: 541 | wait : 0 | turnaround : 1\n",
      "PID: 633 | Burst: 3 | start: 541, end: 542 | wait : 4 | turnaround : 5\n",
      "PID: 480 | Burst: 1 | start: 542, end: 543 | wait : 0 | turnaround : 1\n",
      "PID: 739 | Burst: 10 | start: 543, end: 544 | wait : 0 | turnaround : 1\n",
      "PID: 954 | Burst: 8 | start: 544, end: 545 | wait : 0 | turnaround : 1\n",
      "PID: 118 | Burst: 2 | start: 545, end: 546 | wait : 2 | turnaround : 3\n",
      "PID: 350 | Burst: 8 | start: 546, end: 547 | wait : 9 | turnaround : 10\n",
      "PID: 293 | Burst: 3 | start: 547, end: 548 | wait : 16 | turnaround : 17\n",
      "PID: 706 | Burst: 1 | start: 548, end: 549 | wait : 0 | turnaround : 1\n",
      "PID: 889 | Burst: 0 | start: 549, end: 550 | wait : 0 | turnaround : 1\n",
      "PID: 796 | Burst: 1 | start: 550, end: 551 | wait : 0 | turnaround : 1\n",
      "PID: 690 | Burst: 2 | start: 551, end: 552 | wait : 20 | turnaround : 21\n",
      "PID: 495 | Burst: 0 | start: 552, end: 553 | wait : 0 | turnaround : 1\n",
      "PID: 729 | Burst: 7 | start: 553, end: 554 | wait : 0 | turnaround : 1\n",
      "PID: 832 | Burst: 11 | start: 554, end: 555 | wait : 0 | turnaround : 1\n",
      "PID: 596 | Burst: 8 | start: 555, end: 556 | wait : 2 | turnaround : 3\n",
      "PID: 35 | Burst: 8 | start: 556, end: 557 | wait : 4 | turnaround : 5\n",
      "PID: 708 | Burst: 1 | start: 557, end: 558 | wait : 0 | turnaround : 1\n",
      "PID: 987 | Burst: 2 | start: 558, end: 559 | wait : 0 | turnaround : 1\n",
      "PID: 107 | Burst: 1 | start: 559, end: 560 | wait : 1 | turnaround : 2\n",
      "PID: 26 | Burst: 1 | start: 560, end: 561 | wait : 0 | turnaround : 1\n",
      "PID: 604 | Burst: 0 | start: 561, end: 562 | wait : 0 | turnaround : 1\n",
      "PID: 628 | Burst: 8 | start: 562, end: 563 | wait : 5 | turnaround : 6\n",
      "PID: 867 | Burst: 8 | start: 563, end: 564 | wait : 0 | turnaround : 1\n",
      "PID: 869 | Burst: 2 | start: 564, end: 565 | wait : 0 | turnaround : 1\n",
      "PID: 499 | Burst: 3 | start: 565, end: 566 | wait : 0 | turnaround : 1\n",
      "PID: 106 | Burst: 9 | start: 566, end: 567 | wait : 0 | turnaround : 1\n",
      "PID: 268 | Burst: 10 | start: 567, end: 568 | wait : 0 | turnaround : 1\n",
      "PID: 861 | Burst: 1 | start: 568, end: 569 | wait : 0 | turnaround : 1\n",
      "PID: 415 | Burst: 7 | start: 569, end: 570 | wait : 1 | turnaround : 2\n",
      "PID: 679 | Burst: 9 | start: 570, end: 571 | wait : 0 | turnaround : 1\n",
      "PID: 671 | Burst: 0 | start: 571, end: 572 | wait : 0 | turnaround : 1\n",
      "PID: 78 | Burst: 2 | start: 572, end: 573 | wait : 0 | turnaround : 1\n",
      "PID: 611 | Burst: 7 | start: 573, end: 574 | wait : 10 | turnaround : 11\n",
      "PID: 312 | Burst: 0 | start: 574, end: 575 | wait : 11 | turnaround : 12\n",
      "PID: 390 | Burst: 2 | start: 575, end: 576 | wait : 0 | turnaround : 1\n",
      "PID: 110 | Burst: 8 | start: 576, end: 577 | wait : 1 | turnaround : 2\n",
      "PID: 959 | Burst: 2 | start: 577, end: 578 | wait : 0 | turnaround : 1\n",
      "PID: 355 | Burst: 0 | start: 578, end: 579 | wait : 0 | turnaround : 1\n",
      "PID: 270 | Burst: 2 | start: 579, end: 580 | wait : 1 | turnaround : 2\n",
      "PID: 306 | Burst: 11 | start: 580, end: 581 | wait : 0 | turnaround : 1\n",
      "PID: 892 | Burst: 11 | start: 581, end: 582 | wait : 4 | turnaround : 5\n",
      "PID: 635 | Burst: 12 | start: 582, end: 583 | wait : 0 | turnaround : 1\n",
      "PID: 301 | Burst: 12 | start: 583, end: 584 | wait : 0 | turnaround : 1\n",
      "PID: 650 | Burst: 9 | start: 584, end: 585 | wait : 0 | turnaround : 1\n",
      "PID: 468 | Burst: 8 | start: 585, end: 586 | wait : 1 | turnaround : 2\n",
      "PID: 855 | Burst: 3 | start: 586, end: 587 | wait : 0 | turnaround : 1\n",
      "PID: 494 | Burst: 12 | start: 587, end: 588 | wait : 0 | turnaround : 1\n",
      "PID: 21 | Burst: 12 | start: 588, end: 589 | wait : 0 | turnaround : 1\n",
      "PID: 387 | Burst: 1 | start: 589, end: 590 | wait : 0 | turnaround : 1\n",
      "PID: 510 | Burst: 1 | start: 590, end: 591 | wait : 0 | turnaround : 1\n",
      "PID: 928 | Burst: 8 | start: 591, end: 592 | wait : 0 | turnaround : 1\n",
      "PID: 249 | Burst: 9 | start: 592, end: 593 | wait : 1 | turnaround : 2\n",
      "PID: 448 | Burst: 2 | start: 593, end: 594 | wait : 0 | turnaround : 1\n",
      "PID: 542 | Burst: 8 | start: 594, end: 595 | wait : 0 | turnaround : 1\n",
      "PID: 462 | Burst: 7 | start: 595, end: 596 | wait : 0 | turnaround : 1\n",
      "PID: 358 | Burst: 0 | start: 596, end: 597 | wait : 9 | turnaround : 10\n",
      "PID: 809 | Burst: 9 | start: 597, end: 598 | wait : 11 | turnaround : 12\n",
      "PID: 251 | Burst: 3 | start: 598, end: 599 | wait : 0 | turnaround : 1\n",
      "PID: 307 | Burst: 3 | start: 599, end: 600 | wait : 0 | turnaround : 1\n",
      "PID: 775 | Burst: 11 | start: 600, end: 601 | wait : 0 | turnaround : 1\n",
      "PID: 743 | Burst: 10 | start: 601, end: 602 | wait : 1 | turnaround : 2\n",
      "PID: 554 | Burst: 9 | start: 602, end: 603 | wait : 2 | turnaround : 3\n",
      "PID: 819 | Burst: 1 | start: 603, end: 604 | wait : 0 | turnaround : 1\n",
      "PID: 850 | Burst: 0 | start: 604, end: 605 | wait : 0 | turnaround : 1\n",
      "PID: 740 | Burst: 0 | start: 605, end: 606 | wait : 2 | turnaround : 3\n",
      "PID: 662 | Burst: 2 | start: 606, end: 607 | wait : 0 | turnaround : 1\n",
      "PID: 946 | Burst: 1 | start: 607, end: 608 | wait : 0 | turnaround : 1\n",
      "PID: 228 | Burst: 2 | start: 608, end: 609 | wait : 1 | turnaround : 2\n",
      "PID: 490 | Burst: 1 | start: 609, end: 610 | wait : 6 | turnaround : 7\n",
      "PID: 613 | Burst: 3 | start: 610, end: 611 | wait : 10 | turnaround : 11\n",
      "PID: 65 | Burst: 1 | start: 611, end: 612 | wait : 8 | turnaround : 9\n",
      "PID: 127 | Burst: 0 | start: 612, end: 613 | wait : 30 | turnaround : 31\n",
      "PID: 144 | Burst: 7 | start: 613, end: 614 | wait : 29 | turnaround : 30\n",
      "PID: 94 | Burst: 10 | start: 614, end: 615 | wait : 0 | turnaround : 1\n",
      "PID: 863 | Burst: 2 | start: 615, end: 616 | wait : 0 | turnaround : 1\n",
      "PID: 863 | Burst: 1 | start: 616, end: 617 | wait : 0 | turnaround : 2\n",
      "PID: 791 | Burst: 10 | start: 617, end: 618 | wait : 0 | turnaround : 1\n",
      "PID: 893 | Burst: 3 | start: 618, end: 619 | wait : 0 | turnaround : 1\n",
      "PID: 105 | Burst: 7 | start: 619, end: 620 | wait : 1 | turnaround : 2\n",
      "PID: 105 | Burst: 6 | start: 620, end: 621 | wait : 1 | turnaround : 3\n",
      "PID: 663 | Burst: 8 | start: 621, end: 622 | wait : 0 | turnaround : 1\n",
      "PID: 497 | Burst: 1 | start: 622, end: 623 | wait : 0 | turnaround : 1\n",
      "PID: 383 | Burst: 1 | start: 623, end: 624 | wait : 0 | turnaround : 1\n",
      "PID: 885 | Burst: 1 | start: 624, end: 625 | wait : 0 | turnaround : 1\n",
      "PID: 23 | Burst: 3 | start: 625, end: 626 | wait : 0 | turnaround : 1\n",
      "PID: 931 | Burst: 2 | start: 626, end: 627 | wait : 0 | turnaround : 1\n",
      "PID: 787 | Burst: 7 | start: 627, end: 628 | wait : 1 | turnaround : 2\n",
      "PID: 994 | Burst: 9 | start: 628, end: 629 | wait : 0 | turnaround : 1\n",
      "PID: 475 | Burst: 9 | start: 629, end: 630 | wait : 0 | turnaround : 1\n",
      "PID: 456 | Burst: 1 | start: 630, end: 631 | wait : 1 | turnaround : 2\n",
      "PID: 986 | Burst: 12 | start: 631, end: 632 | wait : 0 | turnaround : 1\n",
      "PID: 113 | Burst: 8 | start: 632, end: 633 | wait : 3 | turnaround : 4\n",
      "PID: 309 | Burst: 3 | start: 633, end: 634 | wait : 0 | turnaround : 1\n",
      "PID: 208 | Burst: 1 | start: 634, end: 635 | wait : 0 | turnaround : 1\n",
      "PID: 388 | Burst: 0 | start: 635, end: 636 | wait : 0 | turnaround : 1\n",
      "PID: 1 | Burst: 1 | start: 636, end: 637 | wait : 1 | turnaround : 2\n",
      "PID: 834 | Burst: 2 | start: 637, end: 638 | wait : 0 | turnaround : 1\n",
      "PID: 381 | Burst: 3 | start: 638, end: 639 | wait : 0 | turnaround : 1\n",
      "PID: 644 | Burst: 3 | start: 639, end: 640 | wait : 0 | turnaround : 1\n",
      "PID: 16 | Burst: 12 | start: 640, end: 641 | wait : 0 | turnaround : 1\n",
      "PID: 900 | Burst: 8 | start: 641, end: 642 | wait : 0 | turnaround : 1\n",
      "PID: 844 | Burst: 2 | start: 642, end: 643 | wait : 0 | turnaround : 1\n",
      "PID: 789 | Burst: 1 | start: 643, end: 644 | wait : 2 | turnaround : 3\n",
      "PID: 523 | Burst: 8 | start: 644, end: 645 | wait : 0 | turnaround : 1\n",
      "PID: 85 | Burst: 2 | start: 645, end: 646 | wait : 6 | turnaround : 7\n",
      "PID: 915 | Burst: 3 | start: 646, end: 647 | wait : 0 | turnaround : 1\n",
      "PID: 538 | Burst: 12 | start: 647, end: 648 | wait : 1 | turnaround : 2\n",
      "PID: 763 | Burst: 1 | start: 648, end: 649 | wait : 0 | turnaround : 1\n",
      "PID: 582 | Burst: 1 | start: 649, end: 650 | wait : 1 | turnaround : 2\n",
      "PID: 310 | Burst: 3 | start: 650, end: 651 | wait : 4 | turnaround : 5\n",
      "PID: 485 | Burst: 1 | start: 651, end: 652 | wait : 5 | turnaround : 6\n",
      "PID: 398 | Burst: 2 | start: 652, end: 653 | wait : 0 | turnaround : 1\n",
      "PID: 873 | Burst: 1 | start: 653, end: 654 | wait : 0 | turnaround : 1\n",
      "PID: 229 | Burst: 1 | start: 654, end: 655 | wait : 0 | turnaround : 1\n",
      "PID: 501 | Burst: 9 | start: 655, end: 656 | wait : 0 | turnaround : 1\n",
      "PID: 222 | Burst: 10 | start: 656, end: 657 | wait : 0 | turnaround : 1\n",
      "PID: 677 | Burst: 2 | start: 657, end: 658 | wait : 0 | turnaround : 1\n",
      "PID: 143 | Burst: 1 | start: 658, end: 659 | wait : 1 | turnaround : 2\n",
      "PID: 636 | Burst: 9 | start: 659, end: 660 | wait : 0 | turnaround : 1\n",
      "PID: 302 | Burst: 2 | start: 660, end: 661 | wait : 0 | turnaround : 1\n",
      "PID: 883 | Burst: 2 | start: 661, end: 662 | wait : 0 | turnaround : 1\n",
      "PID: 810 | Burst: 2 | start: 662, end: 663 | wait : 1 | turnaround : 2\n",
      "PID: 948 | Burst: 0 | start: 663, end: 664 | wait : 0 | turnaround : 1\n",
      "PID: 97 | Burst: 7 | start: 664, end: 665 | wait : 0 | turnaround : 1\n",
      "PID: 417 | Burst: 7 | start: 665, end: 666 | wait : 0 | turnaround : 1\n",
      "PID: 357 | Burst: 9 | start: 666, end: 667 | wait : 0 | turnaround : 1\n",
      "PID: 528 | Burst: 9 | start: 667, end: 668 | wait : 0 | turnaround : 1\n",
      "PID: 323 | Burst: 3 | start: 668, end: 669 | wait : 0 | turnaround : 1\n",
      "PID: 313 | Burst: 0 | start: 669, end: 670 | wait : 6 | turnaround : 7\n",
      "PID: 629 | Burst: 7 | start: 670, end: 671 | wait : 0 | turnaround : 1\n",
      "PID: 322 | Burst: 12 | start: 671, end: 672 | wait : 1 | turnaround : 2\n",
      "PID: 593 | Burst: 12 | start: 672, end: 673 | wait : 0 | turnaround : 1\n",
      "PID: 416 | Burst: 7 | start: 673, end: 674 | wait : 0 | turnaround : 1\n",
      "PID: 455 | Burst: 0 | start: 674, end: 675 | wait : 2 | turnaround : 3\n",
      "PID: 777 | Burst: 3 | start: 675, end: 676 | wait : 14 | turnaround : 15\n",
      "PID: 258 | Burst: 1 | start: 676, end: 677 | wait : 15 | turnaround : 16\n",
      "PID: 666 | Burst: 12 | start: 677, end: 678 | wait : 0 | turnaround : 1\n",
      "PID: 374 | Burst: 2 | start: 678, end: 679 | wait : 17 | turnaround : 18\n",
      "PID: 825 | Burst: 2 | start: 679, end: 680 | wait : 0 | turnaround : 1\n",
      "PID: 496 | Burst: 8 | start: 680, end: 681 | wait : 1 | turnaround : 2\n",
      "PID: 199 | Burst: 2 | start: 681, end: 682 | wait : 0 | turnaround : 1\n",
      "PID: 48 | Burst: 3 | start: 682, end: 683 | wait : 21 | turnaround : 22\n",
      "PID: 720 | Burst: 10 | start: 683, end: 684 | wait : 0 | turnaround : 1\n",
      "PID: 702 | Burst: 9 | start: 684, end: 685 | wait : 0 | turnaround : 1\n",
      "PID: 849 | Burst: 3 | start: 685, end: 686 | wait : 0 | turnaround : 1\n",
      "PID: 151 | Burst: 8 | start: 686, end: 687 | wait : 0 | turnaround : 1\n",
      "PID: 177 | Burst: 7 | start: 687, end: 688 | wait : 0 | turnaround : 1\n",
      "PID: 908 | Burst: 11 | start: 688, end: 689 | wait : 0 | turnaround : 1\n",
      "PID: 332 | Burst: 0 | start: 689, end: 690 | wait : 0 | turnaround : 1\n",
      "PID: 464 | Burst: 0 | start: 690, end: 691 | wait : 2 | turnaround : 3\n",
      "PID: 960 | Burst: 7 | start: 691, end: 692 | wait : 0 | turnaround : 1\n",
      "PID: 108 | Burst: 10 | start: 692, end: 693 | wait : 0 | turnaround : 1\n",
      "PID: 716 | Burst: 3 | start: 693, end: 694 | wait : 2 | turnaround : 3\n",
      "PID: 264 | Burst: 0 | start: 694, end: 695 | wait : 0 | turnaround : 1\n",
      "PID: 912 | Burst: 9 | start: 695, end: 696 | wait : 0 | turnaround : 1\n",
      "PID: 22 | Burst: 2 | start: 696, end: 697 | wait : 2 | turnaround : 3\n",
      "PID: 406 | Burst: 2 | start: 697, end: 698 | wait : 0 | turnaround : 1\n",
      "PID: 990 | Burst: 0 | start: 698, end: 699 | wait : 0 | turnaround : 1\n",
      "PID: 473 | Burst: 2 | start: 699, end: 700 | wait : 0 | turnaround : 1\n",
      "PID: 8 | Burst: 7 | start: 700, end: 701 | wait : 0 | turnaround : 1\n",
      "PID: 420 | Burst: 2 | start: 701, end: 702 | wait : 0 | turnaround : 1\n",
      "PID: 430 | Burst: 0 | start: 702, end: 703 | wait : 0 | turnaround : 1\n",
      "PID: 585 | Burst: 3 | start: 703, end: 704 | wait : 0 | turnaround : 1\n",
      "PID: 991 | Burst: 11 | start: 704, end: 705 | wait : 0 | turnaround : 1\n",
      "PID: 753 | Burst: 0 | start: 705, end: 706 | wait : 0 | turnaround : 1\n",
      "PID: 744 | Burst: 3 | start: 706, end: 707 | wait : 0 | turnaround : 1\n",
      "PID: 419 | Burst: 10 | start: 707, end: 708 | wait : 3 | turnaround : 4\n",
      "PID: 341 | Burst: 2 | start: 708, end: 709 | wait : 7 | turnaround : 8\n",
      "PID: 905 | Burst: 2 | start: 709, end: 710 | wait : 0 | turnaround : 1\n",
      "PID: 452 | Burst: 0 | start: 710, end: 711 | wait : 11 | turnaround : 12\n",
      "PID: 932 | Burst: 2 | start: 711, end: 712 | wait : 13 | turnaround : 14\n",
      "PID: 938 | Burst: 3 | start: 712, end: 713 | wait : 0 | turnaround : 1\n",
      "PID: 843 | Burst: 8 | start: 713, end: 714 | wait : 0 | turnaround : 1\n",
      "PID: 921 | Burst: 2 | start: 714, end: 715 | wait : 0 | turnaround : 1\n",
      "PID: 96 | Burst: 10 | start: 715, end: 716 | wait : 0 | turnaround : 1\n",
      "PID: 532 | Burst: 7 | start: 716, end: 717 | wait : 2 | turnaround : 3\n",
      "PID: 950 | Burst: 11 | start: 717, end: 718 | wait : 0 | turnaround : 1\n",
      "PID: 563 | Burst: 1 | start: 718, end: 719 | wait : 6 | turnaround : 7\n",
      "PID: 759 | Burst: 8 | start: 719, end: 720 | wait : 0 | turnaround : 1\n",
      "PID: 196 | Burst: 8 | start: 720, end: 721 | wait : 23 | turnaround : 24\n",
      "PID: 858 | Burst: 12 | start: 721, end: 722 | wait : 0 | turnaround : 1\n",
      "PID: 18 | Burst: 1 | start: 722, end: 723 | wait : 0 | turnaround : 1\n",
      "PID: 233 | Burst: 2 | start: 723, end: 724 | wait : 0 | turnaround : 1\n",
      "PID: 378 | Burst: 8 | start: 724, end: 725 | wait : 0 | turnaround : 1\n",
      "PID: 795 | Burst: 3 | start: 725, end: 726 | wait : 0 | turnaround : 1\n",
      "PID: 257 | Burst: 9 | start: 726, end: 727 | wait : 0 | turnaround : 1\n",
      "PID: 853 | Burst: 11 | start: 727, end: 728 | wait : 0 | turnaround : 1\n",
      "PID: 342 | Burst: 11 | start: 728, end: 729 | wait : 40 | turnaround : 41\n",
      "PID: 140 | Burst: 1 | start: 729, end: 730 | wait : 42 | turnaround : 43\n",
      "PID: 200 | Burst: 7 | start: 730, end: 731 | wait : 0 | turnaround : 1\n",
      "PID: 200 | Burst: 6 | start: 731, end: 732 | wait : 0 | turnaround : 2\n",
      "PID: 140 | Burst: 0 | start: 732, end: 733 | wait : 44 | turnaround : 46\n",
      "PID: 52 | Burst: 0 | start: 733, end: 734 | wait : 0 | turnaround : 1\n",
      "PID: 235 | Burst: 2 | start: 734, end: 735 | wait : 0 | turnaround : 1\n",
      "PID: 393 | Burst: 0 | start: 735, end: 736 | wait : 0 | turnaround : 1\n",
      "PID: 668 | Burst: 12 | start: 736, end: 737 | wait : 0 | turnaround : 1\n",
      "PID: 614 | Burst: 11 | start: 737, end: 738 | wait : 0 | turnaround : 1\n",
      "PID: 555 | Burst: 9 | start: 738, end: 739 | wait : 0 | turnaround : 1\n",
      "PID: 935 | Burst: 7 | start: 739, end: 740 | wait : 0 | turnaround : 1\n",
      "PID: 579 | Burst: 3 | start: 740, end: 741 | wait : 0 | turnaround : 1\n",
      "PID: 6 | Burst: 3 | start: 741, end: 742 | wait : 0 | turnaround : 1\n",
      "PID: 6 | Burst: 2 | start: 742, end: 743 | wait : 0 | turnaround : 2\n",
      "PID: 52 | Burst: 2 | start: 743, end: 744 | wait : 1 | turnaround : 3\n",
      "PID: 944 | Burst: 3 | start: 744, end: 745 | wait : 0 | turnaround : 1\n",
      "PID: 944 | Burst: 2 | start: 745, end: 746 | wait : 0 | turnaround : 2\n",
      "PID: 393 | Burst: 3 | start: 746, end: 747 | wait : 1 | turnaround : 3\n",
      "PID: 259 | Burst: 8 | start: 747, end: 748 | wait : 0 | turnaround : 1\n",
      "PID: 750 | Burst: 3 | start: 748, end: 749 | wait : 0 | turnaround : 1\n",
      "PID: 745 | Burst: 0 | start: 749, end: 750 | wait : 0 | turnaround : 1\n",
      "PID: 535 | Burst: 9 | start: 750, end: 751 | wait : 0 | turnaround : 1\n",
      "PID: 422 | Burst: 0 | start: 751, end: 752 | wait : 1 | turnaround : 2\n",
      "PID: 592 | Burst: 10 | start: 752, end: 753 | wait : 0 | turnaround : 1\n",
      "PID: 507 | Burst: 10 | start: 753, end: 754 | wait : 4 | turnaround : 5\n",
      "PID: 43 | Burst: 7 | start: 754, end: 755 | wait : 0 | turnaround : 1\n",
      "PID: 297 | Burst: 11 | start: 755, end: 756 | wait : 15 | turnaround : 16\n",
      "PID: 165 | Burst: 2 | start: 756, end: 757 | wait : 16 | turnaround : 17\n",
      "PID: 165 | Burst: 1 | start: 757, end: 758 | wait : 16 | turnaround : 18\n",
      "PID: 271 | Burst: 8 | start: 758, end: 759 | wait : 0 | turnaround : 1\n",
      "PID: 325 | Burst: 12 | start: 759, end: 760 | wait : 21 | turnaround : 22\n",
      "PID: 129 | Burst: 11 | start: 760, end: 761 | wait : 22 | turnaround : 23\n",
      "PID: 735 | Burst: 8 | start: 761, end: 762 | wait : 0 | turnaround : 1\n",
      "PID: 942 | Burst: 8 | start: 762, end: 763 | wait : 0 | turnaround : 1\n",
      "PID: 705 | Burst: 1 | start: 763, end: 764 | wait : 1 | turnaround : 2\n",
      "PID: 655 | Burst: 12 | start: 764, end: 765 | wait : 3 | turnaround : 4\n",
      "PID: 907 | Burst: 7 | start: 765, end: 766 | wait : 0 | turnaround : 1\n",
      "PID: 700 | Burst: 8 | start: 766, end: 767 | wait : 1 | turnaround : 2\n",
      "PID: 376 | Burst: 0 | start: 767, end: 768 | wait : 0 | turnaround : 1\n",
      "PID: 331 | Burst: 0 | start: 768, end: 769 | wait : 0 | turnaround : 1\n",
      "PID: 136 | Burst: 0 | start: 769, end: 770 | wait : 0 | turnaround : 1\n",
      "PID: 534 | Burst: 0 | start: 770, end: 771 | wait : 0 | turnaround : 1\n",
      "PID: 403 | Burst: 12 | start: 771, end: 772 | wait : 1 | turnaround : 2\n",
      "PID: 888 | Burst: 1 | start: 772, end: 773 | wait : 0 | turnaround : 1\n",
      "PID: 506 | Burst: 2 | start: 773, end: 774 | wait : 1 | turnaround : 2\n",
      "PID: 320 | Burst: 8 | start: 774, end: 775 | wait : 2 | turnaround : 3\n",
      "PID: 79 | Burst: 0 | start: 775, end: 776 | wait : 7 | turnaround : 8\n",
      "PID: 620 | Burst: 0 | start: 776, end: 777 | wait : 0 | turnaround : 1\n",
      "PID: 781 | Burst: 0 | start: 777, end: 778 | wait : 0 | turnaround : 1\n",
      "PID: 216 | Burst: 0 | start: 778, end: 779 | wait : 10 | turnaround : 11\n",
      "PID: 837 | Burst: 8 | start: 779, end: 780 | wait : 0 | turnaround : 1\n",
      "PID: 694 | Burst: 11 | start: 780, end: 781 | wait : 0 | turnaround : 1\n",
      "PID: 996 | Burst: 8 | start: 781, end: 782 | wait : 0 | turnaround : 1\n",
      "PID: 191 | Burst: 10 | start: 782, end: 783 | wait : 1 | turnaround : 2\n",
      "PID: 265 | Burst: 10 | start: 783, end: 784 | wait : 4 | turnaround : 5\n",
      "PID: 47 | Burst: 7 | start: 784, end: 785 | wait : 0 | turnaround : 1\n",
      "PID: 827 | Burst: 11 | start: 785, end: 786 | wait : 0 | turnaround : 1\n",
      "PID: 846 | Burst: 1 | start: 786, end: 787 | wait : 0 | turnaround : 1\n",
      "PID: 812 | Burst: 0 | start: 787, end: 788 | wait : 0 | turnaround : 1\n",
      "PID: 351 | Burst: 10 | start: 788, end: 789 | wait : 0 | turnaround : 1\n",
      "PID: 353 | Burst: 0 | start: 789, end: 790 | wait : 0 | turnaround : 1\n",
      "PID: 77 | Burst: 2 | start: 790, end: 791 | wait : 9 | turnaround : 10\n",
      "PID: 978 | Burst: 12 | start: 791, end: 792 | wait : 0 | turnaround : 1\n",
      "PID: 466 | Burst: 0 | start: 792, end: 793 | wait : 27 | turnaround : 28\n",
      "PID: 235 | Burst: 1 | start: 793, end: 794 | wait : 58 | turnaround : 60\n",
      "PID: 942 | Burst: 7 | start: 794, end: 795 | wait : 31 | turnaround : 33\n",
      "PID: 876 | Burst: 9 | start: 795, end: 796 | wait : 0 | turnaround : 1\n",
      "PID: 866 | Burst: 3 | start: 796, end: 797 | wait : 0 | turnaround : 1\n",
      "PID: 54 | Burst: 12 | start: 797, end: 798 | wait : 0 | turnaround : 1\n",
      "PID: 87 | Burst: 3 | start: 798, end: 799 | wait : 0 | turnaround : 1\n",
      "PID: 103 | Burst: 10 | start: 799, end: 800 | wait : 3 | turnaround : 4\n",
      "PID: 680 | Burst: 2 | start: 800, end: 801 | wait : 0 | turnaround : 1\n",
      "PID: 875 | Burst: 3 | start: 801, end: 802 | wait : 6 | turnaround : 7\n",
      "PID: 875 | Burst: 2 | start: 802, end: 803 | wait : 6 | turnaround : 8\n",
      "PID: 466 | Burst: 2 | start: 803, end: 804 | wait : 27 | turnaround : 29\n",
      "PID: 680 | Burst: 1 | start: 804, end: 805 | wait : 3 | turnaround : 5\n",
      "PID: 103 | Burst: 9 | start: 805, end: 806 | wait : 8 | turnaround : 10\n",
      "PID: 924 | Burst: 7 | start: 806, end: 807 | wait : 0 | turnaround : 1\n",
      "PID: 149 | Burst: 1 | start: 807, end: 808 | wait : 0 | turnaround : 1\n",
      "PID: 81 | Burst: 8 | start: 808, end: 809 | wait : 1 | turnaround : 2\n",
      "PID: 183 | Burst: 1 | start: 809, end: 810 | wait : 0 | turnaround : 1\n",
      "PID: 429 | Burst: 2 | start: 810, end: 811 | wait : 0 | turnaround : 1\n",
      "PID: 880 | Burst: 2 | start: 811, end: 812 | wait : 0 | turnaround : 1\n",
      "PID: 631 | Burst: 7 | start: 812, end: 813 | wait : 0 | turnaround : 1\n",
      "PID: 450 | Burst: 9 | start: 813, end: 814 | wait : 0 | turnaround : 1\n",
      "PID: 590 | Burst: 7 | start: 814, end: 815 | wait : 0 | turnaround : 1\n",
      "PID: 90 | Burst: 7 | start: 815, end: 816 | wait : 3 | turnaround : 4\n",
      "PID: 772 | Burst: 3 | start: 816, end: 817 | wait : 0 | turnaround : 1\n",
      "PID: 345 | Burst: 0 | start: 817, end: 818 | wait : 0 | turnaround : 1\n",
      "PID: 525 | Burst: 0 | start: 818, end: 819 | wait : 0 | turnaround : 1\n",
      "PID: 330 | Burst: 8 | start: 819, end: 820 | wait : 1 | turnaround : 2\n",
      "PID: 936 | Burst: 0 | start: 820, end: 821 | wait : 0 | turnaround : 1\n",
      "PID: 308 | Burst: 10 | start: 821, end: 822 | wait : 1 | turnaround : 2\n",
      "PID: 380 | Burst: 12 | start: 822, end: 823 | wait : 0 | turnaround : 1\n",
      "PID: 201 | Burst: 3 | start: 823, end: 824 | wait : 7 | turnaround : 8\n",
      "PID: 692 | Burst: 1 | start: 824, end: 825 | wait : 13 | turnaround : 14\n",
      "PID: 155 | Burst: 1 | start: 825, end: 826 | wait : 19 | turnaround : 20\n",
      "PID: 947 | Burst: 3 | start: 826, end: 827 | wait : 0 | turnaround : 1\n",
      "PID: 27 | Burst: 8 | start: 827, end: 828 | wait : 0 | turnaround : 1\n",
      "PID: 586 | Burst: 9 | start: 828, end: 829 | wait : 0 | turnaround : 1\n",
      "PID: 492 | Burst: 9 | start: 829, end: 830 | wait : 23 | turnaround : 24\n",
      "PID: 204 | Burst: 9 | start: 830, end: 831 | wait : 0 | turnaround : 1\n",
      "PID: 742 | Burst: 8 | start: 831, end: 832 | wait : 0 | turnaround : 1\n",
      "PID: 477 | Burst: 8 | start: 832, end: 833 | wait : 1 | turnaround : 2\n",
      "PID: 792 | Burst: 12 | start: 833, end: 834 | wait : 0 | turnaround : 1\n",
      "PID: 640 | Burst: 12 | start: 834, end: 835 | wait : 0 | turnaround : 1\n",
      "PID: 785 | Burst: 0 | start: 835, end: 836 | wait : 0 | turnaround : 1\n",
      "PID: 449 | Burst: 0 | start: 836, end: 837 | wait : 0 | turnaround : 1\n",
      "PID: 230 | Burst: 11 | start: 837, end: 838 | wait : 2 | turnaround : 3\n",
      "PID: 574 | Burst: 0 | start: 838, end: 839 | wait : 4 | turnaround : 5\n",
      "PID: 783 | Burst: 12 | start: 839, end: 840 | wait : 0 | turnaround : 1\n",
      "PID: 966 | Burst: 9 | start: 840, end: 841 | wait : 0 | turnaround : 1\n",
      "PID: 746 | Burst: 9 | start: 841, end: 842 | wait : 0 | turnaround : 1\n",
      "PID: 588 | Burst: 1 | start: 842, end: 843 | wait : 0 | turnaround : 1\n",
      "PID: 421 | Burst: 7 | start: 843, end: 844 | wait : 1 | turnaround : 2\n",
      "PID: 734 | Burst: 3 | start: 844, end: 845 | wait : 0 | turnaround : 1\n",
      "PID: 162 | Burst: 7 | start: 845, end: 846 | wait : 0 | turnaround : 1\n",
      "PID: 195 | Burst: 10 | start: 846, end: 847 | wait : 2 | turnaround : 3\n",
      "PID: 432 | Burst: 7 | start: 847, end: 848 | wait : 8 | turnaround : 9\n",
      "PID: 372 | Burst: 11 | start: 848, end: 849 | wait : 6 | turnaround : 7\n",
      "PID: 98 | Burst: 1 | start: 849, end: 850 | wait : 0 | turnaround : 1\n",
      "PID: 404 | Burst: 0 | start: 850, end: 851 | wait : 0 | turnaround : 1\n",
      "PID: 926 | Burst: 7 | start: 851, end: 852 | wait : 0 | turnaround : 1\n",
      "PID: 72 | Burst: 2 | start: 852, end: 853 | wait : 3 | turnaround : 4\n",
      "PID: 929 | Burst: 12 | start: 853, end: 854 | wait : 0 | turnaround : 1\n",
      "PID: 703 | Burst: 1 | start: 854, end: 855 | wait : 0 | turnaround : 1\n",
      "PID: 168 | Burst: 8 | start: 855, end: 856 | wait : 16 | turnaround : 17\n",
      "PID: 175 | Burst: 12 | start: 856, end: 857 | wait : 0 | turnaround : 1\n",
      "PID: 15 | Burst: 11 | start: 857, end: 858 | wait : 1 | turnaround : 2\n",
      "PID: 616 | Burst: 12 | start: 858, end: 859 | wait : 0 | turnaround : 1\n",
      "PID: 675 | Burst: 0 | start: 859, end: 860 | wait : 0 | turnaround : 1\n",
      "PID: 667 | Burst: 8 | start: 860, end: 861 | wait : 0 | turnaround : 1\n",
      "PID: 181 | Burst: 3 | start: 861, end: 862 | wait : 0 | turnaround : 1\n",
      "PID: 281 | Burst: 1 | start: 862, end: 863 | wait : 2 | turnaround : 3\n",
      "PID: 577 | Burst: 8 | start: 863, end: 864 | wait : 29 | turnaround : 30\n",
      "PID: 890 | Burst: 1 | start: 864, end: 865 | wait : 0 | turnaround : 1\n",
      "PID: 758 | Burst: 3 | start: 865, end: 866 | wait : 0 | turnaround : 1\n",
      "PID: 364 | Burst: 9 | start: 866, end: 867 | wait : 0 | turnaround : 1\n",
      "PID: 553 | Burst: 3 | start: 867, end: 868 | wait : 0 | turnaround : 1\n",
      "PID: 408 | Burst: 0 | start: 868, end: 869 | wait : 3 | turnaround : 4\n",
      "PID: 615 | Burst: 0 | start: 869, end: 870 | wait : 0 | turnaround : 1\n",
      "PID: 300 | Burst: 11 | start: 870, end: 871 | wait : 0 | turnaround : 1\n",
      "PID: 941 | Burst: 2 | start: 871, end: 872 | wait : 0 | turnaround : 1\n",
      "PID: 82 | Burst: 7 | start: 872, end: 873 | wait : 0 | turnaround : 1\n",
      "PID: 132 | Burst: 3 | start: 873, end: 874 | wait : 8 | turnaround : 9\n",
      "PID: 621 | Burst: 2 | start: 874, end: 875 | wait : 15 | turnaround : 16\n",
      "PID: 187 | Burst: 12 | start: 875, end: 876 | wait : 0 | turnaround : 1\n",
      "PID: 815 | Burst: 2 | start: 876, end: 877 | wait : 0 | turnaround : 1\n",
      "PID: 731 | Burst: 8 | start: 877, end: 878 | wait : 0 | turnaround : 1\n",
      "PID: 518 | Burst: 7 | start: 878, end: 879 | wait : 0 | turnaround : 1\n",
      "PID: 131 | Burst: 12 | start: 879, end: 880 | wait : 0 | turnaround : 1\n",
      "PID: 252 | Burst: 8 | start: 880, end: 881 | wait : 0 | turnaround : 1\n",
      "PID: 352 | Burst: 2 | start: 881, end: 882 | wait : 0 | turnaround : 1\n",
      "PID: 115 | Burst: 12 | start: 882, end: 883 | wait : 1 | turnaround : 2\n",
      "PID: 643 | Burst: 9 | start: 883, end: 884 | wait : 7 | turnaround : 8\n",
      "PID: 651 | Burst: 8 | start: 884, end: 885 | wait : 0 | turnaround : 1\n",
      "PID: 227 | Burst: 9 | start: 885, end: 886 | wait : 51 | turnaround : 52\n",
      "PID: 848 | Burst: 0 | start: 886, end: 887 | wait : 0 | turnaround : 1\n",
      "PID: 407 | Burst: 3 | start: 887, end: 888 | wait : 0 | turnaround : 1\n",
      "PID: 672 | Burst: 1 | start: 888, end: 889 | wait : 0 | turnaround : 1\n",
      "PID: 348 | Burst: 0 | start: 889, end: 890 | wait : 1 | turnaround : 2\n",
      "PID: 559 | Burst: 8 | start: 890, end: 891 | wait : 0 | turnaround : 1\n",
      "PID: 68 | Burst: 2 | start: 891, end: 892 | wait : 1 | turnaround : 2\n",
      "PID: 184 | Burst: 12 | start: 892, end: 893 | wait : 5 | turnaround : 6\n",
      "PID: 998 | Burst: 9 | start: 893, end: 894 | wait : 0 | turnaround : 1\n",
      "PID: 225 | Burst: 3 | start: 894, end: 895 | wait : 0 | turnaround : 1\n",
      "PID: 955 | Burst: 11 | start: 895, end: 896 | wait : 0 | turnaround : 1\n",
      "PID: 458 | Burst: 2 | start: 896, end: 897 | wait : 0 | turnaround : 1\n",
      "PID: 377 | Burst: 11 | start: 897, end: 898 | wait : 0 | turnaround : 1\n",
      "PID: 205 | Burst: 3 | start: 898, end: 899 | wait : 0 | turnaround : 1\n",
      "PID: 180 | Burst: 2 | start: 899, end: 900 | wait : 0 | turnaround : 1\n",
      "PID: 224 | Burst: 3 | start: 900, end: 901 | wait : 3 | turnaround : 4\n",
      "PID: 46 | Burst: 3 | start: 901, end: 902 | wait : 0 | turnaround : 1\n",
      "PID: 992 | Burst: 3 | start: 902, end: 903 | wait : 0 | turnaround : 1\n",
      "PID: 457 | Burst: 2 | start: 903, end: 904 | wait : 1 | turnaround : 2\n",
      "PID: 697 | Burst: 0 | start: 904, end: 905 | wait : 0 | turnaround : 1\n",
      "PID: 693 | Burst: 0 | start: 905, end: 906 | wait : 0 | turnaround : 1\n",
      "PID: 784 | Burst: 10 | start: 906, end: 907 | wait : 0 | turnaround : 1\n",
      "PID: 295 | Burst: 9 | start: 907, end: 908 | wait : 3 | turnaround : 4\n",
      "PID: 53 | Burst: 11 | start: 908, end: 909 | wait : 12 | turnaround : 13\n",
      "PID: 80 | Burst: 8 | start: 909, end: 910 | wait : 23 | turnaround : 24\n",
      "PID: 37 | Burst: 2 | start: 910, end: 911 | wait : 23 | turnaround : 24\n",
      "PID: 556 | Burst: 9 | start: 911, end: 912 | wait : 0 | turnaround : 1\n",
      "PID: 20 | Burst: 11 | start: 912, end: 913 | wait : 179 | turnaround : 180\n",
      "PID: 443 | Burst: 1 | start: 913, end: 914 | wait : 0 | turnaround : 1\n",
      "PID: 443 | Burst: 0 | start: 914, end: 915 | wait : 0 | turnaround : 2\n",
      "PID: 901 | Burst: 12 | start: 915, end: 916 | wait : 0 | turnaround : 1\n",
      "PID: 317 | Burst: 10 | start: 916, end: 917 | wait : 1 | turnaround : 2\n",
      "PID: 317 | Burst: 9 | start: 917, end: 918 | wait : 1 | turnaround : 3\n",
      "PID: 95 | Burst: 3 | start: 918, end: 919 | wait : 0 | turnaround : 1\n",
      "PID: 806 | Burst: 0 | start: 919, end: 920 | wait : 0 | turnaround : 1\n",
      "PID: 73 | Burst: 8 | start: 920, end: 921 | wait : 2 | turnaround : 3\n",
      "PID: 73 | Burst: 7 | start: 921, end: 922 | wait : 2 | turnaround : 4\n",
      "PID: 599 | Burst: 1 | start: 922, end: 923 | wait : 0 | turnaround : 1\n",
      "PID: 76 | Burst: 0 | start: 923, end: 924 | wait : 0 | turnaround : 1\n",
      "PID: 176 | Burst: 3 | start: 924, end: 925 | wait : 9 | turnaround : 10\n",
      "PID: 965 | Burst: 12 | start: 925, end: 926 | wait : 0 | turnaround : 1\n",
      "PID: 656 | Burst: 10 | start: 926, end: 927 | wait : 1 | turnaround : 2\n",
      "PID: 589 | Burst: 3 | start: 927, end: 928 | wait : 0 | turnaround : 1\n",
      "PID: 761 | Burst: 2 | start: 928, end: 929 | wait : 0 | turnaround : 1\n",
      "PID: 338 | Burst: 0 | start: 929, end: 930 | wait : 0 | turnaround : 1\n",
      "PID: 725 | Burst: 3 | start: 930, end: 931 | wait : 2 | turnaround : 3\n",
      "PID: 997 | Burst: 2 | start: 931, end: 932 | wait : 0 | turnaround : 1\n",
      "PID: 645 | Burst: 9 | start: 932, end: 933 | wait : 0 | turnaround : 1\n",
      "PID: 852 | Burst: 9 | start: 933, end: 934 | wait : 0 | turnaround : 1\n",
      "PID: 747 | Burst: 3 | start: 934, end: 935 | wait : 0 | turnaround : 1\n",
      "PID: 424 | Burst: 10 | start: 935, end: 936 | wait : 1 | turnaround : 2\n",
      "PID: 524 | Burst: 0 | start: 936, end: 937 | wait : 0 | turnaround : 1\n",
      "PID: 674 | Burst: 7 | start: 937, end: 938 | wait : 0 | turnaround : 1\n",
      "PID: 369 | Burst: 0 | start: 938, end: 939 | wait : 2 | turnaround : 3\n",
      "PID: 952 | Burst: 2 | start: 939, end: 940 | wait : 0 | turnaround : 1\n",
      "PID: 634 | Burst: 10 | start: 940, end: 941 | wait : 1 | turnaround : 2\n",
      "PID: 541 | Burst: 11 | start: 941, end: 942 | wait : 2 | turnaround : 3\n",
      "PID: 543 | Burst: 3 | start: 942, end: 943 | wait : 0 | turnaround : 1\n",
      "PID: 32 | Burst: 11 | start: 943, end: 944 | wait : 0 | turnaround : 1\n",
      "PID: 17 | Burst: 1 | start: 944, end: 945 | wait : 0 | turnaround : 1\n",
      "PID: 51 | Burst: 10 | start: 945, end: 946 | wait : 3 | turnaround : 4\n",
      "PID: 872 | Burst: 3 | start: 946, end: 947 | wait : 0 | turnaround : 1\n",
      "PID: 40 | Burst: 9 | start: 947, end: 948 | wait : 13 | turnaround : 14\n",
      "PID: 209 | Burst: 3 | start: 948, end: 949 | wait : 0 | turnaround : 1\n",
      "PID: 209 | Burst: 2 | start: 949, end: 950 | wait : 0 | turnaround : 2\n",
      "PID: 40 | Burst: 8 | start: 950, end: 951 | wait : 15 | turnaround : 17\n",
      "PID: 369 | Burst: 1 | start: 951, end: 952 | wait : 6 | turnaround : 8\n",
      "PID: 872 | Burst: 2 | start: 952, end: 953 | wait : 5 | turnaround : 7\n",
      "PID: 169 | Burst: 3 | start: 953, end: 954 | wait : 0 | turnaround : 1\n",
      "PID: 169 | Burst: 2 | start: 954, end: 955 | wait : 0 | turnaround : 2\n",
      "PID: 234 | Burst: 2 | start: 955, end: 956 | wait : 0 | turnaround : 1\n",
      "PID: 234 | Burst: 1 | start: 956, end: 957 | wait : 0 | turnaround : 2\n",
      "PID: 524 | Burst: 1 | start: 957, end: 958 | wait : 10 | turnaround : 12\n",
      "PID: 17 | Burst: 0 | start: 958, end: 959 | wait : 13 | turnaround : 15\n",
      "PID: 51 | Burst: 9 | start: 959, end: 960 | wait : 16 | turnaround : 18\n",
      "PID: 166 | Burst: 8 | start: 960, end: 961 | wait : 0 | turnaround : 1\n",
      "PID: 166 | Burst: 7 | start: 961, end: 962 | wait : 0 | turnaround : 2\n",
      "PID: 286 | Burst: 3 | start: 962, end: 963 | wait : 0 | turnaround : 1\n",
      "PID: 326 | Burst: 1 | start: 963, end: 964 | wait : 0 | turnaround : 1\n",
      "PID: 813 | Burst: 1 | start: 964, end: 965 | wait : 0 | turnaround : 1\n",
      "PID: 968 | Burst: 11 | start: 965, end: 966 | wait : 0 | turnaround : 1\n",
      "PID: 724 | Burst: 2 | start: 966, end: 967 | wait : 0 | turnaround : 1\n",
      "PID: 272 | Burst: 11 | start: 967, end: 968 | wait : 2 | turnaround : 3\n",
      "PID: 289 | Burst: 1 | start: 968, end: 969 | wait : 0 | turnaround : 1\n",
      "PID: 748 | Burst: 8 | start: 969, end: 970 | wait : 5 | turnaround : 6\n",
      "PID: 167 | Burst: 11 | start: 970, end: 971 | wait : 8 | turnaround : 9\n",
      "PID: 836 | Burst: 1 | start: 971, end: 972 | wait : 0 | turnaround : 1\n",
      "PID: 428 | Burst: 0 | start: 972, end: 973 | wait : 40 | turnaround : 41\n",
      "PID: 600 | Burst: 7 | start: 973, end: 974 | wait : 48 | turnaround : 49\n",
      "PID: 263 | Burst: 3 | start: 974, end: 975 | wait : 46 | turnaround : 47\n",
      "PID: 658 | Burst: 3 | start: 975, end: 976 | wait : 0 | turnaround : 1\n",
      "PID: 618 | Burst: 1 | start: 976, end: 977 | wait : 0 | turnaround : 1\n",
      "PID: 296 | Burst: 10 | start: 977, end: 978 | wait : 0 | turnaround : 1\n",
      "PID: 822 | Burst: 1 | start: 978, end: 979 | wait : 0 | turnaround : 1\n",
      "PID: 981 | Burst: 10 | start: 979, end: 980 | wait : 0 | turnaround : 1\n",
      "PID: 38 | Burst: 8 | start: 980, end: 981 | wait : 2 | turnaround : 3\n",
      "PID: 122 | Burst: 9 | start: 981, end: 982 | wait : 0 | turnaround : 1\n",
      "PID: 951 | Burst: 11 | start: 982, end: 983 | wait : 0 | turnaround : 1\n",
      "PID: 687 | Burst: 1 | start: 983, end: 984 | wait : 1 | turnaround : 2\n",
      "PID: 483 | Burst: 10 | start: 984, end: 985 | wait : 0 | turnaround : 1\n",
      "PID: 881 | Burst: 8 | start: 985, end: 986 | wait : 0 | turnaround : 1\n",
      "PID: 619 | Burst: 10 | start: 986, end: 987 | wait : 0 | turnaround : 1\n",
      "PID: 529 | Burst: 10 | start: 987, end: 988 | wait : 1 | turnaround : 2\n",
      "PID: 887 | Burst: 0 | start: 988, end: 989 | wait : 0 | turnaround : 1\n",
      "PID: 969 | Burst: 11 | start: 989, end: 990 | wait : 0 | turnaround : 1\n",
      "PID: 983 | Burst: 11 | start: 990, end: 991 | wait : 0 | turnaround : 1\n",
      "PID: 961 | Burst: 11 | start: 991, end: 992 | wait : 1 | turnaround : 2\n",
      "PID: 963 | Burst: 11 | start: 992, end: 993 | wait : 0 | turnaround : 1\n",
      "PID: 774 | Burst: 9 | start: 993, end: 994 | wait : 1 | turnaround : 2\n",
      "PID: 771 | Burst: 3 | start: 994, end: 995 | wait : 0 | turnaround : 1\n",
      "PID: 698 | Burst: 0 | start: 995, end: 996 | wait : 0 | turnaround : 1\n",
      "PID: 146 | Burst: 7 | start: 996, end: 997 | wait : 1 | turnaround : 2\n",
      "PID: 277 | Burst: 9 | start: 997, end: 998 | wait : 5 | turnaround : 6\n",
      "PID: 489 | Burst: 10 | start: 998, end: 999 | wait : 13 | turnaround : 14\n",
      "PID: 737 | Burst: 1 | start: 999, end: 1000 | wait : 11 | turnaround : 12\n",
      "PID: 811 | Burst: 1 | start: 1000, end: 1001 | wait : 0 | turnaround : 1\n",
      "PID: 384 | Burst: 7 | start: 1001, end: 1002 | wait : 16 | turnaround : 17\n",
      "PID: 173 | Burst: 8 | start: 1002, end: 1003 | wait : 17 | turnaround : 18\n",
      "PID: 173 | Burst: 7 | start: 1003, end: 1004 | wait : 17 | turnaround : 19\n",
      "PID: 32 | Burst: 10 | start: 1004, end: 1005 | wait : 60 | turnaround : 62\n",
      "PID: 698 | Burst: 2 | start: 1005, end: 1006 | wait : 0 | turnaround : 2\n",
      "PID: 91 | Burst: 9 | start: 1006, end: 1007 | wait : 43 | turnaround : 44\n",
      "PID: 91 | Burst: 8 | start: 1007, end: 1008 | wait : 43 | turnaround : 45\n",
      "PID: 91 | Burst: 7 | start: 1008, end: 1009 | wait : 43 | turnaround : 46\n",
      "PID: 698 | Burst: 1 | start: 1009, end: 1010 | wait : 3 | turnaround : 6\n",
      "PID: 698 | Burst: 0 | start: 1010, end: 1011 | wait : 3 | turnaround : 7\n",
      "PID: 91 | Burst: 6 | start: 1011, end: 1012 | wait : 45 | turnaround : 49\n",
      "PID: 91 | Burst: 5 | start: 1012, end: 1013 | wait : 45 | turnaround : 50\n",
      "PID: 32 | Burst: 9 | start: 1013, end: 1014 | wait : 68 | turnaround : 71\n",
      "PID: 32 | Burst: 8 | start: 1014, end: 1015 | wait : 68 | turnaround : 72\n",
      "PID: 173 | Burst: 6 | start: 1015, end: 1016 | wait : 28 | turnaround : 31\n",
      "PID: 173 | Burst: 5 | start: 1016, end: 1017 | wait : 28 | turnaround : 32\n",
      "PID: 173 | Burst: 4 | start: 1017, end: 1018 | wait : 28 | turnaround : 33\n",
      "PID: 32 | Burst: 7 | start: 1018, end: 1019 | wait : 71 | turnaround : 76\n",
      "PID: 32 | Burst: 6 | start: 1019, end: 1020 | wait : 71 | turnaround : 77\n",
      "PID: 173 | Burst: 3 | start: 1020, end: 1021 | wait : 30 | turnaround : 36\n",
      "PID: 173 | Burst: 2 | start: 1021, end: 1022 | wait : 30 | turnaround : 37\n",
      "PID: 32 | Burst: 5 | start: 1022, end: 1023 | wait : 73 | turnaround : 80\n",
      "PID: 32 | Burst: 4 | start: 1023, end: 1024 | wait : 73 | turnaround : 81\n",
      "PID: 698 | Burst: 0 | start: 1024, end: 1025 | wait : 3 | turnaround : 8\n",
      "PID: 91 | Burst: 4 | start: 1025, end: 1026 | wait : 57 | turnaround : 63\n",
      "PID: 91 | Burst: 3 | start: 1026, end: 1027 | wait : 57 | turnaround : 64\n",
      "PID: 91 | Burst: 2 | start: 1027, end: 1028 | wait : 57 | turnaround : 65\n",
      "PID: 91 | Burst: 1 | start: 1028, end: 1029 | wait : 57 | turnaround : 66\n",
      "PID: 91 | Burst: 0 | start: 1029, end: 1030 | wait : 57 | turnaround : 67\n",
      "PID: 263 | Burst: 2 | start: 1030, end: 1031 | wait : 101 | turnaround : 103\n",
      "PID: 658 | Burst: 2 | start: 1031, end: 1032 | wait : 55 | turnaround : 57\n",
      "PID: 658 | Burst: 1 | start: 1032, end: 1033 | wait : 55 | turnaround : 58\n",
      "PID: 750 | Burst: 2 | start: 1033, end: 1034 | wait : 284 | turnaround : 286\n",
      "PID: 750 | Burst: 1 | start: 1034, end: 1035 | wait : 284 | turnaround : 287\n",
      "PID: 750 | Burst: 0 | start: 1035, end: 1036 | wait : 284 | turnaround : 288\n",
      "PID: 174 | Burst: 8 | start: 1036, end: 1037 | wait : 349 | turnaround : 350\n",
      "PID: 174 | Burst: 7 | start: 1037, end: 1038 | wait : 349 | turnaround : 351\n",
      "PID: 592 | Burst: 9 | start: 1038, end: 1039 | wait : 285 | turnaround : 287\n",
      "PID: 592 | Burst: 8 | start: 1039, end: 1040 | wait : 285 | turnaround : 288\n",
      "PID: 174 | Burst: 6 | start: 1040, end: 1041 | wait : 351 | turnaround : 354\n",
      "PID: 174 | Burst: 5 | start: 1041, end: 1042 | wait : 351 | turnaround : 355\n",
      "PID: 592 | Burst: 7 | start: 1042, end: 1043 | wait : 287 | turnaround : 291\n",
      "PID: 592 | Burst: 6 | start: 1043, end: 1044 | wait : 287 | turnaround : 292\n",
      "PID: 174 | Burst: 4 | start: 1044, end: 1045 | wait : 353 | turnaround : 358\n",
      "PID: 174 | Burst: 3 | start: 1045, end: 1046 | wait : 353 | turnaround : 359\n",
      "PID: 750 | Burst: 3 | start: 1046, end: 1047 | wait : 284 | turnaround : 289\n",
      "PID: 571 | Burst: 12 | start: 1047, end: 1048 | wait : 65 | turnaround : 66\n",
      "PID: 212 | Burst: 7 | start: 1048, end: 1049 | wait : 66 | turnaround : 67\n",
      "PID: 212 | Burst: 6 | start: 1049, end: 1050 | wait : 66 | turnaround : 68\n",
      "PID: 173 | Burst: 1 | start: 1050, end: 1051 | wait : 58 | turnaround : 66\n",
      "PID: 173 | Burst: 0 | start: 1051, end: 1052 | wait : 58 | turnaround : 67\n",
      "PID: 32 | Burst: 3 | start: 1052, end: 1053 | wait : 101 | turnaround : 110\n",
      "PID: 6 | Burst: 1 | start: 1053, end: 1054 | wait : 310 | turnaround : 313\n",
      "PID: 32 | Burst: 2 | start: 1054, end: 1055 | wait : 102 | turnaround : 112\n"
     ]
    },
    {
     "ename": "KeyboardInterrupt",
     "evalue": "",
     "output_type": "error",
     "traceback": [
      "\u001b[0;31m---------------------------------------------------------------------------\u001b[0m",
      "\u001b[0;31mKeyboardInterrupt\u001b[0m                         Traceback (most recent call last)",
      "\u001b[0;32m/var/folders/mw/tkjdv8_56kd9c3js_hzvflqm0000gp/T/ipykernel_51919/1823326562.py\u001b[0m in \u001b[0;36m<module>\u001b[0;34m\u001b[0m\n\u001b[0;32m----> 1\u001b[0;31m \u001b[0mop\u001b[0m\u001b[0;34m.\u001b[0m\u001b[0mkernel\u001b[0m\u001b[0;34m(\u001b[0m\u001b[0ms\u001b[0m\u001b[0;34m.\u001b[0m\u001b[0mCF_scheduler\u001b[0m\u001b[0;34m,\u001b[0m \u001b[0;36m1000\u001b[0m\u001b[0;34m,\u001b[0m \u001b[0mprocesses\u001b[0m\u001b[0;34m=\u001b[0m\u001b[0mprocs\u001b[0m\u001b[0;34m)\u001b[0m\u001b[0;34m\u001b[0m\u001b[0;34m\u001b[0m\u001b[0m\n\u001b[0m",
      "\u001b[0;32m~/Documents/Code/School/CS337/CS337-Project-3/operating_system.py\u001b[0m in \u001b[0;36mkernel\u001b[0;34m(scheduler, max_arrival, processes, verbose, **kwargs)\u001b[0m\n\u001b[1;32m     53\u001b[0m         \u001b[0;31m# otherwise run the scheduler\u001b[0m\u001b[0;34m\u001b[0m\u001b[0;34m\u001b[0m\u001b[0;34m\u001b[0m\u001b[0m\n\u001b[1;32m     54\u001b[0m         \u001b[0;32melse\u001b[0m\u001b[0;34m:\u001b[0m\u001b[0;34m\u001b[0m\u001b[0;34m\u001b[0m\u001b[0m\n\u001b[0;32m---> 55\u001b[0;31m             \u001b[0mtime\u001b[0m \u001b[0;34m=\u001b[0m \u001b[0mscheduler\u001b[0m\u001b[0;34m(\u001b[0m\u001b[0mprocesses\u001b[0m\u001b[0;34m,\u001b[0m \u001b[0mready\u001b[0m\u001b[0;34m,\u001b[0m \u001b[0mwaiting\u001b[0m\u001b[0;34m,\u001b[0m \u001b[0mCPU\u001b[0m\u001b[0;34m,\u001b[0m \u001b[0mtime\u001b[0m\u001b[0;34m,\u001b[0m \u001b[0mverbose\u001b[0m\u001b[0;34m,\u001b[0m \u001b[0;34m**\u001b[0m\u001b[0mkwargs\u001b[0m\u001b[0;34m)\u001b[0m\u001b[0;34m\u001b[0m\u001b[0;34m\u001b[0m\u001b[0m\n\u001b[0m\u001b[1;32m     56\u001b[0m \u001b[0;34m\u001b[0m\u001b[0m\n\u001b[1;32m     57\u001b[0m     \u001b[0;31m# lists for wait and turnaround times\u001b[0m\u001b[0;34m\u001b[0m\u001b[0;34m\u001b[0m\u001b[0;34m\u001b[0m\u001b[0m\n",
      "\u001b[0;32m~/Documents/Code/School/CS337/CS337-Project-3/scheduler.py\u001b[0m in \u001b[0;36mCF_scheduler\u001b[0;34m(processes, ready, waiting, CPU, time, verbose, **kwargs)\u001b[0m\n\u001b[1;32m    474\u001b[0m \u001b[0;34m\u001b[0m\u001b[0m\n\u001b[1;32m    475\u001b[0m         \u001b[0;31m# add process back to ready\u001b[0m\u001b[0;34m\u001b[0m\u001b[0;34m\u001b[0m\u001b[0;34m\u001b[0m\u001b[0m\n\u001b[0;32m--> 476\u001b[0;31m         \u001b[0mready\u001b[0m\u001b[0;34m.\u001b[0m\u001b[0minsert\u001b[0m\u001b[0;34m(\u001b[0m\u001b[0mprocess\u001b[0m\u001b[0;34m.\u001b[0m\u001b[0mget_vruntime\u001b[0m\u001b[0;34m(\u001b[0m\u001b[0;34m)\u001b[0m\u001b[0;34m,\u001b[0m \u001b[0mprocess\u001b[0m\u001b[0;34m)\u001b[0m\u001b[0;34m\u001b[0m\u001b[0;34m\u001b[0m\u001b[0m\n\u001b[0m\u001b[1;32m    477\u001b[0m \u001b[0;34m\u001b[0m\u001b[0m\n\u001b[1;32m    478\u001b[0m \u001b[0;34m\u001b[0m\u001b[0m\n",
      "\u001b[0;32m~/Documents/Code/School/CS337/CS337-Project-3/rbtree.py\u001b[0m in \u001b[0;36minsert\u001b[0;34m(self, key, value)\u001b[0m\n\u001b[1;32m    148\u001b[0m \u001b[0;34m\u001b[0m\u001b[0m\n\u001b[1;32m    149\u001b[0m             \u001b[0;31m# compare key of new node key of current\u001b[0m\u001b[0;34m\u001b[0m\u001b[0;34m\u001b[0m\u001b[0;34m\u001b[0m\u001b[0m\n\u001b[0;32m--> 150\u001b[0;31m             \u001b[0;32mif\u001b[0m \u001b[0mnew_node\u001b[0m\u001b[0;34m.\u001b[0m\u001b[0mget_key\u001b[0m\u001b[0;34m(\u001b[0m\u001b[0;34m)\u001b[0m \u001b[0;34m<\u001b[0m \u001b[0mcurrent_node\u001b[0m\u001b[0;34m.\u001b[0m\u001b[0mget_key\u001b[0m\u001b[0;34m(\u001b[0m\u001b[0;34m)\u001b[0m\u001b[0;34m:\u001b[0m\u001b[0;34m\u001b[0m\u001b[0;34m\u001b[0m\u001b[0m\n\u001b[0m\u001b[1;32m    151\u001b[0m \u001b[0;34m\u001b[0m\u001b[0m\n\u001b[1;32m    152\u001b[0m                 \u001b[0;31m# set current to be its left child\u001b[0m\u001b[0;34m\u001b[0m\u001b[0;34m\u001b[0m\u001b[0;34m\u001b[0m\u001b[0m\n",
      "\u001b[0;31mKeyboardInterrupt\u001b[0m: "
     ]
    }
   ],
   "source": [
    "op.kernel(s.CF_scheduler, 1000, processes=procs)"
   ]
  },
  {
   "cell_type": "markdown",
   "metadata": {},
   "source": [
    "## Extensions:\n",
    "I implemented the full remove method in RBTree. The method now takes either a key or node. If a node is passed in the function skips the ~O(log(n)) tree traversal"
   ]
  },
  {
   "cell_type": "code",
   "execution_count": null,
   "metadata": {},
   "outputs": [],
   "source": [
    "tree = rbtree.RBTree()\n",
    "\n",
    "for i in range(10):\n",
    "    tree.insert(i)\n",
    "\n",
    "tree.print_tree()"
   ]
  }
 ],
 "metadata": {
  "interpreter": {
   "hash": "b8bdd4e700647ba2b08c59e5df8b7da1dcf50a218bcd4c1bcd9b3dc92e8788e5"
  },
  "kernelspec": {
   "display_name": "Python 3.9.6 64-bit",
   "language": "python",
   "name": "python3"
  },
  "language_info": {
   "codemirror_mode": {
    "name": "ipython",
    "version": 3
   },
   "file_extension": ".py",
   "mimetype": "text/x-python",
   "name": "python",
   "nbconvert_exporter": "python",
   "pygments_lexer": "ipython3",
   "version": "3.9.6"
  },
  "orig_nbformat": 4
 },
 "nbformat": 4,
 "nbformat_minor": 2
}
